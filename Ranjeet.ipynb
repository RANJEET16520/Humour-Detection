{
 "cells": [
  {
   "cell_type": "markdown",
   "metadata": {},
   "source": [
    "### Import Modules"
   ]
  },
  {
   "cell_type": "code",
   "execution_count": 1,
   "metadata": {},
   "outputs": [
    {
     "name": "stdout",
     "output_type": "stream",
     "text": [
      "c:\\users\\ranjeet walia\\appdata\\local\\programs\\python\\python37\\python.exe\n"
     ]
    }
   ],
   "source": [
    "import sys\n",
    "print(sys.executable)"
   ]
  },
  {
   "cell_type": "code",
   "execution_count": 2,
   "metadata": {
    "scrolled": true
   },
   "outputs": [
    {
     "name": "stderr",
     "output_type": "stream",
     "text": [
      "c:\\users\\ranjeet walia\\appdata\\local\\programs\\python\\python37\\lib\\site-packages\\numpy\\_distributor_init.py:32: UserWarning: loaded more than 1 DLL from .libs:\n",
      "c:\\users\\ranjeet walia\\appdata\\local\\programs\\python\\python37\\lib\\site-packages\\numpy\\.libs\\libopenblas.PYQHXLVVQ7VESDPUVUADXEVJOBGHJPAY.gfortran-win_amd64.dll\n",
      "c:\\users\\ranjeet walia\\appdata\\local\\programs\\python\\python37\\lib\\site-packages\\numpy\\.libs\\libopenblas.TXA6YQSD3GCQQC22GEQ54J2UDCXDXHWN.gfortran-win_amd64.dll\n",
      "  stacklevel=1)\n"
     ]
    },
    {
     "name": "stdout",
     "output_type": "stream",
     "text": [
      "[PhysicalDevice(name='/physical_device:GPU:0', device_type='GPU')]\n"
     ]
    }
   ],
   "source": [
    "import tensorflow as tf\n",
    "print(tf.config.list_physical_devices('GPU'))"
   ]
  },
  {
   "cell_type": "code",
   "execution_count": 3,
   "metadata": {},
   "outputs": [
    {
     "name": "stdout",
     "output_type": "stream",
     "text": [
      "WARNING:tensorflow:From <ipython-input-3-17bb7203622b>:1: is_gpu_available (from tensorflow.python.framework.test_util) is deprecated and will be removed in a future version.\n",
      "Instructions for updating:\n",
      "Use `tf.config.list_physical_devices('GPU')` instead.\n"
     ]
    },
    {
     "data": {
      "text/plain": [
       "True"
      ]
     },
     "execution_count": 3,
     "metadata": {},
     "output_type": "execute_result"
    }
   ],
   "source": [
    "tf.test.is_gpu_available()"
   ]
  },
  {
   "cell_type": "code",
   "execution_count": 4,
   "metadata": {},
   "outputs": [
    {
     "data": {
      "text/plain": [
       "True"
      ]
     },
     "execution_count": 4,
     "metadata": {},
     "output_type": "execute_result"
    }
   ],
   "source": [
    "tf.test.is_built_with_gpu_support()"
   ]
  },
  {
   "cell_type": "code",
   "execution_count": 5,
   "metadata": {},
   "outputs": [],
   "source": [
    "import numpy as np\n",
    "import matplotlib.pyplot as plt\n",
    "import seaborn as sns\n",
    "from sklearn.model_selection import train_test_split\n",
    "\n",
    "import pickle\n",
    "import gensim\n",
    "import nltk\n",
    "from nltk.tokenize import sent_tokenize, word_tokenize\n",
    "from sklearn.decomposition import PCA\n",
    "from matplotlib import pyplot\n",
    "from nltk.corpus import stopwords \n",
    "from nltk.tokenize import word_tokenize"
   ]
  },
  {
   "cell_type": "markdown",
   "metadata": {},
   "source": [
    "### Variables\n"
   ]
  },
  {
   "cell_type": "code",
   "execution_count": 6,
   "metadata": {},
   "outputs": [],
   "source": [
    "funny = []\n",
    "nfunny = []\n",
    "nfunny_small = []"
   ]
  },
  {
   "cell_type": "markdown",
   "metadata": {},
   "source": [
    "### Sentence Extraction"
   ]
  },
  {
   "cell_type": "code",
   "execution_count": 7,
   "metadata": {},
   "outputs": [],
   "source": [
    "with open('Raw_Data/funny.txt', 'rb') as file:\n",
    "    funny = pickle.load(file)"
   ]
  },
  {
   "cell_type": "code",
   "execution_count": 8,
   "metadata": {},
   "outputs": [
    {
     "name": "stdout",
     "output_type": "stream",
     "text": [
      "46485\n"
     ]
    }
   ],
   "source": [
    "print(len(funny))"
   ]
  },
  {
   "cell_type": "code",
   "execution_count": 9,
   "metadata": {},
   "outputs": [],
   "source": [
    "with open('Raw_Data/nfunny_small.txt', 'rb') as file:\n",
    "    nfunny_small = pickle.load(file)"
   ]
  },
  {
   "cell_type": "code",
   "execution_count": 10,
   "metadata": {},
   "outputs": [
    {
     "name": "stdout",
     "output_type": "stream",
     "text": [
      "46485\n"
     ]
    }
   ],
   "source": [
    "print(len(nfunny_small))"
   ]
  },
  {
   "cell_type": "markdown",
   "metadata": {},
   "source": [
    "### Word Processing"
   ]
  },
  {
   "cell_type": "code",
   "execution_count": 11,
   "metadata": {},
   "outputs": [],
   "source": [
    "contractions = { \n",
    "\"n't\": \"not\",\n",
    "\"'ve\": \"have\",\n",
    "\"'cause\": \"because\",\n",
    "\"'ll\": \"will\",\n",
    "\"'re\":\"are\",\n",
    "\"'m\":\"am\"\n",
    "}\n",
    "contractions_list = [\"n't\", \"'ve\", \"'cause\", \"'ll\", \"'re\",\"'m\"]"
   ]
  },
  {
   "cell_type": "code",
   "execution_count": 12,
   "metadata": {},
   "outputs": [],
   "source": [
    "def tokenise(text):\n",
    "    token = [i.replace('\\n' , ' ') for i in sent_tokenize(text)]\n",
    "    words = [word_tokenize(x.strip()) for x in token]\n",
    "    word = []\n",
    "    for s in words:\n",
    "        if len(s) > 0:\n",
    "            word.append(i.lower().split() for i in s)\n",
    "    l = []\n",
    "    for i in words:\n",
    "        for j in i:\n",
    "            if j in contractions_list:\n",
    "                j = contractions[j]\n",
    "                l.append(j)\n",
    "                continue\n",
    "            l.append(j.lower().strip())\n",
    "    return l            "
   ]
  },
  {
   "cell_type": "code",
   "execution_count": 13,
   "metadata": {},
   "outputs": [],
   "source": [
    "def All_token(data):\n",
    "    sentences = []\n",
    "    for i in data:\n",
    "        tokens = tokenise(i)\n",
    "        sentences.append(tokens)\n",
    "    return sentences"
   ]
  },
  {
   "cell_type": "code",
   "execution_count": 14,
   "metadata": {},
   "outputs": [],
   "source": [
    "def RemoveStopWords(tokens):\n",
    "    stop_words = set(stopwords.words('english')) \n",
    "    \n",
    "    filtered_sentence = [] \n",
    "    for lis in tokens:\n",
    "        w_lis = []\n",
    "        for w in lis: \n",
    "            if w not in stop_words: \n",
    "                w_lis.append(w)\n",
    "        filtered_sentence.append(w_lis)      \n",
    "    return filtered_sentence"
   ]
  },
  {
   "cell_type": "code",
   "execution_count": 15,
   "metadata": {},
   "outputs": [],
   "source": [
    "def CreateSentence(word_list):\n",
    "    data = []\n",
    "    for i in range(len(word_list)):\n",
    "        every_word_list = word_list[i]\n",
    "        sentence = ' '.join(word for word in every_word_list)\n",
    "        data.append(sentence)\n",
    "    return data"
   ]
  },
  {
   "cell_type": "markdown",
   "metadata": {},
   "source": [
    "#### Funny Data"
   ]
  },
  {
   "cell_type": "code",
   "execution_count": 16,
   "metadata": {},
   "outputs": [
    {
     "name": "stdout",
     "output_type": "stream",
     "text": [
      "46485\n"
     ]
    }
   ],
   "source": [
    "f_tokens = All_token(funny)\n",
    "print(len(f_tokens))"
   ]
  },
  {
   "cell_type": "code",
   "execution_count": 17,
   "metadata": {},
   "outputs": [
    {
     "name": "stdout",
     "output_type": "stream",
     "text": [
      "46485\n"
     ]
    }
   ],
   "source": [
    "filter_f_token = RemoveStopWords(f_tokens)\n",
    "print(len(filter_f_token))"
   ]
  },
  {
   "cell_type": "code",
   "execution_count": 18,
   "metadata": {},
   "outputs": [
    {
     "name": "stdout",
     "output_type": "stream",
     "text": [
      "46485\n"
     ]
    }
   ],
   "source": [
    "funny_data = CreateSentence(filter_f_token)\n",
    "print(len(funny_data))"
   ]
  },
  {
   "cell_type": "code",
   "execution_count": 19,
   "metadata": {},
   "outputs": [],
   "source": [
    "with open('Model_Input/funny_data.txt', 'wb') as fp:\n",
    "    pickle.dump(funny_data, fp)"
   ]
  },
  {
   "cell_type": "markdown",
   "metadata": {},
   "source": [
    "###### Example"
   ]
  },
  {
   "cell_type": "code",
   "execution_count": 20,
   "metadata": {},
   "outputs": [
    {
     "name": "stdout",
     "output_type": "stream",
     "text": [
      "Review #189 - 2016\n",
      "\n",
      "We arrived at Hertz at around 2:15 PM on Aug. 24th and was able to get our rental in about 20-25 minutes.  The pick up process is pretty simple.  You can either go to a customer service rep or use their self-serve kiosk, which is what I ended up doing.\n",
      "\n",
      "The lady who was assisting me on the kiosk phone was pretty friendly, but she was doing a lot of up-sell so it was kind of bothersome.  I didn't need a bigger car than an economy size since there was only 2 of us.  I understand that they probably work off of commission, but sometimes it's unnecessary to try and convince you to get something that you don't need.\n",
      "\n",
      "The return process was pretty quick and easy as well.  I ended up getting charged for an extra day because I brought the car back 1.5 hours after the pick up time since my flight didn't leave until 8 PM.  Too bad they don't have a \"grace\" period for regular customers.\n",
      "\n",
      "Other than that the car was fine.  I didn't get anything fancy, just a KIA so nothing much to write about--other than the fact that it was clean and didn't smell bad like some other rentals that I've encountered elsewhere.\n"
     ]
    }
   ],
   "source": [
    "print(funny[1])"
   ]
  },
  {
   "cell_type": "code",
   "execution_count": 21,
   "metadata": {},
   "outputs": [
    {
     "name": "stdout",
     "output_type": "stream",
     "text": [
      "242\n",
      "['review', '#', '189', '-', '2016', 'we', 'arrived', 'at', 'hertz', 'at', 'around', '2:15', 'pm', 'on', 'aug.', '24th', 'and', 'was', 'able', 'to', 'get', 'our', 'rental', 'in', 'about', '20-25', 'minutes', '.', 'the', 'pick', 'up', 'process', 'is', 'pretty', 'simple', '.', 'you', 'can', 'either', 'go', 'to', 'a', 'customer', 'service', 'rep', 'or', 'use', 'their', 'self-serve', 'kiosk', ',', 'which', 'is', 'what', 'i', 'ended', 'up', 'doing', '.', 'the', 'lady', 'who', 'was', 'assisting', 'me', 'on', 'the', 'kiosk', 'phone', 'was', 'pretty', 'friendly', ',', 'but', 'she', 'was', 'doing', 'a', 'lot', 'of', 'up-sell', 'so', 'it', 'was', 'kind', 'of', 'bothersome', '.', 'i', 'did', 'not', 'need', 'a', 'bigger', 'car', 'than', 'an', 'economy', 'size', 'since', 'there', 'was', 'only', '2', 'of', 'us', '.', 'i', 'understand', 'that', 'they', 'probably', 'work', 'off', 'of', 'commission', ',', 'but', 'sometimes', 'it', \"'s\", 'unnecessary', 'to', 'try', 'and', 'convince', 'you', 'to', 'get', 'something', 'that', 'you', 'do', 'not', 'need', '.', 'the', 'return', 'process', 'was', 'pretty', 'quick', 'and', 'easy', 'as', 'well', '.', 'i', 'ended', 'up', 'getting', 'charged', 'for', 'an', 'extra', 'day', 'because', 'i', 'brought', 'the', 'car', 'back', '1.5', 'hours', 'after', 'the', 'pick', 'up', 'time', 'since', 'my', 'flight', 'did', 'not', 'leave', 'until', '8', 'pm', '.', 'too', 'bad', 'they', 'do', 'not', 'have', 'a', '``', 'grace', \"''\", 'period', 'for', 'regular', 'customers', '.', 'other', 'than', 'that', 'the', 'car', 'was', 'fine', '.', 'i', 'did', 'not', 'get', 'anything', 'fancy', ',', 'just', 'a', 'kia', 'so', 'nothing', 'much', 'to', 'write', 'about', '--', 'other', 'than', 'the', 'fact', 'that', 'it', 'was', 'clean', 'and', 'did', 'not', 'smell', 'bad', 'like', 'some', 'other', 'rentals', 'that', 'i', 'have', 'encountered', 'elsewhere', '.']\n"
     ]
    }
   ],
   "source": [
    "print(len(f_tokens[1]))\n",
    "print(f_tokens[1])"
   ]
  },
  {
   "cell_type": "code",
   "execution_count": 22,
   "metadata": {},
   "outputs": [
    {
     "name": "stdout",
     "output_type": "stream",
     "text": [
      "123\n",
      "['review', '#', '189', '-', '2016', 'arrived', 'hertz', 'around', '2:15', 'pm', 'aug.', '24th', 'able', 'get', 'rental', '20-25', 'minutes', '.', 'pick', 'process', 'pretty', 'simple', '.', 'either', 'go', 'customer', 'service', 'rep', 'use', 'self-serve', 'kiosk', ',', 'ended', '.', 'lady', 'assisting', 'kiosk', 'phone', 'pretty', 'friendly', ',', 'lot', 'up-sell', 'kind', 'bothersome', '.', 'need', 'bigger', 'car', 'economy', 'size', 'since', '2', 'us', '.', 'understand', 'probably', 'work', 'commission', ',', 'sometimes', \"'s\", 'unnecessary', 'try', 'convince', 'get', 'something', 'need', '.', 'return', 'process', 'pretty', 'quick', 'easy', 'well', '.', 'ended', 'getting', 'charged', 'extra', 'day', 'brought', 'car', 'back', '1.5', 'hours', 'pick', 'time', 'since', 'flight', 'leave', '8', 'pm', '.', 'bad', '``', 'grace', \"''\", 'period', 'regular', 'customers', '.', 'car', 'fine', '.', 'get', 'anything', 'fancy', ',', 'kia', 'nothing', 'much', 'write', '--', 'fact', 'clean', 'smell', 'bad', 'like', 'rentals', 'encountered', 'elsewhere', '.']\n"
     ]
    }
   ],
   "source": [
    "print(len(filter_f_token[1]))\n",
    "print(filter_f_token[1])"
   ]
  },
  {
   "cell_type": "code",
   "execution_count": 23,
   "metadata": {},
   "outputs": [
    {
     "name": "stdout",
     "output_type": "stream",
     "text": [
      "96\n",
      "{'lot', 'fine', 'smell', 'customers', 'try', 'rental', \"''\", 'service', '189', 'flight', 'able', 'sometimes', 'kia', 'period', 'pick', 'convince', 'kind', 'hours', 'anything', 'understand', \"'s\", 'clean', 'encountered', '2', 'use', 'bigger', 'up-sell', ',', 'time', '#', 'kiosk', 'rentals', 'like', '2:15', 'either', 'something', 'process', 'lady', '24th', 'aug.', '.', 'back', 'review', '-', 'go', 'minutes', 'simple', 'size', 'hertz', 'friendly', 'rep', 'leave', '1.5', 'arrived', 'ended', 'pretty', 'quick', 'much', 'elsewhere', 'commission', 'charged', 'brought', '``', 'bad', 'assisting', 'unnecessary', 'easy', 'phone', '20-25', 'get', 'us', 'day', 'write', 'pm', 'getting', 'around', 'car', 'extra', 'nothing', 'since', '--', 'well', 'regular', 'work', 'return', 'self-serve', 'probably', 'grace', '2016', 'customer', 'economy', 'bothersome', 'need', 'fact', 'fancy', '8'}\n"
     ]
    }
   ],
   "source": [
    "print(len(set(filter_f_token[1])))\n",
    "print(set(filter_f_token[1]))"
   ]
  },
  {
   "cell_type": "code",
   "execution_count": 24,
   "metadata": {},
   "outputs": [
    {
     "name": "stdout",
     "output_type": "stream",
     "text": [
      "review # 189 - 2016 arrived hertz around 2:15 pm aug. 24th able get rental 20-25 minutes . pick process pretty simple . either go customer service rep use self-serve kiosk , ended . lady assisting kiosk phone pretty friendly , lot up-sell kind bothersome . need bigger car economy size since 2 us . understand probably work commission , sometimes 's unnecessary try convince get something need . return process pretty quick easy well . ended getting charged extra day brought car back 1.5 hours pick time since flight leave 8 pm . bad `` grace '' period regular customers . car fine . get anything fancy , kia nothing much write -- fact clean smell bad like rentals encountered elsewhere .\n"
     ]
    }
   ],
   "source": [
    "print(funny_data[1])"
   ]
  },
  {
   "cell_type": "markdown",
   "metadata": {},
   "source": [
    "#### Non-Funny Data"
   ]
  },
  {
   "cell_type": "code",
   "execution_count": 25,
   "metadata": {},
   "outputs": [
    {
     "name": "stdout",
     "output_type": "stream",
     "text": [
      "46485\n"
     ]
    }
   ],
   "source": [
    "nf_tokens = All_token(nfunny_small)\n",
    "print(len(nf_tokens))"
   ]
  },
  {
   "cell_type": "code",
   "execution_count": 26,
   "metadata": {},
   "outputs": [
    {
     "name": "stdout",
     "output_type": "stream",
     "text": [
      "46485\n"
     ]
    }
   ],
   "source": [
    "filter_nf_token = RemoveStopWords(nf_tokens)\n",
    "print(len(filter_nf_token))"
   ]
  },
  {
   "cell_type": "code",
   "execution_count": 27,
   "metadata": {},
   "outputs": [
    {
     "name": "stdout",
     "output_type": "stream",
     "text": [
      "46485\n"
     ]
    }
   ],
   "source": [
    "nfunny_data = CreateSentence(filter_nf_token)\n",
    "print(len(nfunny_data))"
   ]
  },
  {
   "cell_type": "code",
   "execution_count": 28,
   "metadata": {},
   "outputs": [],
   "source": [
    "with open('Model_Input/nfunny_data.txt', 'wb') as fo:\n",
    "    pickle.dump(nfunny_data, fo)"
   ]
  },
  {
   "cell_type": "markdown",
   "metadata": {},
   "source": [
    "###### Example"
   ]
  },
  {
   "cell_type": "code",
   "execution_count": 29,
   "metadata": {},
   "outputs": [
    {
     "name": "stdout",
     "output_type": "stream",
     "text": [
      "I *adore* Travis at the Hard Rock's new Kelly Cardenas Salon!  I'm always a fan of a great blowout and no stranger to the chains that offer this service; however, Travis has taken the flawless blowout to a whole new level!  \n",
      "\n",
      "Travis's greets you with his perfectly green swoosh in his otherwise perfectly styled black hair and a Vegas-worthy rockstar outfit.  Next comes the most relaxing and incredible shampoo -- where you get a full head message that could cure even the very worst migraine in minutes --- and the scented shampoo room.  Travis has freakishly strong fingers (in a good way) and use the perfect amount of pressure.  That was superb!  Then starts the glorious blowout... where not one, not two, but THREE people were involved in doing the best round-brush action my hair has ever seen.  The team of stylists clearly gets along extremely well, as it's evident from the way they talk to and help one another that it's really genuine and not some corporate requirement.  It was so much fun to be there! \n",
      "\n",
      "Next Travis started with the flat iron.  The way he flipped his wrist to get volume all around without over-doing it and making me look like a Texas pagent girl was admirable.  It's also worth noting that he didn't fry my hair -- something that I've had happen before with less skilled stylists.  At the end of the blowout & style my hair was perfectly bouncey and looked terrific.  The only thing better?  That this awesome blowout lasted for days! \n",
      "\n",
      "Travis, I will see you every single time I'm out in Vegas.  You make me feel beauuuutiful!\n"
     ]
    }
   ],
   "source": [
    "print(nfunny_small[1])"
   ]
  },
  {
   "cell_type": "code",
   "execution_count": 30,
   "metadata": {},
   "outputs": [
    {
     "name": "stdout",
     "output_type": "stream",
     "text": [
      "310\n",
      "['i', '*adore*', 'travis', 'at', 'the', 'hard', 'rock', \"'s\", 'new', 'kelly', 'cardenas', 'salon', '!', 'i', 'am', 'always', 'a', 'fan', 'of', 'a', 'great', 'blowout', 'and', 'no', 'stranger', 'to', 'the', 'chains', 'that', 'offer', 'this', 'service', ';', 'however', ',', 'travis', 'has', 'taken', 'the', 'flawless', 'blowout', 'to', 'a', 'whole', 'new', 'level', '!', 'travis', \"'s\", 'greets', 'you', 'with', 'his', 'perfectly', 'green', 'swoosh', 'in', 'his', 'otherwise', 'perfectly', 'styled', 'black', 'hair', 'and', 'a', 'vegas-worthy', 'rockstar', 'outfit', '.', 'next', 'comes', 'the', 'most', 'relaxing', 'and', 'incredible', 'shampoo', '--', 'where', 'you', 'get', 'a', 'full', 'head', 'message', 'that', 'could', 'cure', 'even', 'the', 'very', 'worst', 'migraine', 'in', 'minutes', '--', '-', 'and', 'the', 'scented', 'shampoo', 'room', '.', 'travis', 'has', 'freakishly', 'strong', 'fingers', '(', 'in', 'a', 'good', 'way', ')', 'and', 'use', 'the', 'perfect', 'amount', 'of', 'pressure', '.', 'that', 'was', 'superb', '!', 'then', 'starts', 'the', 'glorious', 'blowout', '...', 'where', 'not', 'one', ',', 'not', 'two', ',', 'but', 'three', 'people', 'were', 'involved', 'in', 'doing', 'the', 'best', 'round-brush', 'action', 'my', 'hair', 'has', 'ever', 'seen', '.', 'the', 'team', 'of', 'stylists', 'clearly', 'gets', 'along', 'extremely', 'well', ',', 'as', 'it', \"'s\", 'evident', 'from', 'the', 'way', 'they', 'talk', 'to', 'and', 'help', 'one', 'another', 'that', 'it', \"'s\", 'really', 'genuine', 'and', 'not', 'some', 'corporate', 'requirement', '.', 'it', 'was', 'so', 'much', 'fun', 'to', 'be', 'there', '!', 'next', 'travis', 'started', 'with', 'the', 'flat', 'iron', '.', 'the', 'way', 'he', 'flipped', 'his', 'wrist', 'to', 'get', 'volume', 'all', 'around', 'without', 'over-doing', 'it', 'and', 'making', 'me', 'look', 'like', 'a', 'texas', 'pagent', 'girl', 'was', 'admirable', '.', 'it', \"'s\", 'also', 'worth', 'noting', 'that', 'he', 'did', 'not', 'fry', 'my', 'hair', '--', 'something', 'that', 'i', 'have', 'had', 'happen', 'before', 'with', 'less', 'skilled', 'stylists', '.', 'at', 'the', 'end', 'of', 'the', 'blowout', '&', 'style', 'my', 'hair', 'was', 'perfectly', 'bouncey', 'and', 'looked', 'terrific', '.', 'the', 'only', 'thing', 'better', '?', 'that', 'this', 'awesome', 'blowout', 'lasted', 'for', 'days', '!', 'travis', ',', 'i', 'will', 'see', 'you', 'every', 'single', 'time', 'i', 'am', 'out', 'in', 'vegas', '.', 'you', 'make', 'me', 'feel', 'beauuuutiful', '!']\n"
     ]
    }
   ],
   "source": [
    "print(len(nf_tokens[1]))\n",
    "print(nf_tokens[1])"
   ]
  },
  {
   "cell_type": "code",
   "execution_count": 31,
   "metadata": {},
   "outputs": [
    {
     "name": "stdout",
     "output_type": "stream",
     "text": [
      "188\n",
      "['*adore*', 'travis', 'hard', 'rock', \"'s\", 'new', 'kelly', 'cardenas', 'salon', '!', 'always', 'fan', 'great', 'blowout', 'stranger', 'chains', 'offer', 'service', ';', 'however', ',', 'travis', 'taken', 'flawless', 'blowout', 'whole', 'new', 'level', '!', 'travis', \"'s\", 'greets', 'perfectly', 'green', 'swoosh', 'otherwise', 'perfectly', 'styled', 'black', 'hair', 'vegas-worthy', 'rockstar', 'outfit', '.', 'next', 'comes', 'relaxing', 'incredible', 'shampoo', '--', 'get', 'full', 'head', 'message', 'could', 'cure', 'even', 'worst', 'migraine', 'minutes', '--', '-', 'scented', 'shampoo', 'room', '.', 'travis', 'freakishly', 'strong', 'fingers', '(', 'good', 'way', ')', 'use', 'perfect', 'amount', 'pressure', '.', 'superb', '!', 'starts', 'glorious', 'blowout', '...', 'one', ',', 'two', ',', 'three', 'people', 'involved', 'best', 'round-brush', 'action', 'hair', 'ever', 'seen', '.', 'team', 'stylists', 'clearly', 'gets', 'along', 'extremely', 'well', ',', \"'s\", 'evident', 'way', 'talk', 'help', 'one', 'another', \"'s\", 'really', 'genuine', 'corporate', 'requirement', '.', 'much', 'fun', '!', 'next', 'travis', 'started', 'flat', 'iron', '.', 'way', 'flipped', 'wrist', 'get', 'volume', 'around', 'without', 'over-doing', 'making', 'look', 'like', 'texas', 'pagent', 'girl', 'admirable', '.', \"'s\", 'also', 'worth', 'noting', 'fry', 'hair', '--', 'something', 'happen', 'less', 'skilled', 'stylists', '.', 'end', 'blowout', '&', 'style', 'hair', 'perfectly', 'bouncey', 'looked', 'terrific', '.', 'thing', 'better', '?', 'awesome', 'blowout', 'lasted', 'days', '!', 'travis', ',', 'see', 'every', 'single', 'time', 'vegas', '.', 'make', 'feel', 'beauuuutiful', '!']\n"
     ]
    }
   ],
   "source": [
    "print(len(filter_nf_token[1]))\n",
    "print(filter_nf_token[1])"
   ]
  },
  {
   "cell_type": "code",
   "execution_count": 32,
   "metadata": {},
   "outputs": [
    {
     "name": "stdout",
     "output_type": "stream",
     "text": [
      "*adore* travis hard rock 's new kelly cardenas salon ! always fan great blowout stranger chains offer service ; however , travis taken flawless blowout whole new level ! travis 's greets perfectly green swoosh otherwise perfectly styled black hair vegas-worthy rockstar outfit . next comes relaxing incredible shampoo -- get full head message could cure even worst migraine minutes -- - scented shampoo room . travis freakishly strong fingers ( good way ) use perfect amount pressure . superb ! starts glorious blowout ... one , two , three people involved best round-brush action hair ever seen . team stylists clearly gets along extremely well , 's evident way talk help one another 's really genuine corporate requirement . much fun ! next travis started flat iron . way flipped wrist get volume around without over-doing making look like texas pagent girl admirable . 's also worth noting fry hair -- something happen less skilled stylists . end blowout & style hair perfectly bouncey looked terrific . thing better ? awesome blowout lasted days ! travis , see every single time vegas . make feel beauuuutiful !\n"
     ]
    }
   ],
   "source": [
    "print(nfunny_data[1])"
   ]
  },
  {
   "cell_type": "code",
   "execution_count": 33,
   "metadata": {},
   "outputs": [
    {
     "name": "stdout",
     "output_type": "stream",
     "text": [
      "142\n",
      "{'texas', 'end', '&', 'every', 'awesome', 'travis', 'over-doing', 'level', 'flawless', 'strong', 'whole', 'migraine', 'service', '!', 'chains', 'scented', 'great', 'perfectly', 'glorious', 'room', 'stranger', 'hard', 'another', 'gets', 'action', 'ever', 'evident', 'fun', 'also', 'style', 'starts', 'fan', \"'s\", 'thing', 'could', 'head', 'way', 'see', 'extremely', 'look', 'clearly', 'use', 'iron', 'two', 'next', 'rockstar', ',', 'time', 'beauuuutiful', 'black', '(', '...', 'superb', 'started', 'like', 'comes', 'shampoo', 'fingers', 'message', 'pagent', 'even', 'always', 'hair', 'something', 'less', 'green', 'flipped', 'single', '.', 'one', 'looked', 'days', 'stylists', 'seen', 'lasted', 'greets', '-', 'vegas-worthy', 'vegas', 'rock', 'team', 'fry', 'genuine', ';', 'minutes', 'pressure', 'bouncey', 'good', 'cardenas', 'noting', ')', 'amount', 'however', 'relaxing', 'talk', 'skilled', 'terrific', 'better', 'much', 'full', 'blowout', 'help', '*adore*', 'outfit', 'happen', 'admirable', 'make', 'offer', 'new', 'get', 'worst', 'taken', 'around', 'salon', '--', 'round-brush', 'well', 'requirement', 'girl', 'feel', 'worth', 'volume', 'perfect', 'making', 'without', 'cure', 'freakishly', 'corporate', '?', 'kelly', 'three', 'incredible', 'swoosh', 'wrist', 'styled', 'flat', 'people', 'along', 'involved', 'otherwise', 'best', 'really'}\n"
     ]
    }
   ],
   "source": [
    "print(len(set(filter_nf_token[1])))\n",
    "print(set(filter_nf_token[1]))"
   ]
  },
  {
   "cell_type": "markdown",
   "metadata": {},
   "source": [
    "### Word 2 Vector"
   ]
  },
  {
   "cell_type": "code",
   "execution_count": 34,
   "metadata": {},
   "outputs": [
    {
     "name": "stdout",
     "output_type": "stream",
     "text": [
      "92970\n"
     ]
    }
   ],
   "source": [
    "final_f_list = filter_f_token + filter_nf_token\n",
    "print(len(final_f_list))"
   ]
  },
  {
   "cell_type": "code",
   "execution_count": 35,
   "metadata": {},
   "outputs": [],
   "source": [
    "num_features = 100    # Word vector dimensionality                      \n",
    "min_word_count = 40   # Minimum word count                        \n",
    "num_workers = 4       # Number of threads to run in parallel\n",
    "context = 10          # Context window size                                                                                    \n",
    "downsampling = 1e-3   # Downsample setting for frequent words"
   ]
  },
  {
   "cell_type": "code",
   "execution_count": 36,
   "metadata": {},
   "outputs": [],
   "source": [
    "w2v_model = gensim.models.Word2Vec(final_f_list, workers=num_workers,size=num_features, min_count = min_word_count, window = context, sample = downsampling)"
   ]
  },
  {
   "cell_type": "code",
   "execution_count": 37,
   "metadata": {},
   "outputs": [
    {
     "name": "stdout",
     "output_type": "stream",
     "text": [
      "12928\n"
     ]
    }
   ],
   "source": [
    "words = list(w2v_model.wv.vocab)\n",
    "print(len(words))"
   ]
  },
  {
   "cell_type": "code",
   "execution_count": 38,
   "metadata": {},
   "outputs": [
    {
     "name": "stdout",
     "output_type": "stream",
     "text": [
      "['took', 'kids', 'hang', 'one', 'fine', '72', 'degree', 'sunny', 'saturday', 'february', '.', 'going', 'bridge', ',', 'coming', 'casino', 'cant', 'miss', 'nice', 'view', 'waterfall', 'park', 'bad', 'playground', 'things', 'vouch', 'little', 'area', 'decent', 'amount', 'equipment', 'swings', 'slides', 'tables', 'benches', 'like', 'soft', 'material', 'use', 'built', 'also', 'sand', 'lot', 'dinosaur', 'bones', 'props', 'day', 'went', 'packed', 'running', 'actually', 'waiting', 'get', '!', 'decided', 'walk', 'around', 'check', 'rest', 'see', 'ducks', 'everywhere', 'especially', 'pond', 'unfortunately', '``', 'stuff', \"''\", 'ends', 'paths', 'walking', 'green', 'duck', 'crap', 'brings', 'question', 'kind', 'spray', 'force', 'field', '?', 'anywhere', 'im', 'curious', 'many', 'people', 'would', 'spread', 'blanket', 'picnic', 'grass', 'well', 'review', 'starting', 'grossed', 'thinking', 'carefully', 'trying', 'step', 'car', 'made', 'mental', 'note', 'make', 'sure', 'mention', 'saw', 'hesitate', 'mentioning', 'everybody', 'know', 'either', 'making', 'plans', 'thing', 'positive', 'think', 'come', 'diet', 'seeing', 'probably', 'wont', 'much', 'appetite', 'definitely', 'exercise', 'avoid', 'stepping', 'yeah', 'worried', 'back', 'place', 'time', 'soon', 'lifetime', '(', ')', 'lol', 'maybe', '#', '-', '2016', 'arrived', 'hertz', 'pm', 'able', 'rental', '20-25', 'minutes', 'pick', 'process', 'pretty', 'simple', 'go', 'customer', 'service', 'rep', 'self-serve', 'kiosk', 'ended', 'lady', 'assisting', 'phone', 'friendly', 'need', 'bigger', 'economy', 'size', 'since', '2', 'us', 'understand', 'work', 'commission', 'sometimes', \"'s\", 'unnecessary', 'try', 'convince', 'something', 'return', 'quick', 'easy', 'getting', 'charged', 'extra', 'brought', '1.5', 'hours', 'flight', 'leave', '8', 'grace', 'period', 'regular', 'customers', 'anything', 'fancy', 'nothing', 'write', '--', 'fact', 'clean', 'smell', 'rentals', 'encountered', 'elsewhere', 'solid', 'really', 'good', 'chicken', 'happy', 'recent', 'visits', 'combos', 'tender', 'juicy', 'crispy', 'flavorful', 'order', 'dip', 'different', 'sauces', 'husband', 'enjoy', 'plan', 'returning', 'pros', ':', '*', '&', 'efficient', 'counter', 'modern', 'decor', 'plenty', 'options', 'large', 'windows', 'tvs', 'watched', 'football', 'include', 'shoestring', 'fries', 'small', 'cup', 'coleslaw', 'skinny', 'salty', 'plentiful', '|', 'bit', 'bland', 'taste', 'crisp', 'crunch', 'tasty', 'seasoning', 'delicious', 'slight', 'spicy', 'dry', 'coating', 'hint', 'cajun', 'find', 'greasy', 'breading', 'light', 'overwhelming', 'pop', 'served', 'soda', 'fountain', 'sweetened', 'cane', 'sugar', 'iced', 'tea', 'honey', 'unsweetened', 'milkshakes', 'thick', 'creamy', 'always', 'orders', 'dipping', 'sauce', 'wildflower', 'chipotle', 'wasabi', 'flavors', 'love', 'tenders', 'habanero', 'hot', 'barbecue', 'lunch', 'box', 'special', 'deal', 'm-f', '11am', '4pm', '3', 'whole', 'wings', 'drink', '=', 'bucks', 'cons', 'seems', 'pricey', 'essentially', 'priced', 'higher', 'expect', 'joint', 'looking', '$', '10', '15', 'person', 'however', 'quality', 'joints', 'upscale', 'atmosphere', 'casual', \"'\", 'restaurant', '1', '2017', 'drove', 'couple', 'weeks', 'ago', 'said', 'international', 'market', 'looks', 'interesting', 'yelp', 'later', 'reading', 'reviews', 'liz', 'lemon', 'exclaimed', '6', 'vegetarian', 'indian', 'food', 'want', 'wound', 'immediately', 'ordered', 'paneer', 'sucker', 'cute', 'lil', 'behind', 'proceeded', 'give', 'sweet', 'waited', 'consisted', 'roti', 'rice', 'pickles', 'okra', 'yumminess', 'believe', 'veggie', 'dumplings', 'feeling', 'generous', 'gave', 'tomato', 'soup', 'definite', 'bonus', 'points', 'everything', 'fantastic', 'although', 'expecting', 'flavor', 'sit-down', ';', 'instead', 'invited', 'grandma', 'kitchen', 'filled', 'bellies', 'wandered', 'aisles', 'grocery', 'store', 'planned', 'buying', 'found', 'masala', 'super', 'cheap', 'black', 'salt', 'could', 'giant', 'bag', 'powder', 'normally', '12', 'tiny', 'jar', 'else', '...', 'picture', 'pantry', 'mint', 'tamarind', 'bottled', 'naan', 'huge', 'blocks', 'trust', 'say', 'seriously', 'considered', 'snack', 'home', 'giving', '4', 'stars', 'days', 'cold', 'missing', 'first', 'friday', 'evening', 'soap', 'opera', 'tv', 'interrupted', '.so', 'obviously', 'ca', 'blame', 'favorite', 'vegas', '100', 'challenge', 'heard', 'family', 'friends', 'years', 'experience', 'till', 'sometime', 'last', 'year', 'began', 'morning', 'cardio', 'several', 'week', 'agree', 'ass', 'wish', 'existed', 'childhood', 'grassy', 'soccer', 'laying', 'relax', 'read', 'book', 'draw', 'seen', 'photo', 'sessions', 'path', 'way', 'mountain', 'great', 'short', 'hike', 'solo', 'every', 'others', 'hiking', 'trail', 'felt', 'safe', 'knowing', 'accidentally', 'fell', 'cement', 'dirt', 'gravel', 'careful', 'hill', 'adventurous', 'souls', 'recommended', 'beginners', 'exploring', 'two', 'levels', '1st', 'level', 'shaded', 'table', 'city', 'top', 'platform', 'amazing', 'nevada', 'history', 'peaceful', 'reminds', 'nature', 'tai', 'chi', 'and\\\\/or', 'watch', 'stage', 'end', 'guessing', 'plays', 'performances', 'warmer', 'months', 'bathrooms', 'stocked', 'bring', 'fur', 'buddies', '***', 'tip', 'live', 'edge', 'diamond', 'buffalo', 'road', 'entrance', 'searching', 'local', 'peruvian', 'subdued', 'may', 'refer', 'hole', 'wall', 'interior', 'conducive', 'groups', 'former', 'location', 'far', 'away', 'visit', 'décor', 'included', 'mural', 'floors', 'three', 'rows', 'stretched', 'across', 'dining', 'started', 'ceviche', 'de', '12.95', 'came', 'slices', 'tilapia', 'stacked', 'marinated', 'lime', 'juice', 'spices', 'lettuce', 'yam', 'red', 'onions', 'corn', 'fresh', 'nicely', 'seasoned', 'without', 'overpowering', 'embedded', 'accompanied', 'eaten', 'sharp', 'concerned', 'portion', 'fish', 'turned', 'worthwhile', 'shared', 'pollo', '11.95', 'chunks', 'sautéed', 'chopped', 'tomatoes', 'french', 'cilantro', 'soy', 'side', 'steamed', 'profile', 'point', 'contributed', 'dish', 'fried', 'perfection', 'glad', 'cuts', 'thicker', 'soak', 'wished', 'cooked', 'met', 'expectations', '13.95', 'stewed', 'beef', 'loin', 'peas', 'yucca', 'salsa', 'beans', 'wine', 'lots', 'spots', 'dimension', 'textures', 'bites', 'refined', 'loved', 'subtly', 'given', 'roasted', 'aji', 'appeared', 'chunky', 'smooth', 'type', 'usually', 'restaurants', 'number', 'limitations', 'worth', 'noting', 'unlike', 'offer', 'bread', 'starter', 'meal', 'secondly', 'courteous', 'throughout', 'whatever', 'reason', 'server', 'personally', 'wrote', 'bill', 'delivery', 'act', 'unusual', 'offensive', 'disrespectful', 'ironically', 'happened', 'coupons', 'least', 'gesture', 'willing', 'benefit', 'doubt', 'still', 'influenced', 'rating', 'interested', 'diners', 'currently', '20', 'voucher', 'per', 'date', 'nights', 'sipping', 'numerous', 'times', 'opened', 'even', 'month', 'impressed', 'open', 'asked', 'opening', 'construction', 'worker', 'truly', 'remodel', 'done', 'inside', 'building', 'used', 'private', 'hibachi', 'rooms', 'goodness', 'sake', 'ambiance', 'sushi', 'updated', 'posh', 'stewart', 'worthy', 'lounge', 'hell', 'means', 'sounds', 'weird', 'huh', 'look', 'pics', 'lovely', 'chandelier', 'everyone', 'takes', 'talks', 'magical', 'menu', 'sage', 'american', 'fusion', 'cares', 'title', 'entrees', 'yet', 'already', 'dinner', 'accommodate', 'vegan', 'problem', 'forward', 'pasta', 'custom', 'creation', 'items', 'portobello', 'flat', 'salads', 'accommodating', 'almost', 'guess', 'newer', 'help', 'perfect', 'garage', 'door', 'patio', 'sit', 'left', 'hand', 'booth', 'ton', 'soooo', 'big', 'fit', 'gathering', 'fun', 'update', 'full', 'remember', 'take', 'soo', 'marvelous', 'addition', 'beautiful', 'sw', 'proud', 'oh', 'hubby', 'house', 'terrible', 'hostess', 'sat', 'turns', 'share', 'finally', '30', 'passed', 'ever', 'approached', 'wanted', 'let', 'never', 'greeted', 'supposed', 'requirement', 'keeping', 'real', 'eatery', 'created', 'marketing', 'group', 'personality', 'rather', 'chef', 'driven', 'words', 'farm', 'raised', 'organic', 'replaced', 'outta', 'awesome', 'slam', 'dunk', 'daddy', 'bold', 'bordering', 'components', 'compete', 'compliment', 'spent', 'smoking', 'cigars', 'killed', 'packs', 'shareable', 'respectable', 'sashimi', 'skin', 'shaped', 'taco', 'shell', 'ahi', 'mixed', 'mango', 'jicama', 'topped', 'odd', 'aioli', 'passable', 'adds', 'fondue', 'bizarre', 'breadsticks', 'wrapped', 'pepperoni', 'self', 'dipped', 'oil', 'provolone', 'sausage', 'fans', 'pizza', 'right', 'sandwiches', 'burgers', 'rod', 'boy', 'shake', 'hands', 'doggie', 'contrary', 'ex', 'might', 'dog', 'tossed', 'burger', 'falling', 'half', 'bun', 'toppings', 'spilling', 'thrown', 'measure', 'features', 'prime', 'rib', 'smothered', 'melting', 'pepper', 'jack', 'cheese', 'deep', 'garlic', 'excessive', 'bitter', 'horseradish', 'impossible', 'grease', 'mask', 'smash', 'sports', 'mix', 'bourbon', 'bbq', 'claim', 'brioche', 'honestly', 'kills', 'buds', 'mac-n-cheese', 'bacon', 'cloying', 'pickup', 'messy', 'eat', 'soggy', 'accompanies', 'selections', 'fast', 'attentive', 'tourist', 'show', 'locals', 'regulars', 'care', 'choose', 'pan', 'worst', 'generic', 'eating', 'dude', 'hair', 'rode', 'motorcycle', 'white', 'sleeves', 'rolled', 'sunglasses', 'jeans', 'worn', 'yes', 'locations', 'rant', 'thanks', 'ok', 'daughter', 'pain', 'stuck', 'room', 'yelping', 'hoping', 'next', 'quite', 'terms', 'long', 'emergency', 'er', 'state', 'pace', 'staff', 'change', 'name', 'hey', 'bunch', 'together', 'misery', 'sickness', 'call', 'circus', 'mean', 'ridiculous', 'provide', 'frame', 'adventure', 'current', 'children', 'called', 'woo', 'got', 'word', 'doctor', '..it', 'disney', 'round', 'corner', 'another', '9', 'dr', '..', 'god', 'sun', 'please', 'anybody', 'headed', 'wait', 'folks', 'pharmacy', 'better', 'outcome', 'sammie', 'world', 'omg', 'twice', 'kettle', 'chips', 'en', '.but', 'assured', 'wrap', 'wheat', 'stay', 'overly', 'filling', 'descriptions', 'choices', 'plus', 'selection', 'cookies', 'makes', 'catering', 'tray', 'bet', 'yelpers', 'photos', 'idea', 'marvel', 'fan', 'dream', '50', 'percent', 'saved', 'money', 'didnt', 'bother', 'memories', 'opted', 'paying', 'girl', 'tour', 'guide', 'remembered', 'interactive', 'informative', 'highlight', 'son', 'absolutely', 'obsessed', 'hammer', 'icing', 'cake', 'hour', 'overall', 'gift', 'shop', 'purchase', 'totally', 'recommend', 'visiting', 'thank', 'joyce', 'writing', 'weekend', 'noticed', 'pleasant', 'music', 'playing', 'loudly', 'aromas', 'crazy', 'run', 'errands', 'afterwards', 'oxtail', '10.99', '8.99', 'coconut', 'meats', 'begin', 'describe', 'seasonings', 'warm', 'create', 'comfort', 'put', 'broth', 'comes', 'wonderful', 'potato', 'salad', 'meals', 'often', 'treat', 'eggy', 'daily', 'specials', 'board', 'overheard', 'forgot', 'sample', 'learn', 'wo', 'nearly', 'jan', '2nd', '2013', 'signed', 'notice', 'refund', 'calling', 'returned', 'calls', 'refunded', 'receiving', 'scam', 'artists', 'join', 'schools', 'mesa', 'peoria', 'wearing', 'favourite', 'cotton', 't-shirt', 'faded', 'ripped', 'laundry', '8:00', 'monday', 'night', 'streets', 'empty', 'basically', 'mine', 'following', 'allure', 'neon', 'yellow', 'blue', 'sign', 'clothing', 'henry', 'laundromat', 'cleaners', '18th', 'avenue', 'convenient', 'best', 'orchestra', 'washers', 'dryers', 'serviced', 'helpful', 'establishment', 'according', 'working', 'mere', 'dollars', 'handful', 'quarters', 'count', 'double', 'load', 'consistently', 'job', 'drying', 'line', '70s', 'vinyl', 'brown', 'chairs', 'facing', '40', 'inch', 'television', 'dances', 'returns', 'increase', 'volume', 'third', 'asking', 'shrug', 'shoulders', 'smile', 'part', 'closing', 'concentrate', 'cleaning', 'single', 'socks', 'folding', 'second', 'prices', 'candy', 'bars', 'nibble', 'pass', 'certificates', 'calgary', 'claimed', 'prize', 'incarnation', 'must', 'feel', 'incredibly', 'relaxed', 'random', 'conversation', 'ironing', 'modest', 'hope', 'continues', 'head', 'secretly', 'macy', 'grey', 'certain', 'dishes', 'tasted', 'excellent', 'tasting', 'outside', 'option', 'checked', 'mash', '14', 'braised', 'mushrooms', 'pearl', 'buttered', 'puree', 'rachel', 'twist', 'au', 'vin', 'arrive', 'looked', 'presented', 'dig', 'potatoes', 'butter', 'effing', 'mashed', 'agreed', 'lacking', 'pour', 'difference', 'free', 'sangria', 'strawberry', 'champagne', 'pancakes', 'dutch', 'baby', 'style', 'price', 'fair', 'needing', 'swallow', 'bite', 'somewhat', 'raw', 'center', 'salted', 'caramel', 'toffee', 'vanilla', 'custard', 'crunchy', 'fleur', 'though', 'closed', 'apple', 'enjoyed', 'desserts', 'actual', 'kinda', 'limited', 'improvement', 'future', 'tastings', 'upcoming', 'events', 'social', 'media', 'pages', 'coffee', 'italian', 'paid', 'hotel', 'guests', 'showed', 'id', 'knew', 'told', 'mild', 'luke', 'seating', 'conveniently', 'located', 'walkway', 'palazzo', 'venetian', 'kat', 'judged', 'alcohol', 'alone', 'relate', 'occurred', 'dudes', 'sitting', 'deck', 'imperial', 'pub', 'set', 'summer', 'glorious', 'late', 'september', 'usual', '3-4', 'pints', 'lager', 'talking', 'hate', 'relationship', 'band', 'loves', 'dead', 'jerry', 'guys', 'chicago', 'wayne', 'cc', 'cover', '70', 'pile', 'blow', 'onstage', 'danced', 'continued', 'guest', 'kept', 'missed', 'fist', 'pounding', 'misses', 'sums', 'loathe', 'chino', 'bandido', 'undeniably', 'become', 'l.a.', 'discovering', 'roaming', 'using', 'twitter', 'samples', 'combo', 'quesadilla', 'jade', 'pork', 'refried', 'disappointed', 'damn', 'outstanding', 'blend', 'transported', 'to-go', 'microwave', 'spirit', 'taking', 'pictures', 'posing', 'poster', 'guy', 'fieri', 'checking', 'news', 'discussed', 'mentioned', 'eyes', 'lit', 'cups', 'yep', 'hype', 'intelligent', 'toys', 'deals', 'figure', 'treats', 'listed', 'dozen', 'website', 'front', 'leap', 'chase', 'warehouse', 'hear', \"ma'am\", '21', 'dammit', 'turn', 'purse', 'ticked', 'carry', 'expensive', 'wallet', 'cash', 'sight', 'ask', 'someone', 'uncomfortable', 'aside', 'dear', 'ryan', 'sorry', 'stolen', 'hard', 'retail', 'business', '500', 'steal', 'ya', 'absorb', 'toy', 'insulting', 'treated', 'criminal', 'tone', 'trip', 'dim', '2\\\\/5', 'intensity', 'scale', '1.50', 'stores', 'drive', 'save', 'shoppers', 'seemed', 'ew', 'air', 'aisle', '5', 'employees', 'standing', 'staring', 'watching', 'creepy', '80', '%', 'stock', 'stuffed', 'chewing', 'power', 'shark', 'jealous', 'needs', 'tough', 'ai', 'gon', 'na', 'cut', 'suitable', 'unless', 'somehow', 'walked', 'carried', 'driving', 'central', 'phoenix', 'scottsdale', 'tornado', 'rope', 'chewed', 'halfway', 'knot', 'middle', 'le', 'sigh', 'company', 'team', 'appreciation', 'event', 'golf', 'tell', 'excited', 'mini', 'haha', 'jalapeno', 'margarita', 'perfectly', 'freaking', 'locally', 'brewed', 'beers', 'tap', 'sold', 'smelt', 'delish', 'hazelnut', 'beer', 'catered', 'pickled', 'slow', 'smoked', 'brisket', 'chili', 'mac', 'baked', 'freshly', 'rolls', 'fixings', 'slaw', 'unlimited', 'water', 'sodas', 'teas', 'buns', 'drizzled', 'high', 'hopes', 'sadly', 'loser', 'seem', 'lacked', 'golfing', 'reserved', 'topgolf', 'ready', 'play', 'wrong', 'game', 'rush', 'hitting', 'ball', 'fly', 'land', 'colored', 'goals', 'inner', 'tiger', 'woods', 'ages', 'hanging', 'awareness', 'unfortunate', 'prevent', 'disabled', 'persons', 'outright', 'disrespect', 'shortly', '11', 'graciously', 'buddy', 'tall', 'physical', 'surprise', 'introduction', 'telling', 'move', 'pointing', 'obvious', 'explaining', 'partner', 'clearly', 'repeated', 'statement', 'busy', 'clear', 'issue', 'moved', 'additional', 'bar', 'anyone', 'blocking', 'space', 'valid', 'disregard', 'suggest', 'management', 'ensure', 'individuals', 'inform', 'inability', 'aware', 'sever', 'understanding', 'situation', 'awful', 'gets', 'sound', 'confused', 'haircut', 'gotten', 'mom', 'town', 'overpriced', 'salon', 'west', 'hollywood', 'insisted', 'appointment', 'ensued', 'tattoos', 'piercings', 'afternoon', 'stop', 'raving', 'fabulous', 'less', 'fix', 'badass', 'near', 'objects', 'bright', 'lights', 'las', 'fu', '@', 'king', 'greatest', 'planet', 'opinion', 'reality', 'legal', 'adults', 'whether', 'gambling', 'drinking', 'sex', 'shopping', 'acceptable', 'desert', 'caters', 'young', 'old', 'personal', 'tiki', 'drinks', 'living', 'life', 'consuming', 'rum', 'based', 'offers', 'finest', 'entertainment', 'concerts', 'strip', 'clubs', 'unbelievable', 'dj', 'including', 'paul', 'jersey', 'shore', 'sampled', 'steaks', 'joe', 'thai', 'la', 'fremont', 'street', 'along', 'bottles', 'bacchanal', 'lovers', 'beverage', 'consumption', 'locate', 'lv', 'frank', 'elvis', 'deserves', 'survive', 'steep', 'steps', 'downstairs', 'enter', 'appears', 'speakeasy', 'beneath', 'era', 'liquor', 'runners', 'hippies', 'eclectic', 'college', 'cast', 'characters', 'hipsters', 'professors', 'folk', 'likes', 'butternut', 'squash', 'bisque', 'cornbread', 'today', 'keep', 'mind', 'relatively', 'early', 'otherwise', 'community', 'spot', 'campus', 'spend', 'places', 'corporate', 'eateries', 'lining', 'wifi', 'dessert', 'tangy', 'yogurt', 'ruin', 'favorites', '~', 'cheesecake', 'cookie', 'dough', 'crumbles', 'strawberries', 'marshmallow', 'creme', 'concoction', 'seat', 'seats', 'logo', 'hello', 'kitty', 'buy', 'craving', 'dogs', 'luck', 'charlotte', 'matt', 'uptown', 'hassle', 'jj', 'figuring', 'start', 'chose', 'relish', 'mustard', 'pickle', 'choice', 'toasted', 'boiled', 'wiener', 'charred', 'ben', 'peanut', 'sriracha', 'onion', 'rings', 'check-in', 'thin', 'coated', 'batter', 'ones', 'planning', 'healthier', 'parking', 'busier', 'suggested', 'tried', 'lacks', 'variety', 'select', 'grain', 'grilled', 'added', 'adding', 'quinoa', '7', 'preferred', 'barley', 'pieces', 'item', 'friend', 'avocado', '5\\\\/5', 'buzzer', 'whirl', 'entering', 'twilight', 'celebrated', 'occasion', '60', 'woman', 'stretch', 'percentage', 'varies', 'known', 'exceed', 'reservations', 'aforementioned', 'fortune', 'details', 'anyway', 'seated', 'support', 'sexy', 'works', 'realizing', 'new', 'waitress', 'allergies', 'thought', 'selecting', 'result', 'shock', 'fyi', 'five', '450', 'dent', 'bank', 'account', 'control', 'witty', 'enough', 'imagine', 'dollar', 'bills', 'clouds', 'rapid', '180', 'audi', 'a5', 'tan', 'leather', 'trim', 'instant', 'leaving', 'brother', 'comment', 'birthday', 'bro', 'ps', 'glass', 'male', 'moments', 'instagram', 'invented', 'listen', 'advice', 'sushisamba', 'temporary', 'forever', 'man', 'electric', 'chair', 'movie', 'shrimp', 'combinations', 'ice', 'yada', '37', 'http', 'favs', 'busted', 'lobster', 'tails', '2-3', 'grab', 'beats', 'setting', 'catch', 'waking', '4am', 'fishing', 'feast', 'contest', 'varied', 'stations', 'seafood', 'alternatives', 'mexican', 'mediterranean', 'among', 'carving', 'station', 'etc', 'village', 'buffet', 'exactly', 'states', \"'d\", 'rent', 'players', 'card', \"c'mon\", 'position', 'died', 'gone', 'heaven', 'p.s', 'add', 'forget', 'blueberry', 'donuts', 'close', 'infamous', 'donut', 'hut', 'inn', 'east', 'travel', '45', 'moist', 'texture', 'plain', 'blueberries', 'thursday', 'owner', 'cambodian', 'gf', 'sent', 'link', 'fellow', 'yelper', 'posted', 'talk', 'incredible', 'royalty', 'chat', 'story', 'cheat', '\\\\/\\\\/www.yelp.com\\\\/user_local_photos', 'userid=y3fcl4bly0ellkb0sdpnbq', 'tips', 'appreciate', 'expanded', 'changed', 'crepe', 'breakfast', 'sunday', '5-6', 'decide', 'savory', 'crepes', 'various', 'beverages', 'non', 'octopus', 'tahini', 'dulce', 'leche', 'finish', 'plate', 'presentation', 'balanced', 'colors', 'faced', 'crumbly', 'traditional', 'folded', 'easier', 'general', 'slightly', 'heirloom', 'chorizo', 'wishing', 'element', 'balance', 'perhaps', 'squeeze', 'orange', 'brighten', 'chickpeas', 'dehydrated', 'banana', 'lightly', 'candied', 'moroccan', 'spiced', 'almond', 'milk', 'latte', 'subtle', 'exotic', 'spice', 'handle', 'sticky', 'spilled', 'grip', 'problems', 'enjoyable', 'upgrade', 'star', 'tag', '3:00', 'subway', 'sandwich', '4:00', 'walmart', 'throw', 'neck', 'pillows', 'poles', 'members', 'midnight', 'sort', 'yea', 'hates', 'america', 'intense', 'country', 'begins', 'growing', 'became', '24\\\\/7', 'becoming', 'happen', 'swimming', 'shorts', '5:00', '9:00', 'knock', 'annoying', 'kid', 'past', 'exaggerating', 'dragged', 'crowded', 'typical', 'admit', 'helped', 'average', 'dark', 'baffled', '3.99', 'buffets', '16', 'nowadays', 'precisely', 'pastrami', 'rye', 'arriving', 'boys', 'famished', 'dropped', 'bags', 'toilets', 'separate', 'important', 'sharing', 'experts', 'art', 'movements', 'floor', 'shoulder', 'bumping', 'sloppy', 'drunk', 'girls', 'runny', 'promise', 'importantly', 'heap', 'sensual', 'fingers', 'devoured', 'quietly', 'upon', 'wondering', 'lost', 'entirely', 'sense', 'haunted', 'splitting', 'enhanced', 'cocktail', 'bringing', 'vodka', 'cleavage', 'mound', 'holy', 'stuffing', 'face', '95', 'sunlight', 'umbrella', 'lunchtime', 'sell', 'fav', 'nuggets', 'buckwheat', 'seeds', 'curry', 'leaves', 'covered', 'pastry', 'textural', 'rad', 'tastes', 'chickpea', 'slider', 'killer', 'low', 'mid', 'classics', 'fab', 'samosas', 'piles', 'fennel', 'seed', 'smoky', 'multiple', 'saucy', 'allow', 'lb', 'fee', '35', 'hotels', 'shall', 'remain', 'cats', '25', 'lbs', 'cat', 'naughty', 'spoil', 'bowls', 'package', 'bed', 'sized', 'slept', 'replacement', 'luxury', 'spacious', 'sq', 'feet', 'gorgeous', 'ceilings', 'wood', 'plush', 'sheets', 'bathroom', 'faces', 'blinds', 'course', 'shower', 'advantage', 'romantic', 'promo', 'offered', 'taxes', 'inclusive', 'discounted', 'complete', 'chilled', 'condoms', '+', 'lube', 'scented', 'candle', 'healthy', 'serving', 'chocolate', 'feed', 'housekeeping', 'worry', 'complaint', 'noise', 'loud', 'technically', 'sleep', 'gives', 'four', 'paws', 'december', 'sore', 'throat', 'worse', 'design', 'chief', 'comfortable', 'heart', 'downtown', 'discover', 'sad', 'out..', 'overrated', 'bagels', 'eggs', 'solution', 'peppermill', 'buried', 'fireside', 'bloody', 'mary', 'quiet', 'pink', 'purple', 'color', 'scheme', 'combined', 'thousands', 'mirrors', 'ceiling', 'warmth', 'limo', 'circa', 'cousin', 'essence', 'class', 'booths', 'dispenser', 'rainbow', 'matches', 'cheesy', 'condition', 'squeaky', 'pristine', 'jungle', 'silk', 'plants', 'speck', 'dust', 'inviting', 'well-maintained', 'kitsch', 'suit', 'ashamed', 'portions', 'enormous', 'fruit', 'party', 'platter', 'split', 'omelet', 'hash', 'browns', 'foods', 'professional', 'hangover', 'pool', 'outlets', 'hiding', 'retirement', 'savings', 'disco', '24', 'exciting', 'sum', 'available', 'inattentive', 'likely', 'beside', 'employee', 'refills', 'napkins', 'organized', 'capriotti', 'pacific', 'ocean', 'elite', 'nelson', 'deli', 'wanting', 'smallest', 'sub', 'swiss', 'cole', 'russian', 'dressing', 'sammies', 'award', 'winning', 'hi', 'iphone', 'addict', 'angry', 'bird', 'addiction', 'possible', 'contained', 'device', 'app', 'crack', 'habit', 'beloved', 'treasure', 'fully', 'charge', 'drop', 'constantly', 'entire', 'pint', 'soaking', 'wasting', 'cabs', 'sky', 'harbor', 'airport', 'shuttles', 'luckily', 'recover', 'realized', 'knows', 'six', 'tops', 'flipped', 'bitch', 'passing', 'driver', 'thumbs', 'precious', 'safely', 'helps', 'recovery', 'vig', 'proof', 'received', '4.5', 'regardless', 'railroad', 'tracks', 'quickly', 'landing', 'maximum', 'drivers', 'download', 'coupon', 'uncovered', 'cheaper', 'cab', 'awkward', 'rides', 'flake', 'belongings', 'chance', 'sea', 'witch', 'tonight', 'pregnant', 'due', 'pumped', \"'hood\", 'celebrate', 'possibly', 'parents', 'slowly', 'literally', 'locks', '8pm', 'functional', 'bodies', 'minute', 'slack', 'cry', 'fat', 'locked', 'shrugged', 'numb', 'soul', 'teeth', 'sinks', 'coke', 'hurry', 'workers', 'smiled', 'rose', 'instance', 'chain', 'fucking', 'stinky', 'ghetto', 'broken', 'broad', 'daylight', 'roll', 'eye', 'towards', 'daring', 'disturb', 'stand', 'exposed', 'shot', 'fail', 'sack', 'shit', 'pharmacist', 'written', 'prescription', 'shows', 'closest', '24-hour', 'humble', 'facility', 'except', 'clutch', 'google', 'maps', 'nowhere', 'mailing', 'address', 'rail', 'museum', 'ok.', 'prepared', 'window', 'tonkotsu', 'ramen', 'miso', 'authentic', 'lived', 'japan', 'purist', 'noodles', 'preference', 'belly', 'speaking', 'hungry', 'glasses', 'straight', 'japanese', 'refill', 'bottle', 'nearby', 'funny', 'observation', 'serve', 'yuzu', 'palate', 'cleanser', 'heck', 'comments', 'blah', 'secret', 'hidden', 'gem', 'groupon', 'happily', 'roast', 'americans', 'legit', 'cali', 'roberto', 'co-workers', 'jumped', 'opportunity', 'prettiest', 'surprisingly', 'ample', 'temperature', 'borderline', 'humans', 'scratch', 'intoxicating', 'fresca', 'cantaloupe', 'awhile', 'vibes', 'hit', 'mins', 'huevos', 'rancheros', 'deliver', 'wasnt', 'waffle', 'mama', 'mia', 'eggplant', 'unique', 'homemade', 'ingredients', 'die', 'chatted', 'stopped', 'al', 'pastor', 'says', 'express', 'description', 'naturally', 'stood', 'signs', 'confusing', 'larger', 'strange', 'spit', 'spinning', 'meat', 'tacos', 'tortilla', 'pineapple', 'anymore', 'badly', 'parts', 'zero', 'honest', 'tortillas', 'site', '3.50', 'sour', 'cream', 'guacamole', 'melted', 'edible', 'asada', 'gristle', 'jokes', 'moly', 'dreaming', 'cozy', 'bustling', 'extensive', 'deciding', 'strong', 'equally', 'touch', 'plates', 'settled', 'dome', 'nutella', 'sliced', 'thinly', 'piled', 'deliciously', 'brownies', 'shavings', 'scoop', 'icecream', 'smack', 'dab', '.the', 'crossed', 'eyed', 'pure', 'joy', 'calorie', 'bomb', 'distracted', 'a+', 'concept', 'phenomenal', 'hmm', 'b', 'n', 'annoyed', 'cashier', 'guilt', 'membership', 'math', 'discount', 'break', 'n.', 'changes', 'tuesday', 'august', 'indie', 'bookstore', 'library', 'gal', 'materials', 'stack', 'asks', 'politely', 'sideways', 'shocked', 'tick', 'passive', 'aggressive', 'magazines', 'wax', 'geez', 'decade', 'hearing', 'program', 'demand', 'records', 'burn', 'cds', 'punk', 'limits', 'spaces', 'reasonable', 'consistent', 'flow', 'cool', 'pizzeria', 'bianco', 'millions', 'sentence', 'businesses', 'manages', 'within', 'sooner', 'experiencing', 'trendy', 'questionable', 'beyond', 'threw', 'caution', 'wind', 'margherita', 'liked', 'signature', 'pie', 'crust', 'dates', 'hip', 'snotty', 'mad', 'ugh', 'hotdogs', 'season', 'sketchy', 'perfume', 'shops', 'oasis', 'wow', 'scarf', 'regularly', 'topic', 'laugh', 't-shirts', 'moment', 'shirt', 'lamb', 'mug', 'quarter', 'mile', 'craziness', 'saturdays', 'sundays', 'busiest', 'recently', 'gym', 'shoes', 'nike', 'nuts', 'butts', 'max', 'fake', 'product', 'inventory', 'coach', 'converse', 'collection', 'sells', 'dope', 'outlet', 'cook', '**', 'sip', 'mmmm', 'knocking', 'brand', 'requires', 'patience', 'stroll', 'mall', 'holidays', 'advise', 'pack', 'horizon', 'auntie', 'anne', 'pretzels', 'heat', 'sweating', 'conditioning', 'miserable', 'inspire', 'understatement', 'entry', 'tournament', 'courts', 'sweat', 'mercy', 'families', 'fund', 'units', 'joking', 'five-star', 'wife', 'declared', 'brulee', 'krispy', 'kreme', 'original', 'glazed', 'rise', 'ham', 'biscuit', 'pimento', 'egg', 'monstrosity', 'downside', 'ate', 'familiar', 'assuming', 'kinds', 'quantity', 'visited', 'yesterday', 'promised', '15-20', 'apologies', 'batch', 'quoted', 'okay', 'sub-par', 'watery', 'undercooked', 'heading', 'mouth', 'shoddy', 'rude', 'satisfactory', 'tangerine', 'golden', 'miles', 'frequently', 'schnitzel', 'mother', 'dreams', 'calm', 'respond', 'shut', 'stupid', 'chilli', 'pose', 'explains', 'traveled', 'frozen', 'blended', 'whip', 'wisconsin', 'dairy', 'kicks', 'starbucks', 'hairy', 'coffees', 'robust', 'surly', 'lesbian', 'aunt', 'fargo', 'afterall', 'digress', 'trivia', 'obligatory', 'views', 'famous', 'watering', 'toe', 'brain', 'freezing', 'dee', 'brazilian', 'vibe', 'impressive', 'stopping', 'uber', 'evenings', 'weekends', 'def', 'speak', 'taquitos', 'samba', 'delightfully', 'held', 'competition', 'yellowtail', 'crab', 'el', 'salmon', 'oyster', 'bought', 'flavoring', 'broccoli', 'stick', 'transaction', 'vegetables', 'asian', 'earn', 'considering', 'nearest', 'inconvenient', 'preferences', 'needless', 'soups', 'tom', 'yum', 'pho', 'curries', 'panang', 'massaman', 'products', 'snacks', 'nam', 'papaya', 'potential', 'wandering', 'draft', 'thirst', 'roof', 'taps', 'pouring', 'ipas', 'ciders', 'chatting', 'patrons', 'offering', 'bare', 'character', 'craft', 'freakin', 'joke', 'scott', 'idiot', 'project', 'school', 'kitschy', 'apron', 'flair', 'oddly', 'endless', 'yummy', 'lasagna', 'queso', 'bucket', 'ricotta', 'sister', 'fridge', 'basket', 'besides', 'player', 'mariachi', 'pocket', 'vegetable', 'richard', 'mmm', 'slice', 'salami', 'fill', 'oooh', 'chocolatey', 'cappuccino', 'w\\\\/', 'whipped', 'stomach', 'pounds', 'gallon', 'liquid', 'leftovers', 'korean', 'registers', 'tofu', 'paste', 'jun', 'fails', 'handmade', 'comforting', 'protein', 'veggies', 'entrées', 'banchan', 'sides', 'specialty', 'stone', 'pot', 'kalbi', 'bulgogi', 'consists', 'affordable', 'summerlin', 'relocated', 'owned', 'sisters', 'delivers', 'cleanliness', 'reasons', 'continue', 'despite', 'valley', 'information', 'dealership', 'downhill', 'ridiculously', 'questions', 'talked', 'meet', 'uncle', 'funeral', 'podium', 'chinese', 'wtf', 'skip', 'article', 'arizona', 'republic', 'milkshake', 'equals', 'horrible', 'longer', 'carries', 'value', 'mcdonald', 'j', 'waste', 'purely', 'adam', 'recommendation', 'homie', 'tend', 'bullshit', 'feels', 'stuffy', 'outdoor', 'main', 'easily', 'martinis', 'chewy', 'meatballs', 'carbonara', 'highly', 'camper', 'brunch', '4\\\\/5', 'previous', 'stylists', 'prompted', 'warning', 'haircuts', 'base', 'skull', 'burned', 'shame', 'concluded', 'shitty', 'redeemed', 'anywho', 'decides', 'warned', 'scalp', 'burns', 'eve', '7:30', 'reservation', 'advertising', '29', 'pay', 'wristband', 'proceed', 'bartenders', 'irritated', 'manager', 'tells', 'advertise', 'nye', 'slipped', 'vomit', 'classy', 'nail', 'polish', 'tee', 'bat', 'bikini', 'w', 'teens', 'skirt', 'holding', 'cocktails', 'rap', 'memorable', 'outing', 'frites', 'assortment', 'chefs', 'ketchup', 'curried', 'cauliflower', 'complain', 'rich', 'twists', 'steak', 'featuring', 'chimichurri', 'western', 'european', 'throwback', '90s', 'motif', 'oz', 'indulge', 'delightful', 'designed', 'travis', 'punch', 'blew', 'gin', 'absolute', 'appear', 'courtesy', 'retro', 'themes', 'seemingly', 'certainly', 'relive', 'blast', '0', 'bureau', 'liars', 'spoke', 'stanley', 'june', 'boston', 'informed', 'delivered', 'cross', 'adjust', 'initial', '19th', '20th', 'july', 'earlier', 'receive', 'contact', 'beforehand', 'storage', 'remind', 'flew', 'response', 'consecutive', 'emailed', 'hold', 'informs', 'renting', 'apartment', 'boss', 'frustrated', 'office', 'apparently', 'goes', 'proceeds', 'contract', 'movers', '21st', 'stated', 'fault', '.no', 'hence', 'keeps', 'arguing', 'insane', 'proper', 'shampoo', 'instantly', 'replies', 'sleeping', 'peace', 'piece', 'ish', 'heated', 'argument', 'forth', 'leading', 'denying', 'responsibility', 'mess', 'stating', 'tape', 'kicker', '..i', 'scheduled', 'ship', 'pulled', 'hire', 'charging', 'true', 'bbb', 'divey', 'prepare', 'ultimate', 'bartender', 'blind', 'irish', 'themed', 'crock', 'pots', 'trays', 'hearts', 'content', 'pistachio', 'fluff', 'angel', 'bits', 'cheery', 'seek', 'cheeses', 'creative', 'laid', 'basic', 'confession', 'occasionally', 'syndrome', 'café', 'cafe', 'depth', 'flavour', 'spinach', 'quiche', 'silky', 'display', 'leisurely', 'montreal', 'coworkers', 'vip', 'teppanyaki', 'rarely', 'cooking', 'freshness', 'jerk', 'yelled', 'pinball', 'owners', 'rare', 'valuable', 'games', 'machine', 'case', 'hall', 'fame', 'machines', 'plastic', 'buttons', 'legs', 'bull', 'moron', 'lied', 'arms', 'exiting', 'dropping', 'video', 'sorta', 'harm', 'caused', 'bumper', 'gate', 'jammed', 'particular', 'degrees', 'matters', 'em', 'played', 'slap', 'mr.', 'tim', 'arnold', 'participation', 'operation', 'maintenance', 'collecting', 'bob', 'slightest', 'wants', 'assume', 'difficult', 'task', 'poor', 'followed', 'continuing', 'desire', 'flip', 'salvation', 'army', 'refusing', 'volunteers', 'repaired', 'invest', 'pig', 'lie', 'satisfy', 'grew', 'dinners', 'copious', 'amounts', 'individual', 'version', 'largely', 'representative', 'south', 'form', 'hearty', 'slabs', 'ribs', 'crave', 'therefore', 'immense', 'experienced', 'strolling', 'willy', 'housed', 'brick', 'walls', 'medley', 'expected', 'slab', 'heavens', 'layer', 'marks', 'drown', 'rub', 'method', 'completely', 'sugary', 'applaud', 'depend', 'technique', 'sweetness', 'emphasis', 'grilling', 'latter', 'greater', 'resulting', 'smoke', 'simply', 'via', 'pit', 'masters', 'seeking', 'ordinary', 'thunder', 'bachelorette', 'thrilled', 'enjoyment', 'ahead', 'advance', 'extremely', 'ticket', 'sales', 'placed', 'directly', 'stairs', 'men', 'dance', 'saying', 'adorable', 'ladies', 'cheering', 'screaming', 'drew', 'attention', 'complaining', 'cheer', 'recovering', 'lap', 'fiance', 'mc', 'playful', 'touched', 'song', 'record', 'lack', 'fairly', 'mothers', 'nudity', 'silly', 'loose', 'cheeseburger', 'online', 'cars', 'forced', 'metro', 'finger', 'finishing', 'slammed', 'training', 'reports', 'welcome', 'neighborhood', 'picked', 'sa', 'bowl', 'tab', 'spicier', 'mood', 'smokey', '21+', 'thats', 'river', 'pockets', 'cuz', 'fool', 'gelato', 'paradise', 'array', 'mouthwatering', 'decadent', 'wildly', 'captured', 'tastebuds', 'savor', 'pleasure', 'di', 'milky', 'mozzarella', 'cow', 'luscious', 'basil', 'icy', 'refreshing', 'scorching', 'nutty', 'chai', 'outrageous', 'palates', 'yup', 'unheard', 'finding', 'dreamy', 'goddess', 'quotes', 'companies', 'yard', 'backyard', 'vision', 'spa', 'waterfalls', 'turf', 'flowers', 'rocks', 'trees', '3d', 'computer', 'allows', 'completed', 'detail', 'knowledgeable', 'george', 'code', 'inspection', 'timely', 'manner', 'nursery', 'landscaping', 'doug', 'jets', 'properly', 'budget', 'cleaned', 'messes', 'damages', 'decision', 'choosing', 'pools', 'presence', 'total', 'pet', 'region', 'kay', 'pleasantly', 'surprised', 'similar', 'staggering', 'rabbit', 'curiosity', 'sale', 'roughly', 'age', 'colossal', 'eyebrows', 'lifted', 'bunnies', 'giggling', 'turning', 'whose', 'forgotten', 'bunny', 'ahem', 'rivals', 'consider', 'wash', 'clinics', 'pets', 'tuesdays', 'smoothies', 'nuff', 'ms.', 'legend', 'kyle', 'classic', 'champion', 'hide', 'earth', 'nicest', 'athletic', 'sahara', 'supplements', 'accessories', '32', 'ounces', 'whites', 'scoops', 'crushed', 'espresso', 'salivating', 'bottom', 'butt', 'workout', '38', 'club', 'denny', 'hefty', 'out-of-town', 'brightly', 'venue', 'tons', 'videos', 'repeat', 'grabbed', 'fire', 'promptly', 'sticks', 'normal', 'scorpion', 'inclined', 'diabetes', 'fueled', 'coma', 'insanely', 'novelty', 'ordering', 'velvet', 'couches', 'kidding', 'critical', 'putting', 'member', 'appearing', 'comfy', 'booked', 'charlie', 'presents', 'ups', 'married', 'clearance', 'sucked', 'flame', 'costumes', 'edc', 'racing', 'questioned', 'lower', 'navigating', 'register', 'katie', 'judge', '16th', 'ghost', 'indicated', 'replace', 'flooring', 'tomorrow', 'taken', 'standard', 'wolfgang', 'apparent', 'servers', 'specially', 'waters', 'complimentary', 'focaccia', 'mesquite', 'skewers', '17', 'medium', 'combination', 'a1', 'morsels', 'kale', 'yukon', 'rosemary', 'jus', '28', 'spaghetti', 'entree', 'fluffy', 'panko', 'crumbs', 'satisfying', 'needed', 'troubles', 'comped', 'appetizers', 'consistency', 'annual', 'lend', 'primarily', 'mediocre', 'poses', 'issues', 'proved', 'ultimately', 'grabbing', 'smeared', 'paris', 'moons', 'marinara', 'yummylicious', 'types', 'answer', 'establishments', 'categories', 'vermont', 'sets', 'apart', 'peers', 'none', 'particularly', 'realize', 'neatly', 'hung', 'concoctions', 'colorful', 'chalk', 'neat', 'awesomeness', 'i.e', 'l', 'stickers', 'popular', 'ranging', 'beatles', 'dave', 'behold', 'typically', 'welcoming', 'quirky', 'prompt', 'nugget', 'fields', 'mindful', 'birds', 'poop', 'wherever', 'yelling', 'stepped', '.you', 'connect', 'dots', 'overcome', 'adored', 'stylist', 'hometown', 'atlanta', 'lengths', 'vote', 'architecture', 'radio', 'moderate', 'clips', 'coast', 'attracts', 'mostly', 'prefer', 'identical', 'strangers', 'pleased', 'theatre', 'row', 'puffy', 'popularity', 'major', 'allowed', 'recline', 'popcorn', 'popped', 'premises', 'theaters', 'holders', 'periodically', 'movies', 'pricing', 'cancelling', 'denied', 'understandable', 'model', 'venture', 'parent', 'prior', 'reverse', 'factory', 'meeting', 'bummed', 'square', 'lollipops', 'tags', 'spending', 'spins', 'genuine', 'pushy', 'apps', 'merchandise', \"s'mores\", 'martini', 'alright', 'buzz', 'reese', 'garbage', 'substituted', 'vinaigrette', 'ranch', 'cucumbers', 'croutons', 'bummer', 'worked', 'ripe', 'avocados', 'key', 'hh', 'fridays', 'depending', 'runs', 'mon', 'fri', 'bogo', 'pizzas', 'reception', 'signal', 'boasts', 'trick', 'philly', 'veal', 'yonge', 'cater', 'estate', 'occupied', 'ontario', 'government', 'allegedly', 'audience', 'outpost', 'veg', 'dressings', 'nutritional', 'declined', 'hortons', 'mcdonalds', 'effort', 'profit', 'cobb', 'costs', 'blood', 'pressure', 'disorganized', 'prospective', 'mill', 'brave', 'request', 'repeatedly', 'exchange', 'tuna', 'trained', 'tradition', 'beating', 'ground', 'arrives', 'noodle', 'meaning', 'wilted', 'greens', 'drowning', 'vomiting', 'stale', 'insult', 'injury', 'fold', 'falls', 'benefits', 'mediocrity', 'squares', 'unseasoned', 'siam', 'plopped', 'gummy', 'similarly', 'naked', 'includes', 'screw', 'banh', 'mi', 'smaller', 'damned', 'originally', 'launch', 'whim', 'browsing', 'doors', 'january', 'gold', 'simplicity', 'omelets', '7am', 'peppered', 'jam', 'impact', 'learned', 'tolerate', 'ways', 'gas', 'thus', 'matter', 'eggslut', 'crumb', 'cosmopolitan', 'drooling', 'firm', 'gaucho', 'surrounding', 'vendors', 'dine', 'wan', 'production', 'nation', 'pull', 'greyhound', 'bus', 'terminal', 'horny', 'pudding', 'lychee', 'jelly', 'improve', 'sizes', 'bubble', 'pittsburgh', 'thousand', 'significantly', 'burgh', 'bubbles', 'tapioca', 'rubber', 'tasteless', 'attendant', 'burrito', 'bell', 'drenched', 'gross', 'crappy', 'begun', 'wonder', 'standards', 'dumb', 'christmas', 'exact', 'jacket', 'chilly', 'winter', 'fortunately', 'coat', 'shockingly', 'flown', '56', 'anyways', 'slamming', 'slapped', 'shotgun', 'brews', '18', 'encore', 'beach', 'diabetic', 'blacked', 'security', 'intoxicated', 'assure', 'kicked', 'que', 'wasted', 'ribbon', 'departed', 'grandmother', 'hits', 'iron', 'skillet', 'transplant', 'southeast', 'snob', 'continually', 'amazed', 'fowl', 'mississippi', 'joining', 'navy', 'moving', 'san', 'diego', 'roadside', 'diner', 'decades', 'pepsi', 'co.', 'bone-in', 'yuck', 'scene', 'chagrin', 'fallen', 'evil', 'mount', 'charleston', 'laughing', 'watches', 'thighs', 'regional', 'stumbled', 'kfc', 'disguise', 'intrigued', 'thigh', 'beautifully', 'connoisseur', 'cancelled', 'starts', 'well-seasoned', 'doused', 'slip', 'fryer', 'collard', 'georgia', 'brew', 'nascar', 'race', 'chemicals', 'serves', 'raising', 'final', 'analysis', 'determined', 'justin', 'wilson', 'finds', 'target', 'referred', 'dr.', 'brilliant', 'clinic', 'admittedly', 'recording', 'referral', 'laser', 'removal', 'latest', 'nurse', 'reassuring', 'graduate', 'shooting', 'crotch', 'cereal', 'chile', 'parade', 'margaritas', 'shots', 'tequila', 'bean', 'tostada', 'tamale', 'marry', 'goat', 'gay', '9:30', 'pampered', 'list', 'restrooms', 'upfront', 'styles', 'nose', 'gooey', 'gluttony', 'rim', 'bloated', 'finished', 'quicker', 'negative', 'page', 'sewage', 'leak', 'figured', 'attest', 'nightmare', 'gents', 'numbers', 'answers', 'dept', 'lucky', 'lawsuit', 'filed', 'apology', 'ripping', 'balls', 'cigarettes', 'grand', 'cursed', 'initially', 'theory', 'weekly', 'objective', 'bait', 'whichever', 'happens', 'headquarters', 'operating', 'law', 'disclaimer', 'struggle', 'mortgage', 'freddy', 'couples', 'lead', 'master', 'michigan', 'march', 'madness', 'born', 'horse', 'derby', 'mist', 'engaged', 'verbal', 'apt', 'flustered', 'stair', 'dealing', 'elementary', 'rules', 'expects', 'follow', 'assholes', 'guaranteed', 'angelo', 'voice', 'stays', 'ole', 'magician', 'tricks', 'disappear', 'witness', 'protection', 'cooper', 'vibrant', 'dull', 'translates', 'churches', '42', 'retired', 'stadium', 'baseball', '69', '85', 'elevator', 'agreement', 'rock', 'paper', 'scissors', 'misplaced', 'paint', 'hideous', 'asshole', 'ugly', 'sin', 'throws', 'decorating', 'weak', 'bum', 'win', '400', 'owe', 'lawyer', 'fees', 'pr', 'squat', 'leg', 'conclusion', 'wild', 'ride', 'body', 'disgruntled', 'gallons', 'recipe', 'toss', 'post', 'access', 'sights', 'smells', 'cost', 'beat', 'greedy', 'customize', 'memorial', 'transition', 'gathered', 'disappointment', 'unsatisfied', 'macaroons', 'tarts', 'flan', 'shooter', 'minus', 'grill', 'glam', 'sofas', 'english', 'deco', 'chandeliers', 'dimly', 'candles', 'meets', 'crystal', 'lamps', 'linens', 'picks', 'breath', 'background', 'dress', 'impress', 'tucked', 'cellar', 'section', 'roomy', 'celebrating', 'kate', 'libations', 'featured', 'sweeter', 'pear', 'grapefruit', 'ginger', 'copper', 'seasons', 'starters', 'charcuterie', 'nom', 'lavender', 'manchego', 'dried', 'prosciutto', 'berry', 'calamari', 'battered', 'wedges', 'surf', 'sounded', 'mouth-watering', 'hmmm', 'halibut', 'bass', 'scallops', 'risotto', 'ravioli', 'decisions', 'elegantly', 'rushed', 'liking', 'sommelier', 'cabernet', 'appropriate', 'ginormous', 'sniff', 'swirl', 'appreciated', 'gourmet', 'shortcake', 'fired', 'toast', 'alley', 'bj', 'eventually', 'basis', 'obnoxious', 'tourists', 'jerks', 'acting', 'fools', 'idiots', 'apologize', 'hardly', 'present', 'minimum', 'sundae', 'meant', '4-6', 'foodie', 'yay', 'frat', 'changing', 'child', 'useless', 'isnt', 'depot', 'bath', 'laughed', 'generation', 'tank', 'curls', 'guns', 'rival', 'magically', 'cruising', 'broke', 'rule', 'placement', 'nervous', 'lose', 'church', 'manage', 'soothing', 'tunes', 'bless', 'fajitas', 'enchiladas', 'stress', 'eater', 'fight', 'nap', 'bellagio', 'kobe', 'trouble', 'bored', 'cards', 'spectacular', 'cirque', 'du', 'soleil', 'acrobatic', 'extraordinary', 'perform', 'human', 'skill', 'performance', 'visual', 'performers', 'corners', 'artistic', 'fog', 'effects', 'songs', 'theme', 'kudos', 'deserve', 'lean', 'acted', 'attend', 'technical', 'scenes', 'lighting', 'admission', 'displayed', 'backdrop', 'ops', 'performing', 'mirage', 'dodge', '600', 'silver', 'fascinated', 'greek', 'victoria', 'panties', '.i', 'entered', 'exist', 'accounts', 'staple', 'staying', 'feature', 'bathtub', 'platinum', '12th', 'televisions', 'newspapers', 'deserts', 'shifts', '6am', '5:30pm', 'whenever', 'assistance', 'concert', 'marriott', 'defalco', 'il', 'pungent', 'peppers', 'overload', 'distinct', 'cannoli', 'trips', 'meatball', 'parm', 'taylor', 'grandpa', 'cancer', 'dingy', 'depressing', 'bowling', 'hamburger', 'patty', 'forgetting', 'getaway', 'anniversary', 'example', 'rented', 'suite', 'glamorous', 'york', 'studio', 'tub', 'sofa', 'uno', 'lobby', 'seamless', 'cheers', 'p', 'conscious', '25th', 'ave', 'plaza', 'lee', '9pm', 'island', 'variation', 'effect', 'onto', 'dancing', 'jams', 'release', 'energy', 'spotted', 'floral', 'funky', 'britney', 'spears', 'perry', 'r', '2am', 'strongly', 'pretentious', 'burst', '3.5', 'weekday', '30+', 'stool', 'scattered', 'seasonal', 'push', 'dressed', 'grains', 'rocket', 'sprouts', 'beets', 'almonds', 'toronto', 'goods', 'compared', '3.5\\\\/5', 'smoker', 'dunno', 'mayo', 'mushroom', 'puddle', 'savoury', 'heavy', 'handed', 'vegans', 'vegetarians', 'patient', 'knots', 'stayed', 'nine', 'hunger', 'convenience', 'impressions', 'greeting', 'screen', 'vast', 'turkey', 'nickel', 'dime', 'etc.', 'satisfied', 'reply', 'serious', 'sh*t', 'hat', 'wear', 'menus', 'waitresses', 'mock', 'hilarious', 'showing', 'thong', 'poured', 'watered', 'par', 'trucks', 'mortar', 'chinatown', 'artwork', 'digital', 'cramped', 'jazz', 'test', 'composition', 'soaked', 'poutine', 'curds', 'um', 'loyal', 'timing', 'formerly', 'aloha', 'shaka', 'meter', '\\\\uuu\\\\/', 'jamie', 'cher', 'caesar', 'palace', 'ounce', 'drunken', 'suddenly', 'celine', 'dion', 'avoided', 'alas', 'system', 'fountains', 'patiently', 'fifteen', 'singing', 'tribute', 'usa', 'policies', 'financial', 'range', 'motion', 'shooters', 'shoot', 'upwards', 'send', '250', 'gee', 'selling', 'snap', 'lasts', 'thirty', 'sirens', '\\\\/\\\\/www.youtube.com\\\\/watch', 'generally', '702', 'shade', 'gimmick', 'public', 'a-ok', 'puke', 'exorbitant', 'rio', 'crawfish', 'oysters', 'snow', 'caesars', 'strictly', 'sick', 'promotion', 'ill', 'email', 'poisoning', 'replied', 'risk', 'investigation', 'pipes', 'trash', 'organize', 'carts', 'isle', 'leaning', 'frys', 'competitor', 'promotional', 'emails', 'gadgets', 'swear', 'landed', 'electronics', 'bikes', 'books', 'match', 'saving', 'cha', 'fortunate', 'dislike', 'casinos', 'require', 'validated', 'brewery', 'scampi', 'hawaiian', 'fare', 'airy', 'victorian', 'readily', 'refilling', 'clearing', 'nearing', 'fond', 'bands', 'contemporary', 'bandwagon', 'flames', 'cupcakes', 'officially', 'exit', 'cabin', 'cupcake', 'frosting', 'dose', 'capture', 'rundown', 'cheeks', 'calories', 'butterscotch', 'dense', 'hershey', 'kiss', 'duh', 'mother-in-law', 'lemonade', 'tart', 'scrape', 'complemented', 'ego', 'eats', 'rushing', 'freeze', 'addictive', 'described', 'shabby', 'devil', 'graham', 'cracker', 'raves', 'sans', 'rug', 'rats', 'boring', 'favor', 'argue', 'contain', 'sprinkled', 'spoon', 'judging', 'temper', 'urine', 'min', 'ran', 'sir', 'gps', 'guidance', 'traffic', 'ny', 'pgh', 'zen', 'superior', 'bamboo', 'shoots', 'katsu', 'mark', 'heinz', 'steelers', 'parked', 'giants', 'mike', 'majority', 'joked', 'wondered', 'build', 'kraft', 'robert', 'compare', 'pathetic', 'session', 'credit', 'cop', 'attitude', 'topping', 'lastly', 'channel', 'stalls', 'virtually', 'crusty', 'safer', 'shield', 'granted', 'cleaner', 'theater', 'film', 'boo', 'reflected', '3.00', 'accepts', 'couch', 'cult', 'films', 'escape', 'screening', 'foreign', 'flick', 'phew', 'stealing', 'stole', 'robes', 'paranoid', 'cart', 'cameras', 'hallway', 'swipe', 'towels', 'accent', 'complement', 'layout', 'postino', 'pains', 'kierland', 'superb', 'bestie', 'impromptu', 'arcadia', 'bruschetta', 'sweaty', 'blonde', 'stir', 'lively', 'upbeat', 'opens', 'commons', 'showered', 'nonetheless', 'newly', 'inches', 'weigh', 'pointed', 'apologized', 'awaiting', 'twenty', 'scenario', 'place..', 'ten', 'female', 'grabs', 'retrieve', 'sunshine', 'ta', 'allergic', 'cashews', 'nut', 'cashew', 'allergy', 'hospital', 'scan', 'remotely', 'discuss', 'kinks', 'ingredient', 'projects', 'yeast', 'nick', 'pinch', 'extreme', 'papa', 'roman', 'groove', 'kosher', 'tapes', '110', 'truck', 'somewhere', 'freeway', 'insisting', 'consideration', 'carne', 'wednesdays', 'barbacoa', 'beefy', 'lengua', 'carnitas', 'salsas', 'literal', 'storefront', 'availability', 'maintained', 'trails', 'improvements', 'residential', 'existence', 'interest', 'natural', 'tunnel', 'hikes', 'national', 'healthcare', 'bleed', 'death', 'billing', 'doctors', 'listening', 'boyfriend', 'infection', 'causing', 'severe', 'primary', 'doc', 'exposure', 'symptoms', 'science', 'consultation', 'err', 'effective', 'medicine', 'dying', 'hoagie', 'answered', 'discovered', 'accept', 'rang', 'ringing', 'separately', 'truthfully', 'container', 'indeed', 'wet', 'burnt', 'situated', 'route', '130', '\\\\/', 'st', 'schedule', 'centennial', '5-10', 'coolers', 'bookmark', 'secluded', 'centrally', 'smiling', 'specialties', 'trusted', 'provided', 'recommendations', 'watermelon', 'mimosa', 'lumpia', 'babies', 'parties', 'consist', 'zucchini', 'kick', 'peep', 'buyer', 'da', 'atop', 'whopping', 'seconds', 'subpar', 'aka', '34', '9.95', 'transfer', '10:30', 'squishy', 'marsala', '13', 'extras', 'overcooked', 'rubbery', 'grave', 'lackluster', 'disaster', 'ziti', 'reminiscent', 'named', 'sink', 'spelled', 'correctly', 'comp', 'peoples', 'disgusting', 'guilty', 'pleasures', 'mistake', 'circumstances', 'pick-up', 'girlfriend', 'inevitable', 'gather', 'crying', 'cause', 'dietary', 'couscous', 'concerns', 'e', 'mcdowell', 'lives', 'poultry', 'herbs', 'roots', 'platters', 'accommodated', 'managed', 'wake', 'shakes', 'hotter', 'hummus', 'flavourful', 'flour', 'pita', 'oily', 'juices', 'powdered', 'tasteful', 'decorated', 'image', 'reviewer', 'uploaded', '2015', 'appearance', 'wooden', 'claustrophobic', 'loo', 'host', 'encouraged', 'paced', 'carrots', 'olives', 'rate', 'someday', 'fatty', 'guessed', '5-star', 'surpassed', 'tight', 'noon', 'hopefully', 'nobody', 'waits', 'reach', 'underneath', 'discovery', 'cougars', 'lmao', 'pee', 'micro', 'hottest', 'whatsoever', 'outfit', 'late-night', 'pitt', 'starving', 'artist', 'billboard', 'radar', 'celebrities', 'celebrity', 'reads', 'score', 'brownie', 'tanned', 'vs', 'orleans', 'internet', 'remarkable', 'pretending', 'raging', 'revisit', 'district', 'bookmarked', 'culture', 'diversity', 'weather', 'summertime', 'bubbling', 'activity', 'hustle', 'bustle', 'areas', 'circling', 'marked', 'tow', 'macaroni', 'brothers', 'steel', 'lotus', 'rated', 'insert', 'bay', 'hankering', 'booze', 'pal', 'ah', 'hangry', 'fuck', 'godfather', 'caprese', 'darn', 'eh', 'opposed', 'practical', 'cone', 'ol', 'upstairs', 'dang', 'monkeys', 'ignored', 'madison', 'merlot', 'heavenly', 'authentically', 'baguette', 'approve', 'canadian', 'accents', 'kensington', 'unassuming', 'lavish', 'dump', 'purpose', 'losing', 'renovation', 'closer', 'spin', 'spitting', 'thingy', 'sheet', 'metal', 'regret', 'tube', 'kill', 'gut', 'cops', 'yells', 'teenagers', 'diarrhea', 'torture', 'fitting', 'lengthy', 'spare', 'spain', 'spanish', 'sol', 'north', 'wedge', 'comprehensive', 'lola', 'tapas', 'urban', 'sophisticated', 'noteworthy', 'highlights', 'prawns', 'asparagus', 'surprising', 'brussel', 'olive', 'teen', 'stylish', 'luxe', 'understated', 'complementary', 'swing', 'dc', 'steered', 'toward', 'fragrant', 'melissa', 'destination', 'se', 'omelette', 'tempura', 'impression', 'benedict', 'plump', 'screamed', 'picking', 'offices', 'direction', 'furniture', 'drive-thru', 'in-house', 'ac', 'carmel', '6.25', 'overpowered', 'explain', 'slipping', 'function', 'senior', 'caught', 'led', 'denim', 'billed', 'floyd', 'uh', 'partake', 'dangerous', 'queen', 'michael', 'jackson', 'sublime', 'tech', 'action', 'occurs', 'tickets', 'jane', 'lucy', 'diamonds', 'inexpensive', 'suppose', 'akin', 'relative', 'rough', 'pushed', 'vicinity', '1,000', 'dad', 'moon', 'circuit', 'father', 'swedish', 'exhibits', 'ramp', 'boba', 'taiwanese', 'kimchi', 'occasions', '5pm', 'interrupting', 'perused', 'input', 'cal', 'convinced', 'suck', 'bear', 'epitome', 'obese', 'gluttonous', 'deadly', 'fear', '36', 'waist', 'sneak', 'fitness', 'trainer', 'cooks', 'goodyear', 'reuben', 'women', 'tipped', 'bust', 'afraid', 'aptly', 'volcano', 'beware', 'mornings', 'goers', 'mob', 'fry', 'pants', 'summary', 'quantities', 'absence', 'sinfully', 'replacing', 'made-to-order', 'pastas', 'wide', 'groceries', 'calzone', 'tortellini', 'herbed', 'mayonnaise', 'hesitant', 'penne', 'ease', 'fettuccini', 'alfredo', 'involved', 'vehicle', 'accident', 'officer', 'leaned', 'wheel', 'tipping', 'buck', 'helping', 'wise', 'boyfriends', 'barber', 'common', 'fade', 'btw', 'identity', 'bald', 'border', 'brands', 'mandalay', 'disappointing', 'kitchens', 'cuisine', 'elevate', 'justify', 'trio', 'mainstream', 'entrée', 'relleno', 'poblano', 'pureed', 'chip', 'condensed', 'oven', 'spoonful', 'vary', '20s', 'convention', 'cigarette', 'indoor', 'los', 'angeles', 'warrant', 'extent', 'rick', 'complexity', 'notable', 'secure', 'partying', '48', 'muffin', 'wheels', 'l.', 'woke', '+1', 'bracelet', 'letting', 'hills', 'darren', \"'re\", 'suburb', 'chiropractor', 'practice', 'sits', 'suburban', 'complex', 'exterior', 'interiors', 'burgatory', 'builds', 'indecisive', 'masterpiece', 'boxes', 'drama', 'takeout', 'requests', 'phoned', 'monster', 'pen', 'bison', 'medium-rare', 'dusted', 'leaf', 'minor', 'error', 'automated', 'grade', 'tests', 'carbon', 'copy', 'verify', 'cabbage', 'dismissed', 'baskets', 'jolly', 'bleeding', 'massive', 'fierce', 'beast', 'delicate', 'dripping', 'ganache', 'customized', 'requesting', 'deep-fried', 'cheddar', 'culinary', 'proving', 'jesus', 'jaded', 'dente', 'whiz', 'stunned', 'tater', 'journey', 'washington', 'primanti', 'franchise', 'opportunities', 'mileage', 'excursion', 'ha', 'crew', 'filipino', 'represent', 'flavored', 'regard', 'pair', 'mains', 'cinnamon', 'loaded', 'truffle', 'advertised', 'plethora', 'meaty', 'vegetal', 'showcase', 'hollandaise', 'vinegar', 'poached', 'yolk', 'filet', 'aggressively', 'evoo', 'sourdough', 'yolks', 'richness', 'blends', 'garnish', 'wednesday', 'industry', 'rotating', 'bottomless', 'guava', 'hyped', 'chill', 'neighbors', 'tenant', 'stories', 'tho', 'cosmo', \"n't\", 'plum', 'wraps', 'moo', 'hong', 'stronger', 'biggest', 'pad', 'kai', 'thailand', 'spring', 'fuku', 'indulging', 'experiences', 'simplest', 'authenticity', 'fits', 'tamago', 'strings', 'glaze', 'teriyaki', 'furikake', 'edgy', 'senses', 'impeccable', 'channels', 'monopoly', 'jenga', 'ideas', 'rd', 'appetizer', 'tummy', '3rd', 'it..', 'amenities', 'lease', 'closet', 'stall', 'letter', 'renewed', 'renew', 'suggestion', 'tenants', '4th', 'chasing', 'elephant', 'vacuum', 'musical', 'sliding', '3.', 'zoo', 'hallways', 'scream', 'christ', 'bible', 'cabanas', 'flashlight', 'grills', 'facilities', 'ambience', 'manhattan', 'waiter', 'confronted', 'fluorescent', 'executed', 'verdict', 'issued', 'painted', 'stamp', 'approval', 'suits', 'intricate', 'clipboard', 'showcases', 'commitment', 'flatbreads', 'suspects', 'pretzel', 'seriousness', 'jumbo', 'lump', 'wholesome', 'glutton', 'scrumptious', 'balsamic', 'reduction', 'hovering', 'bumps', 'einstein', 'bros', 'asiago', 'tempe', 'constructive', 'silverware', 'spotty', 'neither', 'rob', 'sampler', 'tikka', 'responded', 'challenged', 'bs', 'confirmed', 'insulted', 'ignorant', 'lying', 'worthless', 'integrity', 'pride', 'execute', 'intelligence', 'chutney', 'false', 'attempting', 'thoughts', 'storyline', 'alive', 'ka', 'speakers', 'fall', 'asleep', 'acrobatics', '200', '11th', 'infested', 'dealt', 'foul', 'creatures', '46', 'employment', 'released', 'jail', 'illegal', 'grove', 'go-to', 'suites', 'mechanical', 'repair', 'refused', 'footage', 'packages', 'bella', 'intersection', 'distance', 'wynn', 'fashion', 'shout', 'exceptional', 'lay', \"y'all\", 'in-n-out', '2008', 'tsa', 'animal', 'additionally', 'dem', 'sunset', 'simultaneously', 'e.', 'historical', 'responsible', 'naming', 'scores', 'education', 'dismal', 'knowledge', 'internal', 'aged', 'bump', 'refreshingly', 'contribute', 'operated', 'crowd', '11pm', '1pm', '5-', 'proverbial', 'ledge', 'deluxe', 'angus', 'amateur', 'competitive', 'boneless', 'ding', 'mainly', 'entertained', 'environment', 'tao', 'bouncers', 'arrested', 'luxurious', 'cell', 'beige', 'hookers', 'ron', 'jeremy', 'quaint', 'tropicana', 'slot', 'guard', 'shirley', 'b.', 'henderson', 'mixing', 'burritos', 'quesadillas', 'elote', 'cob', 'nachos', 'gobbled', 'yeeps', 'es', 'comida', 'lazy', 'directions', 'hamachi', 'munch', 'complimented', 'pairing', 'ahhh', '[', 'anxiety', 'kicking', 'crowds', 'douche', 'heels', 'handicapped', ']', 'kelly', 'setup', 'blows', '26', 'wander', 'dicks', 'apply', 'bang', 'dirty', 'bra', 'drawer', 'checkout', 'focus', 'crabs', 'attack', 'carrying', 'shells', 'powerful', 'jaws', 'species', 'poison', 'catches', 'uses', 'allowing', 'creature', 'sharks', 'striped', 'jellyfish', 'drum', 'rays', 'grow', 'older', 'turtles', 'seal', 'weight', 'everyday', 'adult', 'health', 'younger', 'appealing', 'gentlemen', 'preface', 'picky', 'overwhelmed', 'belong', 'advised', 'vague', 'savoring', 'googled', 'smelled', 'pictured', 'ummm', 'walks', 'thoroughly', 'tlc', 'bone', 'marrow', 'absurd', 'strike', 'comical', 'airplane', 'sweetbreads', 'ipad', 'ipod', 'texting', 'az', 'herbal', 'smoothie', 'heavily', 'laden', 'manning', 'freebies', 'freebie', 'connected', 'affiliated', 'ie', 'midwest', 'poker', 'bud', 'expertly', 'choreographed', 'fermented', 'india', 'china', 'successful', 'malaysian', 'dive', 'navigate', 'chilis', 'cucumber', 'accustomed', 'brushed', 'requested', 'char', 'wok', 'chow', 'lemongrass', 'shallots', 'garnished', 'fiery', 'puts', 'removed', 'lincoln', 'arrival', 'caucasian', 'answering', 'https', 'userid=m9rrm6eo5ybklkmg5qiipa', 'tropical', 'mimosas', 'oranges', 'sipped', 'tottie', 'alternative', 'sparkling', 'increased', 'remains', 'suffering', 'halves', 'intend', 'toaster', 'greets', 'cap', 'blessing', 'karaoke', 'letters', 'caps', 'steer', 'microphone', 'rounds', 'enthusiastic', 'sing', 'painful', 'amc', 'hangout', 'camelback', 'corridor', 'reminded', 'lake', 'touches', 'fixtures', 'rustic', 'reasonably', 'inspired', 'cuisines', 'sesame', 'crusted', 'seaweed', 'carrot', 'daikon', 'run-of-the-mill', 'handled', 'flatbread', 'artichokes', 'arugula', 'chew', 'leafy', 'peppery', 'saltiness', 'woody', 'artichoke', 'contrast', 'buttercream', 'versus', 'crème', 'nostalgic', 'prominent', 'housemade', 'lauren', 'personable', 'talent', 'competitors', 'bueno', 'skipping', 'witnessed', 'prep', 'gloves', 'mistakes', 'silent', 'hunter', 'demeanor', 'snacking', 'breads', 'filler', 'clever', 'oldest', 'data', 'tempting', 'resistance', 'medical', 'remove', 'sensitive', 'pound', 'peeled', 'swell', 'explode', 'batman', 'diverse', 'gluten-free', 'bf', 'fig', 'gorgonzola', 'figs', 'sprinkle', 'notch', 'parmesan', 'lord', 'herb', 'feta', 'acknowledged', 'frustrating', 'clock', \"o'clock\", 'dock', 'polite', 'arteries', 'pecan', 'exaggeration', 'stages', 'clue', 'transit', 'foyer', 'sonoma', 'ceremony', 'unused', 'worship', 'julia', 'sprite', 'role', 'trusty', 'elaborate', 'artistry', 'sliver', 'mass', 'crashed', 'gates', 'behalf', 'ii', 'arancini', 'sneaking', 'syrupy', 'partially', 'whispering', 'ears', 'iii', 'romaine', 'dijon', 'calming', 'preparing', 'iv', 'tower', 'climb', 'crabmeat', 'strive', 'fruits', 'united', 'supple', 'proteins', 'extravagant', 'triangles', 'v', 'study', 'hog', 'quail', 'parma', 'stout', 'granny', 'smith', 'apples', 'tenderloin', 'sherry', 'cranberry', 'encounter', 'approaching', 'grits', 'addicted', 'ranks', 'bourdain', 'obsession', 'ventured', 'deeper', 'elegant', 'miniature', 'reminding', 'eternity', 'opulent', 'mignon', 'deconstructed', 'expanding', 'circle', 'descent', 'festive', 'void', 'departure', 'grille', 'proven', 'kevin', 'bulk', 'reviewing', 'des', 'term', 'exists', 'recognize', 'chunk', 'decadence', 'drawn', 'mousse', 'peach', 'converted', 'dismay', 'skipped', 'collect', 'bragging', 'rights', 'acknowledgement', 'downfall', 'updating', 'painting', 'concierge', 'oatmeal', 'crackers', 'southwest', 'norm', 'terri', 'centre', 'lucked', 'tam', 'australian', 'sorbets', 'passion', 'pandan', 'gosh', 'vacation', 'rhubarb', 'fragrance', 'sincerely', 'happiness', 'linq', 'cheeseburgers', 'francisco', 'inflated', 'shack', 'castle', 'required', 'jobs', 'department', 'inventive', 'greg', 'clothes', 'polo', 'shirts', 'shoe', 'mustache', 'piano', 'acid', 'parlor', 'approximately', 'welcomed', 'well-lit', 'earned', 'barely', 'gossiping', 'cooler', 'perch', 'observe', 'ethnic', 'stark', 'interrupt', 'rack', 'convo', 'suspect', 'john', 'canned', 'attached', 'stands', 'dedicated', 'strips', 'versions', 'string', 'sampling', 'condiment', 'malt', 'utensils', 'washing', 'tossing', 'bleu', 'barbeque', 'spun', 'facebook', 'fiancé', 'u', 'sanitizer', 'germs', 'names', 'dont', 'aint', 'explore', 'sock', 'massage', 'diy', 'theres', '10am', 'teach', 'safety', 'monitor', 'climbing', 'toddlers', 'foam', 'protected', 'hurt', 'committed', 'summers', 'staycation', 'hop', 'produced', 'patron', 'closes', 'deter', 'ipa', 'hoppy', 'swiftly', 'browse', 'paired', 'tad', 'apprehensive', 'turnaround', 'sourced', 'fed', 'relaxing', 'panda', 'del', 'drive-ins', 'dives', 'opposite', 'slimy', 'jose', 'andres', 'consume', 'knife', 'thinks', 'avid', 'consumer', 'bearing', 'dug', 'million', 'spreads', 'intimate', 'visually', 'goodies', 'rib-eye', 'magnificent', 'devour', 'tenderness', 'factor', 'intentionally', 'tackle', 'knives', 'blade', '6-7', 'seedy', '3am', 'clients', 'preserved', 'chopsticks', 'sauced', 'fork', 'fourth', 'singapore', 'sport', 'gyms', 'backs', 'cycle', \"'bout\", 'lines', 'slut', 'fairfax', 'scrambled', 'trek', 'beaten', 'anytime', 'huntersville', 'attempted', 'treadmills', 'overlook', 'mistaken', 'unisex', 'aspects', 'nc', 'countries', 'detour', 'ian', 'tempted', 'supported', 'follow-up', 'hourly', 'improved', 'vehicles', 'eastern', 'participating', 'organization', 'discounts', 'application', 'expired', 'applied', 'reduced', 'transport', 'hardwood', 'hwy', 'resulted', 'explained', 'file', 'pattern', 'waived', 'appreciative', 'compassion', 'reduce', 'rates', 'disappoint', 'dinosaurs', 'adjoining', 'specifically', 'van', 'exhibit', 'swept', 'aesthetic', 'educational', 'yoga', '3pm', 'weekdays', 'thursdays', 'sites', 'severely', 'lactose', 'intolerant', 'flavoured', 'praying', 'porcelain', 'wares', 'packing', 'pills', 'flavours', 'violence', 'bound', 'sooo', 'snicker', 'fudge', 'enjoys', 'illusion', 'landmark', 'mel', 'c.', 'established', 'glow', 'welcomes', 'daniel', 'whoa', 'boost', 'canvas', 'mexico', 'refrigerator', 'coca', 'cola', '3-6', 'delectable', 'brussels', 'sprout', 'triple', 'syrup', 'beet', 'buttery', 'churro', 'train', 'carousel', 'et', 'cetera', 'trout', 'galore', 'walkways', 'breeze', 'mccarran', 'premium', 'california', '808', 'mega', 'vans', 'fret', 'queens', 'taxi', 'durango', 'wifey', '8.95', '8.50', 'wowed', 'constant', 'bothered', 'havent', '2014', '365', 'hockey', 'spoiled', 'surrounded', 'thankful', 'humor', 't-mobile', 'screams', 'fixe', 'waiters', 'ins', 'outs', 'wines', 'pinot', 'noir', 'chilean', 'rockin', 'louis', 'nailed', 'whoever', 'melt', 'supreme', 'gentleman', 'f', 'miracle', 'vendor', 'duty', 'skills', 'greatness', 'taped', 'pitcher', 'neutral', 'fajita', 'flaming', 'take-out', 'artsy', 'roosevelt', 'cafes', 'jackfruit', 'staples', 'sliders', 'colleague', 'brush', 'pitas', 'press', 'panini', 'iceberg', 'desperate', 'cosmetic', 'forehead', 'lotion', 'pronounce', 'oils', 'therapy', 'treatment', 'intimidated', 'gim', 'spine', 'valet', 'narrow', 'visa', 'dallas', 'gta', 'northern', 'brampton', 'sparse', 'focused', 'mushy', 'stunning', 'nordstrom', 'seattle', 'pals', 'killing', 'summit', 'racks', 'counters', 'commented', 'noticing', 'boutique', 'kung', 'pao', 'chestnut', 'peanuts', 'embarrassed', 'namesake', 'focal', 'shocking', 'equivalent', 'breast', 'toddler', 'appetites', 'legitimate', 'raise', 'surely', '-the', 'refuses', 'mellow', 'maintain', 'meager', 'president', 'mr', 'headache', 'principle', '-i', 'smart', 'dumbass', 'staffed', 'pronounced', 'anchovies', 'souvlaki', 'cherry', 'tacky', 'pushing', 'stellar', 'standby', 'harley', 'beginning', 'davidson', 'riding', 'boots', 'hd', 'luggage', 'genuinely', 'stinks', 'oj', 'bench', 'werent', 'indulgent', 'tongue', 'citrus', 'ube', 'hail', 'pancake', 'instructed', 'hawaii', 'raved', 'poke', 'shoyu', 'tako', 'loco', 'moco', 'patties', 'gravy', 'kalua', 'winner', 'marinade', 'bento', 'spam', 'cutlet', 'radish', 'mouthful', 'wonton', 'success', 'excel', 'potstickers', 'yakitori', 'maki', 'dragon', 'cracked', 'torn', 'lets', 'haired', 'intention', 'cousins', 'beings', 'americanized', 'swanky', 'destroyed', 'hammered', 'cornish', 'shape', 'thankfully', 'shine', 'flesh', 'muddy', 'drizzle', 'ear', 'palm', 'labels', 'canyon', 'bonnie', 'cranberries', 'voted', 'trailhead', 'offerings', 'vaguely', 'researching', 'bike', 'paprika', 'meh', 'pastries', 'anti', 'hipster', 'nerd', 'novice', 'moderately', 'properties', 'research', 'helmet', 'tires', 'stink', 'faster', 'alarm', 'glory', 'visitor', 'lined', 'studios', 'grounds', 'wedding', 'fireworks', 'net', 'angels', 'overhead', 'cocaine', '80s', 'vintage', 'signage', 'jukebox', 'plot', 'excuse', 'broadway', 'designers', 'accolades', 'relief', 'german', 'wacky', 'dennis', 'troy', 'monstrous', 'freak', 'jacks', 'cruise', 'barbie', 'doll', 'steroids', 'spectacle', 'password', 'laptop', 'routine', 'nightclub', 'surrender', 'rolling', 'herd', 'confusion', 'delay', 'condescending', 'minimal', 'gaudy', 'enclosed', 'structure', 'court', 'ideal', 'wellington', 'speech', 'accurately', 'sticking', 'plastered', 'unhealthy', 'mandatory', 'gowns', 'nurses', 'summed', 'lard', 'excessively', 'sensation', 'lasting', 'aftertaste', 'novel', 'disturbed', 'unethical', 'pretend', 'providing', 'necessary', 'decidedly', 'warn', 'epic', 'youtube', 'ranges', 'smiles', 'hooked', 'bridal', 'hospitality', 'reviewed', 'bolognese', 'laughter', '―', 'chandler', '2003', 'st.', 'patrick', 'guinness', 'funk', 'houses', 'cigar', 'marijuana', 'shepherd', 'cottage', 'minced', 'rage', 'bangers', 'noted', 'marc', 'm.', 'flash', 'nathan', 'dire', '10pm', 'puck', '11:30am', 'multitude', 'maple', 'rigatoni', 'parsley', 'flaw', 'assistant', 'uhh', 'depends', 'brunches', 'tire', 'shenanigans', 'costco', 'aaa', 'rescue', 'language', 'personalities', 'abound', 'mentally', 'stare', 'thru', 'visible', 'damage', 'nada', 'button', 'marie', 'champ', 'affected', 'inquire', 'ford', 'whomever', 'valve', 'stem', 'penny', 'liberal', 'conservative', 'commercial', 'harris', 'teeter', 'reached', 'intact', 'development', 'discussion', 'dynamic', 'farmers', 'markets', 'progressive', 'promote', 'unwind', 'royal', 'obscure', 'approach', 'anticipating', 'solely', 'hundred', 'practically', 'camping', 'disneyland', 'resort', 'blankets', 'attraction', 'forum', 'recorded', 'pirate', '5*', 'wiping', 'croissant', 'stressful', 'titanic', 'hating', 'upload', 'eat24', 'croissants', 'brûlée', 'pies', 'piping', 'tore', 'caramelized', 'shattered', 'flaky', 'layers', 'nirvana', 'drag', 'pump', 'carb', 'homes', 'maintaining', 'restroom', 'updates', 'mats', 'coyote', 'scare', 'animals', 'runner', 'biker', 'walker', 'basketball', 'volleyball', 'tranquil', 'garden', 'pens', 'bushes', 'baths', 'overflowing', 'yardbird', 'steamy', 'bliss', 'southern', '86', 'thyme', '1\\\\/4', 'block', '8\\\\/10', 'duke', 'cider', 'cube', 'drank', 'scotch', 'waaaay', 'letdown', 'bothering', 'rave', 'jalapeño', 'passes', 'waistline', 'dreamed', 'travels', 'pea', 'lists', 'macaron', 'delight', 'combining', 'matcha', 'yonaka', 'plating', 'influence', 'provides', 'tots', 'web', 'privacy', 'wireless', '1.', 'fast-food', 'bookmarks', 'tricky', 'brewing', 'thirsty', 'doggy', 'timer', 'plasma', 'network', 'dined', 'ivy', '8:30pm', 'cougar', 'junior', '1\\\\/2', 'noticeably', 'discussing', 'mafia', 'warrants', 'seared', 'mascarpone', 'polenta', 'instinct', 'lighter', 'magic', 'dusting', 'breakfasts', 'shredded', 'cubed', '1\\\\/3', 'diced', '9:30am', 'showroom', 'mattress', 'pre-made', 'beds', 'ann', 'needle', 'twin', 'perk', 'mattresses', 'harder', 'adjustment', 'pillow', 'softer', 'trial', 'donate', 'cuban', 'embarrassing', 'horribly', 'explosion', 'mouths', 'stomachs', 'contents', 'cram', 'makeup', 'nails', 'somebody', '300', 'hook', 'stingy', 'elbows', 'lip', 'mission', 'shawarma', 'crammed', 'foil', 'pb', 'rex', 'bypass', 'peak', 'wins', 'november', 'comprised', 'remained', 'accessible', 'crispiness', 'detected', 'boxed', 'exited', 'hurts', '3x', 'delights', 'fritters', 'adorned', 'creations', 'slim', 'shady', 'ratio', 'fillings', 'substance', 'bursting', 'reaching', 'chaotic', 'correct', 'drives', 'creativity', 'cafeteria', 'largest', '.and', 'servings', 'adobo', 'lechon', 'kare', 'halo', 'scratching', 'surface', 'dine-in', 'guards', 'flakes', 'tax', 'carafe', 'impressively', 'over-the-top', 'ethics', 'timeshare', 'claims', 'deeply', 'involving', 'tactic', 'foolish', 'whining', 'pitch', 'crawl', 'cave', 'agreeing', 'arrangement', 'inconsiderate', 'shoved', 'afford', 'chosen', 'avengers', 'captain', 'upper', 'hulk', 'alot', 'removing', 'geared', 'cases', 'comics', 'comic', 'heroes', 'decently', 'eyebrow', 'comparable', 'loyalty', 'branches', 'tree', 'girly', 'grooming', 'brow', 'jeez', 'fifth', 'groomed', '65', '4.99', 'fixture', 'containers', 'accordingly', 'spell', 'capital', 'sauerkraut', 'antique', 'boulder', 'memorabilia', 'rat', 'dean', 'martin', 'trailer', 'humorous', 'sadness', 'shed', 'tear', 'caring', 'locale', 'genius', 'devices', 'blank', 'hopeful', 'taught', 'restored', 'efficiency', 'mgm', 'eight', '6:30pm', 'pesto', 'soufflé', 'beignets', 'disconnected', 'shaved', 'liar', 'inspect', 'jennifer', 'energetic', 'mesmerizing', 'performer', 'showtime', 'personnel', 'selfie', 'shapes', 'confetti', 'additions', 'backup', 'dancers', 'blocked', 'extended', '2018', 'attractions', 'blvd', 'instructions', 'puzzles', 'clues', 'teller', 'hints', 'ignorance', 'jewelry', 'society', 'industrial', 'purchased', 'engagement', 'abundant', 'crystals', 'abysmal', 'non-existent', 'fulfill', '99', 'canada', 'uninspired', 'tack', 'rear', 'devoted', 'displaying', 'lifestyle', 'stationary', 'chains', 'dissatisfaction', 'attitudes', 'snake', 'awake', 'certified', 'hooker', 'wal-mart', 'danger', 'sends', 'containing', 'purchases', 'lured', 'bathing', 'hunt', 'kombucha', 'fave', 'drinker', 'pumpkin', 'visitors', 'tune', 'significant', 'jean', 'ami', 'gabi', 'brace', 'trend', 'ladder', 'biased', 'palette', 'bitterness', 'sorbet', 'a-okay', 'in-between', 'enjoying', 'concession', 'protect', 'outdoors', 'concrete', 'pigeons', 'freaks', 'devils', 'echo', \"'em\", 'listing', 'lab', 'cactus', 'asu', 'eager', 'chit', 'macchiato', '4.75', 'dash', 'mocha', '4-5', 'inconsistent', 'fence', 'search', 'sweater', 'downright', 'meth', 'instances', 'dentist', 'fewer', 'collective', 'shelves', 'tobacco', 'message', 'wipe', 'incident', 'repeating', 'remark', 'nicer', 'aroma', 'baggage', '9th', 'avoiding', 'faith', 'moves', 'reputation', 'doubled', 'trade', 'fixed', 'gratuity', 'sections', 'caviar', 'wealth', 'flavorless', 'furthermore', 'bleh', 'tobiko', 'ikura', 'appetizing', '39', 'wicked', 'rounded', 'duper', 'amazingly', 'cheesesteak', 'thanksgiving', 'circles', 'asap', 'lvac', 'existing', 'makeover', 'repairs', 'lowest', 'bid', 'mature', 'challenging', 'shown', 'teams', 'tile', 'hardest', 'supervisor', 'suggestions', 'exceeded', 'highest', 'jim', 'cravings', 'smokin', 'exceptionally', 'hitch', 'scary', 'opt', 'happening', 'grub', 'buckets', 'claw', 'pole', 'tempt', 'celery', 'tamales', 'yearly', 'holiday', 'bow', 'ties', 'gifts', 'lindsey', '2007', 'ti', 'godiva', 'ad', 'eric', 'r.', 'attended', 'lesson', 'toro', 'lately', 'purchasing', 'molten', 'raspberry', 'raspberries', 'lonely', 'viewing', 'gained', 'enticing', 'combine', 'charts', 'ultra', 'convert', 'talented', 'females', 'amusement', 'sensory', 'commercials', 'kohl', 'amusing', 'mainland', 'roommate', 'knights', 'coworker', 'wears', 'wore', 'groom', 'policy', 'bellini', 'greet', 'djs', 'pumping', '..and', '-they', 'cried', 'guestlist', 'locker', 'again..', 'rain', 'festival', 'addressed', 'jo', 'bao', 'apparel', 'reviewers', 'festivals', 'represented', 'recycling', 'bins', 'flagged', 'forbid', 'truth', 'julie', 'movement', 'shelf', 'condo', '1am', 'lane', 'chart', 'crime', 'specific', 'spectrum', '2009', 'theft', 'littered', 'wrappers', 'sorts', 'junk', 'strewn', 'unable', 'girlfriends', 'cracking', 'dimmed', 'prayer', 'necessarily', 'possibility', 'souvenir', 'wagon', 'pits', 'fastest', 'track', 'laps', 'paved', 'exploration', 'friendliest', 'berries', 'fungus', 'dew', 'chia', 'weed', 'agave', 'nectar', 'sips', 'mandarin', 'allegiant', 'delays', 'attendants', 'direct', 'flights', 'printed', 'boarding', 'print', '-no', 'reclining', 'plane', 'associated', 'airline', 'bitching', 'surprises', 'archi', 'confidently', 'suffer', 'inconsistency', 'supposedly', 'kee', 'stir-fry', 'phrase', 'splendid', 'slapping', 'disposable', 'towel', 'wth', 'burning', 'fantasy', 'immediate', 'gallery', 'deliciousness', 'blackberry', 'remembering', 'autumn', 'hay', 'exclusive', '2,000', 'ratings', 'rollers', 'pawn', 'washed', 'comb', 'curtain', 'uneven', 'grown', 'shadow', 'chick-fil-a', 'breasts', 'intimidating', 'unexpected', 'moms', 'truffles', 'crudo', 'spite', 'plug', 'waterfront', 'blaze', 'sora', 'resist', 'temptation', 'settle', 'nite', 'inspiration', 'endure', 'queue', 'tension', 'arena', 'washroom', 'tiles', 'etc..', 'oscar', 'mode', 'trashy', 'competing', 'trophy', 'dungeon', 'fest', 'smokers', 'friendship', 'catholic', 'responses', 'easter', 'masses', 'nestled', 'incense', 'hispanic', 'attending', 'lisa', '10\\\\/10', 'oops', 'nope', 'lift', 'weights', 'dangerously', 'swim', 'lanes', 'binge', 'texts', 'cutest', 'bussers', 'knocked', 'unfriendly', 'tartness', 'biscuits', 'terribly', 'troll', 'survival', 'tightly', 'aspect', 'wreck', 'wing', 'county', 'proximity', 'sleazy', 'attract', 'clientele', 'drunks', 'domestic', 'gigantic', 'humongous', 'drafts', 'miller', 'lyrics', 'breaking', 'brains', 'daytime', 'year-old', 'pigs', 'tanning', 'mobile', 'messaged', 'set-up', 'thorough', 'bronze', 'amongst', 'designer', 'gals', 'blush', 'struck', 'mule', 'remaining', '6pm', 'aromatic', 'bells', 'leftover', 'graduation', 'resting', 'smiley', 'regards', 'christine', 'interests', 'agent', 'speed', 'cutting', 'imaginative', 'michelin', 'dare', 'james', 'beard', 'awards', 'supporting', 'relationships', 'corrected', 'fuss', 'excess', 'simpler', 'acidity', 'steakhouse', 'shines', 'certificate', 'standout', 'venison', 'osso', 'bucco', 'elk', 'boar', 'chop', 'albeit', 'pours', 'bravo', 'alaska', 'brie', 'h.', 'nicole', 'cleveland', 'attractive', 'suited', 'minds', 'examples', 'billion', 'displays', 'continuously', 'developed', 'related', 'instruments', 'solar', 'creating', 'chica', '100+', 'cultural', 'ala', 'delivering', 'guided', 'glowing', 'selected', 'exploding', 'tomatillo', 'accented', 'fresco', 'crossing', 'parkway', 'bien', 'redeeming', 'individually', 'failure', 'thanking', 'grateful', 'active', 'traveling', 'introducing', 'vacationing', 'luxor', 'remainder', 'stretches', 'farther', 'rethink', 'entertaining', 'robin', 'memory', 'outgoing', 'consisting', 'napa', 'exquisite', 'cured', 'atlantic', 'porterhouse', 'immensely', 'terry', 'k', 'engage', 'separated', 'behemoth', 'preparation', 'meticulous', 'refilled', 'cleared', 'conversations', 'spike', 'ceo', 'dtlv', 'criticism', 'respect', 'definition', 'tired', 'praise', '.50', 'roulette', 'bedroom', 'courtyard', 'pong', 'cans', 'foot', 'chess', 'jackie', 'renovated', 'squirrel', 'oakland', 'backed', 'highway', 'guarantee', 'marble', 'toilet', 'premise', 'venezia', '10th', 'becomes', 'dd', 'boobs', 'friggin', 'runway', 'gucci', 'papers', 'caliber', 'venice', 'italy', 'tony', 'charm', 'introduced', 'supplied', 'thrive', 'chic', 'closely', 'quote', 'carrier', 'expert', 'nevertheless', 'priority', 'transportation', 'passengers', 'fulfilled', 'float', 'urge', 'splash', 'admire', 'disgusted', 'people-watching', 'enthusiast', 'hopped', 'shallow', 'edges', 'goose', 'hula', 'frustration', 'danish', 'union', 'reaction', 'dozens', 'drill', 'cared', 'crown', 'crisped', 'napkin', 'snail', 'outer', 'anyhow', 'meringue', 'shortbread', 'affair', 'doughy', 'waxed', 'uniform', '44', 'poorly', 'buys', 'attendance', 'fluid', 'nipple', 'nipples', 'erotic', 'costume', 'sexual', 'penis', 'hq', 'incompetent', 'unnecessarily', 'tie', 'origin', 'jetta', 'ditch', 'passenger', 'responding', 'avondale', 'sober', 'police', 'tended', 'anger', 'lush', 'military', 'brass', 'alcoholic', 'throwing', 'status', 'justice', 'student', 'citizen', 'receptionist', 'abundance', 'evidence', 'prints', 'smashed', 'panic', 'instructor', 'solved', 'odds', 'slew', 'notes', 'wardrobe', 'origins', 'incorporate', 'fucked', 'strikes', 'swank', 'halls', 'supplies', 'eyelash', 'indulged', 'vice', 'maid', 'kindly', 'debauchery', 'overlooks', 'behavior', 'thehotel', 'elevators', 'spirits', 'assembly', 'barista', 'tokyo', 'shares', 'overdue', 'famed', 'sudden', 'creates', 'campfire', 'warming', 'default', 'harsh', '4.5\\\\/5', 'artificial', 'doesnt', 'caffeine', 'checks', 'belonged', 'attempts', 'clarify', 'tilted', 'approachable', 'previously', 'coats', 'kim', '12.50', 'poking', 'heritage', 'countless', 'devouring', 'tearing', 'ravenous', 'abandoned', 'tent', 'polished', 'lick', 'trance', 'admitting', 'aesthetics', 'assumed', 'challenges', 'inquired', 'services', 'forms', 'consult', 'rancid', 'introduce', 'treatments', 'physician', 'heal', 'ability', 'procedure', 'facial', '350', 'esthetician', 'cancel', 'squeezed', 'demonstrated', 'beauty', 'absent', '59', 'spas', 'submitted', 'outskirts', 'rehab', 'unit', 'banner', 'assistants', 'pt', 'therapist', 'exercises', 'arby', 'ray', 'rm', 'restaurant.com', 'sustainable', 'practices', 'divine', 'swordfish', 'thumb', 'attempt', 'charger', '120', '22', 'reported', 'turnover', 'report', 'confirm', 'mail', 'info', 'larry', 'yikes', 'cones', 'creams', 'charming', 'weirdest', 'consensus', 'sucks', 'monkey', 'doughnuts', 'lukewarm', 'refuge', 'secrets', 'conference', 'gun', 'cadillac', 'marcus', 'hilton', 'terrace', 'wallpaper', 'carpets', 'bally', 'flying', '4+', 'ideally', 'scratched', 'mold', 'dawn', 'overnight', 'oats', '10+', 'desk', '20+', 'managers', 'shopper', 'afterward', 'keys', 'fluke', 'inspector', 'ellis', 'subjected', '6.99', 'texas', 'applebee', 'pa', 'gorge', '101', 'tennis', 'mph', 'charity', 'handing', 'bakery', 'tail', 'bake', 'loaf', 'cakes', 'restraint', 'halloween', 'faves', 'tissue', 'differently', 'emotionally', 'exhausted', 'meetings', 'mrs.', '79', 'omakase', '105', 'pp', 'whereas', 'uni', 'fin', 'source', 'accompany', '1000', 'vancouver', 'surround', 'slicing', 'courses', 'hokkaido', 'complaints', 'fettuccine', 'threads', '4.25', 'sticker', 'farmer', 'grows', 'loving', 'whiff', 'brows', 'nightly', 'breaks', 'delighted', 'subsequent', 'peeps', 'parmigiana', 'brief', 'travelers', 'alike', 'steering', 'chemical', 'tubs', 'stamps', 'consumed', 'positives', 'unsuspecting', 'cattle', 'rely', 'represents', 'clams', 'surreal', 'ironic', 'bears', 'manual', 'faint', 'companion', 'misty', 'matched', 'glitter', 'counts', 'trader', 'communal', 'feelings', 'bitters', 'lent', 'altered', 'microwaved', 'premade', 'hostesses', 'piercing', 'cough', 'tattoo', '5.00', 'subs', 'bias', 'musicians', 'shoppes', 'pressed', 'tin', 'stove', 'posters', 'combines', 'parisian', 'condiments', 'bingo', 'measured', 'rickie', '90', 'java', 'musician', 'joined', 'brakes', 'peter', 'scored', 'cd', 'lame', 'nickname', 'tabasco', 'lingering', 'bibimbap', 'core', 'eaters', 'comparison', 'milder', 'ur', 'austin', 'carnegie', 'cinnabon', 'fl', 'miami', 'blt', 'nyc', 'bagel', 'lox', 'capers', 'charges', 'masseuse', 'coaching', 'veteran', 'massages', 'perspective', 'curd', 'vaughan', 'mills', 'root', 'cad', '4.50', 'pedestrian', 'craps', 'eleven', 'dot', 'engine', 'specified', 'fifty', 'digs', 'resorts', 'rite', 'aid', 'drops', 'continental', 'rendition', 'cowboy', 'wizard', 'waving', 'difficulty', 'aficionado', 'despise', 'rider', 'roses', 'rewarded', 'arcade', 'peruse', 'horrified', 'spraying', 'sprayed', 'isolated', 'patronage', 'rejected', 'nonsense', 'utilize', 'broiled', 'remarks', 'hygienist', 'floss', 'spied', 'scent', 'hanger', 'swapped', 'sear', 'snooze', 'rouge', 'settling', 'chocolat', '5.95', 'scooped', 'cools', 'handsome', 'detailed', 'beau', 'enthusiasm', 'dedication', 'messing', 'pkwy', 'ridge', 'frequent', '12:30', 'regretted', 'nacho', 'styrofoam', 'shuttle', 'buses', 'loading', 'rural', 'imports', 'supermarkets', 'underwhelming', 'vietnamese', 'mochi', 'orderly', 'rubbed', 'manners', 'tale', 'interactions', 'boulevard', 'inedible', 'complained', 'enthusiastically', 'hero', 'storm', 'hostile', 'import', 'messed', 'ensured', 'rip', 'forgive', 'eff', 'flaws', 'photographer', 'duo', 'fabric', 'heads', 'quebec', 'brittany', 'france', 'layered', 'puff', 'homey', 'delicacies', 'placing', 'ect', 'gratitude', '43', 'trap', 'groupons', 'strict', 'loft', 'mirror', 'closets', 'awaits', 'strippers', 'mojitos', 'c', 'agency', 'd.', 'recognized', 'stormed', 'processed', 'canceled', 'processing', 'upgraded', 'negatives', 'unreasonable', 'lineup', 'confirmation', 'accepted', 'pissed', 'excalibur', 'tanks', 'stranger', 'bedrooms', 'showering', 'porn', 'roommates', 'sf', 'outfits', 'dresses', 'resident', 'backpack', 'multi', 'ordeal', 'filth', 'exception', 'heartbeat', 'finishes', 'presentations', 'ruined', 'promoter', 'thomas', 'snails', 'vouchers', 'whisked', 'attire', 'tonic', 'unknown', 'performed', 'lingerie', 'lies', 'blatantly', 'shoving', 'acts', 'gluten', 'logical', 'requirements', 'jenny', 'intro', 'lo', 'sang', 'choreography', 'toes', 'excitement', 'fooled', 'badge', 'galaxy', 'aim', 'rangoons', 'sewing', 'unattended', 'diaper', 'p.', 'hired', 'resto', 'april', 'me..', 'ms', 'princess', 'chris', 'chances', 'seabass', 'pampering', 'poolside', 'clubbing', 'controlled', 'viva', 'zumanity', 'mystere', '2012', 'map', 'ft.', 'acknowledge', 'diagnose', 'upset', 'unwelcome', 'episode', 'forcing', '2.5', 'wonderland', 'overwhelmingly', 'london', 'earl', 'sweetener', 'straws', '5.50', 'radishes', 'astounding', 'mississauga', 'happier', 'colour', 'professionally', 'booking', 'puppy', 'toby', '30min', 'longest', 'straightforward', 'dinning', 'omelettes', 'sizable', 'craze', 'irrelevant', 'fashionable', 'kardashian', 'souvenirs', 'lug', 'equipped', 'oregon', '-it', '-a', 'stains', 'bulb', 'practiced', 'remote', 'cable', 'creamery', 'series', 'impatient', 'ring', 'switch', 'stream', 'gently', 'hiring', 'learning', 'residents', 'ft', 'realtor', 'connections', 'tooth', 'amex', 'waffles', 'belgian', 'dinky', 'top-notch', 'tripe', 'hatch', 'chiles', 'jalapeños', 'chilling', 'guac', 'overcharge', 'investment', 'fills', 'frisco', 'ace', 'matching', 'moisture', 'shoppe', 'independent', 'lips', 'flimsy', 'saag', 'zip', 'tandoori', 'jewel', 'fuel', 'atleast', 'potent', 'pre', 'battle', 'tremont', 'pointe', 'historic', 'vowed', 'investigate', 'pi', '150', 'rollin', 'insurance', 'suv', 'sincere', 'inevitably', '10-15', '8-10', 'mma', 'dundas', 'neighbourhood', 'greenery', 'muted', 'typing', 'centers', 'bedding', 'sous', 'amazon', 'medications', 'supper', 'slick', 'tres', 'mod', 'jacked', 'hooters', 'noisy', 'victory', 'dial', 'w.', 'apologizes', 'momma', 'suggests', 'auto', 'pilot', 'meanwhile', 'pitchers', 'cutlery', 'beaches', '2:00', 'reliable', 'hyper', 'beads', 'sheer', 'supply', 'worries', 'hobby', 'extend', 'uptight', 'sooooo', 'zesty', 'cobbler', 'perfected', 'resolution', 'spontaneous', 'holes', 'dunkin', 'fruity', 'pebbles', 'professor', '2.25', 'detect', 'contender', 'raining', 'redeem', 'candies', 'succulent', 'pei', 'wei', 'daycare', '.not', 'feces', 'daughters', 'unexpectedly', '.they', 'spoken', 'cn', 'maker', 'dishwasher', 'handy', '9am', 'shades', '14th', 'ave.', 'speeding', 'slower', 'slid', 'text', 'nigiri', 'scanned', 'his\\\\/her', 'favour', 'craved', 'unagi', 'ebi', 'all-you-can-eat', 'milos', 'upgrades', 'bargain', 'nova', 'tzatziki', 'chops', '1\\\\/5', 'turkish', 'ale', 'shining', 'beacon', 'carolina', 'rag', 'decorative', 'blasting', 'darling', 'showcased', 'eagerly', 'pearls', 'glance', 'lid', 'elevated', 'predictable', 'concord', 'conditioned', 'comedy', 'fraction', 'duct', 'wires', 'reporting', 'resolve', 'airlines', 'dat', 'aaron', 'rogers', 'vienna', 'warmly', 'cubs', 'brats', 'mixture', 'snobby', 'breakdown', 'cheaply', 'stops', 'students', 'homeless', 'busser', 'cray', 'honor', 'bolts', 'recommending', 'atrocious', 'scheduling', 'routes', 'official', 'terminals', 'pray', 'threaten', 'coin', 'ossington', 'plaid', 'portuguese', 'tablecloths', 'abuse', 'hotdog', 'devoid', 'casing', 'bachi', 'stroke', 'starch', 'critique', 'drab', 'sporting', 'ballpark', 'expand', 'greenland', 'supermarket', 'sakes', 'cavity', 'sealed', 'oregano', 'flag', 'hunk', 'jalapenos', 'england', 'dissapointed', 'graduated', 'mechanic', 'mechanics', 'hahaha', 'screwed', 'f.', 'v.', 'windy', '5.99', 'pico', 'gutter', 'ayce', 'strap', 'lifting', 'dumbbells', 'buzzed', '7-11', 'commonly', 'refers', '10-', 'parlors', '1.75', '10-12', 'deposit', 'reserve', 'hoa', 'leasing', 'contacted', 'notify', 'communication', 'refuse', 'unorganized', 'burden', 'galleria', 'lcbo', 'synthetic', 'moral', 'cent', 'cents', 'suckers', 'cowboys', 'freaky', 'doughnut', 'iconic', 'clown', 'punching', 'collector', 'dolls', '900', 'chin', 'jokingly', 'confidence', 'paperwork', 'consent', 'boom', 'peel', 'patch', 'oral', 'salesperson', 'refunds', 'understood', 'bombs', 'in-store', 'patients', 'dental', 'tactics', 'signing', 'argued', 'diagnosis', 'cherries', 'shiny', 'embrace', 'hollow', 'corned', 'resembling', 'cardboard', 'cubes', 'stringy', 'merely', 'component', 'bk', 'wonderfully', 'inclusion', 'brine', 'owns', 'sunrise', 'mouthfeel', 'bricks', 'disappeared', 'stares', 'disdain', 'tattooed', 'evidently', 'keen', 'yorker', 'tits', 'sarcasm', 'cities', 'attacked', 'ninja', 'slots', 'stared', 'nadine', 'barney', 'saks', '4-star', 'in-laws', 'outback', 'links', 'ken', 'rudy', 'hungover', 'p.m', 'foie', 'gras', 'object', 'saddened', 'walnut', 'plant', 'facts', 'usher', 'thrust', 'incorrectly', 'minded', 'funds', 'praises', 'rocked', 'hamburgers', 'glistening', 'appeal', 'steam', 'dumpling', 'til', 'bok', 'choy', 'reluctantly', '15.99', 'canal', 'wisdom', 'cartoon', 'netflix', 'gentle', 'cliff', 'compelled', 'searched', 'smelly', 'embarrassment', 'amanda', 'concur', 'testament', 'tiramisu', 'yelps', 'deny', 'sins', 'whiskey', 'refreshed', 'yelped', 'andouille', 'popping', 'co-worker', 'rid', 'camera', 'ads', 'craigslist', 'ahh', 'enforcement', 'deserted', 'dealerships', 'kris', 'honda', 'specialists', 'toyota', 'nissan', 'observed', 'interact', 'wi-fi', 'baking', 'yr', 'falafel', 'falafels', 'execution', 'potentially', 'drai', 'hip-hop', 'promoters', 'bouncer', 'sandals', 'enforced', '11:30', 'robbery', 'ooh', 'europe', 'neighborhoods', 'stratosphere', 'arepa', 'slutty', 'renovating', '.this', 'unlucky', '20-30', 'lock', 'nasty', 'fart', 'dealers', 'drip', 'sleepy', 'plugs', 'alert', 'exclusively', 'recall', 'moreover', 'revealed', 'accepting', '3\\\\/4', 'mongolian', 'notably', 'palatable', 'eatcrest', 'lowe', 'anticipated', 'escalator', 'sleek', 'roller', 'poo', 'greatly', 'unpleasant', 'connection', 'dvd', 'dvds', 'ons', 'ending', 'biking', 'a.m.', 'brisk', 'bye', 'santa', 'fe', 'gallo', 'licking', 'newbie', 'contains', 'decatur', 'utterly', 'jay', 'chest', 'abs', 'hug', 'dancer', 'glimpse', 'g', 'lasted', 'shook', 'bon', 'mole', 'injured', 'baklava', 'gyro', 'holds', '.a', 'geek', 'yo', 'calvin', 'tiesto', 'honesty', 'reflect', 'thoughtful', 'useful', 'sur', 'hubs', 'crêpe', 'renovations', 'serrano', 'prix', 'unappealing', 'crêpes', 'mondays', 'bananas', '*hours', 'wed', '2pm', '*for', 'criteria', 'preferably', 'ethel', 'interaction', 'category', 'determine', 'aria', 'deuce', 'lily', 'blackjack', 'lounges', 'heh', 'pubs', 'entertain', 'classical', 'garages', 'catfish', 'blizzard', 'quit', 'toasty', 'branding', 'hooray', 'juan', 'waitstaff', 'compliments', 'brim', 'zia', 'steve', '1.99', 'laughs', 'eyeing', 'eos', 'essential', 'cardamom', 'raisin', 'saffron', '2.99', '2011', 'ushers', '7th', 'cursing', 'j.', 'ruben', 'transformation', 'admiring', 'shuffleboard', 'installation', 'peer', 'bullet', 'skating', 'rink', 'skate', 'reeks', 'failed', 'miserably', 'costing', 'centered', 'lakewood', 'brandon', 'baristas', 'ceramic', 'indication', 'family-friendly', '4:30', '6:30', 'kona', 'pale', '7.95', 'wagyu', 'macadamia', 'friendliness', 'unimpressive', 'apartments', 'consultant', 'graffiti', 'covering', 'property', 'bail', 'bond', 'neighboring', 'carpet', 'filthy', 'outdated', 'encourage', 'heights', 'sauteed', 'plated', 'boot', 'sweets', 'scones', 'macarons', 'spot-on', 'smear', 'carved', 'equal', 'planes', 'gatherings', '3.95', 'hainan', '7.50', 'underwhelmed', 'shrimps', 'anticipation', 'enterprise', 'debit', 'judgement', 'tries', 'upsell', 'mercedes', 'overkill', 'insists', 'frickin', 'cheapest', 'sheesh', 'suckered', 'covers', 'merry', 'unimpressed', 'grouchy', 'starring', 'dignity', 'wage', 'sufficiently', 'buildings', 'cox', 'files', 'effectively', 'desirable', 'unlv', 'sonoran', 'preserve', 'loop', 'horrific', 'install', 'builder', 'leaking', 'estimate', 'installed', 'sierra', '2000', 'reputable', 'jars', 'barn', 'pods', 'pairs', 'loads', 'stripper', 'flashing', 'awkwardly', '}', 'gems', 'evident', 'scarborough', 'timmy', 'mickey', 'caribbean', 'jamaican', 'plantains', 'f*ck', 'deserved', 'gordon', 'ramsay', 'vagina', 'petals', 'distract', 'terror', 'belt', 'filing', 'posting', 'commenting', 'civil', 'publicly', 'expression', 'freedom', 'dick', 'sue', 'attorney', 'david', 'passionate', 'moi', 'wong', 'curated', 'unicorn', 'sephora', 'harvey', 'wiped', 'insight', 'pressured', 'achieve', 'privilege', 'chicks', 'adventures', 'progressed', 'maizie', 'valentine', 'testing', 'abalone', 'cancellation', 'demands', 'hottie', 'filter', 'gray', 'tidy', 'possessed', 'dusty', 'shortage', 'voila', 'itinerary', 'chowder', 'greeter', 'invite', 'oriental', 'speaks', 'heel', 'glue', 'economical', 'distinctive', 'abc', 'sneaky', 'cheerful', 'nod', 'clerk', 'manly', 'giggle', 'judgment', 'insist', 'reluctant', 'switched', 'residence', 'electronic', 'professionals', 'ignore', 'frost', 'visibly', 'grapes', 'afterthought', 'chalkboard', 'adjusted', 'jason', 'misters', 'profusely', 'shift', 'amber', 'chick', 'receives', 'emptied', 'keg', 'quad', 'snapper', 'feeds', 'floating', 'bangkok', 'usd', 'listened', 'con', 'debating', 'overweight', 'teenager', 'prom', 'likewise', 'speedy', 'satisfies', \"c'est\", 'je', 'suis', 'est', 'fait', 'carte', 'tout', 'un', 'choix', 'assez', 'une', 'nous', 'était', 'bonne', 'poulet', 'aussi', 'pas', 'dans', 'bouche', 'à', 'vu', 'peu', 'fort', 'si', 'bistro', 'chickens', 'fancier', 'downer', '360', '.99', '1.25', 'bundle', 'thinner', 'succeed', 'wendy', 'hashbrowns', 'gamble', 'consumers', 'university', 'semester', 'political', 'stacks', 'helen', 'libraries', 'scoring', 'career', 'weddings', 'anchor', 'instructors', 'pat', 'regarding', 'picturesque', 'lakes', 'spiked', 'conveyor', 'existent', '1-', 'careless', 'gelatos', 'affogato', 'redone', '0.50', 'crema', 'explanation', 'clam', 'stephanie', 'trop', 'meatloaf', '12.99', 'tolerable', 'obscene', 'cabana', 'rudely', 'bitchy', 'residual', 'douchebag', 'population', 'cutter', 'upside', 'shove', 'bitches', 'shorter', 'gladly', 'flea', 'hookah', 'drake', 'promoting', 'oozing', 'increasingly', 'grumpy', 'louisiana', 'resolved', '10:30am', 'melts', 'exaggerated', 'ecstasy', 'suggesting', 'whore', 'replacements', 'straw', 'chanel', 'receipt', 'staffing', 'cosmetics', 'wars', 'itching', 'accommodations', 'hectic', 'jeff', 'racist', 'faux', 'directed', 'thanked', 'wary', 'statements', 'panna', 'fascinating', 'scone', 'nah', 'fabrics', 'patterns', 'kits', 'dated', 'rewards', 'isles', 'crash', 'breaded', 'croquettes', 'noticeable', 'symbol', 'suspicious', 'proclaimed', 'dice', 'stew', 'hated', 'mussels', 'sandy', 'gritty', 'infused', 'temporarily', 'sirloin', 'liver', 'rudest', 'bff', 'ppl', 'sweetest', 'representing', 'demographic', 'stiff', 'cushy', 'ids', 'glendale', 'karma', '12.00', 'overlooking', 'drool', 'intentions', 'noble', 'partners', 'pos', '5-7', 'yards', 'gain', 'pimp', 'curtains', 'sammy', 'davis', 'jon', 'h', 'shellfish', 'ooey', 'delmonico', 'ribeye', 'twisted', 'arm', 'olympic', 'remodeled', 'creamier', 'creek', 'cinema', 'f*cking', '5-stars', 'piss', 't.', 's.', '1998', '1999', 'gang', '.it', 'pops', 'shu', 'busboy', 'moscow', 'so-called', 'pussy', 'amused', 'cheek', 'labeled', 'aura', 'uphill', 'substitute', 'retarded', 'liberty', 'obnoxiously', 'fathom', 'passage', 'substitutions', 'accompanying', 'donkey', 'homework', 'beijing', 'semi', 'shumai', 'shanghai', 'peking', 'lover', 'efforts', 'invitation', 'banter', 'auditorium', 'angle', 'youth', 'counted', 'assist', 'hesitation', 'bastards', 'brag', 'pleasurable', 'bastard', 'donald', 'shannon', 'lone', 'bees', 'suicide', 'muenster', 'crumbled', 'omit', 'dill', 'mum', 'leches', 'varieties', 'bin', 'p.m.', 'jimmy', 'defense', 'appalling', 'upsetting', 'drastically', 'unacceptable', 'offense', 'completing', 'balcony', 'stray', 'downsides', 'so-so', 'suffice', 'lumpy', 'patisserie', 'chocolates', 'packaged', 'brenner', 'wafting', 'ph', 'bouchon', 'bakeries', \"l'atelier\", 'joel', 'robuchon', 'monte', 'carlo', 'resemble', 'flies', 'vents', 'operate', 'decorations', 'unhelpful', 'garcia', 'latin', 'latino', 'toned', 'phones', 'starchy', 'citrusy', 'cotija', 'earthy', 'oceanic', 'blistered', 'shishito', 'purée', 'enhance', 'porchetta', 'gratin', 'anise', 'db', 'brasserie', 'neighbor', 'taqueria', 'casa', 'awaited', 'extraction', 'surroundings', 'stereo', 'verde', 'excellence', 'graveyard', 'palms', 'nifty', 'wafers', 'antonio', 'goin', 'mao', 'recipes', 'peeve', 'hats', 'ive', 'flower', 'mugs', 'bagged', 'sidewalk', 'fashioned', 'winners', 'mixes', 'murals', 'celebrations', 'techno', 'over-priced', 'sands', 'unforgettable', 'marco', 'lion', 'saint', 'bets', '700', '1500', 'renaissance', 'penthouse', 'lux', 'activities', 'uniquely', 'tix', 'acrobats', 'gondola', 'indoors', '160', 'boutiques', 'high-end', 'kors', 'spoons', 'tools', 'bountiful', 'spreading', 'photographs', 'olds', 'photograph', 'feeding', 'cows', 'corral', 'jc', 'honolulu', 'alice', 'bargains', 'cranky', 'stunts', 'regal', 'catching', 'faucet', 'comforter', 'conditioner', 'thermostat', 'sufficient', 'smelling', 'struggled', 'churros', 'weave', 'rotisserie', 'prob', 'user', 'demanding', 'rowdy', 'hyde', 'husbands', 'scared', 'cluttered', 'socal', 'mcd', 'hoo', 'edamame', 'tinted', 'malls', 'americano', '19', 'edit', 'family-owned', 'lens', 'lids', 'sears', 'spencer', 'upgrading', 'tears', 'wobbly', 'weirdly', 'socially', 'buff', 'jumps', 'emotional', 'shirtless', 'horror', 'rebecca', 'australia', 'butterfly', 'nv', 'specializes', 'perusing', 'breakfast\\\\/brunch', 'cloths', 'bday', 'islands', 'snarky', 'confections', 'basics', 'frills', 'produce', 'damaged', 'concern', 'wouldnt', 'butcher', 'purposely', 'les', 'measuring', 'professionalism', 'breaker', 'satisfaction', 'gumbo', 'addicting', 'occasional', 'pv', 'garbanzo', 'log', 'goodbye', 'louder', 'randomly', 'poppers', 'cabo', 'panel', 'screens', 'paragraph', 'household', 'boca', '50\\\\/50', 'diablo', 'ss', 'vape', 'draws', '6.50', 'tostadas', 'heaping', 'honored', 'chatter', 'overbearing', 'tends', 'stella', 'packets', 'grated', 'blazing', 'respectfully', 'housing', 'galley', 'gear', 'towering', 'foster', 'chashu', 'imo', 'colorado', 'adore', 'indifferent', 'dramatic', 'oink', 'rotate', 'roasting', 'porky', 'dollop', 'silently', 'pup', 'registration', 'cluster', 'sewer', 'ventilation', 'stephen', 'marquee', 'mmmmm', 'non-smoking', '1-star', 'shabu', 'unfamiliar', 'oc', 'boiling', 'sukiyaki', 'ponzu', 'saltier', 'udon', 'jellies', '6.95', 'rue', 'mentions', 'heating', 'expansion', 'alligator', 'client', 'x-rays', 'puffs', 'vs.', 'biz', '9.00', 'buttermilk', 'slippery', 'masa', 'pro', 'mammoth', '55', 'physically', 'dreaded', 'shellac', 'backside', 'antiques', 'accurate', 'amidst', 'port', 'fritter', '5am', 'bases', 'batches', 'whimsical', 'mar', 'stored', 'claws', 'invested', 'cocoa', 'limp', 'apache', 'chelsea', 'ballroom', 'acoustics', 'ga', 'guitar', 'handles', 'fairy', 'commit', 'walnuts', 'hardy', 'hybrid', 'metered', 'messages', 'sanctuary', 'vacant', 'sinful', 'cultures', 'stable', 'temperatures', 'skies', 'lightning', 'afternoons', 'yucky', 'munchies', 'crafty', 'decorate', 'thang', 'beaver', 'vampire', 'mints', 'format', 'scooter', 'bout', 'washer', 'dryer', 'jacuzzi', 'fiasco', 'fo', 'carnivores', 'evenly', 'occupy', 'stoked', 'entrances', 'kiosks', 'spotless', 'daisy', 'rugs', 'rejoice', 'lousy', 'dentistry', 'walk-in', 'gimmicky', 'paintings', 'trains', 'noises', 'breathing', 'hundreds', 'samurai', 'slush', 'zombie', '7pm', 'relieved', 'forty', 'appliances', 'goal', 'seller', 'lawrence', 'laughable', 'crush', 'roam', 'maya', 'gc', 'tours', 'hoover', 'dam', '7:00', 'transferred', 'rocking', 'eagles', 'eagle', 'boarded', 'breathtaking', 'hiked', 'refreshments', '6:00', 'voices', 'artisan', 'fingerling', 'licked', 'shipping', 'x', 'vent', 'fedex', 'competent', 'ontrac', 'clay', 'oak', 'steady', 'laid-back', 'philosophy', 'emerald', 'laura', 'hairstylist', 'curly', 'darker', 'wonders', 'strands', 'invisible', 'dye', 'sending', 'specialized', 'gum', 'drug', 'northwest', 'mighty', 'fox', 'sam', 'mystery', 'carin', 'strolled', 'coincidence', 'terrific', 'antipasti', 'mikey', 'separating', 'factors', 'ecstatic', 'hood', 'wave', 'follows', 'vanity', 'height', 'limit', 'waves', '107', 'unhappy', 'cromwell', 'newest', 'october', 'go-go', 'baker', 'hops', 'sweep', 'tracy', 'brittle', 'magazine', 'lieu', 'gm', 'jaw', 'salesman', 'salesmen', 'exploded', 'flu', 'vino', 'cornelius', 'telephone', 'hosts', 'gracious', 'assigned', 'survey', 'appointed', 'antipasto', 'parmigiano', 'dolce', 'souffle', 'elegance', 'mailbox', 'keyboard', 'tied', 'aa', 'blackened', 'periods', 'dilemma', 'challah', 'annie', 'war', '10.95', 'veterinary', 'vet', 'anderson', 'prescriptions', 'vets', 'kennel', 'rampart', 'fleming', 'prove', 'muddled', 'borrow', 'lipstick', 'butters', '49', 'cumin', 'africa', 'shrooms', 'accompaniment', 'banging', 'lions', 'funniest', 'nauseous', 'nude', 'smashing', 'distant', 'shouting', 'intended', 'gong', 'camp', 'suburbs', 'drugs', 'balancing', 'manny', 'well-done', 'fishy', 'linda', 'koi', 'linger', 'obligated', 'genre', 'mario', 'kong', 'collision', 'shaken', 'reassured', '2:30', 'pin', 'peaks', 'boozy', 'ulta', 'clerks', 'brushes', 'intent', 'kit', 'dreadful', 'capacity', 'chlorine', 'overlooked', 'chives', 'morton', 'houston', 'patronizing', 'representatives', 'pleasing', 'tuned', 'clueless', 'meantime', 'inhaled', 'nosh', 'opinions', 'shined', 'reveal', 'requiring', 'discerning', 'qualities', 'wrapper', 'misfortune', 'expedia', 'adjacent', 'concessions', 'snuck', 'displeasure', 'strangely', 'olivia', 'realistic', 'disgrace', 'wit', 'assessment', 'unpretentious', 'underwear', 'pc', 'strength', 'puking', 'blowing', 'supplement', 'unwanted', 'hangs', 'tartare', 'thurs', '14.99', 'overdone', 'parks', 'recreation', 'self-parking', 'sauna', 'showers', 'lounging', 'robe', 'hooks', 'muscles', 'stretching', 'techniques', 'appointments', 'muscle', 'relaxation', 'chardonnay', 'therapists', 'swift', 'jour', 'house-made', 'hazelnuts', 'k.', 'empire', 'bruce', 'branded', 'dared', 'flank', 'trinkets', 'peek', 'appearances', 'delayed', 'sprint', 'marathon', 'arrangements', 'ohhhh', 'inappropriate', 'threshold', 'employed', 'jackpot', 'tremendous', 'compares', 'whisky', 'context', '2010', 'donna', 'delicately', 'nondescript', 'pic', 'specialize', '3\\\\/5', '*there', 'sheriff', 'posse', 'louie', 'curb', 'hindsight', 'leads', 'pulls', 'gripe', 'couldnt', 'soooooo', 'scallop', 'leo', 'fumes', 'a\\\\/c', 'envelope', 'drift', 'compound', 'roads', 'opener', 'fil', 'techs', 'procedures', 'confident', 'surgery', 'discomfort', 'caveat', 'eyeglasses', 'script', 'performs', 'accused', 'ratchet', 'classier', 'reflection', 'baja', 'adobada', 'tool', 'hoops', 'figures', 'kingdom', 'happiest', 'mascot', 'mouse', 'horn', 'sheep', 'bc', 'capitol', 'indiana', 'jones', 'ropes', 'slide', 'mead', '2005', 'hub', 'electricity', 'elevation', 'imagination', 'boat', 'cholla', 'mountains', 'veterans', 'ought', 'qualify', 'coolest', 'everytime', 'holder', 'mo', 'transparent', 'religious', 'plunge', 'fixing', 'announced', 'wolf', 'compote', 'bratwurst', 'confit', 'stoned', \"'the\", 'boast', 'granite', 'shopped', 'servicing', 'in-room', 'sausages', 'preserves', 'robot', 'taiwan', 'veins', 'melon', 'deserving', 'nj', 'philadelphia', 'ct', 'league', 'joes', 'kissed', 'cous', 'notorious', 'educated', 'philippines', 'infusion', 'zing', 'celebration', 'marriage', 'native', 'authority', 'e-mail', 'respected', 'painless', 'coincidentally', '7.99', '13.99', 'carpeting', 'rectangle', 'add-on', 'clark', 'vera', 'niece', 'remake', 'nephew', 'horrendous', '30-40', 'inexperienced', 'massaged', 'bedside', 'blunt', 'envy', 'idk', 'coupled', 'unsanitary', 'conditions', 'mop', 'boards', 'gaming', 'font', 'oxygen', '2-4', 'vietnam', 'stamped', 'pays', 'blasted', 'arrogant', 'gel', 'goddamn', 'scraped', 'alien', 'toxic', 'nostalgia', 'chan', 'alongside', 'xo', 'walgreens', 'articles', 'inadequate', 'frankly', 'overwhelm', 'inaccurate', 'antics', 'inconvenience', 'lunches', 'salts', 'basement', 'summarize', '*i', 'alterations', 'explanations', 'cockroach', 'roach', 'legitimately', 'empanadas', 'mozz', 'empanada', 'holly', 'stools', 'constructed', 'courage', 'deviled', 'uncomfortably', 'unbelievably', 'mason', 'exchanged', 'gen', 'z', 'respectful', 'pipe', 'styling', 'essentials', 'technician', 'sarah', 'tide', 'ho', 'earns', '10:00', 'spelling', 'gap', 'modified', 'bloor', 'intrusive', 'efficiently', 'molasses', 'apricot', 'crumble', 'values', 'digging', 'heed', 'biryani', 'zone', 'tomahawk', 'overflow', 'monthly', 'describes', 'results', 'owl', 'abruptly', 'payless', 'decency', 'stripped', 'await', 'barre', 'positions', 'classes', 'asians', 'overpower', 'thrifty', '215', 'hella', 'rainy', 'incorrect', 'chaos', 'resembled', 'arrow', 'bazaar', 'skewer', 'slivers', 'secured', 'biting', '8.00', 'bumped', 'curse', 'trapped', 'partial', 'automatically', 'excuses', 'feminine', 'studying', 'sole', 'nevermind', 'complicated', 'revealing', 'gettin', 'bottoms', 'deceiving', 'christian', 'uncommon', 'kabob', 'yer', 'nan', 'gills', 'madhouse', 'slathered', 'blessed', 'good-', 'sh', 'underground', 'indicate', 'respectively', 'retrospect', 'tri-tip', 'marbled', 'crostini', 'sees', 'secondary', 'gruyere', 'masks', 'usda', 'trimmed', 'temp', 'fillet', 'umame', 'barry', 'enveloped', 'creamed', 'understands', 'translated', 'baller', 'padded', 'managing', 'reflexology', 'advertisement', 'hopping', 'seinfeld', 'focuses', 'bahn', 'winds', 'rhythm', 'majestic', 'purses', 'mingling', 'shy', 'mate', 'frames', '1.00', 'arts', 'crafts', 'ash', 'ahhhh', 'valentines', 'comedic', 'purposes', 'uninterested', 'furry', 'associate', 'hk', 'blown', 'rescued', 'seven', 'donations', 'volunteer', 'on-site', 'kathy', 'employ', 'horses', 'petting', 'socialize', 'adopt', 'diane', 'craig', 'lesser', '40+', 'scramble', 'w\\\\/o', 'races', 'ebay', 'reward', 'sarcastic', 'react', 'offended', 'lattes', 'horchata', 'hardware', 'frequented', 'fizz', '5th', 'xs', 'gambled', 'headliner', 'departments', 'check-out', 'irritating', 'models', 'escorted', 'fulfilling', 'staircase', 'silence', 'reference', 'framed', 'stench', 'nursing', '3000', 'overcharged', 'skeptical', 'convincing', '54', 'advocate', 'disgust', 'expiration', '17th', 'expense', 'swap', 'tones', 'knowledgable', 'jessica', 'feb', 'loblaws', 'roy', 'flamingo', 'promenade', 'sprinkles', 'lite', 'shea', 'conservatory', 'gardens', 'sinatra', 'fighting', 'meds', 'twenties', 'cvs', 'morons', 'medication', 'commonwealth', 'branch', 'mt', 'vertical', 'sturdy', 'compromise', 'grape', 'decline', 'variations', 'chatime', 'bras', 'supportive', 'fears', 'treadmill', 'snooty', 'teaches', 'truffled', 'programs', 'labor', 'distracting', 'swinging', 'subject', 'dissatisfied', 'financing', 'century', 'clip', 'whisper', 'computers', 'jumping', 'transmission', 'identify', 'owning', 'warranty', 'detroit', 'radius', 'kings', 'stake', 'headphones', 'protocol', 'wristbands', 'sedona', 'mingle', 'bubbly', 'cedar', 'old-fashioned', 'thread', 'plantain', 'gamey', 'retain', 'wee', 'incline', 'erie', 'buca', 'brazil', 'carson', 'rendered', 'drawing', 'illinois', 'carl', 'universe', 'piggy', 'worlds', 'whistle', 'sorely', 'flows', '.just', 'reccomend', 'hr', 'ownership', 'federal', 'laws', 'weapon', 'license', 'ongoing', 'curve', 'climate', '75', 'firearms', 'targets', 'renewal', 'monarch', 'machaca', 'chilaquiles', 'hush', 'puppies', 'founded', 'off-putting', 'rumor', 'lcd', '3.75', 'flashy', 'brooklyn', 'innovative', 'crafted', 'imported', 'teenage', 'permanently', 'safeway', 'siblings', 'charms', 'porter', 'q', 'longing', 'agua', 'frescas', 'tipsy', 'pete', '27', 'parallel', 'packet', 'emotions', 'ache', 'relatives', 'attribute', 'simpson', 'fred', 'forgo', 'nitro', 'venturing', 'elites', 'uye', 'dt', 'doorway', 'bachelor', 'trace', 'roe', 'whew', 'aw', 'mismatched', 'vw', 'muffins', 'macaroon', 'staffs', 'donated', '2.75', 'nazi', 'harrah', 'towers', 'cesar', 'waved', 'billy', 'survived', 'obliged', 'frog', 'parker', 'wink', 'ignoring', 'forces', 'smokehouse', 'lessons', 'tommy', 'bahama', 'cleanse', 'stalking', 'coloring', 'loosely', 'alternate', 'imagined', 'spouse', 'ikea', 'maze', 'leisure', 'translation', 'utter', 'rotation', 'associates', 'florida', 'waxing', 'automatic', 'hotel\\\\/casino', 'comps', 'macbook', '23', 'battery', 'asses', 'touching', 'orgasm', 'chubby', 'discrimination', 'calendar', 'rectangular', 'grinding', 'haunt', 'phx', 'panera', 'pasty', 'gasp', 'lemony', 'eiffel', 'statue', 'murphy', 'betty', 'dread', 'sterile', 'styled', 'bobby', 'cindy', 'spade', 'blatant', \"'t\", 'frown', 'concepts', 'muster', 'pillowy', 'crispness', 'softness', 'textured', 'yell', 'temps', 'unsure', 'amuse', 'referring', '7:30pm', 'milling', 'lobsters', 'cod', 'szechuan', 'cantonese', 'proactive', 'aesthetically', 'someplace', 'triangle', 'monterey', 'e.g', '2004', 'tastier', 'nerve', 'mirrored', 'carrie', 'johnson', 'i.e.', 'irony', 'high-quality', 'hippie', 'singer', 'sings', 'mj', 'lure', 'jefe', 'skimp', 'tendency', 'cordial', 'sonic', 'specialist', 'baseline', 'asia', 'dealer', 'actions', 'affect', 'liquors', 'washes', 'grad', 'anthony', 'gnocchi', 'furnishings', 'hunting', '..but', 'good..', 'specializing', 'harvest', 'coaster', 'shane', 'fb', '1200', 'freaked', '..the', 'bavarian', 'overloaded', 'acquired', 'disliked', 'togo', 'yee', 'foo', 'saddle', 'structures', 'imho', 'boob', '5000', '88', 'counting', 'fuzzy', 'ohio', '10,000', 'savvy', 'tribe', 'adopted', 'sons', 'yrs', 'bleach', 'wipes', 'samosa', 'korma', 'xlb', 'skins', 'luster', 'bearable', 'dove', 'kool', 'popsicle', 'pears', '2.50', 'pricy', 'users', 'dukes', 'collections', 'tina', 'offset', 'motivated', 'ross', 'disagree', 'solutions', 'dizzy', 'mri', 'compassionate', 'domino', 'oversized', 'territory', 'chive', 'non-alcoholic', 'flood', 'undecided', 'detailing', 'tableside', 'inhale', 'brandy', 'generations', 'roku', 'beg', 'differ', 'backwards', '52', 'edition', '-1', 'document', 'confess', 'violent', 'explosive', 'cleanest', 'lollipop', 'hole-in-the-wall', 'considerate', 'dispensers', 'cashiers', 'brian', 'yuppie', 'fellas', 'debate', 'grinder', 'upcharge', 'breadcrumbs', 'spongy', 'gouda', 'skimpy', 'altogether', 'mesmerized', 'failing', 'motor', 'informing', 'salespeople', 'develop', 'prepaid', 'driveway', 'payments', 'wire', 'debacle', 'responds', 'solve', 'logic', 'ashley', 'bridesmaids', 'freezer', 'ink', 'keeper', 'ne', 'melty', 'toothpick', '50s', 'expressions', 'thrill', 'chilies', 'label', 'ox', '4.95', '4-stars', 'proudly', 'gus', 'prawn', 'pomegranate', 'hudson', 'ramsey', 'awe', 'disappoints', 'cantina', 'tivoli', 'lunch\\\\/dinner', 'dancefloor', 'nightclubs', 'stumble', 'heavier', 'khao', 'functions', 'observing', 'hospitable', 'prepackaged', 'influences', 'mein', 'extensions', 'qualified', 'teachers', 'needles', 'mayor', 'handling', 'resources', 'fleet', 'monorail', 'brighter', 'trump', 'ce', \"n'est\", 'vraiment', 'mais', 'sont', 'maison', 'oui', 'très', 'toiletries', 'standouts', 'acidic', 'watercress', 'spiciness', 'redemption', 'nook', 'nw', 'wellness', 'gazpacho', 'respective', 'generously', 'rhino', \"y'know\", 'tougher', 'easiest', 'bib', 'alan', 'albert', 'decked', 'lest', 'thickness', 'reps', 'wash.', 'memberships', 'verge', 'salons', 'strollers', 'strategically', 'hoped', 'aback', 'trashed', 'legacy', 'jewish', 'legendary', 'resembles', 'demo', 'aimlessly', 'gilbert', 'memo', 'disinterested', 'claiming', 'pointless', 'destinations', '33', 'bounty', 'streak', 'postal', 'copies', 'printing', 'cage', 'rubbing', 'hvac', 'steakhouses', 'tongs', 'encouraging', 'optical', 'advanced', 'pajamas', 'writes', 'marilyn', 'monroe', 'sketch', 'lamp', 'encased', 'congrats', 'dos', 'sinus', 'adequate', 'brushing', 'switching', 'perception', '-\\\\/', 'gordo', 'innovation', 'tigers', 'systems', 'flawless', 'reve', 'hehe', 'boats', 'aquarium', 'connects', 'silverton', '5+', 'brainer', 'showcasing', 'preservatives', 'patronize', 'applewood', 'granola', 'fro-yo', 'unprofessional', 'prizes', 'participants', 'timeline', 'biltmore', 'steaming', 'alaskan', 'amazement', 'haters', 'bolt', 'farewell', 'morsel', 'hurricane', 'opi', 'jug', 'wheelchair', 'growth', 'stripping', 'definately', 'vermicelli', 'sizzling', 'jasmine', 'scallion', 'regrets', '5k', '1:30', 'babe', 'rank', 'elizabeth', 'a.', 'birth', 'carbs', 'thee', 'lovin', 'pony', 'hosted', 'teaching', 'byob', 'powered', 'limoncello', '60s', 'utah', 'carnivore', 'socializing', 'ohhh', 'korea', 'non-stop', 'duration', 'kitten', 'permission', 'whack', 'bride', 'laced', 'mentality', 'giddy', 'he\\\\/she', 'approved', 'fires', 'avail', 'ferris', 'sustenance', 'hospitals', 'ware', 'progress', 'pbr', 'mojo', 'borders', '115', 'contacting', 'remade', 'communicate', 'rooftop', 'sandwiched', 'association', 'drinkers', 'pistachios', 'den', 'fois', 'chez', 'avec', 'va', 'qui', 'comme', 'même', 'ça', 'ou', 'vous', \"j'ai\", 'understaffed', 'baba', 'cooling', 'shank', 'kebab', 'nest', 'blink', 'mackerel', 'deer', 'swamp', 'nephews', 'kiddos', 'wildlife', 'mermaid', 'marine', 'barrel', 'aquatic', 'omfg', 'playlist', 'congratulations', 'trading', 'retailers', 'northeast', 'urgency', 'aj', 'justified', 'lottery', 'thrift', 'goodwill', 'treasures', 'seniors', 'elderly', 'backing', 'barrier', 'prince', 'interacted', 'beneficial', 'lashes', 'destroy', 'harmony', 'practicing', 'routines', 'negotiate', 'implants', 'seminar', 'honeymoon', 'references', 'lem', 'cutesy', 'involve', 'yams', 'kisses', 'crate', 'pottery', 'restoration', 'classroom', 'length', 'credits', 'grandparents', 'expire', 'reader', 'youngest', 'murder', 'forming', 'ranked', 'loss', 'defeat', 'nfl', 'torte', 'rockstar', 'u.s.', 'malted', 'glued', 'gag', 'mortified', 'venues', 'hrid', 'smh', 'politics', 'aerial', 'expectation', 'designated', 'gated', 'permit', 'agents', 'substantial', 'inspected', 'grin', 'pads', 'paycheck', 'reheated', 'browned', 'collar', 'suns', 'nba', 'warriors', 'click', 'das', 'betting', '20.00', 'measly', 'opting', 'diving', 'tortas', 'crispier', 'food..', 'flats', 'drums', 'unfinished', 'academy', 'pennies', 'sizing', 'abilities', 'briefly', 'assembled', 'rome', 'appropriately', 'confirming', 'filtered', 'pulling', 'hoot', 'cristo', 'havarti', 'marmalade', 'companions', 'escalators', 'slippers', 'dorm', 'snapped', 'haze', 'defeated', 'audacity', 'unavailable', 'sectional', 'permanent', 'harassment', 'rogue', 'boil', 'persian', 'kabobs', 'reminder', 'sweetheart', 'sun-dried', '11.99', 'glorified', 'motel', 'alignment', 'broccolini', 'fanatic', '-there', 'kristin', 'monitors', 'mounted', 'rung', 'supplier', 'umm', 'promises', 'suspected', 'cortez', 'run-down', 'wells', 'hustled', 'jump', 'delta', 'imitation', 'span', 'smallish', '8am', 'gleaming', 'facade', '14.95', 'trifecta', 'ritz', 'creep', 'treating', 'pedi', 'designs', 'no-frills', 'concentrated', 'squirt', 'deemed', 'harassing', 'springs', 'wealthy', 'stupidity', 'lentils', 'crisps', 'bundt', 'defined', 'mildly', 'ouch', '1-2', 'maneuver', 'musty', '40.00', '4.00', 'soupy', 'glaring', 'translate', 'maids', '140', 'ban', 'minnesota', 'coco', 'crusts', 'gelatinous', 'allen', 'balloon', 'ski', 'pun', 'readability', 'experiment', 'legally', 'furnished', 'liqueur', 'hazard', 'darkness', 'lego', 'chuck', 'hardcore', 'bonito', 'recap', 'sichuan', 'tendon', 'petty', 'trainers', 'sensor', 'compact', 'carded', 'torch', 'puffed', 'wishes', 'blanc', 'pierre', 'salade', 'quand', 'pancetta', 'petite', 'curl', 'ammo', 'stocking', 'crawling', 'sayin', 'kha', 'bugs', 'breathe', 'muy', 'ciao', 'responsive', 'benjamin', 'stupidly', 'tint', 'centerpiece', 'renowned', 'tablet', 'mansion', 'transformed', '40s', 'old-school', 'booty', 'poppin', 'loaves', 'shipped', 'snickerdoodle', 'artifacts', 'obtain', 'waiver', 'banks', 'wages', 'bee', 'johnny', 'douchebags', 'exceptions', 'william', 'appt', 'ummmm', 'camel', 'apologizing', 'ihop', 'fireplace', 'nutshell', 'virgin', 'twins', 'barefoot', 'flops', 'diameter', 'vdara', 'halal', 'starbuck', 'cm', '10.50', 'portioned', 'esp', 'ciabatta', 'revolving', 'applies', 'forest', 'jovial', 'counterpart', 'ranged', 'improving', 'walgreen', 'cue', 'shelter', 'expressed', 'feedback', 'chatty', 'orgasmic', 'niche', 'attic', 'blossom', 'pencil', 'sally', 'harry', 'spill', 'highlighted', 'climbed', 'unbearable', 'automotive', 'diagnosed', 'frosty', 'wad', 'dual', 'usage', '9.50', 'cord', 'documents', 'teacher', 'contrasting', 'pity', 'rec', 'contemplating', 'painfully', 'album', '9.99', 'megan', 'mai', 'matzo', 'victim', 'speaker', 'durian', 'andrew', '125', 'scallions', 'arranged', 'warmed', 'scratches', 'british', 'uk', 'shaking', 'poked', 'bent', 'flipping', 'unfair', 'uniforms', 'mishap', 'panoramic', 'sweeping', 'chalet', 'wrist', 'carlos', 'unparalleled', 'global', 'tendons', 'threat', 'sanitary', 'bacteria', 'organizing', 'decoration', 'colours', 'complains', 'stews', 'teeny', 'reno', 'glitz', 'umbrellas', 'codes', 'cavities', 'owed', 'hurting', 'threatened', 'deleted', 'deduct', 'tremendously', 'cheesecakes', 'hysterical', 'skirts', 'well..', 'mens', 'breweries', 'pirates', 'doubts', 'flyer', 'elements', 'frequenting', 'invites', 'prone', 'pedicure', 'acrylic', 'contracted', 'prevented', 'healing', 'charcoal', 'bush', 'kansas', 'bothers', 'woah', 'compelling', 'leopard', 'remarkably', 'sardines', 'charismatic', 'towing', 'leek', 'sodium', 'tran', 'ruby', 'cloud', '*****', 'userid=emmzx-ggdksu4enmbae6dw', 'soundtrack', 'spider', 'regions', 'lilly', 'boyd', '*the', 'christopher', 'splurge', '12pm', 'optimistic', 'strategy', 'uppity', 'selfies', 'ttc', 'haunts', 'susan', 'pushes', 'volumes', 'discarded', '****', '30.00', 'chimichanga', 'chimi', 'munching', 'woohoo', 'sucking', 'tolerance', 'casserole', 'basmati', 'touristy', 'nightlife', 'freemont', 'helicopter', 'brutal', 'customary', 'starved', 'taro', 'indicates', 'executive', 'syrups', '47', 'mani', 'cuticles', 'licensed', 'manicure', 'unusually', 'giada', 'croque', 'monsieur', 'vine', 'potter', 'tj', 'anxious', 'hakkasan', 'visuals', 'smokes', 'jet', 'anyhoo', 'snapping', 'assorted', 'turtle', 'bark', 'involves', 'unlikely', 'observations', 'rudeness', 'questioning', 'perplexed', 'massaging', 'texted', 'citizens', 'pierced', 'shits', 'fiancée', 'notified', 'institution', 'desires', 'bar\\\\/restaurant', 'relevant', 'overhyped', 'low-key', 'midst', 'ed', 'sultry', 'perks', 'drained', 'customs', 'verified', 'passport', 'gyros', 'vivid', 'greece', 'spark', '++', 'dole', 'applying', 'circular', 'belief', 'garnishes', 'submit', 'slacks', 'bug', 'distillery', 'velvety', 'smoother', 'intermission', 'gig', 'tri', 'med', 'favorable', 'banned', 'formed', '3.25', 'balloons', 'browsed', 'inquiring', 'indulgence', 'refrigerated', 'adorn', 'all-time', '4*', 'neil', 'altar', 'sleeve', 'incorporated', '23rd', '30th', 'reschedule', 'threatening', 'ritual', 'vitamins', 'nutrition', 'weighed', 'audio', 'exam', 'openly', 'dating', 'clap', 'stereotypical', 'dart', '50+', 'saves', 'landlord', 'tuck', 'buzzing', 'situations', 'keith', 'restrictions', 'congee', 'rocky', 'appliance', 'invoice', 'diagnostic', 'electrical', 'jello', 'asset', 'bangs', 'lash', 'complimenting', 'eyelashes', 'shave', 'slurping', 'portable', 'tracking', 'disappears', 'misleading', 'organ', 'singles', 'blankly', 'desperately', 'stab', 'razor', 'chock', 'doom', '175', 'scammed', 'forbidden', 'writer', 'representation', 'donating', 'gamblers', 'ethiopian', 'tripping', 'surcharge', 'striking', 'imagining', 'pooch', 'g.', 'snag', 'reflects', 'saturated', 'ig', 'lemons', 'biggie', 'jamba', 'danny', 'bo', 'takoyaki', 'mush', 'hydrated', 'drowned', 'rotting', 'precise', 'dumpster', 'conventional', 'vitamin', 'hue', 'habitat', 'vending', 'odor', 'southwestern', 'increasing', 'posts', 'sacramento', 'sd', 'lace', 'rounding', 'coasters', 'dainty', 'linen', '`', 'puzzled', 'screwing', 'extraordinarily', 'co', 'hugo', 'fillets', 'jerky', 'rosa', 'romance', 'foundation', 'feat', 'topics', 'freely', 'insanity', 'bridges', 'sweetie', 'flock', 'bombay', 'mani\\\\/pedi', 'flowing', 'mud', 'goofy', 'selfish', 'softly', 'botanical', 'atrium', 'believes', 'richmond', 'spadina', 'buddha', 'frying', 'detox', 'ichiza', 'ping', 'pang', 'exceedingly', 'promising', 'dan', 'singers', 'strain', 'scanning', 'thy', 'villa', 'chillin', 'elbow', 'upright', 'valued', 'reds', 'lexus', 'bums', 'fax', 'prepping', 'roger', 'mistakenly', 'feathers', 'apologetic', 'screws', 'compensation', 'functioning', '1970', '1990', 'desired', 'lovingly', 'tex-mex', 'cringe', 'paneling', 'ruth', 'intensely', 'drier', '11:00', 'images', 'brett', 'convey', 'hugs', 'ushered', 'replicate', 'fiber', 'shadows', 'snagged', 'bmw', 'haus', 'ovens', 'pumps', 'handbags', 'plumbing', 'payment', 'diana', 'fairness', 'revolution', '2\\\\/3', 'jake', 'reheat', 'nitrogen', 'marshmallows', 'bailey', 'nightmares', '{', 'newspaper', 'skilled', 'shameful', 'favourites', 'rangoon', 'interacting', '3-star', 'groomer', 'pups', 'flexibility', 'florentine', 'profiles', 'enchilada', 'mules', 'gulab', 'nancy', 'griddle', 'jr', 'saloon', '15.00', 'neglected', 'batali', 'pause', 'shorty', 'marshall', 'sculpture', 'studied', 'satay', 'finale', 'depressed', 'utilized', 'disc', 'coverage', 'plumber', 'bouncing', 'middle-aged', 'grief', 'overseas', 'moe', 'sneeze', 'virtual', 'neglect', 'wallets', 'markham', 'bakers', 'roasters', 'froyo', 'believer', 'burrata', 'riesling', 'zest', 'newbies', 'drawback', 'struggling', 'underage', 'profession', 'trinity', 'religion', 'cloth', 'proves', 'advertises', 'blues', 'beverly', 'overcrowded', 'jeep', 'begging', 'finance', 'methods', 'belongs', 'jackets', 'mart', 'arrowhead', 'glamour', 'readers', 'brake', 'limb', 'heater', 'uhm', '^', 'valuables', 'departing', 'hairs', 'serene', 'harkins', 'irresistible', 'flirting', 'apocalypse', 'hiccups', 'alex', 'fighter', 'blackberries', 'amp', 'fatburger', 'turd', 'pilates', 'riviera', 'friendlier', 'peixoto', 'prison', 'thereof', 'prostitutes', 'casey', '16oz', \"'no\", 'toothsome', 'interpretation', 'pine', 'dumped', 'weakness', 'negativity', 'sammich', 'royale', 'director', 'abrupt', 'errors', 'traveler', 'harassed', 'mic', 'colder', 'atm', 'sls', 'umami', 'creaminess', 'kebabs', 'moussaka', 'coaches', 'nerves', 'creeps', 'innocent', 'critic', 'participate', 'lungs', 'armed', 'occur', 'anthem', 'andrea', 'rockets', 'kaiser', 'admitted', 'marvin', 'boxing', 'flooded', 'costly', 'oolong', 'msg', 'slurp', 'shio', 'losers', 'here..', 'manageable', 'comfortably', 'installer', 'squid', 'grime', 'one-star', 'sidewalks', 'b\\\\/c', 'stained', 'crooked', 'pressing', 'gifted', 'nuclear', 'cure', 'distinctly', 'ribbons', 'eglinton', 'colleagues', 'tested', 'towed', 'michelle', 'unsafe', 'fuckin', 'xmas', 'claire', 'pricier', 'piqued', 'pancit', 'blamed', 'facials', 'cologne', 'hygiene', 'firstly', '50th', 'reusable', 'mailed', 'sponge', 'coarse', 'lockers', 'thou', 'rising', 'coney', 'wives', 'blond', 'expenses', 'employer', 'unappetizing', 'humid', 'cabinet', 'favors', 'fluids', 'douglas', 'douchey', 'coors', 'accomplish', 'adjustments', 'sapphire', 'charles', 'pulp', 'believed', 'remembers', 'realization', 'ana', 'surgeon', 'scantily', 'clad', 'fetish', 'growler', 'catalog', 'ragu', 'masked', 'unreal', 'globe', 'stir-fried', 'peru', 'arroz', 'paella', 'technology', 'namely', 'ancient', 'belgium', 'unaware', 'loitering', 'picasso', 'vincent', 'museums', 'andy', 'galleries', '3-stars', 'mysterious', 'pacing', 'beams', 'penn', 'unapologetic', 'blaring', 'matthew', 'attentiveness', 'gulp', 'pac', 'ono', 'suffered', 'po', 'dumpy', 'bore', 'notre', 'expertise', 'wisely', 'josh', 'oreos', 'vest', 'crinkle', 'describing', 'bicycle', 'statues', 'operates', 'snappy', 'foremost', 'positively', 'scum', 'pans', 'kissing', 'photography', 'campaign', 'viewed', 'sumo', 'darts', 'believing', 'lecture', 'shish', 'carnivorous', 'coveted', 'airports', 'lawn', 'savored', 'satiated', 'shuffle', 'ralph', 'delicacy', 'fate', 'whitney', 'african', 'inducing', 'choke', 'cargo', 'trigger', 'mex', 'kenny', 'powers', 'guts', '51', 'flautas', 'premier', 'cheated', 'wonka', 'icon', 'sounding', 'af', 'outrageously', 'gawd', 'grind', '64', 'grainy', 'musubi', 'pecans', 'pamela', 'motto', 'exceeds', 'forks', 'petsmart', 'cornmeal', 'choking', \"f'ing\", 'robinson', 'priest', 'sean', 'grandview', 'joey', 'pupusas', 'emily', 'keller', 'exhaust', 'loan', 'smoothly', 'masago', 'eel', 'melt-in-your-mouth', 'dynamite', 'gyoza', 'frantic', 'differences', '2.00', 'hustling', 'stranded', 'lookin', 'renamed', 'fixins', 'documentation', 'animated', 'midway', 'tending', 'glanced', 'har', 'gow', 'phase', 'myriad', 'thereafter', 'viet', '.that', 'reckless', 'flush', 'kaiseki', 'slowest', 'prepped', 'torched', 'thieves', 'mind-blowing', 'ornate', 'threading', 'tame', 'threaded', 'sapporo', 'pissing', 'makers', 'importance', 'gateway', 'firmly', 'escaped', 'widely', 'successfully', 'humanity', 'twelve', 'tango', 'farms', 'porch', 'heather', 'laptops', 'junkie', 'kindness', 'spanking', 'lawrenceville', 'satellite', 'shadyside', 'p.p.s', 'surrounds', 'shiitake', 'table-side', '10.00', 'baguettes', 'festivities', 'homage', 'sweats', 'gaze', 'swung', 'aluminum', 'knees', 'conversing', 'encourages', 'maximize', 'extract', 'accomplished', 'galbi', 'zombies', 'hose', 'pins', '7.00', 'snakes', 'steven', 'wright', 'corporation', 'stressed', 'specify', 'urgent', 'sakana', 'woot', 'underrated', 'axe', 'salvage', 'freshest', 'caffeinated', 'teaze', 'duties', 'canadians', 'bouncy', 'dragging', 'pounded', 'uncooked', 'finely', 'remedy', 'cockroaches', 'jameson', 'pineapples', 'estimated', 'bacardi', 'edm', 'forgettable', 'kaya', 'headlights', 'casually', 'groovy', 'bikers', 'busting', 'ruining', 'americana', 'scraping', 'inquiry', 'flyers', 'wontons', 'tents', 'sunscreen', 'food-', 'conduct', 'verbally', 'lurking', 'weirdos', 'chipped', 'intriguing', 'perched', 'lookout', 'lon', 'cushions', 'rockefeller', 'jonathan', 'serendipity', 'mojito', 'console', '2-', 'tier', 'natalie', 'jared', 'communicating', 'dumping', '13th', 'tram', 'bloom', 'stones', 'barking', 'gary', 'frantically', 'emerged', 'crisis', 'flirt', 'maxx', 'defend', 'n9ne', 'squeezing', 'settings', 'checkin', 'ensuring', 'assisted', 'hakka', 'cork', 'lung', 'pakora', 'exemplary', 'manicures', 'pedicures', 'gossip', 'annoyance', 'adrenaline', 'gravity', 'whats', 'officers', 'rebel', 'actively', 'maryland', '800', 'medal', 'brookline', 'prick', 'grant', 'christie', 'possibilities', 'koreans', '19.99', 'pina', 'colada', 'mecca', 'ruins', 'foodies', 'flay', 'scenery', 'topless', 'partly', 'roaches', 'izakaya', 'divorce', 'parfait', 'jr.', 'on-line', 'abandon', 'molly', 'curled', 'leader', \"'til\", 'induced', 'feared', 'chang', 'expansive', 'necessities', 'stems', 'bend', 'russell', 'testosterone', 'bam', 'carpaccio', 'chada', 'sportsbook', 'skates', 'undoubtedly', 'receipts', 'males', 'dandy', 'faithful', 'paninis', 'segment', 'debt', 'nodded', 'milks', 'zak', 'peaches', 'beam', 'sneakers', 'danielle', 'shawn', 'lava', 'sp', 'portland', 'remodeling', 'manually', 'accidents', 'comprehend', 'fanciest', 'howard', 'sources', 'presenting', 'urchin', 'subsequently', 'assault', 'cracks', 'dmv', 'excruciating', 'eggrolls', 'amaze', 'banquet', 'shaving', 'capable', '10:30pm', 'rectify', 'maine', 'amaretto', 'shaker', 'garlicky', 'tastiest', 'traditionally', 'westside', 'tavern', 'flourless', 'mitchell', 'snatched', 'overboard', 'lassi', 'lentil', 'vindaloo', 'examined', 'robbed', 'furious', '\\\\', 'divided', 'taxis', 'operator', 'repairing', 'com', 'comparing', '=d', 'depression', 'tastefully', 'revenue', '7-8', 'roadhouse', 'repetitive', 'accoutrements', 'exams', 'paw', 'demanded', 'flare', 'disease', 'winding', 'speedway', 'frenzy', 'headaches', 'tonkatsu', 'whatnot', '..you', 'hoisin', 'discontinued', 'hordes', 'streetcar', 'richer', 'tempered', 'punched', 'attracted', 'quintessential', 'limes', 'coughing', 'reasoning', 'dispute', 'communicated', 'fought', 'blackout', 'authorized', 'carnival', 'grit', 'rw', 'escargot', 'accompaniments', 'itch', 'awfully', 'calzones', 'glee', 'arguably', 'replica', 'manufacturer', 'educate', 'speechless', 'oblivious', 'acknowledging', 'make-up', '6th', '6-8', 'tainted', 'usb', 'marbling', 'becky', 'subbed', 'vinegary', 'blender', 'leeks', 'pappardelle', 'tiffany', 'cibo', 'grimaldi', 'lavo', 'prop', 'layover', 'unlocked', 'registered', 'denver', 'icky', 'randy', 'cholesterol', 'excels', 'acai', 'kiwi', 'software', 'dec', 'acupuncture', 'chronic', 'reset', 'empathy', 'quest', 'cabinets', 'forewarned', 'marys', 'imaginable', 'engaging', 'plague', 'pow', 'gr', 'fresher', 'clowns', 'funnel', 'bouquet', 'madame', 'sophistication', 'hosting', 'stroller', 'untouched', 'chippendales', 'gangster', 'westgate', 'commute', 'hairdresser', 'shouted', 'eddie', 'scents', 'judgmental', 'holt', 'yorkdale', 'sixth', 'giggled', 'refurbished', 'tataki', 'grande', 'gusto', 'prettier', '8:30', 'redundant', 'linguine', '100th', 'bryan', 'stromboli', 'trusting', 'pyramid', 'disclosure', 'transactions', 'someones', 'ted', 'printer', 'extension', 'emphasize', 'considerable', 'smokiness', 'knacks', 'terrified', 'palmer', 'desyree', 'slushy', 'approaches', 'optional', 'grazie', 'morgan', 'revamped', '2x', 'neapolitan', 'actors', 'saigon', 'bathed', 'hen', 'misunderstanding', 'ip', 'jamun', 'tang', 'intentional', 'scrub', 'taller', 'gargantuan', 'tso', 'mister', 'landscape', 'corny', 'sassy', 'explored', 'formal', 'prosecco', 'ymca', 'workouts', 'eclair', 'cacti', 'remnants', 'guides', 'punishment', 'haul', 'escort', 'fiction', 'immaculate', 'euro', 'sparkly', 'diluted', 'tuition', 'f***', '5:30', 'announce', 'announcement', 'arrange', 'talkin', 'rodeo', \"'m\", 'nay', 'stat', 'batteries', 'cooled', 'craftsteak', 'mina', 'gaga', 'dependable', 'yang', 'siu', 'ales', 'stumbling', 'pedal', 'mates', 'pnc', 'entitled', 'juke', 'lax', 'shelled', 'sara', 'wider', 'sal', 'lodge', 'torta', 'barrio', 'bash', 'compensate', '.we', 'flexible', 'interestingly', 'preparations', 'sprinkling', 'pf', 'kj', 'debris', 'too..', 'youre', 'iffy', 'blowout', 'siracha', 'scope', 'digest', 'personalized', 'dishonest', 'ronald', '6.00', '14.00', 'roma', 'sauvignon', 'monica', 'cells', 'raisins', 'carnevino', 'fiancee', 'demonstration', 'disbelief', 'gastropub', 'catchy', 'jambalaya', 'sought', 'well-known', 'redneck', '.if', 'notices', 'inhaling', 'amy', 'loses', 'speciality', 'pill', 'specifics', 'bounce', 'suffers', 'straps', 'provider', 'ice-cream', 'wannabe', 'chapel', 'cautious', 'hrs', 'pate', 'recommends', 'frugal', 'talkative', 'wally', 'aloof', 'dies', 'precision', 'inspiring', 'oreo', 'counterparts', 'prefers', 'formula', 'nem', 'nuong', 'kbbq', 'mahi', 'roasts', 'all-in-all', 'interview', 'pinky', 'snobs', 'goats', 'enthusiasts', 'gauge', 'technicians', '5,000', 'packaging', 'ftw', 'disturbing', 'smog', 'soba', 'etiquette', 'it-', 'fiesta', 'commend', 'slogan', 'whilst', 'inferior', 'intake', '=p', 'graphic', '911', 'porridge', 'chewiness', 'stain', 'homer', 'cody', 'stadiums', '3-', 'brad', 'coordinator', 'ripoff', 'scarfed', 'touring', 'mania', 'litter', 'pregnancy', 'burlesque', 'tease', 'flakey', 'sting', 'hibiscus', 'proportions', \"'ve\", 'cloves', 'aloo', 'dips', 'partaking', 'bikram', 'buyers', 'firehouse', 'lou', 'chased', 'receptionists', 'francis', 'vuitton', 'firefly', 'bling', 'dimsum', 'entice', 'rapidly', '8oz', 'markup', 'researched', 'installing', 'fussy', 'vanessa', 'voicemail', 'tgi', 'desperation', 'corona', 'hmmmm', 'barbers', '30-45', 'boyz', 'understandably', 'attendees', 'seldom', 'cycling', 'birthdays', 'violation', 'anticipate', 'mat', 'lenses', 'perimeter', 'necklace', 'gown', 'rita', 'chateau', 'speeds', 'pastel', '2006', 'directing', 'mommy', 'witnessing', 'scenic', 'cam', 'tubes', 'clogged', 'fights', 'scarce', 'pluses', 'lolo', 'lo-lo', 'sicilian', 'patios', 'aging', 'peppermint', 'recreate', 'zipline', 'doubles', 'incentive', 'clt', 'crossfit', 'weeknight', 'dank', 'chrome', 'shes', 'sensational', 'lowes', 'stainless', '*note', 'doable', 'filets', 'recognition', 'sunflower', 'lyft', 'achieved', 'metallic', 'damp', 'drain', 'angie', '8th', 'backseat', 'windshield', 'insides', 'albacore', 'tryst', 'bikinis', 'deaf', 'reaches', 'mixers', 'squad', 'cruel', 'swore', 'towners', 'meatless', '31', 'retreat', 'causes', 'modem', '98', '89', 'benny', 'pier', 'grotto', 'flags', '1:00', 'onsite', 'proposed', 'rinse', 'rhyme', 'rarity', 'sisig', 'lowered', 'prickly', 'knick', 'verizon', 'hurried', 'co-ed', 'gender', 'schedules', 'debated', 'gratuities', 'walter', 'jesse', 'income', 'cock', 'cotta', 'decaf', 'jury', 'contacts', 'healthiest', 'wrestling', 'line-up', 'smashburger', 'frosted', 'discourage', 'hover', 'trunk', 'horrid', 'jamming', 'chapter', 'baily', 'bulbs', 'kimchee', 'pierogies', 'underseasoned', 'roaring', 'panels', 'jd', '2001', 'rivers', 'labyrinth', 'aloe', 'frankie', 'endured', 'theatres', 'imax', 'totaled', 'ballet', 'calmly', '*sigh*', 'tartar', 'here-', 'defiantly', 'bracelets', 'necessity', 'fez', 'hips', 'daunting', 'linguini', 'nonexistent', 'presumably', 'brother-in-law', 'kalamata', 'token', 'sis', '2002', 'prada', 'fella', 'x-ray', 'chuckle', 'jordan', 'brides', 'chad', 'hah', 'costumer', 'diva', 'dresser', '50.00', 'worrying', 'operations', 'eggroll', 'weary', 'unclear', 'varying', 'assemble', 'ashes', 'sterling', 'playboy', 'add-ons', 'fillers', 'spy', 'pod', 'tl', 'numbing', 'floored', 'monty', 'spends', 'sandwhich', 'peppercorn', 'tantalizing', 'blaming', 'broths', 'nori', 'yah', 'afar', 'approx', 'sacrifice', 'congested', 'tues', 'firing', 'temple', 'travelling', 'yorkville', 'vons', 'composed', 'instruction', 'priceless', 'cardinals', 'montréal', 'dosa', 'fixes', 'maui', 'finer', 'breed', 'gambler', 'virginia', 'oriented', 'sellers', 'hickory', 'scooping', 'absinthe', 'considerably', 't.v', 'butler', 'hippy', 'weirdo', 'philip', 'behaved', 'requisite', 'champaign', 'rc', 'measures', 'cellphone', 'identified', 'curt', 'collectively', 'napoleon', 'cannolis', 'poppy', 'pokemon', 'cenpho', 'developing', 'jk', 'slop', 'eaton', 'chasu', 'contractor', 'cheating', 'scorpions', 'maria', 'clair', 'elitist', 'granddaughter', 'fam', 'barbara', 'sundaes', 'trustworthy', 'din', 'quieter', 'burro', 'tucson', 'thier', 'sardine', 'proportion', 'thrilling', 'off-strip', 'voodoo', 'christina', 'fitted', 'peeling', 'redo', 'gods', 'danforth', 'luis', 'knee', 'kool-aid', 'barbershop', 'grimy', 'fundido', 'coal', 'dq', 'appalled', 'accomodate', 'sugar-free', 'squished', 'connecting', 'distinguish', 'sprawling', 'pep', 'comedian', 'architectural', '1980', 'ufc', 'coca-cola', 'pairings', 'boobies', 'championship', 'blur', 'begged', 'pest', 'cayenne', 'promotions', 'jinya', '66', 'merci', 'customization', 'sheraton', 'agenda', 'pasties', 'fraud', 'karen', 'astronomical', 'guidelines', 'omnia', 'alexis', 'dentists', '2.', 'expo', 'dom', 'blanco', 'scout', 'von', 'ubiquitous', 'ipic', 'cokes', 'elected', 'serenity', 'petit', 'junction', 'separates', 'hikers', 'meticulously', 'marnier', 'ceasar', 'yogurtland', 'brunette', 'brat', 'sundried', 'vacations', 'cartel', 'gogo', 'marketplace', 'sich', 'ein', 'mit', 'der', 'auch', 'eine', 'und', 'über', 'keno', 'ist', 'hier', 'kann', 'auf', 'sehr', 'uniqueness', 'dungeness', 'mussel', 'aux', 'orgy', 'pierogi', 'gays', 'civic', 'ricky', 'strongest', 'dismissive', 'th', 'johns', 'warranted', 'eyeballs', 'wir', 'nicht', 'zu', 'für', 'wurde', '3-5', 'collected', 'rescheduled', 'committing', 'anime', 'iberico', 'briny', 'pitiful', 'chiropractic', 'evaluation', 'leslie', 'home-made', 'washrooms', 'occupies', 'willingly', 'maggie', 'nikki', 'bb', 'pinto', 'drawers', 'erin', 'lotions', 'attach', 'akron', 'beginner', 'finesse', 'a.k.a', 'spiritual', 'sacred', 'fraiche', 'proprietor', 'skinned', 'defective', 'spaced', 'conclude', 'donation', 'handbag', 'minimalist', 'dale', 'advisor', 'universal', 'incompetence', 'handicap', 'floats', 'unwilling', 'quart', 'accomodating', 'smarter', 'ye', 'swingers', 'oy', 'coins', 'chaat', 'brah', 'delete', 'jen', 'vista', 'williams', 'leash', 'benedicts', 'errr', 'disappearing', 'guitars', 'bartending', 'opentable', 'illness', 'cages', 'reserving', 'debbie', 'enemy', 'merchant', 'spendy', 'cinco', 'recalled', 'tragic', 'ankle', '3:30', 'schmancy', 'elated', 'costa', 'tokens', 'liter', 'goodlife', 'timers', 'chevy', 'inept', 'mastro', 'uninspiring', 'impersonal', 'timed', 'fishes', 'piestewa', 'habits', 'takeaway', 'pardon', 'monta', 'graphics', 'indians', 'spearmint', 'atomic', 'alla', 'arepas', 'engineering', 'chamber', 'nate', 'absurdly', 'banking', 'gasoline', 'confuse', 'restore', 'indicator', 'defensive', 'canopy', 'paddle', 'swag', 'bending', 'tallest', 'pre-packaged', 'goyemon', 'numbered', 'wrapping', 'dangling', 'phil', 'focusing', 'harissa', 'trends', 'horton', 'indicating', 'toasts', 'cathedral', 'sculptures', 'botox', 'fever', 'institute', 'motivation', 'routinely', 'og', 'inebriated', 'unremarkable', 'samy', 'ra', 'thoughtfully', 'alter', 'pumpkins', 'orchard', 'soaps', 'prairie', 'macayo', 'stk', 'angela', 'tapped', 'soju', 'edward', 'rotten', 'momofuku', 'userid=no5e0wtlaoycjhelu6oevg', 'tabs', 'glove', 'lgo', 'peameal', 'bosa', 'patches', 'kielbasa', 'corkage', 'enoki', 'heaters', 'langoustine', 'cuticle', 'smiths', 'gene', 'karaage', 'nobu', 'whatevs', 'rv', 'popeyes', 'traded', 'swears', 'midday', 'tuscan', 'todd', 'awesomely', 'tous', 'dac', 'biet', 'cle', 'corey', 'weapons', 'popeye', 'dolphins', 'lori', 'caffe', 'ganoush', 'ahwatukee', 'ces', 'rusty', 'ck', 'brio', 'pomo', 'assumption', 'gina', 'doorman', 'ali', 'full-on', '15+', 'kidney', 'fragile', 'grandfather', 'seasonally', 'mineral', 'forte', 'me-', 'barf', 'polar', 'disposal', 'smug', 'tailored', 'entirety', 'tyler', 'planted', 'julian', 'choked', 'florist', 'flagship', 'germany', 'raku', 'mont', 'portillo', 'skyline', 'anna', 'faire', 'durant', 'hoof', 'simon', 'grasp', 'occurrence', 'ftr', 'puerto', 'grossly', 'exhibition', 'creamer', 'frittata', 'butterflies', 'andre', 'jaleo', 'scottish', 'smores', 'dramatically', 'pam', 'payed', 'fogo', 'listens', 'overs', 'sooooooo', 'carmelized', 'celiac', 'elton', 'examination', 'op', 'chirashi', 'pierogis', 'mekong', 'lulu', 'schwartz', 'goo', 'remoulade', 'franco', 'kabuto', 'itchy', 'halo-halo', 'luna', 'soho', 'tinting', 'whirlpool', 'i.', 'hiro', 'pan-fried', 'manger', 'adequately', 'utmost', 'samsung', 'walk-ins', 'cronut', 'mercury', 'cronuts', '\\\\/\\\\/', 'unbeatable', 'prescribed', 'mm', 'belts', 'rico', 'bounced', 'mars', 'scrambling', 'symphony', 'reunion', 'tailor', 'contractors', 'westin', 'joseph', 'te', 'noda', 'injera', 'resturant', 'recycled', 'pinnacle', 'estimates', 'jessie', 'rotors', 'suitcase', 'must-try', 'amsterdam', 'beep', 'mimi', 'artisanal', 'belle', 'ants', 'fatcat', 'savoy', 'distraction', 'aveda', 'seoul', 'headset', 'emeril', 'miscommunication', 'bowels', 'philippe', 'hyatt', 'instrument', 'shuts', 'permitted', 'petco', 'smartphone', 'burgr', 'harness', 'groomers', 'md', 'kitchenette', 'bojangles', 'airways', 'eva', 'ultrasound', 'hyundai', 'dropout', 'thunderbird', 'flav', 'holsteins', 'wrigley', 'mlife', 'filters', 'criss', 'lago', 'arthur', 'sns', 'zona', 'frybread', 'penguin', 'zinc', 'guu', 'jollibee', 'shlomi']\n"
     ]
    }
   ],
   "source": [
    "print(words)"
   ]
  },
  {
   "cell_type": "code",
   "execution_count": 39,
   "metadata": {},
   "outputs": [
    {
     "name": "stdout",
     "output_type": "stream",
     "text": [
      "-0.18768346\n"
     ]
    },
    {
     "name": "stderr",
     "output_type": "stream",
     "text": [
      "c:\\users\\ranjeet walia\\appdata\\local\\programs\\python\\python37\\lib\\site-packages\\ipykernel_launcher.py:1: DeprecationWarning: Call to deprecated `similarity` (Method will be removed in 4.0.0, use self.wv.similarity() instead).\n",
      "  \"\"\"Entry point for launching an IPython kernel.\n"
     ]
    }
   ],
   "source": [
    "print(w2v_model.similarity('sauce','modern'))"
   ]
  },
  {
   "cell_type": "code",
   "execution_count": 40,
   "metadata": {},
   "outputs": [
    {
     "name": "stdout",
     "output_type": "stream",
     "text": [
      "[ 0.30663392  2.1334596   1.0261009  -0.23228057  4.051508    1.6616862\n",
      " -0.6196695  -0.7396845   1.0992798   0.23915386 -3.0315828   1.3711885\n",
      " -2.147234    0.85860676 -1.0330967  -0.7435092  -0.5228535  -1.2915766\n",
      " -2.1762702   0.9041815   1.228585    3.4472296  -1.5085216   1.2394153\n",
      "  1.5233995  -1.8114585  -2.3395958   2.4198728   0.3895707  -0.25018182\n",
      "  2.42816     1.7234545   0.8975407  -0.1623027   0.34652779  3.1169002\n",
      "  0.39399087 -0.49084008 -0.40882224  1.1627856   1.5664586  -3.0926545\n",
      "  2.7088773   2.083405    0.5429108   0.40968588 -0.8359106   0.32677647\n",
      " -1.3888913   0.3854501  -1.433739   -1.4985095   0.1565657  -2.364063\n",
      "  0.09824772  0.8858731   2.0276535  -1.393493    1.6826576   1.9487572\n",
      "  1.7788614   0.7117347  -0.7607441   1.3123425  -3.5731845  -1.3884747\n",
      " -0.43426517 -2.935163    0.49510944 -0.83417934  1.1948016  -1.3285553\n",
      "  1.5926557  -0.42121112 -0.54302543  0.6376222   1.0403703   0.72004485\n",
      "  0.5533011  -5.555963   -1.8838735  -1.0446517   0.21993178  0.18062069\n",
      "  1.8834234   1.8382577   0.72772545 -1.2824105  -1.5233817  -0.23821637\n",
      " -0.599204    0.68793875  2.7707686  -1.217739   -0.21670856 -0.9370108\n",
      " -1.1059043  -2.171048    0.7665036  -1.1905574 ]\n"
     ]
    },
    {
     "name": "stderr",
     "output_type": "stream",
     "text": [
      "c:\\users\\ranjeet walia\\appdata\\local\\programs\\python\\python37\\lib\\site-packages\\ipykernel_launcher.py:1: DeprecationWarning: Call to deprecated `__getitem__` (Method will be removed in 4.0.0, use self.wv.__getitem__() instead).\n",
      "  \"\"\"Entry point for launching an IPython kernel.\n"
     ]
    }
   ],
   "source": [
    "print(w2v_model['?'])"
   ]
  },
  {
   "cell_type": "code",
   "execution_count": 41,
   "metadata": {},
   "outputs": [
    {
     "name": "stdout",
     "output_type": "stream",
     "text": [
      "[('woman', 0.6484012603759766)]\n"
     ]
    },
    {
     "name": "stderr",
     "output_type": "stream",
     "text": [
      "c:\\users\\ranjeet walia\\appdata\\local\\programs\\python\\python37\\lib\\site-packages\\ipykernel_launcher.py:1: DeprecationWarning: Call to deprecated `most_similar` (Method will be removed in 4.0.0, use self.wv.most_similar() instead).\n",
      "  \"\"\"Entry point for launching an IPython kernel.\n"
     ]
    }
   ],
   "source": [
    "result = w2v_model.most_similar(positive=['queen', 'man'], negative=['king'], topn=1)\n",
    "print(result)"
   ]
  },
  {
   "cell_type": "code",
   "execution_count": 45,
   "metadata": {},
   "outputs": [
    {
     "name": "stderr",
     "output_type": "stream",
     "text": [
      "c:\\users\\ranjeet walia\\appdata\\local\\programs\\python\\python37\\lib\\site-packages\\ipykernel_launcher.py:1: DeprecationWarning: Call to deprecated `most_similar` (Method will be removed in 4.0.0, use self.wv.most_similar() instead).\n",
      "  \"\"\"Entry point for launching an IPython kernel.\n"
     ]
    },
    {
     "data": {
      "text/plain": [
       "[('huh', 0.845390796661377),\n",
       " ('wtf', 0.8147647380828857),\n",
       " ('kidding', 0.7785767316818237),\n",
       " ('heck', 0.7432834506034851),\n",
       " ('uh', 0.7282010316848755),\n",
       " ('um', 0.7199268341064453),\n",
       " ('nope', 0.7139737606048584),\n",
       " (\"c'mon\", 0.7025094032287598),\n",
       " ('mean', 0.6861091256141663),\n",
       " ('hell', 0.6848318576812744)]"
      ]
     },
     "execution_count": 45,
     "metadata": {},
     "output_type": "execute_result"
    }
   ],
   "source": [
    "(w2v_model.most_similar('?'))"
   ]
  },
  {
   "cell_type": "code",
   "execution_count": 46,
   "metadata": {},
   "outputs": [
    {
     "name": "stderr",
     "output_type": "stream",
     "text": [
      "c:\\users\\ranjeet walia\\appdata\\local\\programs\\python\\python37\\lib\\site-packages\\ipykernel_launcher.py:1: DeprecationWarning: Call to deprecated `most_similar` (Method will be removed in 4.0.0, use self.wv.most_similar() instead).\n",
      "  \"\"\"Entry point for launching an IPython kernel.\n"
     ]
    },
    {
     "data": {
      "text/plain": [
       "[('omg', 0.6858022212982178),\n",
       " ('soo', 0.6136181354522705),\n",
       " ('sooooo', 0.6118803024291992),\n",
       " ('freaking', 0.5957902669906616),\n",
       " ('lol', 0.5956805944442749),\n",
       " ('sooo', 0.5951738357543945),\n",
       " ('soooo', 0.5804808735847473),\n",
       " ('dang', 0.5658035278320312),\n",
       " ('awesome', 0.56219482421875),\n",
       " ('haha', 0.5603320598602295)]"
      ]
     },
     "execution_count": 46,
     "metadata": {},
     "output_type": "execute_result"
    }
   ],
   "source": [
    "(w2v_model.most_similar('!'))"
   ]
  },
  {
   "cell_type": "code",
   "execution_count": 47,
   "metadata": {},
   "outputs": [
    {
     "name": "stderr",
     "output_type": "stream",
     "text": [
      "c:\\users\\ranjeet walia\\appdata\\local\\programs\\python\\python37\\lib\\site-packages\\ipykernel_launcher.py:1: DeprecationWarning: Call to deprecated `most_similar` (Method will be removed in 4.0.0, use self.wv.most_similar() instead).\n",
      "  \"\"\"Entry point for launching an IPython kernel.\n"
     ]
    },
    {
     "data": {
      "text/plain": [
       "[(',', 0.7060431241989136),\n",
       " ('really', 0.579757809638977),\n",
       " ('although', 0.4832914471626282),\n",
       " ('also', 0.4790697395801544),\n",
       " ('actually', 0.4711456894874573),\n",
       " ('food', 0.4687252640724182),\n",
       " ('good', 0.4660904109477997),\n",
       " ('since', 0.4620200991630554),\n",
       " ('seemed', 0.461245059967041),\n",
       " ('would', 0.46079546213150024)]"
      ]
     },
     "execution_count": 47,
     "metadata": {},
     "output_type": "execute_result"
    }
   ],
   "source": [
    "(w2v_model.most_similar('.'))"
   ]
  },
  {
   "cell_type": "code",
   "execution_count": 48,
   "metadata": {},
   "outputs": [],
   "source": [
    "w2v_model.save(\"word2vec.model\")"
   ]
  },
  {
   "cell_type": "markdown",
   "metadata": {},
   "source": [
    "##### Principal Component Analysis or PCA"
   ]
  },
  {
   "cell_type": "code",
   "execution_count": 49,
   "metadata": {},
   "outputs": [
    {
     "name": "stderr",
     "output_type": "stream",
     "text": [
      "c:\\users\\ranjeet walia\\appdata\\local\\programs\\python\\python37\\lib\\site-packages\\ipykernel_launcher.py:1: DeprecationWarning: Call to deprecated `__getitem__` (Method will be removed in 4.0.0, use self.wv.__getitem__() instead).\n",
      "  \"\"\"Entry point for launching an IPython kernel.\n"
     ]
    }
   ],
   "source": [
    "Embedding_index = w2v_model[words]"
   ]
  },
  {
   "cell_type": "code",
   "execution_count": 50,
   "metadata": {},
   "outputs": [],
   "source": [
    "pca = PCA(n_components=2)\n",
    "result = pca.fit_transform(Embedding_index)"
   ]
  },
  {
   "cell_type": "code",
   "execution_count": 51,
   "metadata": {},
   "outputs": [
    {
     "data": {
      "image/png": "[encoded data removed]",
      "text/plain": [
       "<Figure size 432x288 with 1 Axes>"
      ]
     },
     "metadata": {
      "needs_background": "light"
     },
     "output_type": "display_data"
    }
   ],
   "source": [
    "plt.scatter(result[:, 0], result[:, 1])\n",
    "for i, word in enumerate(words):\n",
    "    plt.annotate(word, xy=(result[i, 0], result[i, 1]))\n",
    "plt.show()"
   ]
  },
  {
   "cell_type": "markdown",
   "metadata": {},
   "source": [
    "### Model Inputs"
   ]
  },
  {
   "cell_type": "code",
   "execution_count": 52,
   "metadata": {},
   "outputs": [],
   "source": [
    "funny_data = []\n",
    "nfunny_data = []"
   ]
  },
  {
   "cell_type": "code",
   "execution_count": 53,
   "metadata": {},
   "outputs": [
    {
     "name": "stdout",
     "output_type": "stream",
     "text": [
      "46485\n"
     ]
    }
   ],
   "source": [
    "with open('Model_Input/funny_data.txt', 'rb') as file:\n",
    "    funny_data = pickle.load(file)\n",
    "print(len(funny_data))"
   ]
  },
  {
   "cell_type": "code",
   "execution_count": 54,
   "metadata": {},
   "outputs": [
    {
     "name": "stdout",
     "output_type": "stream",
     "text": [
      "46485\n"
     ]
    }
   ],
   "source": [
    "with open('Model_Input/nfunny_data.txt', 'rb') as file:\n",
    "    nfunny_data = pickle.load(file)\n",
    "print(len(nfunny_data))"
   ]
  },
  {
   "cell_type": "code",
   "execution_count": 55,
   "metadata": {},
   "outputs": [
    {
     "name": "stdout",
     "output_type": "stream",
     "text": [
      "(12928, 100)\n"
     ]
    },
    {
     "name": "stderr",
     "output_type": "stream",
     "text": [
      "c:\\users\\ranjeet walia\\appdata\\local\\programs\\python\\python37\\lib\\site-packages\\ipykernel_launcher.py:3: DeprecationWarning: Call to deprecated `__getitem__` (Method will be removed in 4.0.0, use self.wv.__getitem__() instead).\n",
      "  This is separate from the ipykernel package so we can avoid doing imports until\n"
     ]
    }
   ],
   "source": [
    "w2v_model = gensim.models.Word2Vec.load(\"word2vec.model\")\n",
    "words = list(w2v_model.wv.vocab)\n",
    "Embedding_index = w2v_model[words]\n",
    "print(Embedding_index.shape)"
   ]
  },
  {
   "cell_type": "code",
   "execution_count": 56,
   "metadata": {},
   "outputs": [
    {
     "name": "stderr",
     "output_type": "stream",
     "text": [
      "Using TensorFlow backend.\n"
     ]
    }
   ],
   "source": [
    "from keras.preprocessing.text import Tokenizer\n",
    "from keras.preprocessing.sequence import pad_sequences"
   ]
  },
  {
   "cell_type": "code",
   "execution_count": 57,
   "metadata": {},
   "outputs": [
    {
     "name": "stdout",
     "output_type": "stream",
     "text": [
      "92970\n"
     ]
    }
   ],
   "source": [
    "train_joke= funny_data + nfunny_data\n",
    "print(len(train_joke))"
   ]
  },
  {
   "cell_type": "code",
   "execution_count": 58,
   "metadata": {},
   "outputs": [],
   "source": [
    "tokenizer = Tokenizer()\n",
    "tokenizer.fit_on_texts(train_joke)\n",
    "encoded_joke = tokenizer.texts_to_sequences(train_joke)"
   ]
  },
  {
   "cell_type": "code",
   "execution_count": 59,
   "metadata": {},
   "outputs": [
    {
     "name": "stdout",
     "output_type": "stream",
     "text": [
      "109\n"
     ]
    }
   ],
   "source": [
    "print(len(encoded_joke[1]))"
   ]
  },
  {
   "cell_type": "code",
   "execution_count": 60,
   "metadata": {},
   "outputs": [
    {
     "name": "stdout",
     "output_type": "stream",
     "text": [
      "[139, 30248, 2583, 396, 6655, 57, 35, 338, 935, 12855, 12495, 298, 7, 1742, 262, 626, 93, 391, 889, 52, 526, 319, 13, 166, 14, 3778, 209, 1030, 470, 4522, 423, 457, 8252, 4522, 377, 52, 65, 85, 1160, 844, 198, 14318, 106, 1230, 175, 5726, 373, 70, 35, 18, 637, 170, 112, 7046, 598, 1, 3946, 38, 4972, 7, 80, 106, 399, 889, 52, 336, 384, 20, 423, 168, 1050, 304, 53, 370, 175, 12, 92, 30, 241, 391, 9, 70, 989, 353, 345, 935, 104, 4250, 8, 2507, 431, 380, 175, 408, 7, 186, 982, 13064, 162, 27, 866, 363, 151, 939, 104, 2, 8001, 2886, 1255]\n"
     ]
    }
   ],
   "source": [
    "print(encoded_joke[1])"
   ]
  },
  {
   "cell_type": "code",
   "execution_count": 61,
   "metadata": {},
   "outputs": [
    {
     "name": "stdout",
     "output_type": "stream",
     "text": [
      "review # 189 - 2016 arrived hertz around 2:15 pm aug. 24th able get rental 20-25 minutes . pick process pretty simple . either go customer service rep use self-serve kiosk , ended . lady assisting kiosk phone pretty friendly , lot up-sell kind bothersome . need bigger car economy size since 2 us . understand probably work commission , sometimes 's unnecessary try convince get something need . return process pretty quick easy well . ended getting charged extra day brought car back 1.5 hours pick time since flight leave 8 pm . bad `` grace '' period regular customers . car fine . get anything fancy , kia nothing much write -- fact clean smell bad like rentals encountered elsewhere .\n"
     ]
    }
   ],
   "source": [
    "print(train_joke[1])"
   ]
  },
  {
   "cell_type": "code",
   "execution_count": 62,
   "metadata": {},
   "outputs": [
    {
     "name": "stdout",
     "output_type": "stream",
     "text": [
      "888\n"
     ]
    }
   ],
   "source": [
    "max_length = max([len(s.split()) for s in train_joke])\n",
    "print(max_length)"
   ]
  },
  {
   "cell_type": "code",
   "execution_count": 63,
   "metadata": {},
   "outputs": [
    {
     "name": "stdout",
     "output_type": "stream",
     "text": [
      "92970\n"
     ]
    }
   ],
   "source": [
    "X = pad_sequences(encoded_joke, maxlen=max_length)\n",
    "print(len(X))"
   ]
  },
  {
   "cell_type": "code",
   "execution_count": 64,
   "metadata": {},
   "outputs": [
    {
     "name": "stdout",
     "output_type": "stream",
     "text": [
      "92970\n"
     ]
    }
   ],
   "source": [
    "Y = np.array([1 for _ in range(len(funny))] + [0 for _ in range(len(nfunny_small))])\n",
    "print(len(Y))"
   ]
  },
  {
   "cell_type": "code",
   "execution_count": 65,
   "metadata": {},
   "outputs": [
    {
     "name": "stdout",
     "output_type": "stream",
     "text": [
      "review # 189 - 2016 arrived hertz around 2:15 pm aug. 24th able get rental 20-25 minutes . pick process pretty simple . either go customer service rep use self-serve kiosk , ended . lady assisting kiosk phone pretty friendly , lot up-sell kind bothersome . need bigger car economy size since 2 us . understand probably work commission , sometimes 's unnecessary try convince get something need . return process pretty quick easy well . ended getting charged extra day brought car back 1.5 hours pick time since flight leave 8 pm . bad `` grace '' period regular customers . car fine . get anything fancy , kia nothing much write -- fact clean smell bad like rentals encountered elsewhere .\n"
     ]
    }
   ],
   "source": [
    "print(train_joke[1])"
   ]
  },
  {
   "cell_type": "code",
   "execution_count": 66,
   "metadata": {},
   "outputs": [
    {
     "name": "stdout",
     "output_type": "stream",
     "text": [
      "[    0     0     0     0     0     0     0     0     0     0     0     0\n",
      "     0     0     0     0     0     0     0     0     0     0     0     0\n",
      "     0     0     0     0     0     0     0     0     0     0     0     0\n",
      "     0     0     0     0     0     0     0     0     0     0     0     0\n",
      "     0     0     0     0     0     0     0     0     0     0     0     0\n",
      "     0     0     0     0     0     0     0     0     0     0     0     0\n",
      "     0     0     0     0     0     0     0     0     0     0     0     0\n",
      "     0     0     0     0     0     0     0     0     0     0     0     0\n",
      "     0     0     0     0     0     0     0     0     0     0     0     0\n",
      "     0     0     0     0     0     0     0     0     0     0     0     0\n",
      "     0     0     0     0     0     0     0     0     0     0     0     0\n",
      "     0     0     0     0     0     0     0     0     0     0     0     0\n",
      "     0     0     0     0     0     0     0     0     0     0     0     0\n",
      "     0     0     0     0     0     0     0     0     0     0     0     0\n",
      "     0     0     0     0     0     0     0     0     0     0     0     0\n",
      "     0     0     0     0     0     0     0     0     0     0     0     0\n",
      "     0     0     0     0     0     0     0     0     0     0     0     0\n",
      "     0     0     0     0     0     0     0     0     0     0     0     0\n",
      "     0     0     0     0     0     0     0     0     0     0     0     0\n",
      "     0     0     0     0     0     0     0     0     0     0     0     0\n",
      "     0     0     0     0     0     0     0     0     0     0     0     0\n",
      "     0     0     0     0     0     0     0     0     0     0     0     0\n",
      "     0     0     0     0     0     0     0     0     0     0     0     0\n",
      "     0     0     0     0     0     0     0     0     0     0     0     0\n",
      "     0     0     0     0     0     0     0     0     0     0     0     0\n",
      "     0     0     0     0     0     0     0     0     0     0     0     0\n",
      "     0     0     0     0     0     0     0     0     0     0     0     0\n",
      "     0     0     0     0     0     0     0     0     0     0     0     0\n",
      "     0     0     0     0     0     0     0     0     0     0     0     0\n",
      "     0     0     0     0     0     0     0     0     0     0     0     0\n",
      "     0     0     0     0     0     0     0     0     0     0     0     0\n",
      "     0     0     0     0     0     0     0     0     0     0     0     0\n",
      "     0     0     0     0     0     0     0     0     0     0     0     0\n",
      "     0     0     0     0     0     0     0     0     0     0     0     0\n",
      "     0     0     0     0     0     0     0     0     0     0     0     0\n",
      "     0     0     0     0     0     0     0     0     0     0     0     0\n",
      "     0     0     0     0     0     0     0     0     0     0     0     0\n",
      "     0     0     0     0     0     0     0     0     0     0     0     0\n",
      "     0     0     0     0     0     0     0     0     0     0     0     0\n",
      "     0     0     0     0     0     0     0     0     0     0     0     0\n",
      "     0     0     0     0     0     0     0     0     0     0     0     0\n",
      "     0     0     0     0     0     0     0     0     0     0     0     0\n",
      "     0     0     0     0     0     0     0     0     0     0     0     0\n",
      "     0     0     0     0     0     0     0     0     0     0     0     0\n",
      "     0     0     0     0     0     0     0     0     0     0     0     0\n",
      "     0     0     0     0     0     0     0     0     0     0     0     0\n",
      "     0     0     0     0     0     0     0     0     0     0     0     0\n",
      "     0     0     0     0     0     0     0     0     0     0     0     0\n",
      "     0     0     0     0     0     0     0     0     0     0     0     0\n",
      "     0     0     0     0     0     0     0     0     0     0     0     0\n",
      "     0     0     0     0     0     0     0     0     0     0     0     0\n",
      "     0     0     0     0     0     0     0     0     0     0     0     0\n",
      "     0     0     0     0     0     0     0     0     0     0     0     0\n",
      "     0     0     0     0     0     0     0     0     0     0     0     0\n",
      "     0     0     0     0     0     0     0     0     0     0     0     0\n",
      "     0     0     0     0     0     0     0     0     0     0     0     0\n",
      "     0     0     0     0     0     0     0     0     0     0     0     0\n",
      "     0     0     0     0     0     0     0     0     0     0     0     0\n",
      "     0     0     0     0     0     0     0     0     0     0     0     0\n",
      "     0     0     0     0     0     0     0     0     0     0     0     0\n",
      "     0     0     0     0     0     0     0     0     0     0     0     0\n",
      "     0     0     0     0     0     0     0     0     0     0     0     0\n",
      "     0     0     0     0     0     0     0     0     0     0     0     0\n",
      "     0     0     0     0     0     0     0     0     0     0     0     0\n",
      "     0     0     0     0     0     0     0     0     0     0     0   139\n",
      " 30248  2583   396  6655    57    35   338   935 12855 12495   298     7\n",
      "  1742   262   626    93   391   889    52   526   319    13   166    14\n",
      "  3778   209  1030   470  4522   423   457  8252  4522   377    52    65\n",
      "    85  1160   844   198 14318   106  1230   175  5726   373    70    35\n",
      "    18   637   170   112  7046   598     1  3946    38  4972     7    80\n",
      "   106   399   889    52   336   384    20   423   168  1050   304    53\n",
      "   370   175    12    92    30   241   391     9    70   989   353   345\n",
      "   935   104  4250     8  2507   431   380   175   408     7   186   982\n",
      " 13064   162    27   866   363   151   939   104     2  8001  2886  1255]\n"
     ]
    }
   ],
   "source": [
    "print(X[1])"
   ]
  },
  {
   "cell_type": "code",
   "execution_count": 67,
   "metadata": {},
   "outputs": [
    {
     "name": "stdout",
     "output_type": "stream",
     "text": [
      "1\n"
     ]
    }
   ],
   "source": [
    "print(Y[1])"
   ]
  },
  {
   "cell_type": "code",
   "execution_count": 68,
   "metadata": {},
   "outputs": [],
   "source": [
    "X_train, X_text, Y_train, Y_test = train_test_split(X, Y, test_size=0.2, random_state=42)"
   ]
  },
  {
   "cell_type": "code",
   "execution_count": 69,
   "metadata": {},
   "outputs": [
    {
     "name": "stdout",
     "output_type": "stream",
     "text": [
      "(74376, 888) (18594, 888) (74376,) (18594,)\n"
     ]
    }
   ],
   "source": [
    "print(X_train.shape, X_text.shape, Y_train.shape, Y_test.shape)"
   ]
  },
  {
   "cell_type": "code",
   "execution_count": 70,
   "metadata": {},
   "outputs": [
    {
     "data": {
      "text/plain": [
       "(12928, 100)"
      ]
     },
     "execution_count": 70,
     "metadata": {},
     "output_type": "execute_result"
    }
   ],
   "source": [
    "Embedding_index.shape"
   ]
  },
  {
   "cell_type": "markdown",
   "metadata": {},
   "source": [
    "### Model"
   ]
  },
  {
   "cell_type": "code",
   "execution_count": 71,
   "metadata": {},
   "outputs": [],
   "source": [
    "from keras.models import Sequential\n",
    "from keras.layers import Dense, Dropout\n",
    "from keras.layers import Flatten\n",
    "from keras.layers.embeddings import Embedding\n",
    "from keras.layers.convolutional import Conv1D\n",
    "from keras.layers.convolutional import MaxPooling1D"
   ]
  },
  {
   "cell_type": "code",
   "execution_count": 72,
   "metadata": {},
   "outputs": [],
   "source": [
    "model_joke = Sequential()\n",
    "model_joke.add(Embedding(Embedding_index.shape[0], Embedding_index.shape[1], weights=[Embedding_index], input_length=max_length, trainable=False))\n",
    "model_joke.add(Conv1D(filters=32, kernel_size=8, activation='relu'))\n",
    "model_joke.add(Conv1D(filters=64, kernel_size=8, activation='relu'))\n",
    "model_joke.add(MaxPooling1D(pool_size=2))\n",
    "model_joke.add(Flatten())\n",
    "model_joke.add(Dense(256, activation='relu'))\n",
    "model_joke.add(Dense(1, activation='sigmoid'))"
   ]
  },
  {
   "cell_type": "code",
   "execution_count": 73,
   "metadata": {},
   "outputs": [
    {
     "name": "stdout",
     "output_type": "stream",
     "text": [
      "Model: \"sequential_1\"\n",
      "_________________________________________________________________\n",
      "Layer (type)                 Output Shape              Param #   \n",
      "=================================================================\n",
      "embedding_1 (Embedding)      (None, 888, 100)          1292800   \n",
      "_________________________________________________________________\n",
      "conv1d_1 (Conv1D)            (None, 881, 32)           25632     \n",
      "_________________________________________________________________\n",
      "conv1d_2 (Conv1D)            (None, 874, 64)           16448     \n",
      "_________________________________________________________________\n",
      "max_pooling1d_1 (MaxPooling1 (None, 437, 64)           0         \n",
      "_________________________________________________________________\n",
      "flatten_1 (Flatten)          (None, 27968)             0         \n",
      "_________________________________________________________________\n",
      "dense_1 (Dense)              (None, 256)               7160064   \n",
      "_________________________________________________________________\n",
      "dense_2 (Dense)              (None, 1)                 257       \n",
      "=================================================================\n",
      "Total params: 8,495,201\n",
      "Trainable params: 7,202,401\n",
      "Non-trainable params: 1,292,800\n",
      "_________________________________________________________________\n"
     ]
    }
   ],
   "source": [
    "model_joke.summary()"
   ]
  },
  {
   "cell_type": "code",
   "execution_count": 74,
   "metadata": {},
   "outputs": [],
   "source": [
    "model_joke.compile(loss='binary_crossentropy', optimizer='adam', metrics=['accuracy'])"
   ]
  },
  {
   "cell_type": "code",
   "execution_count": 75,
   "metadata": {},
   "outputs": [
    {
     "name": "stdout",
     "output_type": "stream",
     "text": [
      "Train on 74376 samples, validate on 18594 samples\n",
      "Epoch 1/5\n",
      " - 57s - loss: 0.5364 - accuracy: 0.7538 - val_loss: 0.5238 - val_accuracy: 0.7687\n",
      "Epoch 2/5\n",
      " - 55s - loss: 0.4973 - accuracy: 0.7663 - val_loss: 0.4955 - val_accuracy: 0.7677\n",
      "Epoch 3/5\n",
      " - 55s - loss: 0.4768 - accuracy: 0.7756 - val_loss: 0.4932 - val_accuracy: 0.7731\n",
      "Epoch 4/5\n",
      " - 55s - loss: 0.4540 - accuracy: 0.7878 - val_loss: 0.5179 - val_accuracy: 0.7530\n",
      "Epoch 5/5\n",
      " - 55s - loss: 0.4337 - accuracy: 0.8021 - val_loss: 0.5175 - val_accuracy: 0.7582\n"
     ]
    }
   ],
   "source": [
    "history = model_joke.fit(X_train, Y_train, validation_data=(X_text, Y_test), epochs=5, batch_size=32, verbose=2)"
   ]
  },
  {
   "cell_type": "code",
   "execution_count": 76,
   "metadata": {},
   "outputs": [
    {
     "name": "stdout",
     "output_type": "stream",
     "text": [
      "Test Accuracy: 75.820160\n",
      "Test Loss: 1.677822\n"
     ]
    }
   ],
   "source": [
    "loss, acc = model_joke.evaluate(X_text, Y_test, verbose=0)\n",
    "print('Test Accuracy: %f' % (acc*100))\n",
    "print('Test Loss: %f' % (np.exp(loss)))"
   ]
  },
  {
   "cell_type": "code",
   "execution_count": 77,
   "metadata": {},
   "outputs": [
    {
     "name": "stdout",
     "output_type": "stream",
     "text": [
      "Actual = 1:, Predicted = [1]\n",
      "Actual = 1:, Predicted = [1]\n",
      "Actual = 1:, Predicted = [1]\n",
      "Actual = 1:, Predicted = [1]\n",
      "Actual = 0:, Predicted = [1]\n",
      "Actual = 1:, Predicted = [1]\n",
      "Actual = 1:, Predicted = [1]\n",
      "Actual = 1:, Predicted = [1]\n",
      "Actual = 0:, Predicted = [0]\n",
      "Actual = 1:, Predicted = [1]\n",
      "Actual = 0:, Predicted = [1]\n",
      "Actual = 1:, Predicted = [1]\n",
      "Actual = 0:, Predicted = [1]\n",
      "Actual = 0:, Predicted = [1]\n",
      "Actual = 0:, Predicted = [0]\n",
      "Actual = 1:, Predicted = [0]\n",
      "Actual = 0:, Predicted = [1]\n",
      "Actual = 0:, Predicted = [1]\n",
      "Actual = 1:, Predicted = [1]\n",
      "Actual = 0:, Predicted = [1]\n"
     ]
    }
   ],
   "source": [
    "Y_pred = model_joke.predict_classes(X_text)\n",
    "for i in range(20):\n",
    "    print('Actual = {}:, Predicted = {}'.format(Y_test[i], Y_pred[i]))"
   ]
  },
  {
   "cell_type": "code",
   "execution_count": 78,
   "metadata": {},
   "outputs": [],
   "source": [
    "from sklearn.metrics import accuracy_score, mean_absolute_error, mean_squared_error, r2_score, f1_score, fbeta_score"
   ]
  },
  {
   "cell_type": "code",
   "execution_count": 79,
   "metadata": {},
   "outputs": [
    {
     "name": "stdout",
     "output_type": "stream",
     "text": [
      "0.7582015703990534\n"
     ]
    }
   ],
   "source": [
    "acc = accuracy_score(Y_test, Y_pred)\n",
    "print(\"Accuracy : \".format(acc))"
   ]
  },
  {
   "cell_type": "code",
   "execution_count": 80,
   "metadata": {},
   "outputs": [
    {
     "name": "stdout",
     "output_type": "stream",
     "text": [
      "0.24179842960094655\n"
     ]
    }
   ],
   "source": [
    "error = mean_absolute_error(Y_test, Y_pred)\n",
    "print(\"Mean Absolute Error : \".format(error))"
   ]
  },
  {
   "cell_type": "code",
   "execution_count": 81,
   "metadata": {},
   "outputs": [
    {
     "name": "stdout",
     "output_type": "stream",
     "text": [
      "0.24179842960094655\n"
     ]
    }
   ],
   "source": [
    "error = mean_squared_error(Y_test, Y_pred)\n",
    "print(\"Mean Squared Error : \".format(error))"
   ]
  },
  {
   "cell_type": "code",
   "execution_count": 82,
   "metadata": {},
   "outputs": [
    {
     "name": "stdout",
     "output_type": "stream",
     "text": [
      "0.03271961892691122\n"
     ]
    }
   ],
   "source": [
    "score = r2_score(Y_test, Y_pred)\n",
    "print(\"R2 Score : \".format(score))"
   ]
  },
  {
   "cell_type": "code",
   "execution_count": 83,
   "metadata": {},
   "outputs": [
    {
     "name": "stdout",
     "output_type": "stream",
     "text": [
      "0.7579151410725824\n"
     ]
    }
   ],
   "source": [
    "score = f1_score(Y_test, Y_pred)\n",
    "print(\"F1 Score : \".format(score))"
   ]
  },
  {
   "cell_type": "code",
   "execution_count": 84,
   "metadata": {},
   "outputs": [
    {
     "name": "stdout",
     "output_type": "stream",
     "text": [
      "0.7627945288622028\n"
     ]
    }
   ],
   "source": [
    "score = fbeta_score(Y_test, Y_pred, beta = 0.5)\n",
    "print(\"F-Beta Score : \".format(score))"
   ]
  },
  {
   "cell_type": "markdown",
   "metadata": {},
   "source": [
    "##### summarize history for accuracy"
   ]
  },
  {
   "cell_type": "code",
   "execution_count": 85,
   "metadata": {},
   "outputs": [
    {
     "data": {
      "image/png": "[encoded data removed]",
      "text/plain": [
       "<Figure size 432x288 with 1 Axes>"
      ]
     },
     "metadata": {
      "needs_background": "light"
     },
     "output_type": "display_data"
    }
   ],
   "source": [
    "plt.plot(history.history['accuracy'])\n",
    "plt.plot(history.history['val_accuracy'])\n",
    "plt.title('model accuracy')\n",
    "plt.ylabel('accuracy')\t\n",
    "plt.xlabel('epoch')\n",
    "plt.legend(['train', 'test'], loc='upper left')\n",
    "plt.show()"
   ]
  },
  {
   "cell_type": "markdown",
   "metadata": {},
   "source": [
    "##### summarize history for loss"
   ]
  },
  {
   "cell_type": "code",
   "execution_count": 86,
   "metadata": {},
   "outputs": [
    {
     "data": {
      "image/png": "[encoded data removed]",
      "text/plain": [
       "<Figure size 432x288 with 1 Axes>"
      ]
     },
     "metadata": {
      "needs_background": "light"
     },
     "output_type": "display_data"
    }
   ],
   "source": [
    "plt.plot(history.history['loss'])\n",
    "plt.plot(history.history['val_loss'])\n",
    "plt.title('model loss')\n",
    "plt.ylabel('loss')\n",
    "plt.xlabel('epoch')\n",
    "plt.legend(['train', 'test'], loc='upper left')\n",
    "plt.show()"
   ]
  },
  {
   "cell_type": "code",
   "execution_count": null,
   "metadata": {},
   "outputs": [],
   "source": []
  }
 ],
 "metadata": {
  "kernelspec": {
   "display_name": "Python 3",
   "language": "python",
   "name": "python3"
  },
  "language_info": {
   "codemirror_mode": {
    "name": "ipython",
    "version": 3
   },
   "file_extension": ".py",
   "mimetype": "text/x-python",
   "name": "python",
   "nbconvert_exporter": "python",
   "pygments_lexer": "ipython3",
   "version": "3.7.4"
  }
 },
 "nbformat": 4,
 "nbformat_minor": 2
}
