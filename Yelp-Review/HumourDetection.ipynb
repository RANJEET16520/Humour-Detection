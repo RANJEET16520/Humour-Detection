{
  "nbformat": 4,
  "nbformat_minor": 0,
  "metadata": {
    "colab": {
      "name": "HumourDetection.ipynb",
      "provenance": [],
      "collapsed_sections": []
    },
    "kernelspec": {
      "name": "python3",
      "display_name": "Python 3"
    }
  },
  "cells": [
    {
      "cell_type": "markdown",
      "metadata": {
        "id": "F7eK7c9nSKGc",
        "colab_type": "text"
      },
      "source": [
        "**Script 1- Preprocessing**"
      ]
    },
    {
      "cell_type": "markdown",
      "metadata": {
        "id": "zG8C_7xoT5wX",
        "colab_type": "text"
      },
      "source": [
        "**Import Drive** "
      ]
    },
    {
      "cell_type": "code",
      "metadata": {
        "id": "wM7JBGSbUAqT",
        "colab_type": "code",
        "colab": {
          "base_uri": "https://localhost:8080/",
          "height": 34
        },
        "outputId": "b5703b14-269d-44fa-afe0-47ac10993322"
      },
      "source": [
        "from google.colab import drive\n",
        "drive.mount('/content/drive')"
      ],
      "execution_count": null,
      "outputs": [
        {
          "output_type": "stream",
          "text": [
            "Drive already mounted at /content/drive; to attempt to forcibly remount, call drive.mount(\"/content/drive\", force_remount=True).\n"
          ],
          "name": "stdout"
        }
      ]
    },
    {
      "cell_type": "code",
      "metadata": {
        "id": "DykimQpns_Zn",
        "colab_type": "code",
        "colab": {}
      },
      "source": [
        "funny_file = \"/content/drive/My Drive/Data/Yelp_Review/Raw_Data/funny.txt\"\n",
        "nfunny_file = \"/content/drive/My Drive/Data/Yelp_Review/Raw_Data/nfunny_small.txt\""
      ],
      "execution_count": null,
      "outputs": []
    },
    {
      "cell_type": "markdown",
      "metadata": {
        "id": "Q4nvJuNgS3JB",
        "colab_type": "text"
      },
      "source": [
        "**Import Modules**"
      ]
    },
    {
      "cell_type": "code",
      "metadata": {
        "id": "eYj9R0g2wtb0",
        "colab_type": "code",
        "colab": {
          "base_uri": "https://localhost:8080/",
          "height": 34
        },
        "outputId": "9d338fee-4706-4ce2-fdf6-117b9f10e625"
      },
      "source": [
        "import sys\n",
        "print(sys.executable)"
      ],
      "execution_count": null,
      "outputs": [
        {
          "output_type": "stream",
          "text": [
            "/usr/bin/python3\n"
          ],
          "name": "stdout"
        }
      ]
    },
    {
      "cell_type": "code",
      "metadata": {
        "id": "W6VIg7vInV0B",
        "colab_type": "code",
        "colab": {
          "base_uri": "https://localhost:8080/",
          "height": 51
        },
        "outputId": "0e0ef06a-21fb-41ba-f269-f3f76f18cbff"
      },
      "source": [
        "import numpy as np\n",
        "import matplotlib.pyplot as plt\n",
        "import seaborn as sns\n",
        "import pickle\n",
        "from nltk.tokenize import sent_tokenize, word_tokenize\n",
        "from nltk.corpus import stopwords "
      ],
      "execution_count": null,
      "outputs": [
        {
          "output_type": "stream",
          "text": [
            "/usr/local/lib/python3.6/dist-packages/statsmodels/tools/_testing.py:19: FutureWarning: pandas.util.testing is deprecated. Use the functions in the public API at pandas.testing instead.\n",
            "  import pandas.util.testing as tm\n"
          ],
          "name": "stderr"
        }
      ]
    },
    {
      "cell_type": "code",
      "metadata": {
        "id": "q3Ax7LUInWGm",
        "colab_type": "code",
        "colab": {
          "base_uri": "https://localhost:8080/",
          "height": 1000
        },
        "outputId": "d5a1acfa-e770-422f-f86a-7da17128f510"
      },
      "source": [
        "import nltk\n",
        "nltk.download('all')"
      ],
      "execution_count": null,
      "outputs": [
        {
          "output_type": "stream",
          "text": [
            "[nltk_data] Downloading collection 'all'\n",
            "[nltk_data]    | \n",
            "[nltk_data]    | Downloading package abc to /root/nltk_data...\n",
            "[nltk_data]    |   Unzipping corpora/abc.zip.\n",
            "[nltk_data]    | Downloading package alpino to /root/nltk_data...\n",
            "[nltk_data]    |   Unzipping corpora/alpino.zip.\n",
            "[nltk_data]    | Downloading package biocreative_ppi to\n",
            "[nltk_data]    |     /root/nltk_data...\n",
            "[nltk_data]    |   Unzipping corpora/biocreative_ppi.zip.\n",
            "[nltk_data]    | Downloading package brown to /root/nltk_data...\n",
            "[nltk_data]    |   Unzipping corpora/brown.zip.\n",
            "[nltk_data]    | Downloading package brown_tei to /root/nltk_data...\n",
            "[nltk_data]    |   Unzipping corpora/brown_tei.zip.\n",
            "[nltk_data]    | Downloading package cess_cat to /root/nltk_data...\n",
            "[nltk_data]    |   Unzipping corpora/cess_cat.zip.\n",
            "[nltk_data]    | Downloading package cess_esp to /root/nltk_data...\n",
            "[nltk_data]    |   Unzipping corpora/cess_esp.zip.\n",
            "[nltk_data]    | Downloading package chat80 to /root/nltk_data...\n",
            "[nltk_data]    |   Unzipping corpora/chat80.zip.\n",
            "[nltk_data]    | Downloading package city_database to\n",
            "[nltk_data]    |     /root/nltk_data...\n",
            "[nltk_data]    |   Unzipping corpora/city_database.zip.\n",
            "[nltk_data]    | Downloading package cmudict to /root/nltk_data...\n",
            "[nltk_data]    |   Unzipping corpora/cmudict.zip.\n",
            "[nltk_data]    | Downloading package comparative_sentences to\n",
            "[nltk_data]    |     /root/nltk_data...\n",
            "[nltk_data]    |   Unzipping corpora/comparative_sentences.zip.\n",
            "[nltk_data]    | Downloading package comtrans to /root/nltk_data...\n",
            "[nltk_data]    | Downloading package conll2000 to /root/nltk_data...\n",
            "[nltk_data]    |   Unzipping corpora/conll2000.zip.\n",
            "[nltk_data]    | Downloading package conll2002 to /root/nltk_data...\n",
            "[nltk_data]    |   Unzipping corpora/conll2002.zip.\n",
            "[nltk_data]    | Downloading package conll2007 to /root/nltk_data...\n",
            "[nltk_data]    | Downloading package crubadan to /root/nltk_data...\n",
            "[nltk_data]    |   Unzipping corpora/crubadan.zip.\n",
            "[nltk_data]    | Downloading package dependency_treebank to\n",
            "[nltk_data]    |     /root/nltk_data...\n",
            "[nltk_data]    |   Unzipping corpora/dependency_treebank.zip.\n",
            "[nltk_data]    | Downloading package dolch to /root/nltk_data...\n",
            "[nltk_data]    |   Unzipping corpora/dolch.zip.\n",
            "[nltk_data]    | Downloading package europarl_raw to\n",
            "[nltk_data]    |     /root/nltk_data...\n",
            "[nltk_data]    |   Unzipping corpora/europarl_raw.zip.\n",
            "[nltk_data]    | Downloading package floresta to /root/nltk_data...\n",
            "[nltk_data]    |   Unzipping corpora/floresta.zip.\n",
            "[nltk_data]    | Downloading package framenet_v15 to\n",
            "[nltk_data]    |     /root/nltk_data...\n",
            "[nltk_data]    |   Unzipping corpora/framenet_v15.zip.\n",
            "[nltk_data]    | Downloading package framenet_v17 to\n",
            "[nltk_data]    |     /root/nltk_data...\n",
            "[nltk_data]    |   Unzipping corpora/framenet_v17.zip.\n",
            "[nltk_data]    | Downloading package gazetteers to /root/nltk_data...\n",
            "[nltk_data]    |   Unzipping corpora/gazetteers.zip.\n",
            "[nltk_data]    | Downloading package genesis to /root/nltk_data...\n",
            "[nltk_data]    |   Unzipping corpora/genesis.zip.\n",
            "[nltk_data]    | Downloading package gutenberg to /root/nltk_data...\n",
            "[nltk_data]    |   Unzipping corpora/gutenberg.zip.\n",
            "[nltk_data]    | Downloading package ieer to /root/nltk_data...\n",
            "[nltk_data]    |   Unzipping corpora/ieer.zip.\n",
            "[nltk_data]    | Downloading package inaugural to /root/nltk_data...\n",
            "[nltk_data]    |   Unzipping corpora/inaugural.zip.\n",
            "[nltk_data]    | Downloading package indian to /root/nltk_data...\n",
            "[nltk_data]    |   Unzipping corpora/indian.zip.\n",
            "[nltk_data]    | Downloading package jeita to /root/nltk_data...\n",
            "[nltk_data]    | Downloading package kimmo to /root/nltk_data...\n",
            "[nltk_data]    |   Unzipping corpora/kimmo.zip.\n",
            "[nltk_data]    | Downloading package knbc to /root/nltk_data...\n",
            "[nltk_data]    | Downloading package lin_thesaurus to\n",
            "[nltk_data]    |     /root/nltk_data...\n",
            "[nltk_data]    |   Unzipping corpora/lin_thesaurus.zip.\n",
            "[nltk_data]    | Downloading package mac_morpho to /root/nltk_data...\n",
            "[nltk_data]    |   Unzipping corpora/mac_morpho.zip.\n",
            "[nltk_data]    | Downloading package machado to /root/nltk_data...\n",
            "[nltk_data]    | Downloading package masc_tagged to /root/nltk_data...\n",
            "[nltk_data]    | Downloading package moses_sample to\n",
            "[nltk_data]    |     /root/nltk_data...\n",
            "[nltk_data]    |   Unzipping models/moses_sample.zip.\n",
            "[nltk_data]    | Downloading package movie_reviews to\n",
            "[nltk_data]    |     /root/nltk_data...\n",
            "[nltk_data]    |   Unzipping corpora/movie_reviews.zip.\n",
            "[nltk_data]    | Downloading package names to /root/nltk_data...\n",
            "[nltk_data]    |   Unzipping corpora/names.zip.\n",
            "[nltk_data]    | Downloading package nombank.1.0 to /root/nltk_data...\n",
            "[nltk_data]    | Downloading package nps_chat to /root/nltk_data...\n",
            "[nltk_data]    |   Unzipping corpora/nps_chat.zip.\n",
            "[nltk_data]    | Downloading package omw to /root/nltk_data...\n",
            "[nltk_data]    |   Unzipping corpora/omw.zip.\n",
            "[nltk_data]    | Downloading package opinion_lexicon to\n",
            "[nltk_data]    |     /root/nltk_data...\n",
            "[nltk_data]    |   Unzipping corpora/opinion_lexicon.zip.\n",
            "[nltk_data]    | Downloading package paradigms to /root/nltk_data...\n",
            "[nltk_data]    |   Unzipping corpora/paradigms.zip.\n",
            "[nltk_data]    | Downloading package pil to /root/nltk_data...\n",
            "[nltk_data]    |   Unzipping corpora/pil.zip.\n",
            "[nltk_data]    | Downloading package pl196x to /root/nltk_data...\n",
            "[nltk_data]    |   Unzipping corpora/pl196x.zip.\n",
            "[nltk_data]    | Downloading package ppattach to /root/nltk_data...\n",
            "[nltk_data]    |   Unzipping corpora/ppattach.zip.\n",
            "[nltk_data]    | Downloading package problem_reports to\n",
            "[nltk_data]    |     /root/nltk_data...\n",
            "[nltk_data]    |   Unzipping corpora/problem_reports.zip.\n",
            "[nltk_data]    | Downloading package propbank to /root/nltk_data...\n",
            "[nltk_data]    | Downloading package ptb to /root/nltk_data...\n",
            "[nltk_data]    |   Unzipping corpora/ptb.zip.\n",
            "[nltk_data]    | Downloading package product_reviews_1 to\n",
            "[nltk_data]    |     /root/nltk_data...\n",
            "[nltk_data]    |   Unzipping corpora/product_reviews_1.zip.\n",
            "[nltk_data]    | Downloading package product_reviews_2 to\n",
            "[nltk_data]    |     /root/nltk_data...\n",
            "[nltk_data]    |   Unzipping corpora/product_reviews_2.zip.\n",
            "[nltk_data]    | Downloading package pros_cons to /root/nltk_data...\n",
            "[nltk_data]    |   Unzipping corpora/pros_cons.zip.\n",
            "[nltk_data]    | Downloading package qc to /root/nltk_data...\n",
            "[nltk_data]    |   Unzipping corpora/qc.zip.\n",
            "[nltk_data]    | Downloading package reuters to /root/nltk_data...\n",
            "[nltk_data]    | Downloading package rte to /root/nltk_data...\n",
            "[nltk_data]    |   Unzipping corpora/rte.zip.\n",
            "[nltk_data]    | Downloading package semcor to /root/nltk_data...\n",
            "[nltk_data]    | Downloading package senseval to /root/nltk_data...\n",
            "[nltk_data]    |   Unzipping corpora/senseval.zip.\n",
            "[nltk_data]    | Downloading package sentiwordnet to\n",
            "[nltk_data]    |     /root/nltk_data...\n",
            "[nltk_data]    |   Unzipping corpora/sentiwordnet.zip.\n",
            "[nltk_data]    | Downloading package sentence_polarity to\n",
            "[nltk_data]    |     /root/nltk_data...\n",
            "[nltk_data]    |   Unzipping corpora/sentence_polarity.zip.\n",
            "[nltk_data]    | Downloading package shakespeare to /root/nltk_data...\n",
            "[nltk_data]    |   Unzipping corpora/shakespeare.zip.\n",
            "[nltk_data]    | Downloading package sinica_treebank to\n",
            "[nltk_data]    |     /root/nltk_data...\n",
            "[nltk_data]    |   Unzipping corpora/sinica_treebank.zip.\n",
            "[nltk_data]    | Downloading package smultron to /root/nltk_data...\n",
            "[nltk_data]    |   Unzipping corpora/smultron.zip.\n",
            "[nltk_data]    | Downloading package state_union to /root/nltk_data...\n",
            "[nltk_data]    |   Unzipping corpora/state_union.zip.\n",
            "[nltk_data]    | Downloading package stopwords to /root/nltk_data...\n",
            "[nltk_data]    |   Unzipping corpora/stopwords.zip.\n",
            "[nltk_data]    | Downloading package subjectivity to\n",
            "[nltk_data]    |     /root/nltk_data...\n",
            "[nltk_data]    |   Unzipping corpora/subjectivity.zip.\n",
            "[nltk_data]    | Downloading package swadesh to /root/nltk_data...\n",
            "[nltk_data]    |   Unzipping corpora/swadesh.zip.\n",
            "[nltk_data]    | Downloading package switchboard to /root/nltk_data...\n",
            "[nltk_data]    |   Unzipping corpora/switchboard.zip.\n",
            "[nltk_data]    | Downloading package timit to /root/nltk_data...\n",
            "[nltk_data]    |   Unzipping corpora/timit.zip.\n",
            "[nltk_data]    | Downloading package toolbox to /root/nltk_data...\n",
            "[nltk_data]    |   Unzipping corpora/toolbox.zip.\n",
            "[nltk_data]    | Downloading package treebank to /root/nltk_data...\n",
            "[nltk_data]    |   Unzipping corpora/treebank.zip.\n",
            "[nltk_data]    | Downloading package twitter_samples to\n",
            "[nltk_data]    |     /root/nltk_data...\n",
            "[nltk_data]    |   Unzipping corpora/twitter_samples.zip.\n",
            "[nltk_data]    | Downloading package udhr to /root/nltk_data...\n",
            "[nltk_data]    |   Unzipping corpora/udhr.zip.\n",
            "[nltk_data]    | Downloading package udhr2 to /root/nltk_data...\n",
            "[nltk_data]    |   Unzipping corpora/udhr2.zip.\n",
            "[nltk_data]    | Downloading package unicode_samples to\n",
            "[nltk_data]    |     /root/nltk_data...\n",
            "[nltk_data]    |   Unzipping corpora/unicode_samples.zip.\n",
            "[nltk_data]    | Downloading package universal_treebanks_v20 to\n",
            "[nltk_data]    |     /root/nltk_data...\n",
            "[nltk_data]    | Downloading package verbnet to /root/nltk_data...\n",
            "[nltk_data]    |   Unzipping corpora/verbnet.zip.\n",
            "[nltk_data]    | Downloading package verbnet3 to /root/nltk_data...\n",
            "[nltk_data]    |   Unzipping corpora/verbnet3.zip.\n",
            "[nltk_data]    | Downloading package webtext to /root/nltk_data...\n",
            "[nltk_data]    |   Unzipping corpora/webtext.zip.\n",
            "[nltk_data]    | Downloading package wordnet to /root/nltk_data...\n",
            "[nltk_data]    |   Unzipping corpora/wordnet.zip.\n",
            "[nltk_data]    | Downloading package wordnet_ic to /root/nltk_data...\n",
            "[nltk_data]    |   Unzipping corpora/wordnet_ic.zip.\n",
            "[nltk_data]    | Downloading package words to /root/nltk_data...\n",
            "[nltk_data]    |   Unzipping corpora/words.zip.\n",
            "[nltk_data]    | Downloading package ycoe to /root/nltk_data...\n",
            "[nltk_data]    |   Unzipping corpora/ycoe.zip.\n",
            "[nltk_data]    | Downloading package rslp to /root/nltk_data...\n",
            "[nltk_data]    |   Unzipping stemmers/rslp.zip.\n",
            "[nltk_data]    | Downloading package maxent_treebank_pos_tagger to\n",
            "[nltk_data]    |     /root/nltk_data...\n",
            "[nltk_data]    |   Unzipping taggers/maxent_treebank_pos_tagger.zip.\n",
            "[nltk_data]    | Downloading package universal_tagset to\n",
            "[nltk_data]    |     /root/nltk_data...\n",
            "[nltk_data]    |   Unzipping taggers/universal_tagset.zip.\n",
            "[nltk_data]    | Downloading package maxent_ne_chunker to\n",
            "[nltk_data]    |     /root/nltk_data...\n",
            "[nltk_data]    |   Unzipping chunkers/maxent_ne_chunker.zip.\n",
            "[nltk_data]    | Downloading package punkt to /root/nltk_data...\n",
            "[nltk_data]    |   Unzipping tokenizers/punkt.zip.\n",
            "[nltk_data]    | Downloading package book_grammars to\n",
            "[nltk_data]    |     /root/nltk_data...\n",
            "[nltk_data]    |   Unzipping grammars/book_grammars.zip.\n",
            "[nltk_data]    | Downloading package sample_grammars to\n",
            "[nltk_data]    |     /root/nltk_data...\n",
            "[nltk_data]    |   Unzipping grammars/sample_grammars.zip.\n",
            "[nltk_data]    | Downloading package spanish_grammars to\n",
            "[nltk_data]    |     /root/nltk_data...\n",
            "[nltk_data]    |   Unzipping grammars/spanish_grammars.zip.\n",
            "[nltk_data]    | Downloading package basque_grammars to\n",
            "[nltk_data]    |     /root/nltk_data...\n",
            "[nltk_data]    |   Unzipping grammars/basque_grammars.zip.\n",
            "[nltk_data]    | Downloading package large_grammars to\n",
            "[nltk_data]    |     /root/nltk_data...\n",
            "[nltk_data]    |   Unzipping grammars/large_grammars.zip.\n",
            "[nltk_data]    | Downloading package tagsets to /root/nltk_data...\n",
            "[nltk_data]    |   Unzipping help/tagsets.zip.\n",
            "[nltk_data]    | Downloading package snowball_data to\n",
            "[nltk_data]    |     /root/nltk_data...\n",
            "[nltk_data]    | Downloading package bllip_wsj_no_aux to\n",
            "[nltk_data]    |     /root/nltk_data...\n",
            "[nltk_data]    |   Unzipping models/bllip_wsj_no_aux.zip.\n",
            "[nltk_data]    | Downloading package word2vec_sample to\n",
            "[nltk_data]    |     /root/nltk_data...\n",
            "[nltk_data]    |   Unzipping models/word2vec_sample.zip.\n",
            "[nltk_data]    | Downloading package panlex_swadesh to\n",
            "[nltk_data]    |     /root/nltk_data...\n",
            "[nltk_data]    | Downloading package mte_teip5 to /root/nltk_data...\n",
            "[nltk_data]    |   Unzipping corpora/mte_teip5.zip.\n",
            "[nltk_data]    | Downloading package averaged_perceptron_tagger to\n",
            "[nltk_data]    |     /root/nltk_data...\n",
            "[nltk_data]    |   Unzipping taggers/averaged_perceptron_tagger.zip.\n",
            "[nltk_data]    | Downloading package averaged_perceptron_tagger_ru to\n",
            "[nltk_data]    |     /root/nltk_data...\n",
            "[nltk_data]    |   Unzipping\n",
            "[nltk_data]    |       taggers/averaged_perceptron_tagger_ru.zip.\n",
            "[nltk_data]    | Downloading package perluniprops to\n",
            "[nltk_data]    |     /root/nltk_data...\n",
            "[nltk_data]    |   Unzipping misc/perluniprops.zip.\n",
            "[nltk_data]    | Downloading package nonbreaking_prefixes to\n",
            "[nltk_data]    |     /root/nltk_data...\n",
            "[nltk_data]    |   Unzipping corpora/nonbreaking_prefixes.zip.\n",
            "[nltk_data]    | Downloading package vader_lexicon to\n",
            "[nltk_data]    |     /root/nltk_data...\n",
            "[nltk_data]    | Downloading package porter_test to /root/nltk_data...\n",
            "[nltk_data]    |   Unzipping stemmers/porter_test.zip.\n",
            "[nltk_data]    | Downloading package wmt15_eval to /root/nltk_data...\n",
            "[nltk_data]    |   Unzipping models/wmt15_eval.zip.\n",
            "[nltk_data]    | Downloading package mwa_ppdb to /root/nltk_data...\n",
            "[nltk_data]    |   Unzipping misc/mwa_ppdb.zip.\n",
            "[nltk_data]    | \n",
            "[nltk_data]  Done downloading collection all\n"
          ],
          "name": "stdout"
        },
        {
          "output_type": "execute_result",
          "data": {
            "text/plain": [
              "True"
            ]
          },
          "metadata": {
            "tags": []
          },
          "execution_count": 6
        }
      ]
    },
    {
      "cell_type": "markdown",
      "metadata": {
        "id": "KcpU7SIuPAku",
        "colab_type": "text"
      },
      "source": [
        "**Data Collection**"
      ]
    },
    {
      "cell_type": "markdown",
      "metadata": {
        "id": "kuWIJHkpTBE_",
        "colab_type": "text"
      },
      "source": [
        "Variables"
      ]
    },
    {
      "cell_type": "code",
      "metadata": {
        "id": "eK41ONLtxEPS",
        "colab_type": "code",
        "colab": {}
      },
      "source": [
        "funny = []\n",
        "nfunny = []\n",
        "nfunny_small = []"
      ],
      "execution_count": null,
      "outputs": []
    },
    {
      "cell_type": "markdown",
      "metadata": {
        "id": "zKiMCRBRTDrv",
        "colab_type": "text"
      },
      "source": [
        "Sentence Extraction"
      ]
    },
    {
      "cell_type": "code",
      "metadata": {
        "id": "uPNW333txGSX",
        "colab_type": "code",
        "colab": {}
      },
      "source": [
        "with open(funny_file, 'rb') as file:\n",
        "    funny = pickle.load(file)"
      ],
      "execution_count": null,
      "outputs": []
    },
    {
      "cell_type": "code",
      "metadata": {
        "id": "L6buNu8-xKU3",
        "colab_type": "code",
        "colab": {
          "base_uri": "https://localhost:8080/",
          "height": 34
        },
        "outputId": "0f0dfa24-84b3-40a6-8f4a-ad33775951c1"
      },
      "source": [
        "print(len(funny))"
      ],
      "execution_count": null,
      "outputs": [
        {
          "output_type": "stream",
          "text": [
            "46485\n"
          ],
          "name": "stdout"
        }
      ]
    },
    {
      "cell_type": "code",
      "metadata": {
        "id": "klwsdqfeym_9",
        "colab_type": "code",
        "colab": {}
      },
      "source": [
        "with open(nfunny_file, 'rb') as file:\n",
        "    nfunny_small = pickle.load(file)"
      ],
      "execution_count": null,
      "outputs": []
    },
    {
      "cell_type": "code",
      "metadata": {
        "id": "v_oK7FuTytmH",
        "colab_type": "code",
        "colab": {
          "base_uri": "https://localhost:8080/",
          "height": 34
        },
        "outputId": "82f01381-e0ed-4f7c-c32e-5f79c29e0178"
      },
      "source": [
        "print(len(nfunny_small))"
      ],
      "execution_count": null,
      "outputs": [
        {
          "output_type": "stream",
          "text": [
            "46485\n"
          ],
          "name": "stdout"
        }
      ]
    },
    {
      "cell_type": "markdown",
      "metadata": {
        "id": "VaITPFrFPRnp",
        "colab_type": "text"
      },
      "source": [
        "**Word Processing**"
      ]
    },
    {
      "cell_type": "code",
      "metadata": {
        "id": "3PmbM3brH4aT",
        "colab_type": "code",
        "colab": {}
      },
      "source": [
        "contractions = { \n",
        "\"n't\": \"not\",\n",
        "\"'ve\": \"have\",\n",
        "\"'cause\": \"because\",\n",
        "\"'ll\": \"will\",\n",
        "\"'re\":\"are\",\n",
        "\"'m\":\"am\"\n",
        "}\n",
        "contractions_list = [\"n't\", \"'ve\", \"'cause\", \"'ll\", \"'re\",\"'m\"]"
      ],
      "execution_count": null,
      "outputs": []
    },
    {
      "cell_type": "code",
      "metadata": {
        "id": "zLKmMW5JyzpA",
        "colab_type": "code",
        "colab": {}
      },
      "source": [
        "def tokenise(text):\n",
        "    token = [i.replace('\\n' , ' ') for i in sent_tokenize(text)]\n",
        "    words = [word_tokenize(x.strip()) for x in token]\n",
        "    word = []\n",
        "    for s in words:\n",
        "        if len(s) > 0:\n",
        "            word.append(i.lower().split() for i in s)\n",
        "    l = []\n",
        "    for i in words:\n",
        "        for j in i:\n",
        "            if j in contractions_list:\n",
        "                j = contractions[j]\n",
        "                l.append(j)\n",
        "                continue\n",
        "            l.append(j.lower().strip())\n",
        "    return l"
      ],
      "execution_count": null,
      "outputs": []
    },
    {
      "cell_type": "code",
      "metadata": {
        "id": "9HJmTFZgy1q2",
        "colab_type": "code",
        "colab": {}
      },
      "source": [
        "def All_token(data):\n",
        "    sentences = []\n",
        "    for i in data:\n",
        "        tokens = tokenise(i)\n",
        "        sentences.append(tokens)\n",
        "    return sentences"
      ],
      "execution_count": null,
      "outputs": []
    },
    {
      "cell_type": "code",
      "metadata": {
        "id": "AE2n0vlsQxF2",
        "colab_type": "code",
        "colab": {}
      },
      "source": [
        "def RemoveStopWords(tokens):\n",
        "    stop_words = set(stopwords.words('english')) \n",
        "    \n",
        "    filtered_sentence = [] \n",
        "    for lis in tokens:\n",
        "        w_lis = []\n",
        "        for w in lis: \n",
        "            if w not in stop_words: \n",
        "                w_lis.append(w)\n",
        "        filtered_sentence.append(w_lis)      \n",
        "    return filtered_sentence"
      ],
      "execution_count": null,
      "outputs": []
    },
    {
      "cell_type": "code",
      "metadata": {
        "id": "ktcxUpSbPhuL",
        "colab_type": "code",
        "colab": {}
      },
      "source": [
        "def CreateSentence(word_list):\n",
        "    data = []\n",
        "    for i in range(len(word_list)):\n",
        "        every_word_list = word_list[i]\n",
        "        sentence = ' '.join(word for word in every_word_list)\n",
        "        data.append(sentence)\n",
        "    return data"
      ],
      "execution_count": null,
      "outputs": []
    },
    {
      "cell_type": "markdown",
      "metadata": {
        "id": "LY-w9UAHTS9h",
        "colab_type": "text"
      },
      "source": [
        "Funny Data"
      ]
    },
    {
      "cell_type": "code",
      "metadata": {
        "id": "17twOIocy3sg",
        "colab_type": "code",
        "colab": {
          "base_uri": "https://localhost:8080/",
          "height": 34
        },
        "outputId": "9706a1b9-e57f-4f53-8d67-b97aa6063475"
      },
      "source": [
        "f_tokens = All_token(funny)\n",
        "print(len(f_tokens))"
      ],
      "execution_count": null,
      "outputs": [
        {
          "output_type": "stream",
          "text": [
            "46485\n"
          ],
          "name": "stdout"
        }
      ]
    },
    {
      "cell_type": "code",
      "metadata": {
        "id": "gkomiANcy5mc",
        "colab_type": "code",
        "colab": {
          "base_uri": "https://localhost:8080/",
          "height": 34
        },
        "outputId": "a7ccb8e4-62d3-4093-fbea-bf5e04c1ecd0"
      },
      "source": [
        "filter_f_token = RemoveStopWords(f_tokens)\n",
        "print(len(filter_f_token))"
      ],
      "execution_count": null,
      "outputs": [
        {
          "output_type": "stream",
          "text": [
            "46485\n"
          ],
          "name": "stdout"
        }
      ]
    },
    {
      "cell_type": "code",
      "metadata": {
        "id": "GxQ3igbXznB6",
        "colab_type": "code",
        "colab": {
          "base_uri": "https://localhost:8080/",
          "height": 34
        },
        "outputId": "9247bccf-b678-4282-cd14-ba9bd3fb6518"
      },
      "source": [
        "funny_data = CreateSentence(filter_f_token)\n",
        "print(len(funny_data))"
      ],
      "execution_count": null,
      "outputs": [
        {
          "output_type": "stream",
          "text": [
            "46485\n"
          ],
          "name": "stdout"
        }
      ]
    },
    {
      "cell_type": "code",
      "metadata": {
        "id": "tA7Sxl6OP3gW",
        "colab_type": "code",
        "colab": {}
      },
      "source": [
        "with open('/content/drive/My Drive/Data/Yelp_Review/Model_Input/funny_data.txt', 'wb') as fp:\n",
        "    pickle.dump(funny_data, fp)"
      ],
      "execution_count": null,
      "outputs": []
    },
    {
      "cell_type": "markdown",
      "metadata": {
        "id": "mtuduMKePp_V",
        "colab_type": "text"
      },
      "source": [
        "*Funny Example*"
      ]
    },
    {
      "cell_type": "code",
      "metadata": {
        "id": "oaTGY4VdzpZF",
        "colab_type": "code",
        "colab": {
          "base_uri": "https://localhost:8080/",
          "height": 190
        },
        "outputId": "88ad573f-1f33-4cc4-9ba8-d1f033a3d398"
      },
      "source": [
        "print(funny[1])"
      ],
      "execution_count": null,
      "outputs": [
        {
          "output_type": "stream",
          "text": [
            "Review #189 - 2016\n",
            "\n",
            "We arrived at Hertz at around 2:15 PM on Aug. 24th and was able to get our rental in about 20-25 minutes.  The pick up process is pretty simple.  You can either go to a customer service rep or use their self-serve kiosk, which is what I ended up doing.\n",
            "\n",
            "The lady who was assisting me on the kiosk phone was pretty friendly, but she was doing a lot of up-sell so it was kind of bothersome.  I didn't need a bigger car than an economy size since there was only 2 of us.  I understand that they probably work off of commission, but sometimes it's unnecessary to try and convince you to get something that you don't need.\n",
            "\n",
            "The return process was pretty quick and easy as well.  I ended up getting charged for an extra day because I brought the car back 1.5 hours after the pick up time since my flight didn't leave until 8 PM.  Too bad they don't have a \"grace\" period for regular customers.\n",
            "\n",
            "Other than that the car was fine.  I didn't get anything fancy, just a KIA so nothing much to write about--other than the fact that it was clean and didn't smell bad like some other rentals that I've encountered elsewhere.\n"
          ],
          "name": "stdout"
        }
      ]
    },
    {
      "cell_type": "code",
      "metadata": {
        "id": "c1dvyIuJ3M37",
        "colab_type": "code",
        "colab": {
          "base_uri": "https://localhost:8080/",
          "height": 34
        },
        "outputId": "29ffa048-4684-4145-dc0c-539ca5fbb199"
      },
      "source": [
        "print(len(f_tokens[1]))"
      ],
      "execution_count": null,
      "outputs": [
        {
          "output_type": "stream",
          "text": [
            "242\n"
          ],
          "name": "stdout"
        }
      ]
    },
    {
      "cell_type": "code",
      "metadata": {
        "id": "dcQF7R8JQASj",
        "colab_type": "code",
        "colab": {
          "base_uri": "https://localhost:8080/",
          "height": 54
        },
        "outputId": "95cdc348-49f0-4c2d-b73b-8c4a39013362"
      },
      "source": [
        "print(f_tokens[1])"
      ],
      "execution_count": null,
      "outputs": [
        {
          "output_type": "stream",
          "text": [
            "['review', '#', '189', '-', '2016', 'we', 'arrived', 'at', 'hertz', 'at', 'around', '2:15', 'pm', 'on', 'aug.', '24th', 'and', 'was', 'able', 'to', 'get', 'our', 'rental', 'in', 'about', '20-25', 'minutes', '.', 'the', 'pick', 'up', 'process', 'is', 'pretty', 'simple', '.', 'you', 'can', 'either', 'go', 'to', 'a', 'customer', 'service', 'rep', 'or', 'use', 'their', 'self-serve', 'kiosk', ',', 'which', 'is', 'what', 'i', 'ended', 'up', 'doing', '.', 'the', 'lady', 'who', 'was', 'assisting', 'me', 'on', 'the', 'kiosk', 'phone', 'was', 'pretty', 'friendly', ',', 'but', 'she', 'was', 'doing', 'a', 'lot', 'of', 'up-sell', 'so', 'it', 'was', 'kind', 'of', 'bothersome', '.', 'i', 'did', 'not', 'need', 'a', 'bigger', 'car', 'than', 'an', 'economy', 'size', 'since', 'there', 'was', 'only', '2', 'of', 'us', '.', 'i', 'understand', 'that', 'they', 'probably', 'work', 'off', 'of', 'commission', ',', 'but', 'sometimes', 'it', \"'s\", 'unnecessary', 'to', 'try', 'and', 'convince', 'you', 'to', 'get', 'something', 'that', 'you', 'do', 'not', 'need', '.', 'the', 'return', 'process', 'was', 'pretty', 'quick', 'and', 'easy', 'as', 'well', '.', 'i', 'ended', 'up', 'getting', 'charged', 'for', 'an', 'extra', 'day', 'because', 'i', 'brought', 'the', 'car', 'back', '1.5', 'hours', 'after', 'the', 'pick', 'up', 'time', 'since', 'my', 'flight', 'did', 'not', 'leave', 'until', '8', 'pm', '.', 'too', 'bad', 'they', 'do', 'not', 'have', 'a', '``', 'grace', \"''\", 'period', 'for', 'regular', 'customers', '.', 'other', 'than', 'that', 'the', 'car', 'was', 'fine', '.', 'i', 'did', 'not', 'get', 'anything', 'fancy', ',', 'just', 'a', 'kia', 'so', 'nothing', 'much', 'to', 'write', 'about', '--', 'other', 'than', 'the', 'fact', 'that', 'it', 'was', 'clean', 'and', 'did', 'not', 'smell', 'bad', 'like', 'some', 'other', 'rentals', 'that', 'i', 'have', 'encountered', 'elsewhere', '.']\n"
          ],
          "name": "stdout"
        }
      ]
    },
    {
      "cell_type": "code",
      "metadata": {
        "id": "lespwsIOQAYP",
        "colab_type": "code",
        "colab": {
          "base_uri": "https://localhost:8080/",
          "height": 34
        },
        "outputId": "06b2f6f6-1791-439b-df6d-c865fe83c2f6"
      },
      "source": [
        "print(len(filter_f_token[1]))"
      ],
      "execution_count": null,
      "outputs": [
        {
          "output_type": "stream",
          "text": [
            "123\n"
          ],
          "name": "stdout"
        }
      ]
    },
    {
      "cell_type": "code",
      "metadata": {
        "id": "-YH6B6JDQAe1",
        "colab_type": "code",
        "colab": {
          "base_uri": "https://localhost:8080/",
          "height": 54
        },
        "outputId": "05ebe8c3-3956-4505-fdbb-d1b6b0bb8004"
      },
      "source": [
        "print(filter_f_token[1])"
      ],
      "execution_count": null,
      "outputs": [
        {
          "output_type": "stream",
          "text": [
            "['review', '#', '189', '-', '2016', 'arrived', 'hertz', 'around', '2:15', 'pm', 'aug.', '24th', 'able', 'get', 'rental', '20-25', 'minutes', '.', 'pick', 'process', 'pretty', 'simple', '.', 'either', 'go', 'customer', 'service', 'rep', 'use', 'self-serve', 'kiosk', ',', 'ended', '.', 'lady', 'assisting', 'kiosk', 'phone', 'pretty', 'friendly', ',', 'lot', 'up-sell', 'kind', 'bothersome', '.', 'need', 'bigger', 'car', 'economy', 'size', 'since', '2', 'us', '.', 'understand', 'probably', 'work', 'commission', ',', 'sometimes', \"'s\", 'unnecessary', 'try', 'convince', 'get', 'something', 'need', '.', 'return', 'process', 'pretty', 'quick', 'easy', 'well', '.', 'ended', 'getting', 'charged', 'extra', 'day', 'brought', 'car', 'back', '1.5', 'hours', 'pick', 'time', 'since', 'flight', 'leave', '8', 'pm', '.', 'bad', '``', 'grace', \"''\", 'period', 'regular', 'customers', '.', 'car', 'fine', '.', 'get', 'anything', 'fancy', ',', 'kia', 'nothing', 'much', 'write', '--', 'fact', 'clean', 'smell', 'bad', 'like', 'rentals', 'encountered', 'elsewhere', '.']\n"
          ],
          "name": "stdout"
        }
      ]
    },
    {
      "cell_type": "code",
      "metadata": {
        "id": "hGF4K78tQAkB",
        "colab_type": "code",
        "colab": {
          "base_uri": "https://localhost:8080/",
          "height": 34
        },
        "outputId": "b7a85fd0-a1e6-4b5f-f43d-784bfed59e34"
      },
      "source": [
        "print(len(set(filter_f_token[1])))"
      ],
      "execution_count": null,
      "outputs": [
        {
          "output_type": "stream",
          "text": [
            "96\n"
          ],
          "name": "stdout"
        }
      ]
    },
    {
      "cell_type": "code",
      "metadata": {
        "id": "IV1MnsGwQAub",
        "colab_type": "code",
        "colab": {
          "base_uri": "https://localhost:8080/",
          "height": 54
        },
        "outputId": "5ad3f612-8ece-4ae0-f795-548c8cb2f61a"
      },
      "source": [
        "print(set(filter_f_token[1]))"
      ],
      "execution_count": null,
      "outputs": [
        {
          "output_type": "stream",
          "text": [
            "{'2:15', 'kiosk', 'anything', 'review', 'process', 'size', '-', 'hertz', 'nothing', 'pretty', 'return', 'rentals', 'rep', 'back', 'get', 'pick', 'bothersome', 'extra', 'easy', 'customers', 'either', 'unnecessary', 'friendly', 'customer', 'bigger', 'well', 'commission', 'probably', 'convince', 'charged', 'since', 'economy', 'hours', '#', 'period', 'getting', 'kind', \"'s\", '--', 'go', 'car', 'phone', 'self-serve', 'brought', 'encountered', '189', 'write', 'up-sell', '2016', 'work', 'lot', 'around', 'grace', 'bad', '2', 'need', '``', 'quick', 'clean', 'assisting', 'like', 'aug.', 'leave', '24th', 'day', \"''\", 'pm', '20-25', 'service', 'fancy', 'smell', 'fact', 'something', 'kia', 'us', 'able', 'lady', 'much', 'ended', 'arrived', '1.5', 'elsewhere', 'time', 'flight', 'minutes', 'try', '8', 'rental', 'use', 'regular', ',', 'simple', 'sometimes', 'fine', '.', 'understand'}\n"
          ],
          "name": "stdout"
        }
      ]
    },
    {
      "cell_type": "code",
      "metadata": {
        "id": "ns7pqiSHQLty",
        "colab_type": "code",
        "colab": {
          "base_uri": "https://localhost:8080/",
          "height": 54
        },
        "outputId": "1219aab2-06ba-46f4-aa4e-3f93756ee85b"
      },
      "source": [
        "print(funny_data[1])"
      ],
      "execution_count": null,
      "outputs": [
        {
          "output_type": "stream",
          "text": [
            "review # 189 - 2016 arrived hertz around 2:15 pm aug. 24th able get rental 20-25 minutes . pick process pretty simple . either go customer service rep use self-serve kiosk , ended . lady assisting kiosk phone pretty friendly , lot up-sell kind bothersome . need bigger car economy size since 2 us . understand probably work commission , sometimes 's unnecessary try convince get something need . return process pretty quick easy well . ended getting charged extra day brought car back 1.5 hours pick time since flight leave 8 pm . bad `` grace '' period regular customers . car fine . get anything fancy , kia nothing much write -- fact clean smell bad like rentals encountered elsewhere .\n"
          ],
          "name": "stdout"
        }
      ]
    },
    {
      "cell_type": "markdown",
      "metadata": {
        "id": "LXSHG9rsTiHp",
        "colab_type": "text"
      },
      "source": [
        "Non Funny Data"
      ]
    },
    {
      "cell_type": "code",
      "metadata": {
        "id": "l7HoAZ3ezvad",
        "colab_type": "code",
        "colab": {
          "base_uri": "https://localhost:8080/",
          "height": 34
        },
        "outputId": "c2bef393-45cf-4bd2-8e90-92ba54a78bdf"
      },
      "source": [
        "nf_tokens = All_token(nfunny_small)\n",
        "print(len(nf_tokens))"
      ],
      "execution_count": null,
      "outputs": [
        {
          "output_type": "stream",
          "text": [
            "46485\n"
          ],
          "name": "stdout"
        }
      ]
    },
    {
      "cell_type": "code",
      "metadata": {
        "id": "vji-02drzyPF",
        "colab_type": "code",
        "colab": {
          "base_uri": "https://localhost:8080/",
          "height": 34
        },
        "outputId": "4199e34a-f949-45d6-d386-04f12d58589c"
      },
      "source": [
        "filter_nf_token = RemoveStopWords(nf_tokens)\n",
        "print(len(filter_nf_token))"
      ],
      "execution_count": null,
      "outputs": [
        {
          "output_type": "stream",
          "text": [
            "46485\n"
          ],
          "name": "stdout"
        }
      ]
    },
    {
      "cell_type": "code",
      "metadata": {
        "id": "kUq91dihz1Sw",
        "colab_type": "code",
        "colab": {
          "base_uri": "https://localhost:8080/",
          "height": 34
        },
        "outputId": "a8cc50c9-7f74-4493-dbb5-2b35d525060d"
      },
      "source": [
        "nfunny_data = CreateSentence(filter_nf_token)\n",
        "print(len(nfunny_data))"
      ],
      "execution_count": null,
      "outputs": [
        {
          "output_type": "stream",
          "text": [
            "46485\n"
          ],
          "name": "stdout"
        }
      ]
    },
    {
      "cell_type": "code",
      "metadata": {
        "id": "-h84jXF4KmoN",
        "colab_type": "code",
        "colab": {}
      },
      "source": [
        "with open('/content/drive/My Drive/Data/Yelp_Review/Model_Input/nfunny_data.txt', 'wb') as fo:\n",
        "    pickle.dump(nfunny_data, fo)"
      ],
      "execution_count": null,
      "outputs": []
    },
    {
      "cell_type": "markdown",
      "metadata": {
        "id": "6CzE6fcqQaY9",
        "colab_type": "text"
      },
      "source": [
        "*Non-Funny Example*"
      ]
    },
    {
      "cell_type": "code",
      "metadata": {
        "id": "hUu3ptoZRP5I",
        "colab_type": "code",
        "colab": {
          "base_uri": "https://localhost:8080/",
          "height": 156
        },
        "outputId": "69d618f7-a05c-4776-ff72-338096ee66c1"
      },
      "source": [
        "print(nfunny_small[1])"
      ],
      "execution_count": null,
      "outputs": [
        {
          "output_type": "stream",
          "text": [
            "I *adore* Travis at the Hard Rock's new Kelly Cardenas Salon!  I'm always a fan of a great blowout and no stranger to the chains that offer this service; however, Travis has taken the flawless blowout to a whole new level!  \n",
            "\n",
            "Travis's greets you with his perfectly green swoosh in his otherwise perfectly styled black hair and a Vegas-worthy rockstar outfit.  Next comes the most relaxing and incredible shampoo -- where you get a full head message that could cure even the very worst migraine in minutes --- and the scented shampoo room.  Travis has freakishly strong fingers (in a good way) and use the perfect amount of pressure.  That was superb!  Then starts the glorious blowout... where not one, not two, but THREE people were involved in doing the best round-brush action my hair has ever seen.  The team of stylists clearly gets along extremely well, as it's evident from the way they talk to and help one another that it's really genuine and not some corporate requirement.  It was so much fun to be there! \n",
            "\n",
            "Next Travis started with the flat iron.  The way he flipped his wrist to get volume all around without over-doing it and making me look like a Texas pagent girl was admirable.  It's also worth noting that he didn't fry my hair -- something that I've had happen before with less skilled stylists.  At the end of the blowout & style my hair was perfectly bouncey and looked terrific.  The only thing better?  That this awesome blowout lasted for days! \n",
            "\n",
            "Travis, I will see you every single time I'm out in Vegas.  You make me feel beauuuutiful!\n"
          ],
          "name": "stdout"
        }
      ]
    },
    {
      "cell_type": "code",
      "metadata": {
        "id": "p7OTS7CjQeP0",
        "colab_type": "code",
        "colab": {
          "base_uri": "https://localhost:8080/",
          "height": 34
        },
        "outputId": "a93c3682-609e-445a-a72c-f4a900b08017"
      },
      "source": [
        "print(len(nf_tokens[1]))"
      ],
      "execution_count": null,
      "outputs": [
        {
          "output_type": "stream",
          "text": [
            "310\n"
          ],
          "name": "stdout"
        }
      ]
    },
    {
      "cell_type": "code",
      "metadata": {
        "id": "QXm1-78IQebp",
        "colab_type": "code",
        "colab": {
          "base_uri": "https://localhost:8080/",
          "height": 54
        },
        "outputId": "0afc5ea4-2008-4686-d991-4a7ca0514b64"
      },
      "source": [
        "print(nf_tokens[1])"
      ],
      "execution_count": null,
      "outputs": [
        {
          "output_type": "stream",
          "text": [
            "['i', '*adore*', 'travis', 'at', 'the', 'hard', 'rock', \"'s\", 'new', 'kelly', 'cardenas', 'salon', '!', 'i', 'am', 'always', 'a', 'fan', 'of', 'a', 'great', 'blowout', 'and', 'no', 'stranger', 'to', 'the', 'chains', 'that', 'offer', 'this', 'service', ';', 'however', ',', 'travis', 'has', 'taken', 'the', 'flawless', 'blowout', 'to', 'a', 'whole', 'new', 'level', '!', 'travis', \"'s\", 'greets', 'you', 'with', 'his', 'perfectly', 'green', 'swoosh', 'in', 'his', 'otherwise', 'perfectly', 'styled', 'black', 'hair', 'and', 'a', 'vegas-worthy', 'rockstar', 'outfit', '.', 'next', 'comes', 'the', 'most', 'relaxing', 'and', 'incredible', 'shampoo', '--', 'where', 'you', 'get', 'a', 'full', 'head', 'message', 'that', 'could', 'cure', 'even', 'the', 'very', 'worst', 'migraine', 'in', 'minutes', '--', '-', 'and', 'the', 'scented', 'shampoo', 'room', '.', 'travis', 'has', 'freakishly', 'strong', 'fingers', '(', 'in', 'a', 'good', 'way', ')', 'and', 'use', 'the', 'perfect', 'amount', 'of', 'pressure', '.', 'that', 'was', 'superb', '!', 'then', 'starts', 'the', 'glorious', 'blowout', '...', 'where', 'not', 'one', ',', 'not', 'two', ',', 'but', 'three', 'people', 'were', 'involved', 'in', 'doing', 'the', 'best', 'round-brush', 'action', 'my', 'hair', 'has', 'ever', 'seen', '.', 'the', 'team', 'of', 'stylists', 'clearly', 'gets', 'along', 'extremely', 'well', ',', 'as', 'it', \"'s\", 'evident', 'from', 'the', 'way', 'they', 'talk', 'to', 'and', 'help', 'one', 'another', 'that', 'it', \"'s\", 'really', 'genuine', 'and', 'not', 'some', 'corporate', 'requirement', '.', 'it', 'was', 'so', 'much', 'fun', 'to', 'be', 'there', '!', 'next', 'travis', 'started', 'with', 'the', 'flat', 'iron', '.', 'the', 'way', 'he', 'flipped', 'his', 'wrist', 'to', 'get', 'volume', 'all', 'around', 'without', 'over-doing', 'it', 'and', 'making', 'me', 'look', 'like', 'a', 'texas', 'pagent', 'girl', 'was', 'admirable', '.', 'it', \"'s\", 'also', 'worth', 'noting', 'that', 'he', 'did', 'not', 'fry', 'my', 'hair', '--', 'something', 'that', 'i', 'have', 'had', 'happen', 'before', 'with', 'less', 'skilled', 'stylists', '.', 'at', 'the', 'end', 'of', 'the', 'blowout', '&', 'style', 'my', 'hair', 'was', 'perfectly', 'bouncey', 'and', 'looked', 'terrific', '.', 'the', 'only', 'thing', 'better', '?', 'that', 'this', 'awesome', 'blowout', 'lasted', 'for', 'days', '!', 'travis', ',', 'i', 'will', 'see', 'you', 'every', 'single', 'time', 'i', 'am', 'out', 'in', 'vegas', '.', 'you', 'make', 'me', 'feel', 'beauuuutiful', '!']\n"
          ],
          "name": "stdout"
        }
      ]
    },
    {
      "cell_type": "code",
      "metadata": {
        "id": "LTyJQRixQejf",
        "colab_type": "code",
        "colab": {
          "base_uri": "https://localhost:8080/",
          "height": 34
        },
        "outputId": "f7527c0f-29c2-4aec-fe2e-93db5a4d78b6"
      },
      "source": [
        "print(len(filter_nf_token[1]))"
      ],
      "execution_count": null,
      "outputs": [
        {
          "output_type": "stream",
          "text": [
            "188\n"
          ],
          "name": "stdout"
        }
      ]
    },
    {
      "cell_type": "code",
      "metadata": {
        "id": "mnf1bXK1Qere",
        "colab_type": "code",
        "colab": {
          "base_uri": "https://localhost:8080/",
          "height": 54
        },
        "outputId": "097edb64-bf3f-43d8-cb78-4a6a1d2dcdb0"
      },
      "source": [
        "print(filter_nf_token[1])"
      ],
      "execution_count": null,
      "outputs": [
        {
          "output_type": "stream",
          "text": [
            "['*adore*', 'travis', 'hard', 'rock', \"'s\", 'new', 'kelly', 'cardenas', 'salon', '!', 'always', 'fan', 'great', 'blowout', 'stranger', 'chains', 'offer', 'service', ';', 'however', ',', 'travis', 'taken', 'flawless', 'blowout', 'whole', 'new', 'level', '!', 'travis', \"'s\", 'greets', 'perfectly', 'green', 'swoosh', 'otherwise', 'perfectly', 'styled', 'black', 'hair', 'vegas-worthy', 'rockstar', 'outfit', '.', 'next', 'comes', 'relaxing', 'incredible', 'shampoo', '--', 'get', 'full', 'head', 'message', 'could', 'cure', 'even', 'worst', 'migraine', 'minutes', '--', '-', 'scented', 'shampoo', 'room', '.', 'travis', 'freakishly', 'strong', 'fingers', '(', 'good', 'way', ')', 'use', 'perfect', 'amount', 'pressure', '.', 'superb', '!', 'starts', 'glorious', 'blowout', '...', 'one', ',', 'two', ',', 'three', 'people', 'involved', 'best', 'round-brush', 'action', 'hair', 'ever', 'seen', '.', 'team', 'stylists', 'clearly', 'gets', 'along', 'extremely', 'well', ',', \"'s\", 'evident', 'way', 'talk', 'help', 'one', 'another', \"'s\", 'really', 'genuine', 'corporate', 'requirement', '.', 'much', 'fun', '!', 'next', 'travis', 'started', 'flat', 'iron', '.', 'way', 'flipped', 'wrist', 'get', 'volume', 'around', 'without', 'over-doing', 'making', 'look', 'like', 'texas', 'pagent', 'girl', 'admirable', '.', \"'s\", 'also', 'worth', 'noting', 'fry', 'hair', '--', 'something', 'happen', 'less', 'skilled', 'stylists', '.', 'end', 'blowout', '&', 'style', 'hair', 'perfectly', 'bouncey', 'looked', 'terrific', '.', 'thing', 'better', '?', 'awesome', 'blowout', 'lasted', 'days', '!', 'travis', ',', 'see', 'every', 'single', 'time', 'vegas', '.', 'make', 'feel', 'beauuuutiful', '!']\n"
          ],
          "name": "stdout"
        }
      ]
    },
    {
      "cell_type": "code",
      "metadata": {
        "id": "1coJlQlnQe29",
        "colab_type": "code",
        "colab": {
          "base_uri": "https://localhost:8080/",
          "height": 34
        },
        "outputId": "5572c387-a049-4bb0-af14-87d77eec3ca9"
      },
      "source": [
        "print(len(set(filter_nf_token[1])))"
      ],
      "execution_count": null,
      "outputs": [
        {
          "output_type": "stream",
          "text": [
            "142\n"
          ],
          "name": "stdout"
        }
      ]
    },
    {
      "cell_type": "code",
      "metadata": {
        "id": "t_E4JY7OQqMt",
        "colab_type": "code",
        "colab": {
          "base_uri": "https://localhost:8080/",
          "height": 54
        },
        "outputId": "ea11b2a3-fadd-4f14-a8b7-825edd32b7b6"
      },
      "source": [
        "print(set(filter_nf_token[1]))"
      ],
      "execution_count": null,
      "outputs": [
        {
          "output_type": "stream",
          "text": [
            "{'lasted', 'best', 'fun', 'shampoo', '-', 'flat', 'clearly', 'fingers', 'freakishly', 'every', 'requirement', 'way', 'looked', 'vegas-worthy', 'also', 'get', 'message', 'girl', 'genuine', 'great', 'relaxing', 'admirable', 'even', 'stranger', ';', 'scented', 'making', 'bouncey', 'stylists', 'flipped', 'days', '!', 'chains', 'wrist', '...', 'over-doing', 'happen', 'worst', 'team', 'along', 'texas', 'perfectly', 'flawless', 'well', 'room', 'single', 'seen', 'corporate', 'worth', 'involved', 'thing', 'volume', 'skilled', 'glorious', 'without', 'terrific', 'see', \"'s\", '--', 'look', 'comes', 'iron', 'three', 'black', 'level', 'round-brush', 'next', ')', 'starts', 'incredible', 'kelly', 'outfit', 'make', 'could', '&', 'taken', 'salon', 'new', 'style', '(', 'around', 'gets', 'feel', 'noting', 'people', 'talk', 'extremely', 'however', 'cure', 'head', 'less', 'superb', 'full', 'fan', 'like', 'hard', 'better', 'one', 'awesome', 'styled', 'swoosh', 'beauuuutiful', 'service', 'two', 'perfect', 'help', 'something', 'good', 'pagent', 'strong', 'rock', 'otherwise', 'ever', 'vegas', 'amount', 'much', 'hair', 'end', '*adore*', 'greets', 'cardenas', 'migraine', 'green', 'blowout', 'started', 'whole', 'time', 'minutes', 'fry', '?', 'evident', 'action', 'use', 'travis', ',', 'offer', 'rockstar', 'another', '.', 'always', 'pressure', 'really'}\n"
          ],
          "name": "stdout"
        }
      ]
    },
    {
      "cell_type": "code",
      "metadata": {
        "id": "3x3OwyouQqXQ",
        "colab_type": "code",
        "colab": {
          "base_uri": "https://localhost:8080/",
          "height": 54
        },
        "outputId": "6bbd8ebe-2f32-445a-87b8-ac87f3436637"
      },
      "source": [
        "print(nfunny_data[1])"
      ],
      "execution_count": null,
      "outputs": [
        {
          "output_type": "stream",
          "text": [
            "*adore* travis hard rock 's new kelly cardenas salon ! always fan great blowout stranger chains offer service ; however , travis taken flawless blowout whole new level ! travis 's greets perfectly green swoosh otherwise perfectly styled black hair vegas-worthy rockstar outfit . next comes relaxing incredible shampoo -- get full head message could cure even worst migraine minutes -- - scented shampoo room . travis freakishly strong fingers ( good way ) use perfect amount pressure . superb ! starts glorious blowout ... one , two , three people involved best round-brush action hair ever seen . team stylists clearly gets along extremely well , 's evident way talk help one another 's really genuine corporate requirement . much fun ! next travis started flat iron . way flipped wrist get volume around without over-doing making look like texas pagent girl admirable . 's also worth noting fry hair -- something happen less skilled stylists . end blowout & style hair perfectly bouncey looked terrific . thing better ? awesome blowout lasted days ! travis , see every single time vegas . make feel beauuuutiful !\n"
          ],
          "name": "stdout"
        }
      ]
    },
    {
      "cell_type": "markdown",
      "metadata": {
        "id": "89F_uyx7TnEK",
        "colab_type": "text"
      },
      "source": [
        "**Word 2 Vector Model**"
      ]
    },
    {
      "cell_type": "code",
      "metadata": {
        "id": "-A7-XwNfRQHA",
        "colab_type": "code",
        "colab": {}
      },
      "source": [
        "import gensim   \n",
        "from sklearn.decomposition import PCA"
      ],
      "execution_count": null,
      "outputs": []
    },
    {
      "cell_type": "code",
      "metadata": {
        "id": "HHsFlBDMRQKZ",
        "colab_type": "code",
        "colab": {
          "base_uri": "https://localhost:8080/",
          "height": 34
        },
        "outputId": "1d3c30c8-c859-4e4c-b2dc-a6415f9f0382"
      },
      "source": [
        "final_f_list = filter_f_token + filter_nf_token\n",
        "print(len(final_f_list))"
      ],
      "execution_count": null,
      "outputs": [
        {
          "output_type": "stream",
          "text": [
            "92970\n"
          ],
          "name": "stdout"
        }
      ]
    },
    {
      "cell_type": "code",
      "metadata": {
        "id": "SBGxUc2ORQT8",
        "colab_type": "code",
        "colab": {}
      },
      "source": [
        "num_features = 100    # Word vector dimensionality                      \n",
        "min_word_count = 40   # Minimum word count                        \n",
        "num_workers = 4       # Number of threads to run in parallel\n",
        "context = 10          # Context window size                                                                                    \n",
        "downsampling = 1e-3   # Downsample setting for frequent words"
      ],
      "execution_count": null,
      "outputs": []
    },
    {
      "cell_type": "code",
      "metadata": {
        "id": "2D46SXdSRZAK",
        "colab_type": "code",
        "colab": {}
      },
      "source": [
        "w2v_model = gensim.models.Word2Vec(final_f_list, workers=num_workers,size=num_features, min_count = min_word_count, window = context, sample = downsampling)"
      ],
      "execution_count": null,
      "outputs": []
    },
    {
      "cell_type": "code",
      "metadata": {
        "id": "JhUB4ouWRZDE",
        "colab_type": "code",
        "colab": {
          "base_uri": "https://localhost:8080/",
          "height": 34
        },
        "outputId": "7151c53f-1750-4d81-da0c-8f118115a7f0"
      },
      "source": [
        "words = list(w2v_model.wv.vocab)\n",
        "print(len(words))"
      ],
      "execution_count": null,
      "outputs": [
        {
          "output_type": "stream",
          "text": [
            "12930\n"
          ],
          "name": "stdout"
        }
      ]
    },
    {
      "cell_type": "code",
      "metadata": {
        "id": "M2cvfz8hRZGA",
        "colab_type": "code",
        "colab": {
          "base_uri": "https://localhost:8080/",
          "height": 54
        },
        "outputId": "71986d71-53e5-4699-8235-eb598a6f14c1"
      },
      "source": [
        "print(words)"
      ],
      "execution_count": null,
      "outputs": [
        {
          "output_type": "stream",
          "text": [
            "['took', 'kids', 'hang', 'one', 'fine', '72', 'degree', 'sunny', 'saturday', 'february', '.', 'going', 'bridge', ',', 'coming', 'casino', 'cant', 'miss', 'nice', 'view', 'waterfall', 'park', 'bad', 'playground', 'things', 'vouch', 'little', 'area', 'decent', 'amount', 'equipment', 'swings', 'slides', 'tables', 'benches', 'like', 'soft', 'material', 'use', 'built', 'also', 'sand', 'lot', 'dinosaur', 'bones', 'props', 'day', 'went', 'packed', 'running', 'actually', 'waiting', 'get', '!', 'decided', 'walk', 'around', 'check', 'rest', 'see', 'ducks', 'everywhere', 'especially', 'pond', 'unfortunately', '``', 'stuff', \"''\", 'ends', 'paths', 'walking', 'green', 'duck', 'crap', 'brings', 'question', 'kind', 'spray', 'force', 'field', '?', 'anywhere', 'im', 'curious', 'many', 'people', 'would', 'spread', 'blanket', 'picnic', 'grass', 'well', 'review', 'starting', 'grossed', 'thinking', 'carefully', 'trying', 'step', 'car', 'made', 'mental', 'note', 'make', 'sure', 'mention', 'saw', 'hesitate', 'mentioning', 'everybody', 'know', 'either', 'making', 'plans', 'thing', 'positive', 'think', 'come', 'diet', 'seeing', 'probably', 'wont', 'much', 'appetite', 'definitely', 'exercise', 'avoid', 'stepping', 'yeah', 'worried', 'back', 'place', 'time', 'soon', 'lifetime', '(', ')', 'lol', 'maybe', '#', '-', '2016', 'arrived', 'hertz', 'pm', 'able', 'rental', '20-25', 'minutes', 'pick', 'process', 'pretty', 'simple', 'go', 'customer', 'service', 'rep', 'self-serve', 'kiosk', 'ended', 'lady', 'assisting', 'phone', 'friendly', 'need', 'bigger', 'economy', 'size', 'since', '2', 'us', 'understand', 'work', 'commission', 'sometimes', \"'s\", 'unnecessary', 'try', 'convince', 'something', 'return', 'quick', 'easy', 'getting', 'charged', 'extra', 'brought', '1.5', 'hours', 'flight', 'leave', '8', 'grace', 'period', 'regular', 'customers', 'anything', 'fancy', 'nothing', 'write', '--', 'fact', 'clean', 'smell', 'rentals', 'encountered', 'elsewhere', 'solid', 'really', 'good', 'chicken', 'happy', 'recent', 'visits', 'combos', 'tender', 'juicy', 'crispy', 'flavorful', 'order', 'dip', 'different', 'sauces', 'husband', 'enjoy', 'plan', 'returning', 'pros', ':', '*', '&', 'efficient', 'counter', 'modern', 'decor', 'plenty', 'options', 'large', 'windows', 'tvs', 'watched', 'football', 'include', 'shoestring', 'fries', 'small', 'cup', 'coleslaw', 'skinny', 'salty', 'plentiful', '|', 'bit', 'bland', 'taste', 'crisp', 'crunch', 'tasty', 'seasoning', 'delicious', 'slight', 'spicy', 'dry', 'coating', 'hint', 'cajun', 'find', 'greasy', 'breading', 'light', 'overwhelming', 'pop', 'served', 'soda', 'fountain', 'sweetened', 'cane', 'sugar', 'iced', 'tea', 'honey', 'unsweetened', 'milkshakes', 'thick', 'creamy', 'always', 'orders', 'dipping', 'sauce', 'wildflower', 'chipotle', 'wasabi', 'flavors', 'love', 'tenders', 'habanero', 'hot', 'barbecue', 'lunch', 'box', 'special', 'deal', 'm-f', '11am', '4pm', '3', 'whole', 'wings', 'drink', '=', 'bucks', 'cons', 'seems', 'pricey', 'essentially', 'priced', 'higher', 'expect', 'joint', 'looking', '$', '10', '15', 'person', 'however', 'quality', 'joints', 'upscale', 'atmosphere', 'casual', \"'\", 'restaurant', '1', '2017', 'drove', 'couple', 'weeks', 'ago', 'said', 'international', 'market', 'looks', 'interesting', 'yelp', 'later', 'reading', 'reviews', 'liz', 'lemon', 'exclaimed', '6', 'vegetarian', 'indian', 'food', 'want', 'wound', 'immediately', 'ordered', 'paneer', 'sucker', 'cute', 'lil', 'behind', 'proceeded', 'give', 'sweet', 'waited', 'consisted', 'roti', 'rice', 'pickles', 'okra', 'yumminess', 'believe', 'veggie', 'dumplings', 'feeling', 'generous', 'gave', 'tomato', 'soup', 'definite', 'bonus', 'points', 'everything', 'fantastic', 'although', 'expecting', 'flavor', 'sit-down', ';', 'instead', 'invited', 'grandma', 'kitchen', 'filled', 'bellies', 'wandered', 'aisles', 'grocery', 'store', 'planned', 'buying', 'found', 'masala', 'super', 'cheap', 'black', 'salt', 'could', 'giant', 'bag', 'powder', 'normally', '12', 'tiny', 'jar', 'else', '...', 'picture', 'pantry', 'mint', 'tamarind', 'bottled', 'naan', 'huge', 'blocks', 'trust', 'say', 'seriously', 'considered', 'snack', 'home', 'giving', '4', 'stars', 'days', 'cold', 'missing', 'first', 'friday', 'evening', 'soap', 'opera', 'tv', 'interrupted', '.so', 'obviously', 'ca', 'blame', 'favorite', 'vegas', '100', 'challenge', 'heard', 'family', 'friends', 'years', 'experience', 'till', 'sometime', 'last', 'year', 'began', 'morning', 'cardio', 'several', 'week', 'agree', 'ass', 'wish', 'existed', 'childhood', 'grassy', 'soccer', 'laying', 'relax', 'read', 'book', 'draw', 'seen', 'photo', 'sessions', 'path', 'way', 'mountain', 'great', 'short', 'hike', 'solo', 'every', 'others', 'hiking', 'trail', 'felt', 'safe', 'knowing', 'accidentally', 'fell', 'cement', 'dirt', 'gravel', 'careful', 'hill', 'adventurous', 'souls', 'recommended', 'beginners', 'exploring', 'two', 'levels', '1st', 'level', 'shaded', 'table', 'city', 'top', 'platform', 'amazing', 'nevada', 'history', 'peaceful', 'reminds', 'nature', 'tai', 'chi', 'and\\\\/or', 'watch', 'stage', 'end', 'guessing', 'plays', 'performances', 'warmer', 'months', 'bathrooms', 'stocked', 'bring', 'fur', 'buddies', '***', 'tip', 'live', 'edge', 'diamond', 'buffalo', 'road', 'entrance', 'searching', 'local', 'peruvian', 'subdued', 'may', 'refer', 'hole', 'wall', 'interior', 'conducive', 'groups', 'former', 'location', 'far', 'away', 'visit', 'décor', 'included', 'mural', 'floors', 'three', 'rows', 'stretched', 'across', 'dining', 'started', 'ceviche', 'de', '12.95', 'came', 'slices', 'tilapia', 'stacked', 'marinated', 'lime', 'juice', 'spices', 'lettuce', 'yam', 'red', 'onions', 'corn', 'fresh', 'nicely', 'seasoned', 'without', 'overpowering', 'embedded', 'accompanied', 'eaten', 'sharp', 'concerned', 'portion', 'fish', 'turned', 'worthwhile', 'shared', 'pollo', '11.95', 'chunks', 'sautéed', 'chopped', 'tomatoes', 'french', 'cilantro', 'soy', 'side', 'steamed', 'profile', 'point', 'contributed', 'dish', 'fried', 'perfection', 'glad', 'cuts', 'thicker', 'soak', 'wished', 'cooked', 'met', 'expectations', '13.95', 'stewed', 'beef', 'loin', 'peas', 'yucca', 'salsa', 'beans', 'wine', 'lots', 'spots', 'dimension', 'textures', 'bites', 'refined', 'loved', 'subtly', 'given', 'roasted', 'aji', 'appeared', 'chunky', 'smooth', 'type', 'usually', 'restaurants', 'number', 'limitations', 'worth', 'noting', 'unlike', 'offer', 'bread', 'starter', 'meal', 'secondly', 'courteous', 'throughout', 'whatever', 'reason', 'server', 'personally', 'wrote', 'bill', 'delivery', 'act', 'unusual', 'offensive', 'disrespectful', 'ironically', 'happened', 'coupons', 'least', 'gesture', 'willing', 'benefit', 'doubt', 'still', 'influenced', 'rating', 'interested', 'diners', 'currently', '20', 'voucher', 'per', 'date', 'nights', 'sipping', 'numerous', 'times', 'opened', 'even', 'month', 'impressed', 'open', 'asked', 'opening', 'construction', 'worker', 'truly', 'remodel', 'done', 'inside', 'building', 'used', 'private', 'hibachi', 'rooms', 'goodness', 'sake', 'ambiance', 'sushi', 'updated', 'posh', 'stewart', 'worthy', 'lounge', 'hell', 'means', 'sounds', 'weird', 'huh', 'look', 'pics', 'lovely', 'chandelier', 'everyone', 'takes', 'talks', 'magical', 'menu', 'sage', 'american', 'fusion', 'cares', 'title', 'entrees', 'yet', 'already', 'dinner', 'accommodate', 'vegan', 'problem', 'forward', 'pasta', 'custom', 'creation', 'items', 'portobello', 'flat', 'salads', 'accommodating', 'almost', 'guess', 'newer', 'help', 'perfect', 'garage', 'door', 'patio', 'sit', 'left', 'hand', 'booth', 'ton', 'soooo', 'big', 'fit', 'gathering', 'fun', 'update', 'full', 'remember', 'take', 'soo', 'marvelous', 'addition', 'beautiful', 'sw', 'proud', 'oh', 'hubby', 'house', 'terrible', 'hostess', 'sat', 'turns', 'share', 'finally', '30', 'passed', 'ever', 'approached', 'wanted', 'let', 'never', 'greeted', 'supposed', 'requirement', 'keeping', 'real', 'eatery', 'created', 'marketing', 'group', 'personality', 'rather', 'chef', 'driven', 'words', 'farm', 'raised', 'organic', 'replaced', 'outta', 'awesome', 'slam', 'dunk', 'daddy', 'bold', 'bordering', 'components', 'compete', 'compliment', 'spent', 'smoking', 'cigars', 'killed', 'packs', 'shareable', 'respectable', 'sashimi', 'skin', 'shaped', 'taco', 'shell', 'ahi', 'mixed', 'mango', 'jicama', 'topped', 'odd', 'aioli', 'passable', 'adds', 'fondue', 'bizarre', 'breadsticks', 'wrapped', 'pepperoni', 'self', 'dipped', 'oil', 'provolone', 'sausage', 'fans', 'pizza', 'right', 'sandwiches', 'burgers', 'rod', 'boy', 'shake', 'hands', 'doggie', 'contrary', 'ex', 'might', 'dog', 'tossed', 'burger', 'falling', 'half', 'bun', 'toppings', 'spilling', 'thrown', 'measure', 'features', 'prime', 'rib', 'smothered', 'melting', 'pepper', 'jack', 'cheese', 'deep', 'garlic', 'excessive', 'bitter', 'horseradish', 'impossible', 'grease', 'mask', 'smash', 'sports', 'mix', 'bourbon', 'bbq', 'claim', 'brioche', 'honestly', 'kills', 'buds', 'mac-n-cheese', 'bacon', 'cloying', 'pickup', 'messy', 'eat', 'soggy', 'accompanies', 'selections', 'fast', 'attentive', 'tourist', 'show', 'locals', 'regulars', 'care', 'choose', 'pan', 'worst', 'generic', 'eating', 'dude', 'hair', 'rode', 'motorcycle', 'white', 'sleeves', 'rolled', 'sunglasses', 'jeans', 'worn', 'yes', 'locations', 'rant', 'thanks', 'ok', 'daughter', 'pain', 'stuck', 'room', 'yelping', 'hoping', 'next', 'quite', 'terms', 'long', 'emergency', 'er', 'state', 'pace', 'staff', 'change', 'name', 'hey', 'bunch', 'together', 'misery', 'sickness', 'call', 'circus', 'mean', 'ridiculous', 'provide', 'frame', 'adventure', 'current', 'children', 'called', 'woo', 'got', 'word', 'doctor', '..it', 'disney', 'round', 'corner', 'another', '9', 'dr', '..', 'god', 'sun', 'please', 'anybody', 'headed', 'wait', 'folks', 'pharmacy', 'better', 'outcome', 'sammie', 'world', 'omg', 'twice', 'kettle', 'chips', 'en', '.but', 'assured', 'wrap', 'wheat', 'stay', 'overly', 'filling', 'descriptions', 'choices', 'plus', 'selection', 'cookies', 'makes', 'catering', 'tray', 'bet', 'yelpers', 'photos', 'idea', 'marvel', 'fan', 'dream', '50', 'percent', 'saved', 'money', 'didnt', 'bother', 'memories', 'opted', 'paying', 'girl', 'tour', 'guide', 'remembered', 'interactive', 'informative', 'highlight', 'son', 'absolutely', 'obsessed', 'hammer', 'icing', 'cake', 'hour', 'overall', 'gift', 'shop', 'purchase', 'totally', 'recommend', 'visiting', 'thank', 'joyce', 'writing', 'weekend', 'noticed', 'pleasant', 'music', 'playing', 'loudly', 'aromas', 'crazy', 'run', 'errands', 'afterwards', 'oxtail', '10.99', '8.99', 'coconut', 'meats', 'begin', 'describe', 'seasonings', 'warm', 'create', 'comfort', 'put', 'broth', 'comes', 'wonderful', 'potato', 'salad', 'meals', 'often', 'treat', 'eggy', 'daily', 'specials', 'board', 'overheard', 'forgot', 'sample', 'learn', 'wo', 'nearly', 'jan', '2nd', '2013', 'signed', 'notice', 'refund', 'calling', 'returned', 'calls', 'refunded', 'receiving', 'scam', 'artists', 'join', 'schools', 'mesa', 'peoria', 'wearing', 'favourite', 'cotton', 't-shirt', 'faded', 'ripped', 'laundry', '8:00', 'monday', 'night', 'streets', 'empty', 'basically', 'mine', 'following', 'allure', 'neon', 'yellow', 'blue', 'sign', 'clothing', 'henry', 'laundromat', 'cleaners', '18th', 'avenue', 'convenient', 'best', 'orchestra', 'washers', 'dryers', 'serviced', 'helpful', 'establishment', 'according', 'working', 'mere', 'dollars', 'handful', 'quarters', 'count', 'double', 'load', 'consistently', 'job', 'drying', 'line', '70s', 'vinyl', 'brown', 'chairs', 'facing', '40', 'inch', 'television', 'dances', 'returns', 'increase', 'volume', 'third', 'asking', 'shrug', 'shoulders', 'smile', 'part', 'closing', 'concentrate', 'cleaning', 'single', 'socks', 'folding', 'second', 'prices', 'candy', 'bars', 'nibble', 'pass', 'certificates', 'calgary', 'claimed', 'prize', 'incarnation', 'must', 'feel', 'incredibly', 'relaxed', 'random', 'conversation', 'ironing', 'modest', 'hope', 'continues', 'head', 'secretly', 'macy', 'grey', 'certain', 'dishes', 'tasted', 'excellent', 'tasting', 'outside', 'option', 'checked', 'mash', '14', 'braised', 'mushrooms', 'pearl', 'buttered', 'puree', 'rachel', 'twist', 'au', 'vin', 'arrive', 'looked', 'presented', 'dig', 'potatoes', 'butter', 'effing', 'mashed', 'agreed', 'lacking', 'pour', 'difference', 'free', 'sangria', 'strawberry', 'champagne', 'pancakes', 'dutch', 'baby', 'style', 'price', 'fair', 'needing', 'swallow', 'bite', 'somewhat', 'raw', 'center', 'salted', 'caramel', 'toffee', 'vanilla', 'custard', 'crunchy', 'fleur', 'though', 'closed', 'apple', 'enjoyed', 'desserts', 'actual', 'kinda', 'limited', 'improvement', 'future', 'tastings', 'upcoming', 'events', 'social', 'media', 'pages', 'coffee', 'italian', 'paid', 'hotel', 'guests', 'showed', 'id', 'knew', 'told', 'mild', 'luke', 'seating', 'conveniently', 'located', 'walkway', 'palazzo', 'venetian', 'kat', 'judged', 'alcohol', 'alone', 'relate', 'occurred', 'dudes', 'sitting', 'deck', 'imperial', 'pub', 'set', 'summer', 'glorious', 'late', 'september', 'usual', '3-4', 'pints', 'lager', 'talking', 'hate', 'relationship', 'band', 'loves', 'dead', 'jerry', 'guys', 'chicago', 'wayne', 'cc', 'cover', '70', 'pile', 'blow', 'onstage', 'danced', 'continued', 'guest', 'kept', 'missed', 'fist', 'pounding', 'misses', 'sums', 'loathe', 'chino', 'bandido', 'undeniably', 'become', 'l.a.', 'discovering', 'roaming', 'using', 'twitter', 'samples', 'combo', 'quesadilla', 'jade', 'pork', 'refried', 'disappointed', 'damn', 'outstanding', 'blend', 'transported', 'to-go', 'microwave', 'spirit', 'taking', 'pictures', 'posing', 'poster', 'guy', 'fieri', 'checking', 'news', 'discussed', 'mentioned', 'eyes', 'lit', 'cups', 'yep', 'hype', 'intelligent', 'toys', 'deals', 'figure', 'treats', 'listed', 'dozen', 'website', 'front', 'leap', 'chase', 'warehouse', 'hear', \"ma'am\", '21', 'dammit', 'turn', 'purse', 'ticked', 'carry', 'expensive', 'wallet', 'cash', 'sight', 'ask', 'someone', 'uncomfortable', 'aside', 'dear', 'ryan', 'sorry', 'stolen', 'hard', 'retail', 'business', '500', 'steal', 'ya', 'absorb', 'toy', 'insulting', 'treated', 'criminal', 'tone', 'trip', 'dim', '2\\\\/5', 'intensity', 'scale', '1.50', 'stores', 'drive', 'save', 'shoppers', 'seemed', 'ew', 'air', 'aisle', '5', 'employees', 'standing', 'staring', 'watching', 'creepy', '80', '%', 'stock', 'stuffed', 'chewing', 'power', 'shark', 'jealous', 'needs', 'tough', 'ai', 'gon', 'na', 'cut', 'suitable', 'unless', 'somehow', 'walked', 'carried', 'driving', 'central', 'phoenix', 'scottsdale', 'tornado', 'rope', 'chewed', 'halfway', 'knot', 'middle', 'le', 'sigh', 'company', 'team', 'appreciation', 'event', 'golf', 'tell', 'excited', 'mini', 'haha', 'jalapeno', 'margarita', 'perfectly', 'freaking', 'locally', 'brewed', 'beers', 'tap', 'sold', 'smelt', 'delish', 'hazelnut', 'beer', 'catered', 'pickled', 'slow', 'smoked', 'brisket', 'chili', 'mac', 'baked', 'freshly', 'rolls', 'fixings', 'slaw', 'unlimited', 'water', 'sodas', 'teas', 'buns', 'drizzled', 'high', 'hopes', 'sadly', 'loser', 'seem', 'lacked', 'golfing', 'reserved', 'topgolf', 'ready', 'play', 'wrong', 'game', 'rush', 'hitting', 'ball', 'fly', 'land', 'colored', 'goals', 'inner', 'tiger', 'woods', 'ages', 'hanging', 'awareness', 'unfortunate', 'prevent', 'disabled', 'persons', 'outright', 'disrespect', 'shortly', '11', 'graciously', 'buddy', 'tall', 'physical', 'surprise', 'introduction', 'telling', 'move', 'pointing', 'obvious', 'explaining', 'partner', 'clearly', 'repeated', 'statement', 'busy', 'clear', 'issue', 'moved', 'additional', 'bar', 'anyone', 'blocking', 'space', 'valid', 'disregard', 'suggest', 'management', 'ensure', 'individuals', 'inform', 'inability', 'aware', 'sever', 'understanding', 'situation', 'awful', 'gets', 'sound', 'confused', 'haircut', 'gotten', 'mom', 'town', 'overpriced', 'salon', 'west', 'hollywood', 'insisted', 'appointment', 'ensued', 'tattoos', 'piercings', 'afternoon', 'stop', 'raving', 'fabulous', 'less', 'fix', 'badass', 'near', 'objects', 'bright', 'lights', 'las', 'fu', '@', 'king', 'greatest', 'planet', 'opinion', 'reality', 'legal', 'adults', 'whether', 'gambling', 'drinking', 'sex', 'shopping', 'acceptable', 'desert', 'caters', 'young', 'old', 'personal', 'tiki', 'drinks', 'living', 'life', 'consuming', 'rum', 'based', 'offers', 'finest', 'entertainment', 'concerts', 'strip', 'clubs', 'unbelievable', 'dj', 'including', 'paul', 'jersey', 'shore', 'sampled', 'steaks', 'joe', 'thai', 'la', 'fremont', 'street', 'along', 'bottles', 'bacchanal', 'lovers', 'beverage', 'consumption', 'locate', 'lv', 'frank', 'elvis', 'deserves', 'survive', 'steep', 'steps', 'downstairs', 'enter', 'appears', 'speakeasy', 'beneath', 'era', 'liquor', 'runners', 'hippies', 'eclectic', 'college', 'cast', 'characters', 'hipsters', 'professors', 'folk', 'likes', 'butternut', 'squash', 'bisque', 'cornbread', 'today', 'keep', 'mind', 'relatively', 'early', 'otherwise', 'community', 'spot', 'campus', 'spend', 'places', 'corporate', 'eateries', 'lining', 'wifi', 'dessert', 'tangy', 'yogurt', 'ruin', 'favorites', '~', 'cheesecake', 'cookie', 'dough', 'crumbles', 'strawberries', 'marshmallow', 'creme', 'concoction', 'seat', 'seats', 'logo', 'hello', 'kitty', 'buy', 'craving', 'dogs', 'luck', 'charlotte', 'matt', 'uptown', 'hassle', 'jj', 'figuring', 'start', 'chose', 'relish', 'mustard', 'pickle', 'choice', 'toasted', 'boiled', 'wiener', 'charred', 'ben', 'peanut', 'sriracha', 'onion', 'rings', 'check-in', 'thin', 'coated', 'batter', 'ones', 'planning', 'healthier', 'parking', 'busier', 'suggested', 'tried', 'lacks', 'variety', 'select', 'grain', 'grilled', 'added', 'adding', 'quinoa', '7', 'preferred', 'barley', 'pieces', 'item', 'friend', 'avocado', '5\\\\/5', 'buzzer', 'whirl', 'entering', 'twilight', 'celebrated', 'occasion', '60', 'woman', 'stretch', 'percentage', 'varies', 'known', 'exceed', 'reservations', 'aforementioned', 'fortune', 'details', 'anyway', 'seated', 'support', 'sexy', 'works', 'realizing', 'new', 'waitress', 'allergies', 'thought', 'selecting', 'result', 'shock', 'fyi', 'five', '450', 'dent', 'bank', 'account', 'control', 'witty', 'enough', 'imagine', 'dollar', 'bills', 'clouds', 'rapid', '180', 'audi', 'a5', 'tan', 'leather', 'trim', 'instant', 'leaving', 'brother', 'comment', 'birthday', 'bro', 'ps', 'glass', 'male', 'moments', 'instagram', 'invented', 'listen', 'advice', 'sushisamba', 'temporary', 'forever', 'man', 'electric', 'chair', 'movie', 'shrimp', 'combinations', 'ice', 'yada', '37', 'http', 'favs', 'busted', 'lobster', 'tails', '2-3', 'grab', 'beats', 'setting', 'catch', 'waking', '4am', 'fishing', 'feast', 'contest', 'varied', 'stations', 'seafood', 'alternatives', 'mexican', 'mediterranean', 'among', 'carving', 'station', 'etc', 'village', 'buffet', 'exactly', 'states', \"'d\", 'rent', 'players', 'card', \"c'mon\", 'position', 'died', 'gone', 'heaven', 'p.s', 'add', 'forget', 'blueberry', 'donuts', 'close', 'infamous', 'donut', 'hut', 'inn', 'east', 'travel', '45', 'moist', 'texture', 'plain', 'blueberries', 'thursday', 'owner', 'cambodian', 'gf', 'sent', 'link', 'fellow', 'yelper', 'posted', 'talk', 'incredible', 'royalty', 'chat', 'story', 'cheat', '\\\\/\\\\/www.yelp.com\\\\/user_local_photos', 'userid=y3fcl4bly0ellkb0sdpnbq', 'tips', 'appreciate', 'expanded', 'changed', 'crepe', 'breakfast', 'sunday', '5-6', 'decide', 'savory', 'crepes', 'various', 'beverages', 'non', 'octopus', 'tahini', 'dulce', 'leche', 'finish', 'plate', 'presentation', 'balanced', 'colors', 'faced', 'crumbly', 'traditional', 'folded', 'easier', 'general', 'slightly', 'heirloom', 'chorizo', 'wishing', 'element', 'balance', 'perhaps', 'squeeze', 'orange', 'brighten', 'chickpeas', 'dehydrated', 'banana', 'lightly', 'candied', 'moroccan', 'spiced', 'almond', 'milk', 'latte', 'subtle', 'exotic', 'spice', 'handle', 'sticky', 'spilled', 'grip', 'problems', 'enjoyable', 'upgrade', 'star', 'tag', '3:00', 'subway', 'sandwich', '4:00', 'walmart', 'throw', 'neck', 'pillows', 'poles', 'members', 'midnight', 'sort', 'yea', 'hates', 'america', 'intense', 'country', 'begins', 'growing', 'became', '24\\\\/7', 'becoming', 'happen', 'swimming', 'shorts', '5:00', '9:00', 'knock', 'annoying', 'kid', 'past', 'exaggerating', 'dragged', 'crowded', 'typical', 'admit', 'helped', 'average', 'dark', 'baffled', '3.99', 'buffets', '16', 'nowadays', 'precisely', 'pastrami', 'rye', 'arriving', 'boys', 'famished', 'dropped', 'bags', 'toilets', 'separate', 'important', 'sharing', 'experts', 'art', 'movements', 'floor', 'shoulder', 'bumping', 'sloppy', 'drunk', 'girls', 'runny', 'promise', 'importantly', 'heap', 'sensual', 'fingers', 'devoured', 'quietly', 'upon', 'wondering', 'lost', 'entirely', 'sense', 'haunted', 'splitting', 'enhanced', 'cocktail', 'bringing', 'vodka', 'cleavage', 'mound', 'holy', 'stuffing', 'face', '95', 'sunlight', 'umbrella', 'lunchtime', 'sell', 'fav', 'nuggets', 'buckwheat', 'seeds', 'curry', 'leaves', 'covered', 'pastry', 'textural', 'rad', 'tastes', 'chickpea', 'slider', 'killer', 'low', 'mid', 'classics', 'fab', 'samosas', 'piles', 'fennel', 'seed', 'smoky', 'multiple', 'saucy', 'allow', 'lb', 'fee', '35', 'hotels', 'shall', 'remain', 'cats', '25', 'lbs', 'cat', 'naughty', 'spoil', 'bowls', 'package', 'bed', 'sized', 'slept', 'replacement', 'luxury', 'spacious', 'sq', 'feet', 'gorgeous', 'ceilings', 'wood', 'plush', 'sheets', 'bathroom', 'faces', 'blinds', 'course', 'shower', 'advantage', 'romantic', 'promo', 'offered', 'taxes', 'inclusive', 'discounted', 'complete', 'chilled', 'condoms', '+', 'lube', 'scented', 'candle', 'healthy', 'serving', 'chocolate', 'feed', 'housekeeping', 'worry', 'complaint', 'noise', 'loud', 'technically', 'sleep', 'gives', 'four', 'paws', 'december', 'sore', 'throat', 'worse', 'design', 'chief', 'comfortable', 'heart', 'downtown', 'discover', 'sad', 'out..', 'overrated', 'bagels', 'eggs', 'solution', 'peppermill', 'buried', 'fireside', 'bloody', 'mary', 'quiet', 'pink', 'purple', 'color', 'scheme', 'combined', 'thousands', 'mirrors', 'ceiling', 'warmth', 'limo', 'circa', 'cousin', 'essence', 'class', 'booths', 'dispenser', 'rainbow', 'matches', 'cheesy', 'condition', 'squeaky', 'pristine', 'jungle', 'silk', 'plants', 'speck', 'dust', 'inviting', 'well-maintained', 'kitsch', 'suit', 'ashamed', 'portions', 'enormous', 'fruit', 'party', 'platter', 'split', 'omelet', 'hash', 'browns', 'foods', 'professional', 'hangover', 'pool', 'outlets', 'hiding', 'retirement', 'savings', 'disco', '24', 'exciting', 'sum', 'available', 'inattentive', 'likely', 'beside', 'employee', 'refills', 'napkins', 'organized', 'capriotti', 'pacific', 'ocean', 'elite', 'nelson', 'deli', 'wanting', 'smallest', 'sub', 'swiss', 'cole', 'russian', 'dressing', 'sammies', 'award', 'winning', 'hi', 'iphone', 'addict', 'angry', 'bird', 'addiction', 'possible', 'contained', 'device', 'app', 'crack', 'habit', 'beloved', 'treasure', 'fully', 'charge', 'drop', 'constantly', 'entire', 'pint', 'soaking', 'wasting', 'cabs', 'sky', 'harbor', 'airport', 'shuttles', 'luckily', 'recover', 'realized', 'knows', 'six', 'tops', 'flipped', 'bitch', 'passing', 'driver', 'thumbs', 'precious', 'safely', 'helps', 'recovery', 'vig', 'proof', 'received', '4.5', 'regardless', 'railroad', 'tracks', 'quickly', 'landing', 'maximum', 'drivers', 'download', 'coupon', 'uncovered', 'cheaper', 'cab', 'awkward', 'rides', 'flake', 'belongings', 'chance', 'sea', 'witch', 'tonight', 'pregnant', 'due', 'pumped', \"'hood\", 'celebrate', 'possibly', 'parents', 'slowly', 'literally', 'locks', '8pm', 'functional', 'bodies', 'minute', 'slack', 'cry', 'fat', 'locked', 'shrugged', 'numb', 'soul', 'teeth', 'sinks', 'coke', 'hurry', 'workers', 'smiled', 'rose', 'instance', 'chain', 'fucking', 'stinky', 'ghetto', 'broken', 'broad', 'daylight', 'roll', 'eye', 'towards', 'daring', 'disturb', 'stand', 'exposed', 'shot', 'fail', 'sack', 'shit', 'pharmacist', 'written', 'prescription', 'shows', 'closest', '24-hour', 'humble', 'facility', 'except', 'clutch', 'google', 'maps', 'nowhere', 'mailing', 'address', 'rail', 'museum', 'ok.', 'prepared', 'window', 'tonkotsu', 'ramen', 'miso', 'authentic', 'lived', 'japan', 'purist', 'noodles', 'preference', 'belly', 'speaking', 'hungry', 'glasses', 'straight', 'japanese', 'refill', 'bottle', 'nearby', 'funny', 'observation', 'serve', 'yuzu', 'palate', 'cleanser', 'heck', 'comments', 'blah', 'secret', 'hidden', 'gem', 'groupon', 'happily', 'roast', 'americans', 'legit', 'cali', 'roberto', 'co-workers', 'jumped', 'opportunity', 'prettiest', 'surprisingly', 'ample', 'temperature', 'borderline', 'humans', 'scratch', 'intoxicating', 'fresca', 'cantaloupe', 'awhile', 'vibes', 'hit', 'mins', 'huevos', 'rancheros', 'deliver', 'wasnt', 'waffle', 'mama', 'mia', 'eggplant', 'unique', 'homemade', 'ingredients', 'die', 'chatted', 'stopped', 'al', 'pastor', 'says', 'express', 'description', 'naturally', 'stood', 'signs', 'confusing', 'larger', 'strange', 'spit', 'spinning', 'meat', 'tacos', 'tortilla', 'pineapple', 'anymore', 'badly', 'parts', 'zero', 'honest', 'tortillas', 'site', '3.50', 'sour', 'cream', 'guacamole', 'melted', 'edible', 'asada', 'gristle', 'jokes', 'moly', 'dreaming', 'cozy', 'bustling', 'extensive', 'deciding', 'strong', 'equally', 'touch', 'plates', 'settled', 'dome', 'nutella', 'sliced', 'thinly', 'piled', 'deliciously', 'brownies', 'shavings', 'scoop', 'icecream', 'smack', 'dab', '.the', 'crossed', 'eyed', 'pure', 'joy', 'calorie', 'bomb', 'distracted', 'a+', 'concept', 'phenomenal', 'hmm', 'b', 'n', 'annoyed', 'cashier', 'guilt', 'membership', 'math', 'discount', 'break', 'n.', 'changes', 'tuesday', 'august', 'indie', 'bookstore', 'library', 'gal', 'materials', 'stack', 'asks', 'politely', 'sideways', 'shocked', 'tick', 'passive', 'aggressive', 'magazines', 'wax', 'geez', 'decade', 'hearing', 'program', 'demand', 'records', 'burn', 'cds', 'punk', 'limits', 'spaces', 'reasonable', 'consistent', 'flow', 'cool', 'pizzeria', 'bianco', 'millions', 'sentence', 'businesses', 'manages', 'within', 'sooner', 'experiencing', 'trendy', 'questionable', 'beyond', 'threw', 'caution', 'wind', 'margherita', 'liked', 'signature', 'pie', 'crust', 'dates', 'hip', 'snotty', 'mad', 'ugh', 'hotdogs', 'season', 'sketchy', 'perfume', 'shops', 'oasis', 'wow', 'scarf', 'regularly', 'topic', 'laugh', 't-shirts', 'moment', 'shirt', 'lamb', 'mug', 'quarter', 'mile', 'craziness', 'saturdays', 'sundays', 'busiest', 'recently', 'gym', 'shoes', 'nike', 'nuts', 'butts', 'max', 'fake', 'product', 'inventory', 'coach', 'converse', 'collection', 'sells', 'dope', 'outlet', 'cook', '**', 'sip', 'mmmm', 'knocking', 'brand', 'requires', 'patience', 'stroll', 'mall', 'holidays', 'advise', 'pack', 'horizon', 'auntie', 'anne', 'pretzels', 'heat', 'sweating', 'conditioning', 'miserable', 'inspire', 'understatement', 'entry', 'tournament', 'courts', 'sweat', 'mercy', 'families', 'fund', 'units', 'joking', 'five-star', 'wife', 'declared', 'brulee', 'krispy', 'kreme', 'original', 'glazed', 'rise', 'ham', 'biscuit', 'pimento', 'egg', 'monstrosity', 'downside', 'ate', 'familiar', 'assuming', 'kinds', 'quantity', 'visited', 'yesterday', 'promised', '15-20', 'apologies', 'batch', 'quoted', 'okay', 'sub-par', 'watery', 'undercooked', 'heading', 'mouth', 'shoddy', 'rude', 'satisfactory', 'tangerine', 'golden', 'miles', 'frequently', 'schnitzel', 'mother', 'dreams', 'calm', 'respond', 'shut', 'stupid', 'chilli', 'pose', 'explains', 'traveled', 'frozen', 'blended', 'whip', 'wisconsin', 'dairy', 'kicks', 'starbucks', 'hairy', 'coffees', 'robust', 'surly', 'lesbian', 'aunt', 'fargo', 'afterall', 'digress', 'trivia', 'obligatory', 'views', 'famous', 'watering', 'toe', 'brain', 'freezing', 'dee', 'brazilian', 'vibe', 'impressive', 'stopping', 'uber', 'evenings', 'weekends', 'def', 'speak', 'taquitos', 'samba', 'delightfully', 'held', 'competition', 'yellowtail', 'crab', 'el', 'salmon', 'oyster', 'bought', 'flavoring', 'broccoli', 'stick', 'transaction', 'vegetables', 'asian', 'earn', 'considering', 'nearest', 'inconvenient', 'preferences', 'needless', 'soups', 'tom', 'yum', 'pho', 'curries', 'panang', 'massaman', 'products', 'snacks', 'nam', 'papaya', 'potential', 'wandering', 'draft', 'thirst', 'roof', 'taps', 'pouring', 'ipas', 'ciders', 'chatting', 'patrons', 'offering', 'bare', 'character', 'craft', 'freakin', 'joke', 'scott', 'idiot', 'project', 'school', 'kitschy', 'apron', 'flair', 'oddly', 'endless', 'yummy', 'lasagna', 'queso', 'bucket', 'ricotta', 'sister', 'fridge', 'basket', 'besides', 'player', 'mariachi', 'pocket', 'vegetable', 'richard', 'mmm', 'slice', 'salami', 'fill', 'oooh', 'chocolatey', 'cappuccino', 'w\\\\/', 'whipped', 'stomach', 'pounds', 'gallon', 'liquid', 'leftovers', 'korean', 'registers', 'tofu', 'paste', 'jun', 'fails', 'handmade', 'comforting', 'protein', 'veggies', 'entrées', 'banchan', 'sides', 'specialty', 'stone', 'pot', 'kalbi', 'bulgogi', 'consists', 'affordable', 'summerlin', 'relocated', 'owned', 'sisters', 'delivers', 'cleanliness', 'reasons', 'continue', 'despite', 'valley', 'information', 'dealership', 'downhill', 'ridiculously', 'questions', 'talked', 'meet', 'uncle', 'funeral', 'podium', 'chinese', 'wtf', 'skip', 'article', 'arizona', 'republic', 'milkshake', 'equals', 'horrible', 'longer', 'carries', 'value', 'mcdonald', 'j', 'waste', 'purely', 'adam', 'recommendation', 'homie', 'tend', 'bullshit', 'feels', 'stuffy', 'outdoor', 'main', 'easily', 'martinis', 'chewy', 'meatballs', 'carbonara', 'highly', 'camper', 'brunch', '4\\\\/5', 'previous', 'stylists', 'prompted', 'warning', 'haircuts', 'base', 'skull', 'burned', 'shame', 'concluded', 'shitty', 'redeemed', 'anywho', 'decides', 'warned', 'scalp', 'burns', 'eve', '7:30', 'reservation', 'advertising', '29', 'pay', 'wristband', 'proceed', 'bartenders', 'irritated', 'manager', 'tells', 'advertise', 'nye', 'slipped', 'vomit', 'classy', 'nail', 'polish', 'tee', 'bat', 'bikini', 'w', 'teens', 'skirt', 'holding', 'cocktails', 'rap', 'memorable', 'outing', 'frites', 'assortment', 'chefs', 'ketchup', 'curried', 'cauliflower', 'complain', 'rich', 'twists', 'steak', 'featuring', 'chimichurri', 'western', 'european', 'throwback', '90s', 'motif', 'oz', 'indulge', 'delightful', 'designed', 'travis', 'punch', 'blew', 'gin', 'absolute', 'appear', 'courtesy', 'retro', 'themes', 'seemingly', 'certainly', 'relive', 'blast', '0', 'bureau', 'liars', 'spoke', 'stanley', 'june', 'boston', 'informed', 'delivered', 'cross', 'adjust', 'initial', '19th', '20th', 'july', 'earlier', 'receive', 'contact', 'beforehand', 'storage', 'remind', 'flew', 'response', 'consecutive', 'emailed', 'hold', 'informs', 'renting', 'apartment', 'boss', 'frustrated', 'office', 'apparently', 'goes', 'proceeds', 'contract', 'movers', '21st', 'stated', 'fault', '.no', 'hence', 'keeps', 'arguing', 'insane', 'proper', 'shampoo', 'instantly', 'replies', 'sleeping', 'peace', 'piece', 'ish', 'heated', 'argument', 'forth', 'leading', 'denying', 'responsibility', 'mess', 'stating', 'tape', 'kicker', '..i', 'scheduled', 'ship', 'pulled', 'hire', 'charging', 'true', 'bbb', 'divey', 'prepare', 'ultimate', 'bartender', 'blind', 'irish', 'themed', 'crock', 'pots', 'trays', 'hearts', 'content', 'pistachio', 'fluff', 'angel', 'bits', 'cheery', 'seek', 'cheeses', 'creative', 'laid', 'basic', 'confession', 'occasionally', 'syndrome', 'café', 'cafe', 'depth', 'flavour', 'spinach', 'quiche', 'silky', 'display', 'leisurely', 'montreal', 'coworkers', 'vip', 'teppanyaki', 'rarely', 'cooking', 'freshness', 'jerk', 'yelled', 'pinball', 'owners', 'rare', 'valuable', 'games', 'machine', 'case', 'hall', 'fame', 'machines', 'plastic', 'buttons', 'legs', 'bull', 'moron', 'lied', 'arms', 'exiting', 'dropping', 'video', 'sorta', 'harm', 'caused', 'bumper', 'gate', 'jammed', 'particular', 'degrees', 'matters', 'em', 'played', 'slap', 'mr.', 'tim', 'arnold', 'participation', 'operation', 'maintenance', 'collecting', 'bob', 'slightest', 'wants', 'assume', 'difficult', 'task', 'poor', 'followed', 'continuing', 'desire', 'flip', 'salvation', 'army', 'refusing', 'volunteers', 'repaired', 'invest', 'pig', 'lie', 'satisfy', 'grew', 'dinners', 'copious', 'amounts', 'individual', 'version', 'largely', 'representative', 'south', 'form', 'hearty', 'slabs', 'ribs', 'crave', 'therefore', 'immense', 'experienced', 'strolling', 'willy', 'housed', 'brick', 'walls', 'medley', 'expected', 'slab', 'heavens', 'layer', 'marks', 'drown', 'rub', 'method', 'completely', 'sugary', 'applaud', 'depend', 'technique', 'sweetness', 'emphasis', 'grilling', 'latter', 'greater', 'resulting', 'smoke', 'simply', 'via', 'pit', 'masters', 'seeking', 'ordinary', 'thunder', 'bachelorette', 'thrilled', 'enjoyment', 'ahead', 'advance', 'extremely', 'ticket', 'sales', 'placed', 'directly', 'stairs', 'men', 'dance', 'saying', 'adorable', 'ladies', 'cheering', 'screaming', 'drew', 'attention', 'complaining', 'cheer', 'recovering', 'lap', 'fiance', 'mc', 'playful', 'touched', 'song', 'record', 'lack', 'fairly', 'mothers', 'nudity', 'silly', 'loose', 'cheeseburger', 'online', 'cars', 'forced', 'metro', 'finger', 'finishing', 'slammed', 'training', 'reports', 'welcome', 'neighborhood', 'picked', 'sa', 'bowl', 'tab', 'spicier', 'mood', 'smokey', '21+', 'thats', 'river', 'pockets', 'cuz', 'fool', 'gelato', 'paradise', 'array', 'mouthwatering', 'decadent', 'wildly', 'captured', 'tastebuds', 'savor', 'pleasure', 'di', 'milky', 'mozzarella', 'cow', 'luscious', 'basil', 'icy', 'refreshing', 'scorching', 'nutty', 'chai', 'outrageous', 'palates', 'yup', 'unheard', 'finding', 'dreamy', 'goddess', 'quotes', 'companies', 'yard', 'backyard', 'vision', 'spa', 'waterfalls', 'turf', 'flowers', 'rocks', 'trees', '3d', 'computer', 'allows', 'completed', 'detail', 'knowledgeable', 'george', 'code', 'inspection', 'timely', 'manner', 'nursery', 'landscaping', 'doug', 'jets', 'properly', 'budget', 'cleaned', 'messes', 'damages', 'decision', 'choosing', 'pools', 'presence', 'total', 'pet', 'region', 'kay', 'pleasantly', 'surprised', 'similar', 'staggering', 'rabbit', 'curiosity', 'sale', 'roughly', 'age', 'colossal', 'eyebrows', 'lifted', 'bunnies', 'giggling', 'turning', 'whose', 'forgotten', 'bunny', 'ahem', 'rivals', 'consider', 'wash', 'clinics', \"'n\", 'pets', 'tuesdays', 'smoothies', 'nuff', 'ms.', 'legend', 'kyle', 'classic', 'champion', 'hide', 'earth', 'nicest', 'athletic', 'sahara', 'supplements', 'accessories', '32', 'ounces', 'whites', 'scoops', 'crushed', 'espresso', 'salivating', 'bottom', 'butt', 'workout', '38', 'club', 'denny', 'hefty', 'out-of-town', 'brightly', 'venue', 'tons', 'videos', 'repeat', 'grabbed', 'fire', 'promptly', 'sticks', 'normal', 'scorpion', 'inclined', 'diabetes', 'fueled', 'coma', 'insanely', 'novelty', 'ordering', 'velvet', 'couches', 'kidding', 'critical', 'putting', 'member', 'appearing', 'comfy', 'booked', 'charlie', 'presents', 'ups', 'married', 'clearance', 'sucked', 'flame', 'costumes', 'edc', 'racing', 'questioned', 'lower', 'navigating', 'register', 'katie', 'judge', '16th', 'ghost', 'indicated', 'replace', 'flooring', 'tomorrow', 'taken', 'standard', 'wolfgang', 'apparent', 'servers', 'specially', 'waters', 'complimentary', 'focaccia', 'mesquite', 'skewers', '17', 'medium', 'combination', 'a1', 'morsels', 'kale', 'yukon', 'rosemary', 'jus', '28', 'spaghetti', 'entree', 'fluffy', 'panko', 'crumbs', 'satisfying', 'needed', 'troubles', 'comped', 'appetizers', 'consistency', 'annual', 'lend', 'primarily', 'mediocre', 'poses', 'issues', 'proved', 'ultimately', 'grabbing', 'smeared', 'paris', 'moons', 'marinara', 'yummylicious', 'types', 'answer', 'establishments', 'categories', 'vermont', 'sets', 'apart', 'peers', 'none', 'particularly', 'realize', 'neatly', 'hung', 'concoctions', 'colorful', 'chalk', 'neat', 'awesomeness', 'i.e', 'l', 'stickers', 'popular', 'ranging', 'beatles', 'dave', 'behold', 'typically', 'welcoming', 'quirky', 'prompt', 'nugget', 'fields', 'mindful', 'birds', 'poop', 'wherever', 'yelling', 'stepped', '.you', 'connect', 'dots', 'overcome', 'adored', 'stylist', 'hometown', 'atlanta', 'lengths', 'vote', 'architecture', 'radio', 'moderate', 'clips', 'coast', 'attracts', 'mostly', 'prefer', 'identical', 'strangers', 'pleased', 'theatre', 'row', 'puffy', 'popularity', 'major', 'allowed', 'recline', 'popcorn', 'popped', 'premises', 'theaters', 'holders', 'periodically', 'movies', 'pricing', 'cancelling', 'denied', 'understandable', 'model', 'venture', 'parent', 'prior', 'reverse', 'factory', 'meeting', 'bummed', 'square', 'lollipops', 'tags', 'spending', 'spins', 'genuine', 'pushy', 'apps', 'merchandise', \"s'mores\", 'martini', 'alright', 'buzz', 'reese', 'garbage', 'substituted', 'vinaigrette', 'ranch', 'cucumbers', 'croutons', 'bummer', 'worked', 'ripe', 'avocados', 'key', 'hh', 'fridays', 'depending', 'runs', 'mon', 'fri', 'bogo', 'pizzas', 'reception', 'signal', 'boasts', 'trick', 'philly', 'veal', 'yonge', 'cater', 'estate', 'occupied', 'ontario', 'government', 'allegedly', 'audience', 'outpost', 'veg', 'dressings', 'nutritional', 'declined', 'hortons', 'mcdonalds', 'effort', 'profit', 'cobb', 'costs', 'blood', 'pressure', 'disorganized', 'prospective', 'mill', 'brave', 'request', 'repeatedly', 'exchange', 'tuna', 'trained', 'tradition', 'beating', 'ground', 'arrives', 'noodle', 'meaning', 'wilted', 'greens', 'drowning', 'vomiting', 'stale', 'insult', 'injury', 'fold', 'falls', 'benefits', 'mediocrity', 'squares', 'unseasoned', 'siam', 'plopped', 'gummy', 'similarly', 'naked', 'includes', 'screw', 'banh', 'mi', 'smaller', 'damned', 'originally', 'launch', 'whim', 'browsing', 'doors', 'january', 'gold', 'simplicity', 'omelets', '7am', 'peppered', 'jam', 'impact', 'learned', 'tolerate', 'ways', 'gas', 'thus', 'matter', 'eggslut', 'crumb', 'cosmopolitan', 'drooling', 'firm', 'gaucho', 'surrounding', 'vendors', 'dine', 'wan', 'production', 'nation', 'pull', 'greyhound', 'bus', 'terminal', 'horny', 'pudding', 'lychee', 'jelly', 'improve', 'sizes', 'bubble', 'pittsburgh', 'thousand', 'significantly', 'burgh', 'bubbles', 'tapioca', 'rubber', 'tasteless', 'attendant', 'burrito', 'bell', 'drenched', 'gross', 'crappy', 'begun', 'wonder', 'standards', 'dumb', 'christmas', 'exact', 'jacket', 'chilly', 'winter', 'fortunately', 'coat', 'shockingly', 'flown', '56', 'anyways', 'slamming', 'slapped', 'shotgun', 'brews', '18', 'encore', 'beach', 'diabetic', 'blacked', 'security', 'intoxicated', 'assure', 'kicked', 'que', 'wasted', 'ribbon', 'departed', 'grandmother', 'hits', 'iron', 'skillet', 'transplant', 'southeast', 'snob', 'continually', 'amazed', 'fowl', 'mississippi', 'joining', 'navy', 'moving', 'san', 'diego', 'roadside', 'diner', 'decades', 'pepsi', 'co.', 'bone-in', 'yuck', 'scene', 'chagrin', 'fallen', 'evil', 'mount', 'charleston', 'laughing', 'watches', 'thighs', 'regional', 'stumbled', 'kfc', 'disguise', 'intrigued', 'thigh', 'beautifully', 'connoisseur', 'cancelled', 'starts', 'well-seasoned', 'doused', 'slip', 'fryer', 'collard', 'georgia', 'brew', 'nascar', 'race', 'chemicals', 'serves', 'raising', 'final', 'analysis', 'determined', 'justin', 'wilson', 'finds', 'target', 'referred', 'dr.', 'brilliant', 'clinic', 'admittedly', 'recording', 'referral', 'laser', 'removal', 'latest', 'nurse', 'reassuring', 'graduate', 'shooting', 'crotch', 'cereal', 'chile', 'parade', 'margaritas', 'shots', 'tequila', 'bean', 'tostada', 'tamale', 'marry', 'goat', 'gay', '9:30', 'pampered', 'list', 'restrooms', 'upfront', 'styles', 'nose', 'gooey', 'gluttony', 'rim', 'bloated', 'finished', 'quicker', 'negative', 'page', 'sewage', 'leak', 'figured', 'attest', 'nightmare', 'gents', 'numbers', 'answers', 'dept', 'lucky', 'lawsuit', 'filed', 'apology', 'ripping', 'balls', 'cigarettes', 'grand', 'cursed', 'initially', 'theory', 'weekly', 'objective', 'bait', 'whichever', 'happens', 'headquarters', 'operating', 'law', 'disclaimer', 'struggle', 'mortgage', 'freddy', 'couples', 'lead', 'master', 'michigan', 'march', 'madness', 'born', 'horse', 'derby', 'mist', 'engaged', 'verbal', 'apt', 'flustered', 'stair', 'dealing', 'elementary', 'rules', 'expects', 'follow', 'assholes', 'guaranteed', 'angelo', 'voice', 'stays', 'ole', 'magician', 'tricks', 'disappear', 'witness', 'protection', 'cooper', 'vibrant', 'dull', 'translates', 'churches', '42', 'retired', 'stadium', 'baseball', '69', '85', 'elevator', 'agreement', 'rock', 'paper', 'scissors', 'misplaced', 'paint', 'hideous', 'asshole', 'ugly', 'sin', 'throws', 'decorating', 'weak', 'bum', 'win', '400', 'owe', 'lawyer', 'fees', 'pr', 'squat', 'leg', 'conclusion', 'wild', 'ride', 'body', 'disgruntled', 'gallons', 'recipe', 'toss', 'post', 'access', 'sights', 'smells', 'cost', 'beat', 'greedy', 'customize', 'memorial', 'transition', 'gathered', 'disappointment', 'unsatisfied', 'macaroons', 'tarts', 'flan', 'shooter', 'minus', 'grill', 'glam', 'sofas', 'english', 'deco', 'chandeliers', 'dimly', 'candles', 'meets', 'crystal', 'lamps', 'linens', 'picks', 'breath', 'background', 'dress', 'impress', 'tucked', 'cellar', 'section', 'roomy', 'celebrating', 'kate', 'libations', 'featured', 'sweeter', 'pear', 'grapefruit', 'ginger', 'copper', 'seasons', 'starters', 'charcuterie', 'nom', 'lavender', 'manchego', 'dried', 'prosciutto', 'berry', 'calamari', 'battered', 'wedges', 'surf', 'sounded', 'mouth-watering', 'hmmm', 'halibut', 'bass', 'scallops', 'risotto', 'ravioli', 'decisions', 'elegantly', 'rushed', 'liking', 'sommelier', 'cabernet', 'appropriate', 'ginormous', 'sniff', 'swirl', 'appreciated', 'gourmet', 'shortcake', 'fired', 'toast', 'alley', 'bj', 'eventually', 'basis', 'obnoxious', 'tourists', 'jerks', 'acting', 'fools', 'idiots', 'apologize', 'hardly', 'present', 'minimum', 'sundae', 'meant', '4-6', 'foodie', 'yay', 'frat', 'changing', 'child', 'useless', 'isnt', 'depot', 'bath', 'laughed', 'generation', 'tank', 'curls', 'guns', 'rival', 'magically', 'cruising', 'broke', 'rule', 'placement', 'nervous', 'lose', 'church', 'manage', 'soothing', 'tunes', 'bless', 'fajitas', 'enchiladas', 'stress', 'eater', 'fight', 'nap', 'bellagio', 'kobe', 'trouble', 'bored', 'cards', 'spectacular', 'cirque', 'du', 'soleil', 'acrobatic', 'extraordinary', 'perform', 'human', 'skill', 'performance', 'visual', 'performers', 'corners', 'artistic', 'fog', 'effects', 'songs', 'theme', 'kudos', 'deserve', 'lean', 'acted', 'attend', 'technical', 'scenes', 'lighting', 'admission', 'displayed', 'backdrop', 'ops', 'performing', 'mirage', 'dodge', '600', 'silver', 'fascinated', 'greek', 'victoria', 'panties', '.i', 'entered', 'exist', 'accounts', 'staple', 'staying', 'feature', 'bathtub', 'platinum', '12th', 'televisions', 'newspapers', 'deserts', 'shifts', '6am', '5:30pm', 'whenever', 'assistance', 'concert', 'marriott', 'defalco', 'il', 'pungent', 'peppers', 'overload', 'distinct', 'cannoli', 'trips', 'meatball', 'parm', 'taylor', 'grandpa', 'cancer', 'dingy', 'depressing', 'bowling', 'hamburger', 'patty', 'forgetting', 'getaway', 'anniversary', 'example', 'rented', 'suite', 'glamorous', 'york', 'studio', 'tub', 'sofa', 'uno', 'lobby', 'seamless', 'cheers', 'p', 'conscious', '25th', 'ave', 'plaza', 'lee', '9pm', 'island', 'variation', 'effect', 'onto', 'dancing', 'jams', 'release', 'energy', 'spotted', 'floral', 'funky', 'britney', 'spears', 'perry', 'r', '2am', 'strongly', 'pretentious', 'burst', '3.5', 'weekday', '30+', 'stool', 'scattered', 'seasonal', 'push', 'dressed', 'grains', 'rocket', 'sprouts', 'beets', 'almonds', 'toronto', 'goods', 'compared', '3.5\\\\/5', 'smoker', 'dunno', 'mayo', 'mushroom', 'puddle', 'savoury', 'heavy', 'handed', 'vegans', 'vegetarians', 'patient', 'knots', 'stayed', 'nine', 'hunger', 'convenience', 'impressions', 'greeting', 'screen', 'vast', 'turkey', 'nickel', 'dime', 'etc.', 'satisfied', 'reply', 'serious', 'sh*t', 'hat', 'wear', 'menus', 'waitresses', 'mock', 'hilarious', 'showing', 'thong', 'poured', 'watered', 'par', 'trucks', 'mortar', 'chinatown', 'artwork', 'digital', 'cramped', 'jazz', 'test', 'composition', 'soaked', 'poutine', 'curds', 'um', 'loyal', 'timing', 'formerly', 'aloha', 'shaka', 'meter', '\\\\uuu\\\\/', 'jamie', 'cher', 'caesar', 'palace', 'ounce', 'drunken', 'suddenly', 'celine', 'dion', 'avoided', 'alas', 'system', 'fountains', 'patiently', 'fifteen', 'singing', 'tribute', 'usa', 'policies', 'financial', 'range', 'motion', 'shooters', 'shoot', 'upwards', 'send', '250', 'gee', 'selling', 'snap', 'lasts', 'thirty', 'sirens', '\\\\/\\\\/www.youtube.com\\\\/watch', 'generally', '702', 'shade', 'gimmick', 'public', 'a-ok', 'puke', 'exorbitant', 'rio', 'crawfish', 'oysters', 'snow', 'caesars', 'strictly', 'sick', 'promotion', 'ill', 'email', 'poisoning', 'replied', 'risk', 'investigation', 'pipes', 'trash', 'organize', 'carts', 'isle', 'leaning', 'frys', 'competitor', 'promotional', 'emails', 'gadgets', 'swear', 'landed', 'electronics', 'bikes', 'books', 'match', 'saving', 'cha', 'fortunate', 'dislike', 'casinos', 'require', 'validated', 'brewery', 'scampi', 'hawaiian', 'fare', 'airy', 'victorian', 'readily', 'refilling', 'clearing', 'nearing', 'fond', 'bands', 'contemporary', 'bandwagon', 'flames', 'cupcakes', 'officially', 'exit', 'cabin', 'cupcake', 'frosting', 'dose', 'capture', 'rundown', 'cheeks', 'calories', 'butterscotch', 'dense', 'hershey', 'kiss', 'duh', 'mother-in-law', 'lemonade', 'tart', 'scrape', 'complemented', 'ego', 'eats', 'rushing', 'freeze', 'addictive', 'described', 'shabby', 'devil', 'graham', 'cracker', 'raves', 'sans', 'rug', 'rats', 'boring', 'favor', 'argue', 'contain', 'sprinkled', 'spoon', 'judging', 'temper', 'urine', 'min', 'ran', 'sir', 'gps', 'guidance', 'traffic', 'ny', 'pgh', 'zen', 'superior', 'bamboo', 'shoots', 'katsu', 'mark', 'heinz', 'steelers', 'parked', 'giants', 'mike', 'majority', 'joked', 'wondered', 'build', 'kraft', 'robert', 'compare', 'pathetic', 'session', 'credit', 'cop', 'attitude', 'topping', 'lastly', 'channel', 'stalls', 'virtually', 'crusty', 'safer', 'shield', 'granted', 'cleaner', 'theater', 'film', 'boo', 'reflected', '3.00', 'accepts', 'couch', 'cult', 'films', 'escape', 'screening', 'foreign', 'flick', 'phew', 'stealing', 'stole', 'robes', 'paranoid', 'cart', 'cameras', 'hallway', 'swipe', 'towels', 'accent', 'complement', 'layout', 'postino', 'pains', 'kierland', 'superb', 'bestie', 'impromptu', 'arcadia', 'bruschetta', 'sweaty', 'blonde', 'stir', 'lively', 'upbeat', 'opens', 'commons', 'showered', 'nonetheless', 'newly', 'inches', 'weigh', 'pointed', 'apologized', 'awaiting', 'twenty', 'scenario', 'place..', 'ten', 'female', 'grabs', 'retrieve', 'sunshine', 'ta', 'allergic', 'cashews', 'nut', 'cashew', 'allergy', 'hospital', 'scan', 'remotely', 'discuss', 'kinks', 'ingredient', 'projects', 'yeast', 'nick', 'pinch', 'extreme', 'papa', 'roman', 'groove', 'kosher', 'tapes', '110', 'truck', 'somewhere', 'freeway', 'insisting', 'consideration', 'carne', 'wednesdays', 'barbacoa', 'beefy', 'lengua', 'carnitas', 'salsas', 'literal', 'storefront', 'availability', 'maintained', 'trails', 'improvements', 'residential', 'existence', 'interest', 'natural', 'tunnel', 'hikes', 'national', 'healthcare', 'bleed', 'death', 'billing', 'doctors', 'listening', 'boyfriend', 'infection', 'causing', 'severe', 'primary', 'doc', 'exposure', 'symptoms', 'science', 'consultation', 'err', 'effective', 'medicine', 'dying', 'hoagie', 'answered', 'discovered', 'accept', 'rang', 'ringing', 'separately', 'truthfully', 'container', 'indeed', 'wet', 'burnt', 'situated', 'route', '130', '\\\\/', 'st', 'schedule', 'centennial', '5-10', 'coolers', 'bookmark', 'secluded', 'centrally', 'smiling', 'specialties', 'trusted', 'provided', 'recommendations', 'watermelon', 'mimosa', 'lumpia', 'babies', 'parties', 'consist', 'zucchini', 'kick', 'peep', 'buyer', 'da', 'atop', 'whopping', 'seconds', 'subpar', 'aka', '34', '9.95', 'transfer', '10:30', 'squishy', 'marsala', '13', 'extras', 'overcooked', 'rubbery', 'grave', 'lackluster', 'disaster', 'ziti', 'reminiscent', 'named', 'sink', 'spelled', 'correctly', 'comp', 'peoples', 'disgusting', 'guilty', 'pleasures', 'mistake', 'circumstances', 'pick-up', 'girlfriend', 'inevitable', 'gather', 'crying', 'cause', 'dietary', 'couscous', 'concerns', 'e', 'mcdowell', 'lives', 'poultry', 'herbs', 'roots', 'platters', 'accommodated', 'managed', 'wake', 'shakes', 'hotter', 'hummus', 'flavourful', 'flour', 'pita', 'oily', 'juices', 'powdered', 'tasteful', 'decorated', 'image', 'reviewer', 'uploaded', '2015', 'appearance', 'wooden', 'claustrophobic', 'loo', 'host', 'encouraged', 'paced', 'carrots', 'olives', 'rate', 'someday', 'fatty', 'guessed', '5-star', 'surpassed', 'tight', 'noon', 'hopefully', 'nobody', 'waits', 'reach', 'underneath', 'discovery', 'cougars', 'lmao', 'pee', 'micro', 'hottest', 'whatsoever', 'outfit', 'late-night', 'pitt', 'starving', 'artist', 'billboard', 'radar', 'celebrities', 'celebrity', 'reads', 'score', 'brownie', 'tanned', 'vs', 'orleans', 'internet', 'remarkable', 'pretending', 'raging', 'revisit', 'district', 'bookmarked', 'culture', 'diversity', 'weather', 'summertime', 'bubbling', 'activity', 'hustle', 'bustle', 'areas', 'circling', 'marked', 'tow', 'macaroni', 'brothers', 'steel', 'lotus', 'rated', 'insert', 'bay', 'hankering', 'booze', 'pal', 'ah', 'hangry', 'fuck', 'godfather', 'caprese', 'darn', 'eh', 'opposed', 'practical', 'cone', 'ol', 'upstairs', 'dang', 'monkeys', 'ignored', 'madison', 'merlot', 'heavenly', 'authentically', 'baguette', 'approve', 'canadian', 'accents', 'kensington', 'unassuming', 'lavish', 'dump', 'purpose', 'losing', 'renovation', 'closer', 'spin', 'spitting', 'thingy', 'sheet', 'metal', 'regret', 'tube', 'kill', 'gut', 'cops', 'yells', 'teenagers', 'diarrhea', 'torture', 'fitting', 'lengthy', 'spare', 'spain', 'spanish', 'sol', 'north', 'wedge', 'comprehensive', 'lola', 'tapas', 'urban', 'sophisticated', 'noteworthy', 'highlights', 'prawns', 'asparagus', 'surprising', 'brussel', 'olive', 'teen', 'stylish', 'luxe', 'understated', 'complementary', 'swing', 'dc', 'steered', 'toward', 'fragrant', 'melissa', 'destination', 'se', 'omelette', 'tempura', 'impression', 'benedict', 'plump', 'screamed', 'picking', 'offices', 'direction', 'furniture', 'drive-thru', 'in-house', 'ac', 'carmel', '6.25', 'overpowered', 'explain', 'slipping', 'function', 'senior', 'caught', 'led', 'denim', 'billed', 'floyd', 'uh', 'partake', 'dangerous', 'queen', 'michael', 'jackson', 'sublime', 'tech', 'action', 'occurs', 'tickets', 'jane', 'lucy', 'diamonds', 'inexpensive', 'suppose', 'akin', 'relative', 'rough', 'pushed', 'vicinity', '1,000', 'dad', 'moon', 'circuit', 'father', 'swedish', 'exhibits', 'ramp', 'boba', 'taiwanese', 'kimchi', 'occasions', '5pm', 'interrupting', 'perused', 'input', 'cal', 'convinced', 'suck', 'bear', 'epitome', 'obese', 'gluttonous', 'deadly', 'fear', '36', 'waist', 'sneak', 'fitness', 'trainer', 'cooks', 'goodyear', 'reuben', 'women', 'tipped', 'bust', 'afraid', 'aptly', 'volcano', 'beware', 'mornings', 'goers', 'mob', 'fry', 'pants', 'summary', 'quantities', 'absence', 'sinfully', 'replacing', 'made-to-order', 'pastas', 'wide', 'groceries', 'calzone', 'tortellini', 'herbed', 'mayonnaise', 'hesitant', 'penne', 'ease', 'fettuccini', 'alfredo', 'involved', 'vehicle', 'accident', 'officer', 'leaned', 'wheel', 'tipping', 'buck', 'helping', 'wise', 'boyfriends', 'barber', 'common', 'fade', 'btw', 'identity', 'bald', 'border', 'brands', 'mandalay', 'disappointing', 'kitchens', 'cuisine', 'elevate', 'justify', 'trio', 'mainstream', 'entrée', 'relleno', 'poblano', 'pureed', 'chip', 'condensed', 'oven', 'spoonful', 'vary', '20s', 'convention', 'cigarette', 'indoor', 'los', 'angeles', 'warrant', 'extent', 'rick', 'complexity', 'notable', 'secure', 'partying', '48', 'muffin', 'wheels', 'l.', 'woke', '+1', 'bracelet', 'letting', 'hills', 'darren', \"'re\", 'suburb', 'chiropractor', 'practice', 'sits', 'suburban', 'complex', 'exterior', 'interiors', 'burgatory', 'builds', 'indecisive', 'masterpiece', 'boxes', 'drama', 'takeout', 'requests', 'phoned', 'monster', 'pen', 'bison', 'medium-rare', 'dusted', 'leaf', 'minor', 'error', 'automated', 'grade', 'tests', 'carbon', 'copy', 'verify', 'cabbage', 'dismissed', 'baskets', 'jolly', 'bleeding', 'massive', 'fierce', 'beast', 'delicate', 'dripping', 'ganache', 'customized', 'requesting', 'deep-fried', 'cheddar', 'culinary', 'proving', 'jesus', 'jaded', 'dente', 'whiz', 'stunned', 'tater', 'journey', 'washington', 'primanti', 'franchise', 'opportunities', 'mileage', 'excursion', 'ha', 'crew', 'filipino', 'represent', 'flavored', 'regard', 'pair', 'mains', 'cinnamon', 'loaded', 'truffle', 'advertised', 'plethora', 'meaty', 'vegetal', 'showcase', 'hollandaise', 'vinegar', 'poached', 'yolk', 'filet', 'aggressively', 'evoo', 'sourdough', 'yolks', 'richness', 'blends', 'garnish', 'wednesday', 'industry', 'rotating', 'bottomless', 'guava', 'hyped', 'chill', 'neighbors', 'tenant', 'stories', 'tho', 'cosmo', \"n't\", 'plum', 'wraps', 'moo', 'hong', 'stronger', 'biggest', 'pad', 'kai', 'thailand', 'spring', 'fuku', 'indulging', 'experiences', 'simplest', 'authenticity', 'fits', 'tamago', 'strings', 'glaze', 'teriyaki', 'furikake', 'edgy', 'senses', 'impeccable', 'channels', 'monopoly', 'jenga', 'ideas', 'rd', 'appetizer', 'tummy', '3rd', 'it..', 'amenities', 'lease', 'closet', 'stall', 'letter', 'renewed', 'renew', 'suggestion', 'tenants', '4th', 'chasing', 'elephant', 'vacuum', 'musical', 'sliding', '3.', 'zoo', 'hallways', 'scream', 'christ', 'bible', 'cabanas', 'flashlight', 'grills', 'facilities', 'ambience', 'manhattan', 'waiter', 'confronted', 'fluorescent', 'executed', 'verdict', 'issued', 'painted', 'stamp', 'approval', 'suits', 'intricate', 'clipboard', 'showcases', 'commitment', 'flatbreads', 'suspects', 'pretzel', 'seriousness', 'jumbo', 'lump', 'wholesome', 'glutton', 'scrumptious', 'balsamic', 'reduction', 'hovering', 'bumps', 'einstein', 'bros', 'asiago', 'tempe', 'constructive', 'silverware', 'spotty', 'neither', 'rob', 'sampler', 'tikka', 'responded', 'challenged', 'bs', 'confirmed', 'insulted', 'ignorant', 'lying', 'worthless', 'integrity', 'pride', 'execute', 'intelligence', 'chutney', 'false', 'attempting', 'thoughts', 'storyline', 'alive', 'ka', 'speakers', 'fall', 'asleep', 'acrobatics', '200', '11th', 'infested', 'dealt', 'foul', 'creatures', '46', 'employment', 'released', 'jail', 'illegal', 'grove', 'go-to', 'suites', 'mechanical', 'repair', 'refused', 'footage', 'packages', 'bella', 'intersection', 'distance', 'wynn', 'fashion', 'shout', 'exceptional', 'lay', \"y'all\", 'in-n-out', '2008', 'tsa', 'animal', 'additionally', 'dem', 'sunset', 'simultaneously', 'e.', 'historical', 'responsible', 'naming', 'scores', 'education', 'dismal', 'knowledge', 'internal', 'aged', 'bump', 'refreshingly', 'contribute', 'operated', 'crowd', '11pm', '1pm', '5-', 'proverbial', 'ledge', 'deluxe', 'angus', 'amateur', 'competitive', 'boneless', 'ding', 'mainly', 'entertained', 'environment', 'tao', 'bouncers', 'arrested', 'luxurious', 'cell', 'beige', 'hookers', 'ron', 'jeremy', 'quaint', 'tropicana', 'slot', 'guard', 'shirley', 'b.', 'henderson', 'mixing', 'burritos', 'quesadillas', 'elote', 'cob', 'nachos', 'gobbled', 'yeeps', 'es', 'comida', 'lazy', 'directions', 'hamachi', 'munch', 'complimented', 'pairing', 'ahhh', '[', 'anxiety', 'kicking', 'crowds', 'douche', 'heels', 'handicapped', ']', 'kelly', 'setup', 'blows', '26', 'wander', 'dicks', 'apply', 'bang', 'dirty', 'bra', 'drawer', 'checkout', 'focus', 'crabs', 'attack', 'carrying', 'shells', 'powerful', 'jaws', 'species', 'poison', 'catches', 'uses', 'allowing', 'creature', 'sharks', 'striped', 'jellyfish', 'drum', 'rays', 'grow', 'older', 'turtles', 'seal', 'weight', 'everyday', 'adult', 'health', 'younger', 'appealing', 'gentlemen', 'preface', 'picky', 'overwhelmed', 'belong', 'advised', 'vague', 'savoring', 'googled', 'smelled', 'pictured', 'ummm', 'walks', 'thoroughly', 'tlc', 'bone', 'marrow', 'absurd', 'strike', 'comical', 'airplane', 'sweetbreads', 'ipad', 'ipod', 'texting', 'az', 'herbal', 'smoothie', 'heavily', 'laden', 'manning', 'freebies', 'freebie', 'connected', 'affiliated', 'ie', 'midwest', 'poker', 'bud', 'expertly', 'choreographed', 'fermented', 'india', 'china', 'successful', 'malaysian', 'dive', 'navigate', 'chilis', 'cucumber', 'accustomed', 'brushed', 'requested', 'char', 'wok', 'chow', 'lemongrass', 'shallots', 'garnished', 'fiery', 'puts', 'removed', 'lincoln', 'arrival', 'caucasian', 'answering', 'https', 'userid=m9rrm6eo5ybklkmg5qiipa', 'tropical', 'mimosas', 'oranges', 'sipped', 'tottie', 'alternative', 'sparkling', 'increased', 'remains', 'suffering', 'halves', 'intend', 'toaster', 'greets', 'cap', 'blessing', 'karaoke', 'letters', 'caps', 'steer', 'microphone', 'rounds', 'enthusiastic', 'sing', 'painful', 'amc', 'hangout', 'camelback', 'corridor', 'reminded', 'lake', 'touches', 'fixtures', 'rustic', 'reasonably', 'inspired', 'cuisines', 'sesame', 'crusted', 'seaweed', 'carrot', 'daikon', 'run-of-the-mill', 'handled', 'flatbread', 'artichokes', 'arugula', 'chew', 'leafy', 'peppery', 'saltiness', 'woody', 'artichoke', 'contrast', 'buttercream', 'versus', 'crème', 'nostalgic', 'prominent', 'housemade', 'lauren', 'personable', 'talent', 'competitors', 'bueno', 'skipping', 'witnessed', 'prep', 'gloves', 'mistakes', 'silent', 'hunter', 'demeanor', 'snacking', 'breads', 'filler', 'clever', 'oldest', 'data', 'tempting', 'resistance', 'medical', 'remove', 'sensitive', 'pound', 'peeled', 'swell', 'explode', 'batman', 'diverse', 'gluten-free', 'bf', 'fig', 'gorgonzola', 'figs', 'sprinkle', 'notch', 'parmesan', 'lord', 'herb', 'feta', 'acknowledged', 'frustrating', 'clock', \"o'clock\", 'dock', 'polite', 'arteries', 'pecan', 'exaggeration', 'stages', 'clue', 'transit', 'foyer', 'sonoma', 'ceremony', 'unused', 'worship', 'julia', 'sprite', 'role', 'trusty', 'elaborate', 'artistry', 'sliver', 'mass', 'crashed', 'gates', 'behalf', 'ii', 'arancini', 'sneaking', 'syrupy', 'partially', 'whispering', 'ears', 'iii', 'romaine', 'dijon', 'calming', 'preparing', 'iv', 'tower', 'climb', 'crabmeat', 'strive', 'fruits', 'united', 'supple', 'proteins', 'extravagant', 'triangles', 'v', 'study', 'hog', 'quail', 'parma', 'stout', 'granny', 'smith', 'apples', 'tenderloin', 'sherry', 'cranberry', 'encounter', 'approaching', 'grits', 'addicted', 'ranks', 'bourdain', 'obsession', 'ventured', 'deeper', 'elegant', 'miniature', 'reminding', 'eternity', 'opulent', 'mignon', 'deconstructed', 'expanding', 'circle', 'descent', 'festive', 'void', 'departure', 'grille', 'proven', 'kevin', 'bulk', 'reviewing', 'des', 'term', 'exists', 'recognize', 'chunk', 'decadence', 'drawn', 'mousse', 'peach', 'converted', 'dismay', 'skipped', 'collect', 'bragging', 'rights', 'acknowledgement', 'downfall', 'updating', 'painting', 'concierge', 'oatmeal', 'crackers', 'southwest', 'norm', 'terri', 'centre', 'lucked', 'tam', 'australian', 'sorbets', 'passion', 'pandan', 'gosh', 'vacation', 'rhubarb', 'fragrance', 'sincerely', 'happiness', 'linq', 'cheeseburgers', 'francisco', 'inflated', 'shack', 'castle', 'required', 'jobs', 'department', 'inventive', 'greg', 'clothes', 'polo', 'shirts', 'shoe', 'mustache', 'piano', 'acid', 'parlor', 'approximately', 'welcomed', 'well-lit', 'earned', 'barely', 'gossiping', 'cooler', 'perch', 'observe', 'ethnic', 'stark', 'interrupt', 'rack', 'convo', 'suspect', 'john', 'canned', 'attached', 'stands', 'dedicated', 'strips', 'versions', 'string', 'sampling', 'condiment', 'malt', 'utensils', 'washing', 'tossing', 'bleu', 'barbeque', 'spun', 'facebook', 'fiancé', 'u', 'sanitizer', 'germs', 'names', 'dont', 'aint', 'explore', 'sock', 'massage', 'diy', 'theres', '10am', 'teach', 'safety', 'monitor', 'climbing', 'toddlers', 'foam', 'protected', 'hurt', 'committed', 'summers', 'staycation', 'hop', 'produced', 'patron', 'closes', 'deter', 'ipa', 'hoppy', 'swiftly', 'browse', 'paired', 'tad', 'apprehensive', 'turnaround', 'sourced', 'fed', 'relaxing', 'panda', 'del', 'drive-ins', 'dives', 'opposite', 'slimy', 'jose', 'andres', 'consume', 'knife', 'thinks', 'avid', 'consumer', 'bearing', 'dug', 'million', 'spreads', 'intimate', 'visually', 'goodies', 'rib-eye', 'magnificent', 'devour', 'tenderness', 'factor', 'intentionally', 'tackle', 'knives', 'blade', '6-7', 'seedy', '3am', 'clients', 'preserved', 'chopsticks', 'sauced', 'fork', 'fourth', 'singapore', 'sport', 'gyms', 'backs', 'cycle', \"'bout\", 'lines', 'slut', 'fairfax', 'scrambled', 'trek', 'beaten', 'anytime', 'huntersville', 'attempted', 'treadmills', 'overlook', 'mistaken', 'unisex', 'aspects', 'nc', 'countries', 'detour', 'ian', 'tempted', 'supported', 'follow-up', 'hourly', 'improved', 'vehicles', 'eastern', 'participating', 'organization', 'discounts', 'application', 'expired', 'applied', 'reduced', 'transport', 'hardwood', 'hwy', 'resulted', 'explained', 'file', 'pattern', 'waived', 'appreciative', 'compassion', 'reduce', 'rates', 'disappoint', 'dinosaurs', 'adjoining', 'specifically', 'van', 'exhibit', 'swept', 'aesthetic', 'educational', 'yoga', '3pm', 'weekdays', 'thursdays', 'sites', 'severely', 'lactose', 'intolerant', 'flavoured', 'praying', 'porcelain', 'wares', 'packing', 'pills', 'flavours', 'violence', 'bound', 'sooo', 'snicker', 'fudge', 'enjoys', 'illusion', 'landmark', 'mel', 'c.', 'established', 'glow', 'welcomes', 'daniel', 'whoa', 'boost', 'canvas', 'mexico', 'refrigerator', 'coca', 'cola', '3-6', 'delectable', 'brussels', 'sprout', 'triple', 'syrup', 'beet', 'buttery', 'churro', 'train', 'carousel', 'et', 'cetera', 'trout', 'galore', 'walkways', 'breeze', 'mccarran', 'premium', 'california', '808', 'mega', 'vans', 'fret', 'queens', 'taxi', 'durango', 'wifey', '8.95', '8.50', 'wowed', 'constant', 'bothered', 'havent', '2014', '365', 'hockey', 'spoiled', 'surrounded', 'thankful', 'humor', 't-mobile', 'screams', 'fixe', 'waiters', 'ins', 'outs', 'wines', 'pinot', 'noir', 'chilean', 'rockin', 'louis', 'nailed', 'whoever', 'melt', 'supreme', 'gentleman', 'f', 'miracle', 'vendor', 'duty', 'skills', 'greatness', 'taped', 'pitcher', 'neutral', 'fajita', 'flaming', 'take-out', 'artsy', 'roosevelt', 'cafes', 'jackfruit', 'staples', 'sliders', 'colleague', 'brush', 'pitas', 'press', 'panini', 'iceberg', 'desperate', 'cosmetic', 'forehead', 'lotion', 'pronounce', 'oils', 'therapy', 'treatment', 'intimidated', 'gim', 'spine', 'valet', 'narrow', 'visa', 'dallas', 'gta', 'northern', 'brampton', 'sparse', 'focused', 'mushy', 'stunning', 'nordstrom', 'seattle', 'pals', 'killing', 'summit', 'racks', 'counters', 'commented', 'noticing', 'boutique', 'kung', 'pao', 'chestnut', 'peanuts', 'embarrassed', 'namesake', 'focal', 'shocking', 'equivalent', 'breast', 'toddler', 'appetites', 'legitimate', 'raise', 'surely', '-the', 'refuses', 'mellow', 'maintain', 'meager', 'president', 'mr', 'headache', 'principle', '-i', 'smart', 'dumbass', 'staffed', 'pronounced', 'anchovies', 'souvlaki', 'cherry', 'tacky', 'pushing', 'stellar', 'standby', 'harley', 'beginning', 'davidson', 'riding', 'boots', 'hd', 'luggage', 'genuinely', 'stinks', 'oj', 'bench', 'werent', 'indulgent', 'tongue', 'citrus', 'ube', 'hail', 'pancake', 'instructed', 'hawaii', 'raved', 'poke', 'shoyu', 'tako', 'loco', 'moco', 'patties', 'gravy', 'kalua', 'winner', 'marinade', 'bento', 'spam', 'cutlet', 'radish', 'mouthful', 'wonton', 'success', 'excel', 'potstickers', 'yakitori', 'maki', 'dragon', 'cracked', 'torn', 'lets', 'haired', 'intention', 'cousins', 'beings', 'americanized', 'swanky', 'destroyed', 'hammered', 'cornish', 'shape', 'thankfully', 'shine', 'flesh', 'muddy', 'drizzle', 'ear', 'palm', 'labels', 'canyon', 'bonnie', 'cranberries', 'voted', 'trailhead', 'offerings', 'vaguely', 'researching', 'bike', 'paprika', 'meh', 'pastries', 'anti', 'hipster', 'nerd', 'novice', 'moderately', 'properties', 'research', 'helmet', 'tires', 'stink', 'faster', 'alarm', 'glory', 'visitor', 'lined', 'studios', 'grounds', 'wedding', 'fireworks', 'net', 'angels', 'overhead', 'cocaine', '80s', 'vintage', 'signage', 'jukebox', 'plot', 'excuse', 'broadway', 'designers', 'accolades', 'relief', 'german', 'wacky', 'dennis', 'troy', 'monstrous', 'freak', 'jacks', 'cruise', 'barbie', 'doll', 'steroids', 'spectacle', 'password', 'laptop', 'routine', 'nightclub', 'surrender', 'rolling', 'herd', 'confusion', 'delay', 'condescending', 'minimal', 'gaudy', 'enclosed', 'structure', 'court', 'ideal', 'wellington', 'speech', 'accurately', 'sticking', 'plastered', 'unhealthy', 'mandatory', 'gowns', 'nurses', 'summed', 'lard', 'excessively', 'sensation', 'lasting', 'aftertaste', 'novel', 'disturbed', 'unethical', 'pretend', 'providing', 'necessary', 'decidedly', 'warn', 'epic', 'youtube', 'ranges', 'smiles', 'hooked', 'bridal', 'hospitality', 'reviewed', 'bolognese', 'laughter', '―', 'chandler', '2003', 'st.', 'patrick', 'guinness', 'funk', 'houses', 'cigar', 'marijuana', 'shepherd', 'cottage', 'minced', 'rage', 'bangers', 'noted', 'marc', 'm.', 'flash', 'nathan', 'dire', '10pm', 'puck', '11:30am', 'multitude', 'maple', 'rigatoni', 'parsley', 'flaw', 'assistant', 'uhh', 'depends', 'brunches', 'tire', 'shenanigans', 'costco', 'aaa', 'rescue', 'language', 'personalities', 'abound', 'mentally', 'stare', 'thru', 'visible', 'damage', 'nada', 'button', 'marie', 'champ', 'affected', 'inquire', 'ford', 'whomever', 'valve', 'stem', 'penny', 'liberal', 'conservative', 'commercial', 'harris', 'teeter', 'reached', 'intact', 'development', 'discussion', 'dynamic', 'farmers', 'markets', 'progressive', 'promote', 'unwind', 'royal', 'obscure', 'approach', 'anticipating', 'solely', 'hundred', 'practically', 'camping', 'disneyland', 'resort', 'blankets', 'attraction', 'forum', 'recorded', 'pirate', '5*', 'wiping', 'croissant', 'stressful', 'titanic', 'hating', 'upload', 'eat24', 'croissants', 'brûlée', 'pies', 'piping', 'tore', 'caramelized', 'shattered', 'flaky', 'layers', 'nirvana', 'drag', 'pump', 'carb', 'homes', 'maintaining', 'restroom', 'updates', 'mats', 'coyote', 'scare', 'animals', 'runner', 'biker', 'walker', 'basketball', 'volleyball', 'tranquil', 'garden', 'pens', 'bushes', 'baths', 'overflowing', 'yardbird', 'steamy', 'bliss', 'southern', '86', 'thyme', '1\\\\/4', 'block', '8\\\\/10', 'duke', 'cider', 'cube', 'drank', 'scotch', 'waaaay', 'letdown', 'bothering', 'rave', 'jalapeño', 'passes', 'waistline', 'dreamed', 'travels', 'pea', 'lists', 'macaron', 'delight', 'combining', 'matcha', 'yonaka', 'plating', 'influence', 'provides', 'tots', 'web', 'privacy', 'wireless', '1.', 'fast-food', 'bookmarks', 'tricky', 'brewing', 'thirsty', 'doggy', 'timer', 'plasma', 'network', 'dined', 'ivy', '8:30pm', 'cougar', 'junior', '1\\\\/2', 'noticeably', 'discussing', 'mafia', 'warrants', 'seared', 'mascarpone', 'polenta', 'instinct', 'lighter', 'magic', 'dusting', 'breakfasts', 'shredded', 'cubed', '1\\\\/3', 'diced', '9:30am', 'showroom', 'mattress', 'pre-made', 'beds', 'ann', 'needle', 'twin', 'perk', 'mattresses', 'harder', 'adjustment', 'pillow', 'softer', 'trial', 'donate', 'cuban', 'embarrassing', 'horribly', 'explosion', 'mouths', 'stomachs', 'contents', 'cram', 'makeup', 'nails', 'somebody', '300', 'hook', 'stingy', 'elbows', 'lip', 'mission', 'shawarma', 'crammed', 'foil', 'pb', 'rex', 'bypass', 'peak', 'wins', 'november', 'comprised', 'remained', 'accessible', 'crispiness', 'detected', 'boxed', 'exited', 'hurts', '3x', 'delights', 'fritters', 'adorned', 'creations', 'slim', 'shady', 'ratio', 'fillings', 'substance', 'bursting', 'reaching', 'chaotic', 'correct', 'drives', 'creativity', 'cafeteria', 'largest', '.and', 'servings', 'adobo', 'lechon', 'kare', 'halo', 'scratching', 'surface', 'dine-in', 'guards', 'flakes', 'tax', 'carafe', 'impressively', 'over-the-top', 'ethics', 'timeshare', 'claims', 'deeply', 'involving', 'tactic', 'foolish', 'whining', 'pitch', 'crawl', 'cave', 'agreeing', 'arrangement', 'inconsiderate', 'shoved', 'afford', 'chosen', 'avengers', 'captain', 'upper', 'hulk', 'alot', 'removing', 'geared', 'cases', 'comics', 'comic', 'heroes', 'decently', 'eyebrow', 'comparable', 'loyalty', 'branches', 'tree', 'girly', 'grooming', 'brow', 'jeez', 'fifth', 'groomed', '65', '4.99', 'fixture', 'containers', 'accordingly', 'spell', 'capital', 'sauerkraut', 'antique', 'boulder', 'memorabilia', 'rat', 'dean', 'martin', 'trailer', 'humorous', 'sadness', 'shed', 'tear', 'caring', 'locale', 'genius', 'devices', 'blank', 'hopeful', 'taught', 'restored', 'efficiency', 'mgm', 'eight', '6:30pm', 'pesto', 'soufflé', 'beignets', 'disconnected', 'shaved', 'liar', 'inspect', 'jennifer', 'energetic', 'mesmerizing', 'performer', 'showtime', 'personnel', 'selfie', 'shapes', 'confetti', 'additions', 'backup', 'dancers', 'blocked', 'extended', '2018', 'attractions', 'blvd', 'instructions', 'puzzles', 'clues', 'teller', 'hints', 'ignorance', 'jewelry', 'society', 'industrial', 'purchased', 'engagement', 'abundant', 'crystals', 'abysmal', 'non-existent', 'fulfill', '99', 'canada', 'uninspired', 'tack', 'rear', 'devoted', 'displaying', 'lifestyle', 'stationary', 'chains', 'dissatisfaction', 'attitudes', 'snake', 'awake', 'certified', 'hooker', 'wal-mart', 'danger', 'sends', 'containing', 'purchases', 'lured', 'bathing', 'hunt', 'kombucha', 'fave', 'drinker', 'pumpkin', 'visitors', 'tune', 'significant', 'jean', 'ami', 'gabi', 'brace', 'trend', 'ladder', 'biased', 'palette', 'bitterness', 'sorbet', 'a-okay', 'in-between', 'enjoying', 'concession', 'protect', 'outdoors', 'concrete', 'pigeons', 'freaks', 'devils', 'echo', \"'em\", 'listing', 'lab', 'cactus', 'asu', 'eager', 'chit', 'macchiato', '4.75', 'dash', 'mocha', '4-5', 'inconsistent', 'fence', 'search', 'sweater', 'downright', 'meth', 'instances', 'dentist', 'fewer', 'collective', 'shelves', 'tobacco', 'message', 'wipe', 'incident', 'repeating', 'remark', 'nicer', 'aroma', 'baggage', '9th', 'avoiding', 'faith', 'moves', 'reputation', 'doubled', 'trade', 'fixed', 'gratuity', 'sections', 'caviar', 'wealth', 'flavorless', 'furthermore', 'bleh', 'tobiko', 'ikura', 'appetizing', '39', 'wicked', 'rounded', 'duper', 'amazingly', 'cheesesteak', 'thanksgiving', 'circles', 'asap', 'lvac', 'existing', 'makeover', 'repairs', 'lowest', 'bid', 'mature', 'challenging', 'shown', 'teams', 'tile', 'hardest', 'supervisor', 'suggestions', 'exceeded', 'highest', 'jim', 'cravings', 'smokin', 'exceptionally', 'hitch', 'scary', 'opt', 'happening', 'grub', 'buckets', 'claw', 'pole', 'tempt', 'celery', 'tamales', 'yearly', 'holiday', 'bow', 'ties', 'gifts', 'lindsey', '2007', 'ti', 'godiva', 'ad', 'eric', 'r.', 'attended', 'lesson', 'toro', 'lately', 'purchasing', 'molten', 'raspberry', 'raspberries', 'lonely', 'viewing', 'gained', 'enticing', 'combine', 'charts', 'ultra', 'convert', 'talented', 'females', 'amusement', 'sensory', 'commercials', 'kohl', 'amusing', 'mainland', 'roommate', 'knights', 'coworker', 'wears', 'wore', 'groom', 'policy', 'bellini', 'greet', 'djs', 'pumping', '..and', '-they', 'cried', 'guestlist', 'locker', 'again..', 'rain', 'festival', 'addressed', 'jo', 'bao', 'apparel', 'reviewers', 'festivals', 'represented', 'recycling', 'bins', 'flagged', 'forbid', 'truth', 'julie', 'movement', 'shelf', 'condo', '1am', 'lane', 'chart', 'crime', 'specific', 'spectrum', '2009', 'theft', 'littered', 'wrappers', 'sorts', 'junk', 'strewn', 'unable', 'girlfriends', 'cracking', 'dimmed', 'prayer', 'necessarily', 'possibility', 'souvenir', 'wagon', 'pits', 'fastest', 'track', 'laps', 'paved', 'exploration', 'friendliest', 'berries', 'fungus', 'dew', 'chia', 'weed', 'agave', 'nectar', 'sips', 'mandarin', 'allegiant', 'delays', 'attendants', 'direct', 'flights', 'printed', 'boarding', 'print', '-no', 'reclining', 'plane', 'associated', 'airline', 'bitching', 'surprises', 'archi', 'confidently', 'suffer', 'inconsistency', 'supposedly', 'kee', 'stir-fry', 'phrase', 'splendid', 'slapping', 'disposable', 'towel', 'wth', 'burning', 'fantasy', 'immediate', 'gallery', 'deliciousness', 'blackberry', 'remembering', 'autumn', 'hay', 'exclusive', '2,000', 'ratings', 'rollers', 'pawn', 'washed', 'comb', 'curtain', 'uneven', 'grown', 'shadow', 'chick-fil-a', 'breasts', 'intimidating', 'unexpected', 'moms', 'truffles', 'crudo', 'spite', 'plug', 'waterfront', 'blaze', 'sora', 'resist', 'temptation', 'settle', 'nite', 'inspiration', 'endure', 'queue', 'tension', 'arena', 'washroom', 'tiles', 'etc..', 'oscar', 'mode', 'trashy', 'competing', 'trophy', 'dungeon', 'fest', 'smokers', 'friendship', 'catholic', 'responses', 'easter', 'masses', 'nestled', 'incense', 'hispanic', 'attending', 'lisa', '10\\\\/10', 'oops', 'nope', 'lift', 'weights', 'dangerously', 'swim', 'lanes', 'binge', 'texts', 'cutest', 'bussers', 'knocked', 'unfriendly', 'tartness', 'biscuits', 'terribly', 'troll', 'survival', 'tightly', 'aspect', 'wreck', 'wing', 'county', 'proximity', 'sleazy', 'attract', 'clientele', 'drunks', 'domestic', 'gigantic', 'humongous', 'drafts', 'miller', 'lyrics', 'breaking', 'brains', 'daytime', 'year-old', 'pigs', 'tanning', 'mobile', 'messaged', 'set-up', 'thorough', 'bronze', 'amongst', 'designer', 'gals', 'blush', 'struck', 'mule', 'remaining', '6pm', 'aromatic', 'bells', 'leftover', 'graduation', 'resting', 'smiley', 'regards', 'christine', 'interests', 'agent', 'speed', 'cutting', 'imaginative', 'michelin', 'dare', 'james', 'beard', 'awards', 'supporting', 'relationships', 'corrected', 'fuss', 'excess', 'simpler', 'acidity', 'steakhouse', 'shines', 'certificate', 'standout', 'venison', 'osso', 'bucco', 'elk', 'boar', 'chop', 'albeit', 'pours', 'bravo', 'alaska', 'brie', 'h.', 'nicole', 'cleveland', 'attractive', 'suited', 'minds', 'examples', 'billion', 'displays', 'continuously', 'developed', 'related', 'instruments', 'solar', 'creating', 'chica', '100+', 'cultural', 'ala', 'delivering', 'guided', 'glowing', 'selected', 'exploding', 'tomatillo', 'accented', 'fresco', 'crossing', 'parkway', 'bien', 'redeeming', 'individually', 'failure', 'thanking', 'grateful', 'active', 'traveling', 'introducing', 'vacationing', 'luxor', 'remainder', 'stretches', 'farther', 'rethink', 'entertaining', 'robin', 'memory', 'outgoing', 'consisting', 'napa', 'exquisite', 'cured', 'atlantic', 'porterhouse', 'immensely', 'terry', 'k', 'engage', 'separated', 'behemoth', 'preparation', 'meticulous', 'refilled', 'cleared', 'conversations', 'spike', 'ceo', 'dtlv', 'criticism', 'respect', 'definition', 'tired', 'praise', '.50', 'roulette', 'bedroom', 'courtyard', 'pong', 'cans', 'foot', 'chess', 'jackie', 'renovated', 'squirrel', 'oakland', 'backed', 'highway', 'guarantee', 'marble', 'toilet', 'premise', 'venezia', '10th', 'becomes', 'dd', 'boobs', 'friggin', 'runway', 'gucci', 'papers', 'caliber', 'venice', 'italy', 'tony', 'charm', 'introduced', 'supplied', 'thrive', 'chic', 'closely', 'quote', 'carrier', 'expert', 'nevertheless', 'priority', 'transportation', 'passengers', 'fulfilled', 'float', 'urge', 'splash', 'admire', 'disgusted', 'people-watching', 'enthusiast', 'hopped', 'shallow', 'edges', 'goose', 'hula', 'frustration', 'danish', 'union', 'reaction', 'dozens', 'drill', 'cared', 'crown', 'crisped', 'napkin', 'snail', 'outer', 'anyhow', 'meringue', 'shortbread', 'affair', 'doughy', 'waxed', 'uniform', '44', 'poorly', 'buys', 'attendance', 'fluid', 'nipple', 'nipples', 'erotic', 'costume', 'sexual', 'penis', 'hq', 'incompetent', 'unnecessarily', 'tie', 'origin', 'jetta', 'ditch', 'passenger', 'responding', 'avondale', 'sober', 'police', 'tended', 'anger', 'lush', 'military', 'brass', 'alcoholic', 'throwing', 'status', 'justice', 'student', 'citizen', 'receptionist', 'abundance', 'evidence', 'prints', 'smashed', 'panic', 'instructor', 'solved', 'odds', 'slew', 'notes', 'wardrobe', 'origins', 'incorporate', 'fucked', 'strikes', 'swank', 'halls', 'supplies', 'eyelash', 'indulged', 'vice', 'maid', 'kindly', 'debauchery', 'overlooks', 'behavior', 'thehotel', 'elevators', 'spirits', 'assembly', 'barista', 'tokyo', 'shares', 'overdue', 'famed', 'sudden', 'creates', 'campfire', 'warming', 'default', 'harsh', '4.5\\\\/5', 'artificial', 'doesnt', 'caffeine', 'checks', 'belonged', 'attempts', 'clarify', 'tilted', 'approachable', 'previously', 'coats', 'kim', '12.50', 'poking', 'heritage', 'countless', 'devouring', 'tearing', 'ravenous', 'abandoned', 'tent', 'polished', 'lick', 'trance', 'admitting', 'aesthetics', 'assumed', 'challenges', 'inquired', 'services', 'forms', 'consult', 'rancid', 'introduce', 'treatments', 'physician', 'heal', 'ability', 'procedure', 'facial', '350', 'esthetician', 'cancel', 'squeezed', 'demonstrated', 'beauty', 'absent', '59', 'spas', 'submitted', 'outskirts', 'rehab', 'unit', 'banner', 'assistants', 'pt', 'therapist', 'exercises', 'arby', 'ray', 'rm', 'restaurant.com', 'sustainable', 'practices', 'divine', 'swordfish', 'thumb', 'attempt', 'charger', '120', '22', 'reported', 'turnover', 'report', 'confirm', 'mail', 'info', 'larry', 'yikes', 'cones', 'creams', 'charming', 'weirdest', 'consensus', 'sucks', 'monkey', 'doughnuts', 'lukewarm', 'refuge', 'secrets', 'conference', 'gun', 'cadillac', 'marcus', 'hilton', 'terrace', 'wallpaper', 'carpets', 'bally', 'flying', '4+', 'ideally', 'scratched', 'mold', 'dawn', 'overnight', 'oats', '10+', 'desk', '20+', 'managers', 'shopper', 'afterward', 'keys', 'fluke', 'inspector', 'ellis', 'subjected', '6.99', 'texas', 'applebee', 'pa', 'gorge', '101', 'tennis', 'mph', 'charity', 'handing', 'bakery', 'tail', 'bake', 'loaf', 'cakes', 'restraint', 'halloween', 'faves', 'tissue', 'differently', 'emotionally', 'exhausted', 'meetings', 'mrs.', '79', 'omakase', '105', 'pp', 'whereas', 'uni', 'fin', 'source', 'accompany', '1000', 'vancouver', 'surround', 'slicing', 'courses', 'hokkaido', 'complaints', 'fettuccine', 'threads', '4.25', 'sticker', 'farmer', 'grows', 'loving', 'whiff', 'brows', 'nightly', 'breaks', 'delighted', 'subsequent', 'peeps', 'parmigiana', 'brief', 'travelers', 'alike', 'steering', 'chemical', 'tubs', 'stamps', 'consumed', 'positives', 'unsuspecting', 'cattle', 'rely', 'represents', 'clams', 'surreal', 'ironic', 'bears', 'manual', 'faint', 'companion', 'misty', 'matched', 'glitter', 'counts', 'trader', 'communal', 'feelings', 'bitters', 'lent', 'altered', 'microwaved', 'premade', 'hostesses', 'piercing', 'cough', 'tattoo', '5.00', 'subs', 'bias', 'musicians', 'shoppes', 'pressed', 'tin', 'stove', 'posters', 'combines', 'parisian', 'condiments', 'bingo', 'measured', 'rickie', '90', 'java', 'musician', 'joined', 'brakes', 'peter', 'scored', 'cd', 'lame', 'nickname', 'tabasco', 'lingering', 'bibimbap', 'core', 'eaters', 'comparison', 'milder', 'ur', 'austin', 'carnegie', 'cinnabon', 'fl', 'miami', 'blt', 'nyc', 'bagel', 'lox', 'capers', 'charges', 'masseuse', 'coaching', 'veteran', 'massages', 'perspective', 'curd', 'vaughan', 'mills', 'root', 'cad', '4.50', 'pedestrian', 'craps', 'eleven', 'dot', 'engine', 'specified', 'fifty', 'digs', 'resorts', 'rite', 'aid', 'drops', 'continental', 'rendition', 'cowboy', 'wizard', 'waving', 'difficulty', 'aficionado', 'despise', 'rider', 'roses', 'rewarded', 'arcade', 'peruse', 'horrified', 'spraying', 'sprayed', 'isolated', 'patronage', 'rejected', 'nonsense', 'utilize', 'broiled', 'remarks', 'hygienist', 'floss', 'spied', 'scent', 'hanger', 'swapped', 'sear', 'snooze', 'rouge', 'settling', 'chocolat', '5.95', 'scooped', 'cools', 'handsome', 'detailed', 'beau', 'enthusiasm', 'dedication', 'messing', 'pkwy', 'ridge', 'frequent', '12:30', 'regretted', 'nacho', 'styrofoam', 'shuttle', 'buses', 'loading', 'rural', 'imports', 'supermarkets', 'underwhelming', 'vietnamese', 'mochi', 'orderly', 'rubbed', 'manners', 'tale', 'interactions', 'boulevard', 'inedible', 'complained', 'enthusiastically', 'hero', 'storm', 'hostile', 'import', 'messed', 'ensured', 'rip', 'forgive', 'eff', 'flaws', 'photographer', 'duo', 'fabric', 'heads', 'quebec', 'brittany', 'france', 'layered', 'puff', 'homey', 'delicacies', 'placing', 'ect', 'gratitude', '43', 'trap', 'groupons', 'strict', 'loft', 'mirror', 'closets', 'awaits', 'strippers', 'mojitos', 'c', 'agency', 'd.', 'recognized', 'stormed', 'processed', 'canceled', 'processing', 'upgraded', 'negatives', 'unreasonable', 'lineup', 'confirmation', 'accepted', 'pissed', 'excalibur', 'tanks', 'stranger', 'bedrooms', 'showering', 'porn', 'roommates', 'sf', 'outfits', 'dresses', 'resident', 'backpack', 'multi', 'ordeal', 'filth', 'exception', 'heartbeat', 'finishes', 'presentations', 'ruined', 'promoter', 'thomas', 'snails', 'vouchers', 'whisked', 'attire', 'tonic', 'unknown', 'performed', 'lingerie', 'lies', 'blatantly', 'shoving', 'acts', 'gluten', 'logical', 'requirements', 'jenny', 'intro', 'lo', 'sang', 'choreography', 'toes', 'excitement', 'fooled', 'badge', 'galaxy', 'aim', 'rangoons', 'sewing', 'unattended', 'diaper', 'p.', 'hired', 'resto', 'april', 'me..', 'ms', 'princess', 'chris', 'chances', 'seabass', 'pampering', 'poolside', 'clubbing', 'controlled', 'viva', 'zumanity', 'mystere', '2012', 'map', 'ft.', 'acknowledge', 'diagnose', 'upset', 'unwelcome', 'episode', 'forcing', '2.5', 'wonderland', 'overwhelmingly', 'london', 'earl', 'sweetener', 'straws', '5.50', 'radishes', 'astounding', 'mississauga', 'happier', 'colour', 'professionally', 'booking', 'puppy', 'toby', '30min', 'longest', 'straightforward', 'dinning', 'omelettes', 'sizable', 'craze', 'irrelevant', 'fashionable', 'kardashian', 'souvenirs', 'lug', 'equipped', 'oregon', '-it', '-a', 'stains', 'bulb', 'practiced', 'remote', 'cable', 'creamery', 'series', 'impatient', 'ring', 'switch', 'stream', 'gently', 'hiring', 'learning', 'residents', 'ft', 'realtor', 'connections', 'tooth', 'amex', 'waffles', 'belgian', 'dinky', 'top-notch', 'tripe', 'hatch', 'chiles', 'jalapeños', 'chilling', 'guac', 'overcharge', 'investment', 'fills', 'frisco', 'ace', 'matching', 'moisture', 'shoppe', 'independent', 'lips', 'flimsy', 'saag', 'zip', 'tandoori', 'jewel', 'fuel', 'atleast', 'potent', 'pre', 'battle', 'tremont', 'pointe', 'historic', 'vowed', 'investigate', 'pi', '150', 'rollin', 'insurance', 'suv', 'sincere', 'inevitably', '10-15', '8-10', 'mma', 'dundas', 'neighbourhood', 'greenery', 'muted', 'typing', 'centers', 'bedding', 'sous', 'amazon', 'medications', 'supper', 'slick', 'tres', 'mod', 'jacked', 'hooters', 'noisy', 'victory', 'dial', 'w.', 'apologizes', 'momma', 'suggests', 'auto', 'pilot', 'meanwhile', 'pitchers', 'cutlery', 'beaches', '2:00', 'reliable', 'hyper', 'beads', 'sheer', 'supply', 'worries', 'hobby', 'extend', 'uptight', 'sooooo', 'zesty', 'cobbler', 'perfected', 'resolution', 'spontaneous', 'holes', 'dunkin', 'fruity', 'pebbles', 'professor', '2.25', 'detect', 'contender', 'raining', 'redeem', 'candies', 'succulent', 'pei', 'wei', 'daycare', '.not', 'feces', 'daughters', 'unexpectedly', '.they', 'spoken', 'cn', 'maker', 'dishwasher', 'handy', '9am', 'shades', '14th', 'ave.', 'speeding', 'slower', 'slid', 'text', 'nigiri', 'scanned', 'his\\\\/her', 'favour', 'craved', 'unagi', 'ebi', 'all-you-can-eat', 'milos', 'upgrades', 'bargain', 'nova', 'tzatziki', 'chops', '1\\\\/5', 'turkish', 'ale', 'shining', 'beacon', 'carolina', 'rag', 'decorative', 'blasting', 'darling', 'showcased', 'eagerly', 'pearls', 'glance', 'lid', 'elevated', 'predictable', 'concord', 'conditioned', 'comedy', 'fraction', 'duct', 'wires', 'reporting', 'resolve', 'airlines', 'dat', 'aaron', 'rogers', 'vienna', 'warmly', 'cubs', 'brats', 'mixture', 'snobby', 'breakdown', 'cheaply', 'stops', 'students', 'homeless', 'busser', 'cray', 'honor', 'bolts', 'recommending', 'atrocious', 'scheduling', 'routes', 'official', 'terminals', 'pray', 'threaten', 'coin', 'ossington', 'plaid', 'portuguese', 'tablecloths', 'abuse', 'hotdog', 'devoid', 'casing', 'bachi', 'stroke', 'starch', 'critique', 'drab', 'sporting', 'ballpark', 'expand', 'greenland', 'supermarket', 'sakes', 'cavity', 'sealed', 'oregano', 'flag', 'hunk', 'jalapenos', 'england', 'dissapointed', 'graduated', 'mechanic', 'mechanics', 'hahaha', 'screwed', 'f.', 'v.', 'windy', '5.99', 'pico', 'gutter', 'ayce', 'strap', 'lifting', 'dumbbells', 'buzzed', '7-11', 'commonly', 'refers', '10-', 'parlors', '1.75', '10-12', 'deposit', 'reserve', 'hoa', 'leasing', 'contacted', 'notify', 'communication', 'refuse', 'unorganized', 'burden', 'galleria', 'lcbo', 'synthetic', 'moral', 'cent', 'cents', 'suckers', 'cowboys', 'freaky', 'doughnut', 'iconic', 'clown', 'punching', 'collector', 'dolls', '900', 'chin', 'jokingly', 'confidence', 'paperwork', 'consent', 'boom', 'peel', 'patch', 'oral', 'salesperson', 'refunds', 'understood', 'bombs', 'in-store', 'patients', 'dental', 'tactics', 'signing', 'argued', 'diagnosis', 'cherries', 'shiny', 'embrace', 'hollow', 'corned', 'resembling', 'cardboard', 'cubes', 'stringy', 'merely', 'component', 'bk', 'wonderfully', 'inclusion', 'brine', 'owns', 'sunrise', 'mouthfeel', 'bricks', 'disappeared', 'stares', 'disdain', 'tattooed', 'evidently', 'keen', 'yorker', 'tits', 'sarcasm', 'cities', 'attacked', 'ninja', 'slots', 'stared', 'nadine', 'barney', 'saks', '4-star', 'in-laws', 'outback', 'links', 'ken', 'rudy', 'hungover', 'p.m', 'foie', 'gras', 'object', 'saddened', 'walnut', 'plant', 'facts', 'usher', 'thrust', 'incorrectly', 'minded', 'funds', 'praises', 'rocked', 'hamburgers', 'glistening', 'appeal', 'steam', 'dumpling', 'til', 'bok', 'choy', 'reluctantly', '15.99', 'canal', 'wisdom', 'cartoon', 'netflix', 'gentle', 'cliff', 'compelled', 'searched', 'smelly', 'embarrassment', 'amanda', 'concur', 'testament', 'tiramisu', 'yelps', 'deny', 'sins', 'whiskey', 'refreshed', 'yelped', 'andouille', 'popping', 'co-worker', 'rid', 'camera', 'ads', 'craigslist', 'ahh', 'enforcement', 'deserted', 'dealerships', 'kris', 'honda', 'specialists', 'toyota', 'nissan', 'observed', 'interact', 'wi-fi', 'baking', 'yr', 'falafel', 'falafels', 'execution', 'potentially', 'drai', 'hip-hop', 'promoters', 'bouncer', 'sandals', 'enforced', '11:30', 'robbery', 'ooh', 'europe', 'neighborhoods', 'stratosphere', 'arepa', 'slutty', 'renovating', '.this', 'unlucky', '20-30', 'lock', 'nasty', 'fart', 'dealers', 'drip', 'sleepy', 'plugs', 'alert', 'exclusively', 'recall', 'moreover', 'revealed', 'accepting', '3\\\\/4', 'mongolian', 'notably', 'palatable', 'eatcrest', 'lowe', 'anticipated', 'escalator', 'sleek', 'roller', 'poo', 'greatly', 'unpleasant', 'connection', 'dvd', 'dvds', 'ons', 'ending', 'biking', 'a.m.', 'brisk', 'bye', 'santa', 'fe', 'gallo', 'licking', 'newbie', 'contains', 'decatur', 'utterly', 'jay', 'chest', 'abs', 'hug', 'dancer', 'glimpse', 'g', 'lasted', 'shook', 'bon', 'mole', 'injured', 'baklava', 'gyro', 'holds', '.a', 'geek', 'yo', 'calvin', 'tiesto', 'honesty', 'reflect', 'thoughtful', 'useful', 'sur', 'hubs', 'crêpe', 'renovations', 'serrano', 'prix', 'unappealing', 'crêpes', 'mondays', 'bananas', '*hours', 'wed', '2pm', '*for', 'criteria', 'preferably', 'ethel', 'interaction', 'category', 'determine', 'aria', 'deuce', 'lily', 'blackjack', 'lounges', 'heh', 'pubs', 'entertain', 'classical', 'garages', 'catfish', 'blizzard', 'quit', 'toasty', 'branding', 'hooray', 'juan', 'waitstaff', 'compliments', 'brim', 'zia', 'steve', '1.99', 'laughs', 'eyeing', 'eos', 'essential', 'cardamom', 'raisin', 'saffron', '2.99', '2011', 'ushers', '7th', 'cursing', 'j.', 'ruben', 'transformation', 'admiring', 'shuffleboard', 'installation', 'peer', 'bullet', 'skating', 'rink', 'skate', 'reeks', 'failed', 'miserably', 'costing', 'centered', 'lakewood', 'brandon', 'baristas', 'ceramic', 'indication', 'family-friendly', '4:30', '6:30', 'kona', 'pale', '7.95', 'wagyu', 'macadamia', 'friendliness', 'unimpressive', 'apartments', 'consultant', 'graffiti', 'covering', 'property', 'bail', 'bond', 'neighboring', 'carpet', 'filthy', 'outdated', 'encourage', 'heights', 'sauteed', 'plated', 'boot', 'sweets', 'scones', 'macarons', 'spot-on', 'smear', 'carved', 'equal', 'planes', 'gatherings', '3.95', 'hainan', '7.50', 'underwhelmed', 'shrimps', 'anticipation', 'enterprise', 'debit', 'judgement', 'tries', 'upsell', 'mercedes', 'overkill', 'insists', 'frickin', 'cheapest', 'sheesh', 'suckered', 'covers', 'merry', 'unimpressed', 'grouchy', 'starring', 'dignity', 'wage', 'sufficiently', 'buildings', 'cox', 'files', 'effectively', 'desirable', 'unlv', 'sonoran', 'preserve', 'loop', 'horrific', 'install', 'builder', 'leaking', 'estimate', 'installed', 'sierra', '2000', 'reputable', 'jars', 'barn', 'pods', 'pairs', 'loads', 'stripper', 'flashing', 'awkwardly', '}', 'gems', 'evident', 'scarborough', 'timmy', 'mickey', 'caribbean', 'jamaican', 'plantains', 'f*ck', 'deserved', 'gordon', 'ramsay', 'vagina', 'petals', 'distract', 'terror', 'belt', 'filing', 'posting', 'commenting', 'civil', 'publicly', 'expression', 'freedom', 'dick', 'sue', 'attorney', 'david', 'passionate', 'moi', 'wong', 'curated', 'unicorn', 'sephora', 'harvey', 'wiped', 'insight', 'pressured', 'achieve', 'privilege', 'chicks', 'adventures', 'progressed', 'maizie', 'valentine', 'testing', 'abalone', 'cancellation', 'demands', 'hottie', 'filter', 'gray', 'tidy', 'possessed', 'dusty', 'shortage', 'voila', 'itinerary', 'chowder', 'greeter', 'invite', 'oriental', 'speaks', 'heel', 'glue', 'economical', 'distinctive', 'abc', 'sneaky', 'cheerful', 'nod', 'clerk', 'manly', 'giggle', 'judgment', 'insist', 'reluctant', 'switched', 'residence', 'electronic', 'professionals', 'ignore', 'frost', 'visibly', 'grapes', 'afterthought', 'chalkboard', 'adjusted', 'jason', 'misters', 'profusely', 'shift', 'amber', 'chick', 'receives', 'emptied', 'keg', 'quad', 'snapper', 'feeds', 'floating', 'bangkok', 'usd', 'listened', 'con', 'debating', 'overweight', 'teenager', 'prom', 'likewise', 'speedy', 'satisfies', \"c'est\", 'je', 'suis', 'est', 'fait', 'carte', 'tout', 'un', 'choix', 'assez', 'une', 'nous', 'était', 'bonne', 'poulet', 'aussi', 'pas', 'dans', 'bouche', 'à', 'vu', 'peu', 'fort', 'si', \"j'y\", 'bistro', 'chickens', 'fancier', 'downer', '360', '.99', '1.25', 'bundle', 'thinner', 'succeed', 'wendy', 'hashbrowns', 'gamble', 'consumers', 'university', 'semester', 'political', 'stacks', 'helen', 'libraries', 'scoring', 'career', 'weddings', 'anchor', 'instructors', 'pat', 'regarding', 'picturesque', 'lakes', 'spiked', 'conveyor', 'existent', '1-', 'careless', 'gelatos', 'affogato', 'redone', '0.50', 'crema', 'explanation', 'clam', 'stephanie', 'trop', 'meatloaf', '12.99', 'tolerable', 'obscene', 'cabana', 'rudely', 'bitchy', 'residual', 'douchebag', 'population', 'cutter', 'upside', 'shove', 'bitches', 'shorter', 'gladly', 'flea', 'hookah', 'drake', 'promoting', 'oozing', 'increasingly', 'grumpy', 'louisiana', 'resolved', '10:30am', 'melts', 'exaggerated', 'ecstasy', 'suggesting', 'whore', 'replacements', 'straw', 'chanel', 'receipt', 'staffing', 'cosmetics', 'wars', 'itching', 'accommodations', 'hectic', 'jeff', 'racist', 'faux', 'directed', 'thanked', 'wary', 'statements', 'panna', 'fascinating', 'scone', 'nah', 'fabrics', 'patterns', 'kits', 'dated', 'rewards', 'isles', 'crash', 'breaded', 'croquettes', 'noticeable', 'symbol', 'suspicious', 'proclaimed', 'dice', 'stew', 'hated', 'mussels', 'sandy', 'gritty', 'infused', 'temporarily', 'sirloin', 'liver', 'rudest', 'bff', 'ppl', 'sweetest', 'representing', 'demographic', 'stiff', 'cushy', 'ids', 'glendale', 'karma', '12.00', 'overlooking', 'drool', 'intentions', 'noble', 'partners', 'pos', '5-7', 'yards', 'gain', 'pimp', 'curtains', 'sammy', 'davis', 'jon', 'h', 'shellfish', 'ooey', 'delmonico', 'ribeye', 'twisted', 'arm', 'olympic', 'remodeled', 'creamier', 'creek', 'cinema', 'f*cking', '5-stars', 'piss', 't.', 's.', '1998', '1999', 'gang', '.it', 'pops', 'shu', 'busboy', 'moscow', 'so-called', 'pussy', 'amused', 'cheek', 'labeled', 'aura', 'uphill', 'substitute', 'retarded', 'liberty', 'obnoxiously', 'fathom', 'passage', 'substitutions', 'accompanying', 'donkey', 'homework', 'beijing', 'semi', 'shumai', 'shanghai', 'peking', 'lover', 'efforts', 'invitation', 'banter', 'auditorium', 'angle', 'youth', 'counted', 'assist', 'hesitation', 'bastards', 'brag', 'pleasurable', 'bastard', 'donald', 'shannon', 'lone', 'bees', 'suicide', 'muenster', 'crumbled', 'omit', 'dill', 'mum', 'leches', 'varieties', 'bin', 'p.m.', 'jimmy', 'defense', 'appalling', 'upsetting', 'drastically', 'unacceptable', 'offense', 'completing', 'balcony', 'stray', 'downsides', 'so-so', 'suffice', 'lumpy', 'patisserie', 'chocolates', 'packaged', 'brenner', 'wafting', 'ph', 'bouchon', 'bakeries', \"l'atelier\", 'joel', 'robuchon', 'monte', 'carlo', 'resemble', 'flies', 'vents', 'operate', 'decorations', 'unhelpful', 'garcia', 'latin', 'latino', 'toned', 'phones', 'starchy', 'citrusy', 'cotija', 'earthy', 'oceanic', 'blistered', 'shishito', 'purée', 'enhance', 'porchetta', 'gratin', 'anise', 'db', 'brasserie', 'neighbor', 'taqueria', 'casa', 'awaited', 'extraction', 'surroundings', 'stereo', 'verde', 'excellence', 'graveyard', 'palms', 'nifty', 'wafers', 'antonio', 'goin', 'mao', 'recipes', 'peeve', 'hats', 'ive', 'flower', 'mugs', 'bagged', 'sidewalk', 'fashioned', 'winners', 'mixes', 'murals', 'celebrations', 'techno', 'over-priced', 'sands', 'unforgettable', 'marco', 'lion', 'saint', 'bets', '700', '1500', 'renaissance', 'penthouse', 'lux', 'activities', 'uniquely', 'tix', 'acrobats', 'gondola', 'indoors', '160', 'boutiques', 'high-end', 'kors', 'spoons', 'tools', 'bountiful', 'spreading', 'photographs', 'olds', 'photograph', 'feeding', 'cows', 'corral', 'jc', 'honolulu', 'alice', 'bargains', 'cranky', 'stunts', 'regal', 'catching', 'faucet', 'comforter', 'conditioner', 'thermostat', 'sufficient', 'smelling', 'struggled', 'churros', 'weave', 'rotisserie', 'prob', 'user', 'demanding', 'rowdy', 'hyde', 'husbands', 'scared', 'cluttered', 'socal', 'mcd', 'hoo', 'edamame', 'tinted', 'malls', 'americano', '19', 'edit', 'family-owned', 'lens', 'lids', 'sears', 'spencer', 'upgrading', 'tears', 'wobbly', 'weirdly', 'socially', 'buff', 'jumps', 'emotional', 'shirtless', 'horror', 'rebecca', 'australia', 'butterfly', 'nv', 'specializes', 'perusing', 'breakfast\\\\/brunch', 'cloths', 'bday', 'islands', 'snarky', 'confections', 'basics', 'frills', 'produce', 'damaged', 'concern', 'wouldnt', 'butcher', 'purposely', 'les', 'measuring', 'professionalism', 'breaker', 'satisfaction', 'gumbo', 'addicting', 'occasional', 'pv', 'garbanzo', 'log', 'goodbye', 'louder', 'randomly', 'poppers', 'cabo', 'panel', 'screens', 'paragraph', 'household', 'boca', '50\\\\/50', 'diablo', 'ss', 'vape', 'draws', '6.50', 'tostadas', 'heaping', 'honored', 'chatter', 'overbearing', 'tends', 'stella', 'packets', 'grated', 'blazing', 'respectfully', 'housing', 'galley', 'gear', 'towering', 'foster', 'chashu', 'imo', 'colorado', 'adore', 'indifferent', 'dramatic', 'oink', 'rotate', 'roasting', 'porky', 'dollop', 'silently', 'pup', 'registration', 'cluster', 'sewer', 'ventilation', 'stephen', 'marquee', 'mmmmm', 'non-smoking', '1-star', 'shabu', 'unfamiliar', 'oc', 'boiling', 'sukiyaki', 'ponzu', 'saltier', 'udon', 'jellies', '6.95', 'rue', 'mentions', 'heating', 'expansion', 'alligator', 'client', 'x-rays', 'puffs', 'vs.', 'biz', '9.00', 'buttermilk', 'slippery', 'masa', 'pro', 'mammoth', '55', 'physically', 'dreaded', 'shellac', 'backside', 'antiques', 'accurate', 'amidst', 'port', 'fritter', '5am', 'bases', 'batches', 'whimsical', 'mar', 'stored', 'claws', 'invested', 'cocoa', 'limp', 'apache', 'chelsea', 'ballroom', 'acoustics', 'ga', 'guitar', 'handles', 'fairy', 'commit', 'walnuts', 'hardy', 'hybrid', 'metered', 'messages', 'sanctuary', 'vacant', 'sinful', 'cultures', 'stable', 'temperatures', 'skies', 'lightning', 'afternoons', 'yucky', 'munchies', 'crafty', 'decorate', 'thang', 'beaver', 'vampire', 'mints', 'format', 'scooter', 'bout', 'washer', 'dryer', 'jacuzzi', 'fiasco', 'fo', 'carnivores', 'evenly', 'occupy', 'stoked', 'entrances', 'kiosks', 'spotless', 'daisy', 'rugs', 'rejoice', 'lousy', 'dentistry', 'walk-in', 'gimmicky', 'paintings', 'trains', 'noises', 'breathing', 'hundreds', 'samurai', 'slush', 'zombie', '7pm', 'relieved', 'forty', 'appliances', 'goal', 'seller', 'lawrence', 'laughable', 'crush', 'roam', 'maya', 'gc', 'tours', 'hoover', 'dam', '7:00', 'transferred', 'rocking', 'eagles', 'eagle', 'boarded', 'breathtaking', 'hiked', 'refreshments', '6:00', 'voices', 'artisan', 'fingerling', 'licked', 'shipping', 'x', 'vent', 'fedex', 'competent', 'ontrac', 'clay', 'oak', 'steady', 'laid-back', 'philosophy', 'emerald', 'laura', 'hairstylist', 'curly', 'darker', 'wonders', 'strands', 'invisible', 'dye', 'sending', 'specialized', 'gum', 'drug', 'northwest', 'mighty', 'fox', 'sam', 'mystery', 'carin', 'strolled', 'coincidence', 'terrific', 'antipasti', 'mikey', 'separating', 'factors', 'ecstatic', 'hood', 'wave', 'follows', 'vanity', 'height', 'limit', 'waves', '107', 'unhappy', 'cromwell', 'newest', 'october', 'go-go', 'baker', 'hops', 'sweep', 'tracy', 'brittle', 'magazine', 'lieu', 'gm', 'jaw', 'salesman', 'salesmen', 'exploded', 'flu', 'vino', 'cornelius', 'telephone', 'hosts', 'gracious', 'assigned', 'survey', 'appointed', 'antipasto', 'parmigiano', 'dolce', 'souffle', 'elegance', 'mailbox', 'keyboard', 'tied', 'aa', 'blackened', 'periods', 'dilemma', 'challah', 'annie', 'war', '10.95', 'veterinary', 'vet', 'anderson', 'prescriptions', 'vets', 'kennel', 'rampart', 'fleming', 'prove', 'muddled', 'borrow', 'lipstick', 'butters', '49', 'cumin', 'africa', 'shrooms', 'accompaniment', 'banging', 'lions', 'funniest', 'nauseous', 'nude', 'smashing', 'distant', 'shouting', 'intended', 'gong', 'camp', 'suburbs', 'drugs', 'balancing', 'manny', 'well-done', 'fishy', 'linda', 'koi', 'linger', 'obligated', 'genre', 'mario', 'kong', 'collision', 'shaken', 'reassured', '2:30', 'pin', 'peaks', 'boozy', 'ulta', 'clerks', 'brushes', 'intent', 'kit', 'dreadful', 'capacity', 'chlorine', 'overlooked', 'chives', 'morton', 'houston', 'patronizing', 'representatives', 'pleasing', 'tuned', 'clueless', 'meantime', 'inhaled', 'nosh', 'opinions', 'shined', 'reveal', 'requiring', 'discerning', 'qualities', 'wrapper', 'misfortune', 'expedia', 'adjacent', 'concessions', 'snuck', 'displeasure', 'strangely', 'olivia', 'realistic', 'disgrace', 'wit', 'assessment', 'unpretentious', 'underwear', 'pc', 'strength', 'puking', 'blowing', 'supplement', 'unwanted', 'hangs', 'tartare', 'thurs', '14.99', 'overdone', 'parks', 'recreation', 'self-parking', 'sauna', 'showers', 'lounging', 'robe', 'hooks', 'muscles', 'stretching', 'techniques', 'appointments', 'muscle', 'relaxation', 'chardonnay', 'therapists', 'swift', 'jour', 'house-made', 'hazelnuts', 'k.', 'empire', 'bruce', 'branded', 'dared', 'flank', 'trinkets', 'peek', 'appearances', 'delayed', 'sprint', 'marathon', 'arrangements', 'ohhhh', 'inappropriate', 'threshold', 'employed', 'jackpot', 'tremendous', 'compares', 'whisky', 'context', '2010', 'donna', 'delicately', 'nondescript', 'pic', 'specialize', '3\\\\/5', '*there', 'sheriff', 'posse', 'louie', 'curb', 'hindsight', 'leads', 'pulls', 'gripe', 'couldnt', 'soooooo', 'scallop', 'leo', 'fumes', 'a\\\\/c', 'envelope', 'drift', 'compound', 'roads', 'opener', 'fil', 'techs', 'procedures', 'confident', 'surgery', 'discomfort', 'caveat', 'eyeglasses', 'script', 'performs', 'accused', 'ratchet', 'classier', 'reflection', 'baja', 'adobada', 'tool', 'hoops', 'figures', 'kingdom', 'happiest', 'mascot', 'mouse', 'horn', 'sheep', 'bc', 'capitol', 'indiana', 'jones', 'ropes', 'slide', 'mead', '2005', 'hub', 'electricity', 'elevation', 'imagination', 'boat', 'cholla', 'mountains', 'veterans', 'ought', 'qualify', 'coolest', 'everytime', 'holder', 'mo', 'transparent', 'religious', 'plunge', 'fixing', 'announced', 'wolf', 'compote', 'bratwurst', 'confit', 'stoned', \"'the\", 'boast', 'granite', 'shopped', 'servicing', 'in-room', 'sausages', 'preserves', 'robot', 'taiwan', 'veins', 'melon', 'deserving', 'nj', 'philadelphia', 'ct', 'league', 'joes', 'kissed', 'cous', 'notorious', 'educated', 'philippines', 'infusion', 'zing', 'celebration', 'marriage', 'native', 'authority', 'e-mail', 'respected', 'painless', 'coincidentally', '7.99', '13.99', 'carpeting', 'rectangle', 'add-on', 'clark', 'vera', 'niece', 'remake', 'nephew', 'horrendous', '30-40', 'inexperienced', 'massaged', 'bedside', 'blunt', 'envy', 'idk', 'coupled', 'unsanitary', 'conditions', 'mop', 'boards', 'gaming', 'font', 'oxygen', '2-4', 'vietnam', 'stamped', 'pays', 'blasted', 'arrogant', 'gel', 'goddamn', 'scraped', 'alien', 'toxic', 'nostalgia', 'chan', 'alongside', 'xo', 'walgreens', 'articles', 'inadequate', 'frankly', 'overwhelm', 'inaccurate', 'antics', 'inconvenience', 'lunches', 'salts', 'basement', 'summarize', '*i', 'alterations', 'explanations', 'cockroach', 'roach', 'legitimately', 'empanadas', 'mozz', 'empanada', 'holly', 'stools', 'constructed', 'courage', 'deviled', 'uncomfortably', 'unbelievably', 'mason', 'exchanged', 'gen', 'z', 'respectful', 'pipe', 'styling', 'essentials', 'technician', 'sarah', 'tide', 'ho', 'earns', '10:00', 'spelling', 'gap', 'modified', 'bloor', 'intrusive', 'efficiently', 'molasses', 'apricot', 'crumble', 'values', 'digging', 'heed', 'biryani', 'zone', 'tomahawk', 'overflow', 'monthly', 'describes', 'results', 'owl', 'abruptly', 'payless', 'decency', 'stripped', 'await', 'barre', 'positions', 'classes', 'asians', 'overpower', 'thrifty', '215', 'hella', 'rainy', 'incorrect', 'chaos', 'resembled', 'arrow', 'bazaar', 'skewer', 'slivers', 'secured', 'biting', '8.00', 'bumped', 'curse', 'trapped', 'partial', 'automatically', 'excuses', 'feminine', 'studying', 'sole', 'nevermind', 'complicated', 'revealing', 'gettin', 'bottoms', 'deceiving', 'christian', 'uncommon', 'kabob', 'yer', 'nan', 'gills', 'madhouse', 'slathered', 'blessed', 'good-', 'sh', 'underground', 'indicate', 'respectively', 'retrospect', 'tri-tip', 'marbled', 'crostini', 'sees', 'secondary', 'gruyere', 'masks', 'usda', 'trimmed', 'temp', 'fillet', 'umame', 'barry', 'enveloped', 'creamed', 'understands', 'translated', 'baller', 'padded', 'managing', 'reflexology', 'advertisement', 'hopping', 'seinfeld', 'focuses', 'bahn', 'winds', 'rhythm', 'majestic', 'purses', 'mingling', 'shy', 'mate', 'frames', '1.00', 'arts', 'crafts', 'ash', 'ahhhh', 'valentines', 'comedic', 'purposes', 'uninterested', 'furry', 'associate', 'hk', 'blown', 'rescued', 'seven', 'donations', 'volunteer', 'on-site', 'kathy', 'employ', 'horses', 'petting', 'socialize', 'adopt', 'diane', 'craig', 'lesser', '40+', 'scramble', 'w\\\\/o', 'races', 'ebay', 'reward', 'sarcastic', 'react', 'offended', 'lattes', 'horchata', 'hardware', 'frequented', 'fizz', '5th', 'xs', 'gambled', 'headliner', 'departments', 'check-out', 'irritating', 'models', 'escorted', 'fulfilling', 'staircase', 'silence', 'reference', 'framed', 'stench', 'nursing', '3000', 'overcharged', 'skeptical', 'convincing', '54', 'advocate', 'disgust', 'expiration', '17th', 'expense', 'swap', 'tones', 'knowledgable', 'jessica', 'feb', 'loblaws', 'roy', 'flamingo', 'promenade', 'sprinkles', 'lite', 'shea', 'conservatory', 'gardens', 'sinatra', 'fighting', 'meds', 'twenties', 'cvs', 'morons', 'medication', 'commonwealth', 'branch', 'mt', 'vertical', 'sturdy', 'compromise', 'grape', 'decline', 'variations', 'chatime', 'bras', 'supportive', 'fears', 'treadmill', 'snooty', 'teaches', 'truffled', 'programs', 'labor', 'distracting', 'swinging', 'subject', 'dissatisfied', 'financing', 'century', 'clip', 'whisper', 'computers', 'jumping', 'transmission', 'identify', 'owning', 'warranty', 'detroit', 'radius', 'kings', 'stake', 'headphones', 'protocol', 'wristbands', 'sedona', 'mingle', 'bubbly', 'cedar', 'old-fashioned', 'thread', 'plantain', 'gamey', 'retain', 'wee', 'incline', 'erie', 'buca', 'brazil', 'carson', 'rendered', 'drawing', 'illinois', 'carl', 'universe', 'piggy', 'worlds', 'whistle', 'sorely', 'flows', '.just', 'reccomend', 'hr', 'ownership', 'federal', 'laws', 'weapon', 'license', 'ongoing', 'curve', 'climate', '75', 'firearms', 'targets', 'renewal', 'monarch', 'machaca', 'chilaquiles', 'hush', 'puppies', 'founded', 'off-putting', 'rumor', 'lcd', '3.75', 'flashy', 'brooklyn', 'innovative', 'crafted', 'imported', 'teenage', 'permanently', 'safeway', 'siblings', 'charms', 'porter', 'q', 'longing', 'agua', 'frescas', 'tipsy', 'pete', '27', 'parallel', 'packet', 'emotions', 'ache', 'relatives', 'attribute', 'simpson', 'fred', 'forgo', 'nitro', 'venturing', 'elites', 'uye', 'dt', 'doorway', 'bachelor', 'trace', 'roe', 'whew', 'aw', 'mismatched', 'vw', 'muffins', 'macaroon', 'staffs', 'donated', '2.75', 'nazi', 'harrah', 'towers', 'cesar', 'waved', 'billy', 'survived', 'obliged', 'frog', 'parker', 'wink', 'ignoring', 'forces', 'smokehouse', 'lessons', 'tommy', 'bahama', 'cleanse', 'stalking', 'coloring', 'loosely', 'alternate', 'imagined', 'spouse', 'ikea', 'maze', 'leisure', 'translation', 'utter', 'rotation', 'associates', 'florida', 'waxing', 'automatic', 'hotel\\\\/casino', 'comps', 'macbook', '23', 'battery', 'asses', 'touching', 'orgasm', 'chubby', 'discrimination', 'calendar', 'rectangular', 'grinding', 'haunt', 'phx', 'panera', 'pasty', 'gasp', 'lemony', 'eiffel', 'statue', 'murphy', 'betty', 'dread', 'sterile', 'styled', 'bobby', 'cindy', 'spade', 'blatant', \"'t\", 'frown', 'concepts', 'muster', 'pillowy', 'crispness', 'softness', 'textured', 'yell', 'temps', 'unsure', 'amuse', 'referring', '7:30pm', 'milling', 'lobsters', 'cod', 'szechuan', 'cantonese', 'proactive', 'aesthetically', 'someplace', 'triangle', 'monterey', 'e.g', '2004', 'tastier', 'nerve', 'mirrored', 'carrie', 'johnson', 'i.e.', 'irony', 'high-quality', 'hippie', 'singer', 'sings', 'mj', 'lure', 'jefe', 'skimp', 'tendency', 'cordial', 'sonic', 'specialist', 'baseline', 'asia', 'dealer', 'actions', 'affect', 'liquors', 'washes', 'grad', 'anthony', 'gnocchi', 'furnishings', 'hunting', '..but', 'good..', 'specializing', 'harvest', 'coaster', 'shane', 'fb', '1200', 'freaked', '..the', 'bavarian', 'overloaded', 'acquired', 'disliked', 'togo', 'yee', 'foo', 'saddle', 'structures', 'imho', 'boob', '5000', '88', 'counting', 'fuzzy', 'ohio', '10,000', 'savvy', 'tribe', 'adopted', 'sons', 'yrs', 'bleach', 'wipes', 'samosa', 'korma', 'xlb', 'skins', 'luster', 'bearable', 'dove', 'kool', 'popsicle', 'pears', '2.50', 'pricy', 'users', 'dukes', 'collections', 'tina', 'offset', 'motivated', 'ross', 'disagree', 'solutions', 'dizzy', 'mri', 'compassionate', 'domino', 'oversized', 'territory', 'chive', 'non-alcoholic', 'flood', 'undecided', 'detailing', 'tableside', 'inhale', 'brandy', 'generations', 'roku', 'beg', 'differ', 'backwards', '52', 'edition', '-1', 'document', 'confess', 'violent', 'explosive', 'cleanest', 'lollipop', 'hole-in-the-wall', 'considerate', 'dispensers', 'cashiers', 'brian', 'yuppie', 'fellas', 'debate', 'grinder', 'upcharge', 'breadcrumbs', 'spongy', 'gouda', 'skimpy', 'altogether', 'mesmerized', 'failing', 'motor', 'informing', 'salespeople', 'develop', 'prepaid', 'driveway', 'payments', 'wire', 'debacle', 'responds', 'solve', 'logic', 'ashley', 'bridesmaids', 'freezer', 'ink', 'keeper', 'ne', 'melty', 'toothpick', '50s', 'expressions', 'thrill', 'chilies', 'label', 'ox', '4.95', '4-stars', 'proudly', 'gus', 'prawn', 'pomegranate', 'hudson', 'ramsey', 'awe', 'disappoints', 'cantina', 'tivoli', 'lunch\\\\/dinner', 'dancefloor', 'nightclubs', 'stumble', 'heavier', 'khao', 'functions', 'observing', 'hospitable', 'prepackaged', 'influences', 'mein', 'extensions', 'qualified', 'teachers', 'needles', 'mayor', 'handling', 'resources', 'fleet', 'monorail', 'brighter', 'trump', 'ce', \"n'est\", 'vraiment', 'mais', 'sont', 'maison', 'oui', 'très', 'toiletries', 'standouts', 'acidic', 'watercress', 'spiciness', 'redemption', 'nook', 'nw', 'wellness', 'gazpacho', 'respective', 'generously', 'rhino', \"y'know\", 'tougher', 'easiest', 'bib', 'alan', 'albert', 'decked', 'lest', 'thickness', 'reps', 'wash.', 'memberships', 'verge', 'salons', 'strollers', 'strategically', 'hoped', 'aback', 'trashed', 'legacy', 'jewish', 'legendary', 'resembles', 'demo', 'aimlessly', 'gilbert', 'memo', 'disinterested', 'claiming', 'pointless', 'destinations', '33', 'bounty', 'streak', 'postal', 'copies', 'printing', 'cage', 'rubbing', 'hvac', 'steakhouses', 'tongs', 'encouraging', 'optical', 'advanced', 'pajamas', 'writes', 'marilyn', 'monroe', 'sketch', 'lamp', 'encased', 'congrats', 'dos', 'sinus', 'adequate', 'brushing', 'switching', 'perception', '-\\\\/', 'gordo', 'innovation', 'tigers', 'systems', 'flawless', 'reve', 'hehe', 'boats', 'aquarium', 'connects', 'silverton', '5+', 'brainer', 'showcasing', 'preservatives', 'patronize', 'applewood', 'granola', 'fro-yo', 'unprofessional', 'prizes', 'participants', 'timeline', 'biltmore', 'steaming', 'alaskan', 'amazement', 'haters', 'bolt', 'farewell', 'morsel', 'hurricane', 'opi', 'jug', 'wheelchair', 'growth', 'stripping', 'definately', 'vermicelli', 'sizzling', 'jasmine', 'scallion', 'regrets', '5k', '1:30', 'babe', 'rank', 'elizabeth', 'a.', 'birth', 'carbs', 'thee', 'lovin', 'pony', 'hosted', 'teaching', 'byob', 'powered', 'limoncello', '60s', 'utah', 'carnivore', 'socializing', 'ohhh', 'korea', 'non-stop', 'duration', 'kitten', 'permission', 'whack', 'bride', 'laced', 'mentality', 'giddy', 'he\\\\/she', 'approved', 'fires', 'avail', 'ferris', 'sustenance', 'hospitals', 'ware', 'progress', 'pbr', 'mojo', 'borders', '115', 'contacting', 'remade', 'communicate', 'rooftop', 'sandwiched', 'association', 'drinkers', 'pistachios', 'den', 'fois', 'chez', 'avec', 'va', 'qui', 'comme', 'même', 'ça', 'ou', 'vous', \"j'ai\", 'understaffed', 'baba', 'cooling', 'shank', 'kebab', 'nest', 'blink', 'mackerel', 'deer', 'swamp', 'nephews', 'kiddos', 'wildlife', 'mermaid', 'marine', 'barrel', 'aquatic', 'omfg', 'playlist', 'congratulations', 'trading', 'retailers', 'northeast', 'urgency', 'aj', 'justified', 'lottery', 'thrift', 'goodwill', 'treasures', 'seniors', 'elderly', 'backing', 'barrier', 'prince', 'interacted', 'beneficial', 'lashes', 'destroy', 'harmony', 'practicing', 'routines', 'negotiate', 'implants', 'seminar', 'honeymoon', 'references', 'lem', 'cutesy', 'involve', 'yams', 'kisses', 'crate', 'pottery', 'restoration', 'classroom', 'length', 'credits', 'grandparents', 'expire', 'reader', 'youngest', 'murder', 'forming', 'ranked', 'loss', 'defeat', 'nfl', 'torte', 'rockstar', 'u.s.', 'malted', 'glued', 'gag', 'mortified', 'venues', 'hrid', 'smh', 'politics', 'aerial', 'expectation', 'designated', 'gated', 'permit', 'agents', 'substantial', 'inspected', 'grin', 'pads', 'paycheck', 'reheated', 'browned', 'collar', 'suns', 'nba', 'warriors', 'click', 'das', 'betting', '20.00', 'measly', 'opting', 'diving', 'tortas', 'crispier', 'food..', 'flats', 'drums', 'unfinished', 'academy', 'pennies', 'sizing', 'abilities', 'briefly', 'assembled', 'rome', 'appropriately', 'confirming', 'filtered', 'pulling', 'hoot', 'cristo', 'havarti', 'marmalade', 'companions', 'escalators', 'slippers', 'dorm', 'snapped', 'haze', 'defeated', 'audacity', 'unavailable', 'sectional', 'permanent', 'harassment', 'rogue', 'boil', 'persian', 'kabobs', 'reminder', 'sweetheart', 'sun-dried', '11.99', 'glorified', 'motel', 'alignment', 'broccolini', 'fanatic', '-there', 'kristin', 'monitors', 'mounted', 'rung', 'supplier', 'umm', 'promises', 'suspected', 'cortez', 'run-down', 'wells', 'hustled', 'jump', 'delta', 'imitation', 'span', 'smallish', '8am', 'gleaming', 'facade', '14.95', 'trifecta', 'ritz', 'creep', 'treating', 'pedi', 'designs', 'no-frills', 'concentrated', 'squirt', 'deemed', 'harassing', 'springs', 'wealthy', 'stupidity', 'lentils', 'crisps', 'bundt', 'defined', 'mildly', 'ouch', '1-2', 'maneuver', 'musty', '40.00', '4.00', 'soupy', 'glaring', 'translate', 'maids', '140', 'ban', 'minnesota', 'coco', 'crusts', 'gelatinous', 'allen', 'balloon', 'ski', 'pun', 'readability', 'experiment', 'legally', 'furnished', 'liqueur', 'hazard', 'darkness', 'lego', 'chuck', 'hardcore', 'bonito', 'recap', 'sichuan', 'tendon', 'petty', 'trainers', 'sensor', 'compact', 'carded', 'torch', 'puffed', 'wishes', 'blanc', 'pierre', 'salade', 'quand', 'pancetta', 'petite', 'curl', 'ammo', 'stocking', 'crawling', 'sayin', 'kha', 'bugs', 'breathe', 'muy', 'ciao', 'responsive', 'benjamin', 'stupidly', 'tint', 'centerpiece', 'renowned', 'tablet', 'mansion', 'transformed', '40s', 'old-school', 'booty', 'poppin', 'loaves', 'shipped', 'snickerdoodle', 'artifacts', 'obtain', 'waiver', 'banks', 'wages', 'bee', 'johnny', 'douchebags', 'exceptions', 'william', 'appt', 'ummmm', 'camel', 'apologizing', 'ihop', 'fireplace', 'nutshell', 'virgin', 'twins', 'barefoot', 'flops', 'diameter', 'vdara', 'halal', 'starbuck', 'cm', '10.50', 'portioned', 'esp', 'ciabatta', 'revolving', 'applies', 'forest', 'jovial', 'counterpart', 'ranged', 'improving', 'walgreen', 'cue', 'shelter', 'expressed', 'feedback', 'chatty', 'orgasmic', 'niche', 'attic', 'blossom', 'pencil', 'sally', 'harry', 'spill', 'highlighted', 'climbed', 'unbearable', 'automotive', 'diagnosed', 'frosty', 'wad', 'dual', 'usage', '9.50', 'cord', 'documents', 'teacher', 'contrasting', 'pity', 'rec', 'contemplating', 'painfully', 'album', '9.99', 'megan', 'mai', 'matzo', 'victim', 'speaker', 'durian', 'andrew', '125', 'scallions', 'arranged', 'warmed', 'scratches', 'british', 'uk', 'shaking', 'poked', 'bent', 'flipping', 'unfair', 'uniforms', 'mishap', 'panoramic', 'sweeping', 'chalet', 'wrist', 'carlos', 'unparalleled', 'global', 'tendons', 'threat', 'sanitary', 'bacteria', 'organizing', 'decoration', 'colours', 'complains', 'stews', 'teeny', 'reno', 'glitz', 'umbrellas', 'codes', 'cavities', 'owed', 'hurting', 'threatened', 'deleted', 'deduct', 'tremendously', 'cheesecakes', 'hysterical', 'skirts', 'well..', 'mens', 'breweries', 'pirates', 'doubts', 'flyer', 'elements', 'frequenting', 'invites', 'prone', 'pedicure', 'acrylic', 'contracted', 'prevented', 'healing', 'charcoal', 'bush', 'kansas', 'bothers', 'woah', 'compelling', 'leopard', 'remarkably', 'sardines', 'charismatic', 'towing', 'leek', 'sodium', 'tran', 'ruby', 'cloud', '*****', 'userid=emmzx-ggdksu4enmbae6dw', 'soundtrack', 'spider', 'regions', 'lilly', 'boyd', '*the', 'christopher', 'splurge', '12pm', 'optimistic', 'strategy', 'uppity', 'selfies', 'ttc', 'haunts', 'susan', 'pushes', 'volumes', 'discarded', '****', '30.00', 'chimichanga', 'chimi', 'munching', 'woohoo', 'sucking', 'tolerance', 'casserole', 'basmati', 'touristy', 'nightlife', 'freemont', 'helicopter', 'brutal', 'customary', 'starved', 'taro', 'indicates', 'executive', 'syrups', '47', 'mani', 'cuticles', 'licensed', 'manicure', 'unusually', 'giada', 'croque', 'monsieur', 'vine', 'potter', 'tj', 'anxious', 'hakkasan', 'visuals', 'smokes', 'jet', 'anyhoo', 'snapping', 'assorted', \"'i\", 'turtle', 'bark', 'involves', 'unlikely', 'observations', 'rudeness', 'questioning', 'perplexed', 'massaging', 'texted', 'citizens', 'pierced', 'shits', 'fiancée', 'notified', 'institution', 'desires', 'bar\\\\/restaurant', 'relevant', 'overhyped', 'low-key', 'midst', 'ed', 'sultry', 'perks', 'drained', 'customs', 'verified', 'passport', 'gyros', 'vivid', 'greece', 'spark', '++', 'dole', 'applying', 'circular', 'belief', 'garnishes', 'submit', 'slacks', 'bug', 'distillery', 'velvety', 'smoother', 'intermission', 'gig', 'tri', 'med', 'favorable', 'banned', 'formed', '3.25', 'balloons', 'browsed', 'inquiring', 'indulgence', 'refrigerated', 'adorn', 'all-time', '4*', 'neil', 'altar', 'sleeve', 'incorporated', '23rd', '30th', 'reschedule', 'threatening', 'ritual', 'vitamins', 'nutrition', 'weighed', 'audio', 'exam', 'openly', 'dating', 'clap', 'stereotypical', 'dart', '50+', 'saves', 'landlord', 'tuck', 'buzzing', 'situations', 'keith', 'restrictions', 'congee', 'rocky', 'appliance', 'invoice', 'diagnostic', 'electrical', 'jello', 'asset', 'bangs', 'lash', 'complimenting', 'eyelashes', 'shave', 'slurping', 'portable', 'tracking', 'disappears', 'misleading', 'organ', 'singles', 'blankly', 'desperately', 'stab', 'razor', 'chock', 'doom', '175', 'scammed', 'forbidden', 'writer', 'representation', 'donating', 'gamblers', 'ethiopian', 'tripping', 'surcharge', 'striking', 'imagining', 'pooch', 'g.', 'snag', 'reflects', 'saturated', 'ig', 'lemons', 'biggie', 'jamba', 'danny', 'bo', 'takoyaki', 'mush', 'hydrated', 'drowned', 'rotting', 'precise', 'dumpster', 'conventional', 'vitamin', 'hue', 'habitat', 'vending', 'odor', 'southwestern', 'increasing', 'posts', 'sacramento', 'sd', 'lace', 'rounding', 'coasters', 'dainty', 'linen', 'puzzled', 'screwing', 'extraordinarily', 'co', 'hugo', 'fillets', 'jerky', 'rosa', 'romance', 'foundation', 'feat', 'topics', 'freely', 'insanity', 'bridges', 'sweetie', 'flock', 'bombay', 'mani\\\\/pedi', 'flowing', 'mud', 'goofy', 'selfish', 'softly', 'botanical', 'atrium', 'believes', 'richmond', 'spadina', 'buddha', 'frying', 'detox', 'ichiza', 'ping', 'pang', 'exceedingly', 'promising', 'dan', 'singers', 'strain', 'scanning', 'thy', 'villa', 'chillin', 'elbow', 'upright', 'valued', 'reds', 'lexus', 'bums', 'fax', 'prepping', 'roger', 'mistakenly', 'feathers', 'apologetic', 'screws', 'compensation', 'functioning', '1970', '1990', 'desired', 'lovingly', 'tex-mex', 'cringe', 'paneling', 'ruth', 'intensely', 'drier', '11:00', 'images', 'brett', 'convey', 'hugs', 'ushered', 'replicate', 'fiber', 'shadows', 'snagged', 'bmw', 'haus', 'ovens', 'pumps', 'handbags', 'plumbing', 'payment', 'diana', 'fairness', 'revolution', '2\\\\/3', 'jake', 'reheat', 'nitrogen', 'marshmallows', 'bailey', 'nightmares', '{', 'newspaper', 'skilled', 'shameful', 'favourites', 'rangoon', 'interacting', '3-star', 'groomer', 'pups', 'flexibility', 'florentine', 'profiles', 'enchilada', 'mules', 'gulab', 'nancy', 'griddle', 'jr', 'saloon', '15.00', 'neglected', 'batali', 'pause', 'shorty', 'marshall', 'sculpture', 'studied', 'satay', 'finale', 'depressed', 'utilized', 'disc', 'coverage', 'plumber', 'bouncing', 'middle-aged', 'grief', 'overseas', 'moe', 'sneeze', 'virtual', 'neglect', 'wallets', 'markham', 'bakers', 'roasters', 'froyo', 'believer', 'burrata', 'riesling', 'zest', 'newbies', 'drawback', 'struggling', 'underage', 'profession', 'trinity', 'religion', 'cloth', 'proves', 'advertises', 'blues', 'beverly', 'overcrowded', 'jeep', 'begging', 'finance', 'methods', 'belongs', 'jackets', 'mart', 'arrowhead', 'glamour', 'readers', 'brake', 'limb', 'heater', 'uhm', '^', 'valuables', 'departing', 'hairs', 'serene', 'harkins', 'irresistible', 'flirting', 'apocalypse', 'hiccups', 'alex', 'fighter', 'blackberries', 'amp', 'fatburger', 'turd', 'pilates', 'riviera', 'friendlier', 'peixoto', 'prison', 'thereof', 'prostitutes', 'casey', '16oz', \"'no\", 'toothsome', 'interpretation', 'pine', 'dumped', 'weakness', 'negativity', 'sammich', 'royale', 'director', 'abrupt', 'errors', 'traveler', 'harassed', 'mic', 'colder', 'atm', 'sls', 'umami', 'creaminess', 'kebabs', 'moussaka', 'coaches', 'nerves', 'creeps', 'innocent', 'critic', 'participate', 'lungs', 'armed', 'occur', 'anthem', 'andrea', 'rockets', 'kaiser', 'admitted', 'marvin', 'boxing', 'flooded', 'costly', 'oolong', 'msg', 'slurp', 'shio', 'losers', 'here..', 'manageable', 'comfortably', 'installer', 'squid', 'grime', 'one-star', 'sidewalks', 'b\\\\/c', 'stained', 'crooked', 'pressing', 'gifted', 'nuclear', 'cure', 'distinctly', 'ribbons', 'eglinton', 'colleagues', 'tested', 'towed', 'michelle', 'unsafe', 'fuckin', 'xmas', 'claire', 'pricier', 'piqued', 'pancit', 'blamed', 'facials', 'cologne', 'hygiene', 'firstly', '50th', 'reusable', 'mailed', 'sponge', 'coarse', 'lockers', 'thou', 'rising', 'coney', 'wives', 'blond', 'expenses', 'employer', 'unappetizing', 'humid', 'cabinet', 'favors', 'fluids', 'douglas', 'douchey', 'coors', 'accomplish', 'adjustments', 'sapphire', 'charles', 'pulp', 'believed', 'remembers', 'realization', 'ana', 'surgeon', 'scantily', 'clad', 'fetish', 'growler', 'catalog', 'ragu', 'masked', 'unreal', 'globe', 'stir-fried', 'peru', 'arroz', 'paella', 'technology', 'namely', 'ancient', 'belgium', 'unaware', 'loitering', 'picasso', 'vincent', 'museums', 'andy', 'galleries', '3-stars', 'mysterious', 'pacing', 'beams', 'penn', 'unapologetic', 'blaring', 'matthew', 'attentiveness', 'gulp', 'pac', 'ono', 'suffered', 'po', 'dumpy', 'bore', 'notre', 'expertise', 'wisely', 'josh', 'oreos', 'vest', 'crinkle', 'describing', 'bicycle', 'statues', 'operates', 'snappy', 'foremost', 'positively', 'scum', 'pans', 'kissing', 'photography', 'campaign', 'viewed', 'sumo', 'darts', 'believing', 'lecture', 'shish', 'carnivorous', 'coveted', 'airports', 'lawn', 'savored', 'satiated', 'shuffle', 'ralph', 'delicacy', 'fate', 'whitney', 'african', 'inducing', 'choke', 'cargo', 'trigger', 'mex', 'kenny', 'powers', 'guts', '51', 'flautas', 'premier', 'cheated', 'wonka', 'icon', 'sounding', 'af', 'outrageously', 'gawd', 'grind', '64', 'grainy', 'musubi', 'pecans', 'pamela', 'motto', 'exceeds', 'forks', 'petsmart', 'cornmeal', 'choking', \"f'ing\", 'robinson', 'priest', 'sean', 'grandview', 'joey', 'pupusas', 'emily', 'keller', 'exhaust', 'loan', 'smoothly', 'masago', 'eel', 'melt-in-your-mouth', 'dynamite', 'gyoza', 'frantic', 'differences', '2.00', 'hustling', 'stranded', 'lookin', 'renamed', 'fixins', 'documentation', 'animated', 'midway', 'tending', 'glanced', 'har', 'gow', 'phase', 'myriad', 'thereafter', 'viet', '.that', 'reckless', 'flush', 'kaiseki', 'slowest', 'prepped', 'torched', 'thieves', 'mind-blowing', 'ornate', 'threading', 'tame', 'threaded', 'sapporo', 'pissing', 'makers', 'importance', 'gateway', 'firmly', 'escaped', 'widely', 'successfully', 'humanity', 'twelve', 'tango', 'farms', 'porch', 'heather', 'laptops', 'junkie', 'kindness', 'spanking', 'lawrenceville', 'satellite', 'shadyside', 'p.p.s', 'surrounds', 'shiitake', 'table-side', '10.00', 'baguettes', 'festivities', 'homage', 'sweats', 'gaze', 'swung', 'aluminum', 'knees', 'conversing', 'encourages', 'maximize', 'extract', 'accomplished', 'galbi', 'zombies', 'hose', 'pins', '7.00', 'snakes', 'steven', 'wright', 'corporation', 'stressed', 'specify', 'urgent', 'sakana', 'woot', 'underrated', 'axe', 'salvage', 'freshest', 'caffeinated', 'teaze', 'duties', 'canadians', 'bouncy', 'dragging', 'pounded', 'uncooked', 'finely', 'remedy', 'cockroaches', 'jameson', 'pineapples', 'estimated', 'bacardi', 'edm', 'forgettable', 'kaya', 'headlights', 'casually', 'groovy', 'bikers', 'busting', 'ruining', 'americana', 'scraping', 'inquiry', 'flyers', 'wontons', 'tents', 'sunscreen', 'food-', 'conduct', 'verbally', 'lurking', 'weirdos', 'chipped', 'intriguing', 'perched', 'lookout', 'lon', 'cushions', 'rockefeller', 'jonathan', 'serendipity', 'mojito', 'console', '2-', 'tier', 'natalie', 'jared', 'communicating', 'dumping', '13th', 'tram', 'bloom', 'stones', 'barking', 'gary', 'frantically', 'emerged', 'crisis', 'flirt', 'maxx', 'defend', 'n9ne', 'squeezing', 'settings', 'checkin', 'ensuring', 'assisted', 'hakka', 'cork', 'lung', 'pakora', 'exemplary', 'manicures', 'pedicures', 'gossip', 'annoyance', 'adrenaline', 'gravity', 'whats', 'officers', 'rebel', 'actively', 'maryland', '800', 'medal', 'brookline', 'prick', 'grant', 'christie', 'possibilities', 'koreans', '19.99', 'pina', 'colada', 'mecca', 'ruins', 'foodies', 'flay', 'scenery', 'topless', 'partly', 'roaches', 'izakaya', 'divorce', 'parfait', 'jr.', 'on-line', 'abandon', 'molly', 'curled', 'leader', \"'til\", 'induced', 'feared', 'chang', 'expansive', 'necessities', 'stems', 'bend', 'russell', 'testosterone', 'bam', 'carpaccio', 'chada', 'sportsbook', 'skates', 'undoubtedly', 'receipts', 'males', 'dandy', 'faithful', 'paninis', 'segment', 'debt', 'nodded', 'milks', 'zak', 'peaches', 'beam', 'sneakers', 'danielle', 'shawn', 'lava', 'sp', 'portland', 'remodeling', 'manually', 'accidents', 'comprehend', 'fanciest', 'howard', 'sources', 'presenting', 'urchin', 'subsequently', 'assault', 'cracks', 'dmv', 'excruciating', 'eggrolls', 'amaze', 'banquet', 'shaving', 'capable', '10:30pm', 'rectify', 'maine', 'amaretto', 'shaker', 'garlicky', 'tastiest', 'traditionally', 'westside', 'tavern', 'flourless', 'mitchell', 'snatched', 'overboard', 'lassi', 'lentil', 'vindaloo', 'examined', 'robbed', 'furious', '\\\\', 'divided', 'taxis', 'operator', 'repairing', 'com', 'comparing', '=d', 'depression', 'tastefully', 'revenue', '7-8', 'roadhouse', 'repetitive', 'accoutrements', 'exams', 'paw', 'demanded', 'flare', 'disease', 'winding', 'speedway', 'frenzy', 'headaches', 'tonkatsu', 'whatnot', '..you', 'hoisin', 'discontinued', 'hordes', 'streetcar', 'richer', 'tempered', 'punched', 'attracted', 'quintessential', 'limes', 'coughing', 'reasoning', 'dispute', 'communicated', 'fought', 'blackout', 'authorized', 'carnival', 'grit', 'rw', 'escargot', 'accompaniments', 'itch', 'awfully', 'calzones', 'glee', 'arguably', 'replica', 'manufacturer', 'educate', 'speechless', 'oblivious', 'acknowledging', 'make-up', '6th', '6-8', 'tainted', 'usb', 'marbling', 'becky', 'subbed', 'vinegary', 'blender', 'leeks', 'pappardelle', 'tiffany', 'cibo', 'grimaldi', 'lavo', 'prop', 'layover', 'unlocked', 'registered', 'denver', 'icky', 'randy', 'cholesterol', 'excels', 'acai', 'kiwi', 'software', 'dec', 'acupuncture', 'chronic', 'reset', 'empathy', 'quest', 'cabinets', 'forewarned', 'marys', 'imaginable', 'engaging', 'plague', 'pow', 'gr', 'fresher', 'clowns', 'funnel', 'bouquet', 'madame', 'sophistication', 'hosting', 'stroller', 'untouched', 'chippendales', 'gangster', 'westgate', 'commute', 'hairdresser', 'shouted', 'eddie', 'scents', 'judgmental', 'holt', 'yorkdale', 'sixth', 'giggled', 'refurbished', 'tataki', 'grande', 'gusto', 'prettier', '8:30', 'redundant', 'linguine', '100th', 'bryan', 'stromboli', 'trusting', 'pyramid', 'disclosure', 'transactions', 'someones', 'ted', 'printer', 'extension', 'emphasize', 'considerable', 'smokiness', 'knacks', 'terrified', 'palmer', 'desyree', 'slushy', 'approaches', 'optional', 'grazie', 'morgan', 'revamped', '2x', 'neapolitan', 'actors', 'saigon', 'bathed', 'hen', 'misunderstanding', 'ip', 'jamun', 'tang', 'intentional', 'scrub', 'taller', 'gargantuan', 'tso', 'mister', 'landscape', 'corny', 'sassy', 'explored', 'formal', 'prosecco', 'ymca', 'workouts', 'eclair', 'cacti', 'remnants', 'guides', 'punishment', 'haul', 'escort', 'fiction', 'immaculate', 'euro', 'sparkly', 'diluted', 'tuition', 'f***', '5:30', 'announce', 'announcement', 'arrange', 'talkin', 'rodeo', \"'m\", 'nay', 'stat', 'batteries', 'cooled', 'craftsteak', 'mina', 'gaga', 'dependable', 'yang', 'siu', 'ales', 'stumbling', 'pedal', 'mates', 'pnc', 'entitled', 'juke', 'lax', 'shelled', 'sara', 'wider', 'sal', 'lodge', 'torta', 'barrio', 'bash', 'compensate', '.we', 'flexible', 'interestingly', 'preparations', 'sprinkling', 'pf', 'kj', 'debris', 'too..', 'youre', 'iffy', 'blowout', 'siracha', 'scope', 'digest', 'personalized', 'dishonest', 'ronald', '6.00', '14.00', 'roma', 'sauvignon', 'monica', 'cells', 'raisins', 'carnevino', 'fiancee', 'demonstration', 'disbelief', 'gastropub', 'catchy', 'jambalaya', 'sought', 'well-known', 'redneck', '.if', 'notices', 'inhaling', 'amy', 'loses', 'speciality', 'pill', 'specifics', 'bounce', 'suffers', 'straps', 'provider', 'ice-cream', 'wannabe', 'chapel', 'cautious', 'hrs', 'pate', 'recommends', 'frugal', 'talkative', 'wally', 'aloof', 'dies', 'precision', 'inspiring', 'oreo', 'counterparts', 'prefers', 'formula', 'nem', 'nuong', 'kbbq', 'mahi', 'roasts', 'all-in-all', 'interview', 'pinky', 'snobs', 'goats', 'enthusiasts', 'gauge', 'technicians', '5,000', 'packaging', 'ftw', 'disturbing', 'smog', 'soba', 'etiquette', 'it-', 'fiesta', 'commend', 'slogan', 'whilst', 'inferior', 'intake', '=p', 'graphic', '911', 'porridge', 'chewiness', 'stain', 'homer', 'cody', 'stadiums', '3-', 'brad', 'coordinator', 'ripoff', 'scarfed', 'touring', 'mania', 'litter', 'pregnancy', 'burlesque', 'tease', 'flakey', 'sting', 'hibiscus', 'proportions', \"'ve\", 'cloves', 'aloo', 'dips', 'partaking', 'bikram', 'buyers', 'firehouse', 'lou', 'chased', 'receptionists', 'francis', 'vuitton', 'firefly', 'bling', 'dimsum', 'entice', 'rapidly', '8oz', 'markup', 'researched', 'installing', 'fussy', 'vanessa', 'voicemail', 'tgi', 'desperation', 'corona', 'hmmmm', 'barbers', '30-45', 'boyz', 'understandably', 'attendees', 'seldom', 'cycling', 'birthdays', 'violation', 'anticipate', 'mat', 'lenses', 'perimeter', 'necklace', 'gown', 'rita', 'chateau', 'speeds', 'pastel', '2006', 'directing', 'mommy', 'witnessing', 'scenic', 'cam', 'tubes', 'clogged', 'fights', 'scarce', 'pluses', 'lolo', 'lo-lo', 'sicilian', 'patios', 'aging', 'peppermint', 'recreate', 'zipline', 'doubles', 'incentive', 'clt', 'crossfit', 'weeknight', 'dank', 'chrome', 'shes', 'sensational', 'lowes', 'stainless', '*note', 'doable', 'filets', 'recognition', 'sunflower', 'lyft', 'achieved', 'metallic', 'damp', 'drain', 'angie', '8th', 'backseat', 'windshield', 'insides', 'albacore', 'tryst', 'bikinis', 'deaf', 'reaches', 'mixers', 'squad', 'cruel', 'swore', 'towners', 'meatless', '31', 'retreat', 'causes', 'modem', '98', '89', 'benny', 'pier', 'grotto', 'flags', '1:00', 'onsite', 'proposed', 'rinse', 'rhyme', 'rarity', 'sisig', 'lowered', 'prickly', 'knick', 'verizon', 'hurried', 'co-ed', 'gender', 'schedules', 'debated', 'gratuities', 'walter', 'jesse', 'income', 'cock', 'cotta', 'decaf', 'jury', 'contacts', 'healthiest', 'wrestling', 'line-up', 'smashburger', 'frosted', 'discourage', 'hover', 'trunk', 'horrid', 'jamming', 'chapter', 'baily', 'bulbs', 'kimchee', 'pierogies', 'underseasoned', 'roaring', 'panels', 'jd', '2001', 'rivers', 'labyrinth', 'aloe', 'frankie', 'endured', 'theatres', 'imax', 'totaled', 'ballet', 'calmly', '*sigh*', 'tartar', 'here-', 'defiantly', 'bracelets', 'necessity', 'fez', 'hips', 'daunting', 'linguini', 'nonexistent', 'presumably', 'brother-in-law', 'kalamata', 'token', 'sis', '2002', 'prada', 'fella', 'x-ray', 'chuckle', 'jordan', 'brides', 'chad', 'hah', 'costumer', 'diva', 'dresser', '50.00', 'worrying', 'operations', 'eggroll', 'weary', 'unclear', 'varying', 'assemble', 'ashes', 'sterling', 'playboy', 'add-ons', 'fillers', 'spy', 'pod', 'tl', 'numbing', 'floored', 'monty', 'spends', 'sandwhich', 'peppercorn', 'tantalizing', 'blaming', 'broths', 'nori', 'yah', 'afar', 'approx', 'sacrifice', 'congested', 'tues', 'firing', 'temple', 'travelling', 'yorkville', 'vons', 'composed', 'instruction', 'priceless', 'cardinals', 'montréal', 'dosa', 'fixes', 'maui', 'finer', 'breed', 'gambler', 'virginia', 'oriented', 'sellers', 'hickory', 'scooping', 'absinthe', 'considerably', 't.v', 'butler', 'hippy', 'weirdo', 'philip', 'behaved', 'requisite', 'champaign', 'rc', 'measures', 'cellphone', 'identified', 'curt', 'collectively', 'napoleon', 'cannolis', 'poppy', 'pokemon', 'cenpho', 'developing', 'jk', 'slop', 'eaton', 'chasu', 'contractor', 'cheating', 'scorpions', 'maria', 'clair', 'elitist', 'granddaughter', 'fam', 'barbara', 'sundaes', 'trustworthy', 'din', 'quieter', 'burro', 'tucson', 'thier', 'sardine', 'proportion', 'thrilling', 'off-strip', 'voodoo', 'christina', 'fitted', 'peeling', 'redo', 'gods', 'danforth', 'luis', 'knee', 'kool-aid', 'barbershop', 'grimy', 'fundido', 'coal', 'dq', 'appalled', 'accomodate', 'sugar-free', 'squished', 'connecting', 'distinguish', 'sprawling', 'pep', 'comedian', 'architectural', '1980', 'ufc', 'coca-cola', 'pairings', 'boobies', 'championship', 'blur', 'begged', 'pest', 'cayenne', 'promotions', 'jinya', '66', 'merci', 'customization', 'sheraton', 'agenda', 'pasties', 'fraud', 'karen', 'astronomical', 'guidelines', 'omnia', 'alexis', 'dentists', '2.', 'expo', 'dom', 'blanco', 'scout', 'von', 'ubiquitous', 'ipic', 'cokes', 'elected', 'serenity', 'petit', 'junction', 'separates', 'hikers', 'meticulously', 'marnier', 'ceasar', 'yogurtland', 'brunette', 'brat', 'sundried', 'vacations', 'cartel', 'gogo', 'marketplace', 'sich', 'ein', 'mit', 'der', 'auch', 'eine', 'und', 'über', 'keno', 'ist', 'hier', 'kann', 'auf', 'sehr', 'uniqueness', 'dungeness', 'mussel', 'aux', 'orgy', 'pierogi', 'gays', 'civic', 'ricky', 'strongest', 'dismissive', 'th', 'johns', 'warranted', 'eyeballs', 'wir', 'nicht', 'zu', 'für', 'wurde', '3-5', 'collected', 'rescheduled', 'committing', 'anime', 'iberico', 'briny', 'pitiful', 'chiropractic', 'evaluation', 'leslie', 'home-made', 'washrooms', 'occupies', 'willingly', 'maggie', 'nikki', 'bb', 'pinto', 'drawers', 'erin', 'lotions', 'attach', 'akron', 'beginner', 'finesse', 'a.k.a', 'spiritual', 'sacred', 'fraiche', 'proprietor', 'skinned', 'defective', 'spaced', 'conclude', 'donation', 'handbag', 'minimalist', 'dale', 'advisor', 'universal', 'incompetence', 'handicap', 'floats', 'unwilling', 'quart', 'accomodating', 'smarter', 'ye', 'swingers', 'oy', 'coins', 'chaat', 'brah', 'delete', 'jen', 'vista', 'williams', 'leash', 'benedicts', 'errr', 'disappearing', 'guitars', 'bartending', 'opentable', 'illness', 'cages', 'reserving', 'debbie', 'enemy', 'merchant', 'spendy', 'cinco', 'recalled', 'tragic', 'ankle', '3:30', 'schmancy', 'elated', 'costa', 'tokens', 'liter', 'goodlife', 'timers', 'chevy', 'inept', 'mastro', 'uninspiring', 'impersonal', 'timed', 'fishes', 'piestewa', 'habits', 'takeaway', 'pardon', 'monta', 'graphics', 'indians', 'spearmint', 'atomic', 'alla', 'arepas', 'engineering', 'chamber', 'nate', 'absurdly', 'banking', 'gasoline', 'confuse', 'restore', 'indicator', 'defensive', 'canopy', 'paddle', 'swag', 'bending', 'tallest', 'pre-packaged', 'goyemon', 'numbered', 'wrapping', 'dangling', 'phil', 'focusing', 'harissa', 'trends', 'horton', 'indicating', 'toasts', 'cathedral', 'sculptures', 'botox', 'fever', 'institute', 'motivation', 'routinely', 'og', 'inebriated', 'unremarkable', 'samy', 'ra', 'thoughtfully', 'alter', 'pumpkins', 'orchard', 'soaps', 'prairie', 'macayo', 'stk', 'angela', 'tapped', 'soju', 'edward', 'rotten', 'momofuku', 'userid=no5e0wtlaoycjhelu6oevg', 'tabs', 'glove', 'lgo', 'peameal', 'bosa', 'patches', 'kielbasa', 'corkage', 'enoki', 'heaters', 'langoustine', 'cuticle', 'smiths', 'gene', 'karaage', 'nobu', 'whatevs', 'rv', 'popeyes', 'traded', 'swears', 'midday', 'tuscan', 'todd', 'awesomely', 'tous', 'dac', 'biet', 'cle', 'corey', 'weapons', 'popeye', 'dolphins', 'lori', 'caffe', 'ganoush', 'ahwatukee', 'ces', 'rusty', 'ck', 'brio', 'pomo', 'assumption', 'gina', 'doorman', 'ali', 'full-on', '15+', 'kidney', 'fragile', 'grandfather', 'seasonally', 'mineral', 'forte', 'me-', 'barf', 'polar', 'disposal', 'smug', 'tailored', 'entirety', 'tyler', 'planted', 'julian', 'choked', 'florist', 'flagship', 'germany', 'raku', 'mont', 'portillo', 'skyline', 'anna', 'faire', 'durant', 'hoof', 'simon', 'grasp', 'occurrence', 'ftr', 'puerto', 'grossly', 'exhibition', 'creamer', 'frittata', 'butterflies', 'andre', 'jaleo', 'scottish', 'smores', 'dramatically', 'pam', 'payed', 'fogo', 'listens', 'overs', 'sooooooo', 'carmelized', 'celiac', 'elton', 'examination', 'op', 'chirashi', 'pierogis', 'mekong', 'lulu', 'schwartz', 'goo', 'remoulade', 'franco', 'kabuto', 'itchy', 'halo-halo', 'luna', 'soho', 'tinting', 'whirlpool', 'i.', 'hiro', 'pan-fried', 'manger', 'adequately', 'utmost', 'samsung', 'walk-ins', 'cronut', 'mercury', 'cronuts', '\\\\/\\\\/', 'unbeatable', 'prescribed', 'mm', 'belts', 'rico', 'bounced', 'mars', 'scrambling', 'symphony', 'reunion', 'tailor', 'contractors', 'westin', 'joseph', 'te', 'noda', 'injera', 'resturant', 'recycled', 'pinnacle', 'estimates', 'jessie', 'rotors', 'suitcase', 'must-try', 'amsterdam', 'beep', 'mimi', 'artisanal', 'belle', 'ants', 'fatcat', 'savoy', 'distraction', 'aveda', 'seoul', 'headset', 'emeril', 'miscommunication', 'bowels', 'philippe', 'hyatt', 'instrument', 'shuts', 'permitted', 'petco', 'smartphone', 'burgr', 'harness', 'groomers', 'md', 'kitchenette', 'bojangles', 'airways', 'eva', 'ultrasound', 'hyundai', 'dropout', 'thunderbird', 'flav', 'holsteins', 'wrigley', 'mlife', 'filters', 'criss', 'lago', 'arthur', 'sns', 'zona', 'frybread', 'penguin', 'zinc', 'guu', 'jollibee', 'shlomi']\n"
          ],
          "name": "stdout"
        }
      ]
    },
    {
      "cell_type": "code",
      "metadata": {
        "id": "uBe7Jsg2RZIy",
        "colab_type": "code",
        "colab": {
          "base_uri": "https://localhost:8080/",
          "height": 122
        },
        "outputId": "c4305257-298d-4a42-a0f7-965070073d0b"
      },
      "source": [
        "print(w2v_model.similarity('sauce','modern'))"
      ],
      "execution_count": null,
      "outputs": [
        {
          "output_type": "stream",
          "text": [
            "-0.23720919\n"
          ],
          "name": "stdout"
        },
        {
          "output_type": "stream",
          "text": [
            "/usr/local/lib/python3.6/dist-packages/ipykernel_launcher.py:1: DeprecationWarning: Call to deprecated `similarity` (Method will be removed in 4.0.0, use self.wv.similarity() instead).\n",
            "  \"\"\"Entry point for launching an IPython kernel.\n",
            "/usr/local/lib/python3.6/dist-packages/gensim/matutils.py:737: FutureWarning: Conversion of the second argument of issubdtype from `int` to `np.signedinteger` is deprecated. In future, it will be treated as `np.int64 == np.dtype(int).type`.\n",
            "  if np.issubdtype(vec.dtype, np.int):\n"
          ],
          "name": "stderr"
        }
      ]
    },
    {
      "cell_type": "code",
      "metadata": {
        "id": "_-qaaA9VRZLM",
        "colab_type": "code",
        "colab": {
          "base_uri": "https://localhost:8080/",
          "height": 340
        },
        "outputId": "37ff3778-9226-4a4a-f962-e849ce4e3e8c"
      },
      "source": [
        "print(w2v_model['took'])"
      ],
      "execution_count": null,
      "outputs": [
        {
          "output_type": "stream",
          "text": [
            "[ 0.5464815  -0.97241086  3.311198   -3.2550704  -0.99351954 -2.4567058\n",
            "  1.5414901  -0.37879306 -1.5991054   4.2504387   1.6764148   4.196207\n",
            " -0.2918213  -0.5003909  -1.9147344  -2.3170695  -1.6303438  -3.4639513\n",
            " -1.6889924  -0.6271415   1.6377608   0.77696633 -0.68309957  4.6379967\n",
            " -2.7759957  -1.369109   -0.31374234 -0.9626596  -1.6108712   1.7279468\n",
            "  3.1372228  -0.44742745  0.4598992   1.162359    0.81430787  3.820609\n",
            " -0.62986654 -1.2076048   0.79417926  1.5636802   0.15471247 -1.0993953\n",
            "  1.4210918   1.1678452   0.23822965 -2.7686596  -2.8209567  -1.2733232\n",
            "  0.5956113   2.0893734  -1.7294456  -2.9805646   1.5977479   1.4553773\n",
            "  0.36763456 -1.1247832   0.33200353 -1.589456   -3.631587    3.843615\n",
            " -1.4818952   1.7684997  -0.8475198  -0.14820518  1.6243857  -0.664066\n",
            "  1.5931782  -0.6819762   2.9001343  -1.7201558   1.20333     3.4189372\n",
            "  4.8365593  -1.0802591  -0.9002712  -0.96076995  1.7882785  -0.7318525\n",
            "  1.2100542   0.69546425  1.0034025   0.53885883 -1.3905729   1.9564261\n",
            "  2.4082165  -0.17735521  1.3103249  -1.141101   -4.134249   -2.7914422\n",
            "  0.42609993 -1.2042713   4.157437    2.1354017  -4.8081913   1.3483112\n",
            "  0.3751129  -3.9743989   2.911015   -0.40600696]\n"
          ],
          "name": "stdout"
        },
        {
          "output_type": "stream",
          "text": [
            "/usr/local/lib/python3.6/dist-packages/ipykernel_launcher.py:1: DeprecationWarning: Call to deprecated `__getitem__` (Method will be removed in 4.0.0, use self.wv.__getitem__() instead).\n",
            "  \"\"\"Entry point for launching an IPython kernel.\n"
          ],
          "name": "stderr"
        }
      ]
    },
    {
      "cell_type": "code",
      "metadata": {
        "id": "ysMBz-mLRFIM",
        "colab_type": "code",
        "colab": {
          "base_uri": "https://localhost:8080/",
          "height": 340
        },
        "outputId": "0b00aa75-bb52-4dd4-b449-d98eeaf33c63"
      },
      "source": [
        "print(w2v_model['?'])"
      ],
      "execution_count": null,
      "outputs": [
        {
          "output_type": "stream",
          "text": [
            "[-0.5718046  -1.70426    -0.6702491   0.1551818  -0.8504773   0.7040305\n",
            "  1.9035766   1.1369313  -1.2792156  -1.0334326   2.764656    0.2058975\n",
            "  0.11546148 -0.31984046  2.8193884   0.6413248   0.3156662   1.4188912\n",
            "  1.9453793   2.9681072   2.9224453  -0.03779419 -0.38111103 -1.9701613\n",
            " -3.0297391   0.28237963 -3.8542516  -0.30939808 -0.5290664  -1.1360329\n",
            " -0.49305812  1.270076    3.7576365  -0.23244445 -2.040888   -0.76465636\n",
            "  1.7159061  -0.47767746 -0.38736698 -1.1959461  -0.14350411  1.1517358\n",
            " -1.9146327   0.00571466  3.6020834   0.9100537  -0.16589394 -0.09878445\n",
            " -0.38552758 -1.3967462   1.0285149   0.62193024  1.6778002  -2.169111\n",
            "  0.53992814 -1.3768017  -0.45789173 -0.84260064 -1.6517532  -2.8357732\n",
            " -1.8068635  -0.74452204 -1.193735   -1.0914897   1.5114803   0.05578345\n",
            " -0.33031112  1.2645391   2.1459153  -1.6985198  -0.89573544 -0.00669429\n",
            "  2.1844478  -2.600825   -1.5781724  -0.84431607 -0.98498654  1.6746037\n",
            "  2.5607078  -1.3902587  -0.4401131   5.051314    0.9024498   3.5119882\n",
            " -0.59563375 -2.2594895   0.5722159  -1.1113342   1.2373681  -0.34924114\n",
            " -2.1177652  -2.777164   -1.9793208   1.587261   -0.28153643  0.47449672\n",
            " -0.42554393  0.2992534  -1.4748218   0.41852027]\n"
          ],
          "name": "stdout"
        },
        {
          "output_type": "stream",
          "text": [
            "/usr/local/lib/python3.6/dist-packages/ipykernel_launcher.py:1: DeprecationWarning: Call to deprecated `__getitem__` (Method will be removed in 4.0.0, use self.wv.__getitem__() instead).\n",
            "  \"\"\"Entry point for launching an IPython kernel.\n"
          ],
          "name": "stderr"
        }
      ]
    },
    {
      "cell_type": "code",
      "metadata": {
        "id": "0K1WjPEiRFTL",
        "colab_type": "code",
        "colab": {
          "base_uri": "https://localhost:8080/",
          "height": 122
        },
        "outputId": "2a7cf130-864b-40f1-e343-2462fabd491e"
      },
      "source": [
        "result = w2v_model.most_similar(positive=['queen', 'man'], negative=['king'], topn=1)\n",
        "print(result)"
      ],
      "execution_count": null,
      "outputs": [
        {
          "output_type": "stream",
          "text": [
            "[('woman', 0.6293600797653198)]\n"
          ],
          "name": "stdout"
        },
        {
          "output_type": "stream",
          "text": [
            "/usr/local/lib/python3.6/dist-packages/ipykernel_launcher.py:1: DeprecationWarning: Call to deprecated `most_similar` (Method will be removed in 4.0.0, use self.wv.most_similar() instead).\n",
            "  \"\"\"Entry point for launching an IPython kernel.\n",
            "/usr/local/lib/python3.6/dist-packages/gensim/matutils.py:737: FutureWarning: Conversion of the second argument of issubdtype from `int` to `np.signedinteger` is deprecated. In future, it will be treated as `np.int64 == np.dtype(int).type`.\n",
            "  if np.issubdtype(vec.dtype, np.int):\n"
          ],
          "name": "stderr"
        }
      ]
    },
    {
      "cell_type": "markdown",
      "metadata": {
        "id": "JAa1zictTwa6",
        "colab_type": "text"
      },
      "source": [
        "Principal Component Analysis or PCA"
      ]
    },
    {
      "cell_type": "code",
      "metadata": {
        "id": "QOWWncsLRZNx",
        "colab_type": "code",
        "colab": {
          "base_uri": "https://localhost:8080/",
          "height": 51
        },
        "outputId": "bff641a5-ea65-41e9-d78c-510139ce92a1"
      },
      "source": [
        "Embedding_index = w2v_model[words]"
      ],
      "execution_count": null,
      "outputs": [
        {
          "output_type": "stream",
          "text": [
            "/usr/local/lib/python3.6/dist-packages/ipykernel_launcher.py:1: DeprecationWarning: Call to deprecated `__getitem__` (Method will be removed in 4.0.0, use self.wv.__getitem__() instead).\n",
            "  \"\"\"Entry point for launching an IPython kernel.\n"
          ],
          "name": "stderr"
        }
      ]
    },
    {
      "cell_type": "code",
      "metadata": {
        "id": "XjVoJLHpRZQX",
        "colab_type": "code",
        "colab": {
          "base_uri": "https://localhost:8080/",
          "height": 265
        },
        "outputId": "b0dd29e2-fa7a-470a-8b60-588f8f9ece77"
      },
      "source": [
        "pca = PCA(n_components=2)\n",
        "result = pca.fit_transform(Embedding_index)\n",
        "plt.scatter(result[:, 0], result[:, 1])\n",
        "words = list(w2v_model.wv.vocab)\n",
        "for i, word in enumerate(words):\n",
        "    plt.annotate(word, xy=(result[i, 0], result[i, 1]))\n",
        "plt.show()"
      ],
      "execution_count": null,
      "outputs": [
        {
          "output_type": "display_data",
          "data": {
            "image/png": "[encoded data removed]",
            "text/plain": [
              "<Figure size 432x288 with 1 Axes>"
            ]
          },
          "metadata": {
            "tags": []
          }
        }
      ]
    },
    {
      "cell_type": "code",
      "metadata": {
        "id": "E3n9qFYNRZZL",
        "colab_type": "code",
        "colab": {
          "base_uri": "https://localhost:8080/",
          "height": 71
        },
        "outputId": "20e01bff-6e84-403d-8819-56d2db37839e"
      },
      "source": [
        "w2v_model.save(\"/content/drive/My Drive/Data/Yelp_Review/word2vec.model\")"
      ],
      "execution_count": null,
      "outputs": [
        {
          "output_type": "stream",
          "text": [
            "/usr/local/lib/python3.6/dist-packages/smart_open/smart_open_lib.py:410: UserWarning: This function is deprecated, use smart_open.open instead. See the migration notes for details: https://github.com/RaRe-Technologies/smart_open/blob/master/README.rst#migrating-to-the-new-open-function\n",
            "  'See the migration notes for details: %s' % _MIGRATION_NOTES_URL\n"
          ],
          "name": "stderr"
        }
      ]
    },
    {
      "cell_type": "code",
      "metadata": {
        "id": "XQJ7Q_tjUlsZ",
        "colab_type": "code",
        "colab": {}
      },
      "source": [
        ""
      ],
      "execution_count": null,
      "outputs": []
    },
    {
      "cell_type": "code",
      "metadata": {
        "id": "hIiD-o1UUlyB",
        "colab_type": "code",
        "colab": {}
      },
      "source": [
        ""
      ],
      "execution_count": null,
      "outputs": []
    },
    {
      "cell_type": "code",
      "metadata": {
        "id": "1YolImfMUl55",
        "colab_type": "code",
        "colab": {}
      },
      "source": [
        ""
      ],
      "execution_count": null,
      "outputs": []
    },
    {
      "cell_type": "code",
      "metadata": {
        "id": "pf6E9yuOUl-Z",
        "colab_type": "code",
        "colab": {}
      },
      "source": [
        ""
      ],
      "execution_count": null,
      "outputs": []
    },
    {
      "cell_type": "markdown",
      "metadata": {
        "id": "zkfiNYjBUnld",
        "colab_type": "text"
      },
      "source": [
        "**Script-2 Model Training**"
      ]
    },
    {
      "cell_type": "markdown",
      "metadata": {
        "id": "H3SoHez3oetM",
        "colab_type": "text"
      },
      "source": [
        "**Model Inputs**"
      ]
    },
    {
      "cell_type": "code",
      "metadata": {
        "id": "a6c4euJ1HttT",
        "colab_type": "code",
        "colab": {
          "base_uri": "https://localhost:8080/",
          "height": 68
        },
        "outputId": "84a91db0-8cd0-47ca-bfd5-b8496a3bd88b"
      },
      "source": [
        "import tensorflow as tf\n",
        "print(tf.config.list_physical_devices('GPU'))\n",
        "print(tf.test.is_gpu_available())\n",
        "print(tf.test.is_built_with_gpu_support())"
      ],
      "execution_count": null,
      "outputs": [
        {
          "output_type": "stream",
          "text": [
            "[]\n",
            "False\n",
            "True\n"
          ],
          "name": "stdout"
        }
      ]
    },
    {
      "cell_type": "code",
      "metadata": {
        "id": "Hz_sOEMTU6AC",
        "colab_type": "code",
        "colab": {}
      },
      "source": [
        "import numpy as np\n",
        "import matplotlib.pyplot as plt\n",
        "import seaborn as sns\n",
        "import pickle"
      ],
      "execution_count": null,
      "outputs": []
    },
    {
      "cell_type": "code",
      "metadata": {
        "id": "OtCKYnX_U6OS",
        "colab_type": "code",
        "colab": {}
      },
      "source": [
        "funny_data = []\n",
        "nfunny_data = []"
      ],
      "execution_count": null,
      "outputs": []
    },
    {
      "cell_type": "code",
      "metadata": {
        "id": "5hM-9J_XU6Wn",
        "colab_type": "code",
        "colab": {
          "base_uri": "https://localhost:8080/",
          "height": 34
        },
        "outputId": "8048030a-097a-4bb7-d75c-69daeb9d7a45"
      },
      "source": [
        "with open('/content/drive/My Drive/Data/Yelp_Review/Model_Input/funny_data.txt', 'rb') as file:\n",
        "    funny_data = pickle.load(file)\n",
        "print(len(funny_data))"
      ],
      "execution_count": null,
      "outputs": [
        {
          "output_type": "stream",
          "text": [
            "46485\n"
          ],
          "name": "stdout"
        }
      ]
    },
    {
      "cell_type": "code",
      "metadata": {
        "id": "9B9cSEwVU6aN",
        "colab_type": "code",
        "colab": {
          "base_uri": "https://localhost:8080/",
          "height": 34
        },
        "outputId": "1a4dc22d-cb89-4dc0-f898-11230f93c879"
      },
      "source": [
        "with open('/content/drive/My Drive/Data/Yelp_Review/Model_Input/nfunny_data.txt', 'rb') as file:\n",
        "    nfunny_data = pickle.load(file)\n",
        "print(len(nfunny_data))\n"
      ],
      "execution_count": null,
      "outputs": [
        {
          "output_type": "stream",
          "text": [
            "46485\n"
          ],
          "name": "stdout"
        }
      ]
    },
    {
      "cell_type": "markdown",
      "metadata": {
        "id": "o-JEKLHpV6EB",
        "colab_type": "text"
      },
      "source": [
        "**Word2Vec Model**"
      ]
    },
    {
      "cell_type": "code",
      "metadata": {
        "id": "VZJh9SwKU6qo",
        "colab_type": "code",
        "colab": {
          "base_uri": "https://localhost:8080/",
          "height": 122
        },
        "outputId": "c3b4eaba-992b-4c7c-8ba3-f5c270e7d172"
      },
      "source": [
        "import gensim\n",
        "w2v_model = gensim.models.Word2Vec.load(\"/content/drive/My Drive/Data/Yelp_Review/word2vec.model\")\n",
        "words = list(w2v_model.wv.vocab)\n",
        "Embedding_index = w2v_model[words]\n",
        "print(Embedding_index.shape)"
      ],
      "execution_count": null,
      "outputs": [
        {
          "output_type": "stream",
          "text": [
            "/usr/local/lib/python3.6/dist-packages/smart_open/smart_open_lib.py:410: UserWarning: This function is deprecated, use smart_open.open instead. See the migration notes for details: https://github.com/RaRe-Technologies/smart_open/blob/master/README.rst#migrating-to-the-new-open-function\n",
            "  'See the migration notes for details: %s' % _MIGRATION_NOTES_URL\n",
            "/usr/local/lib/python3.6/dist-packages/ipykernel_launcher.py:4: DeprecationWarning: Call to deprecated `__getitem__` (Method will be removed in 4.0.0, use self.wv.__getitem__() instead).\n",
            "  after removing the cwd from sys.path.\n"
          ],
          "name": "stderr"
        },
        {
          "output_type": "stream",
          "text": [
            "(12930, 100)\n"
          ],
          "name": "stdout"
        }
      ]
    },
    {
      "cell_type": "code",
      "metadata": {
        "id": "TBEf6n1JU6T9",
        "colab_type": "code",
        "colab": {}
      },
      "source": [
        "from keras.preprocessing.text import Tokenizer\n",
        "from keras.preprocessing.sequence import pad_sequences"
      ],
      "execution_count": null,
      "outputs": []
    },
    {
      "cell_type": "code",
      "metadata": {
        "id": "EsW3Lm2MU6Rh",
        "colab_type": "code",
        "colab": {
          "base_uri": "https://localhost:8080/",
          "height": 34
        },
        "outputId": "7bf48dbe-5938-4d2f-d66f-b9dbfcd9e479"
      },
      "source": [
        "train_joke= funny_data + nfunny_data\n",
        "print(len(train_joke))"
      ],
      "execution_count": null,
      "outputs": [
        {
          "output_type": "stream",
          "text": [
            "92970\n"
          ],
          "name": "stdout"
        }
      ]
    },
    {
      "cell_type": "code",
      "metadata": {
        "id": "PXLsVrvjWCBP",
        "colab_type": "code",
        "colab": {}
      },
      "source": [
        "tokenizer = Tokenizer()\n",
        "tokenizer.fit_on_texts(train_joke)\n",
        "encoded_joke = tokenizer.texts_to_sequences(train_joke)"
      ],
      "execution_count": null,
      "outputs": []
    },
    {
      "cell_type": "code",
      "metadata": {
        "id": "oJG_VSnjWB9X",
        "colab_type": "code",
        "colab": {
          "base_uri": "https://localhost:8080/",
          "height": 88
        },
        "outputId": "a094d4e9-5172-4d96-b426-703939f77b22"
      },
      "source": [
        "print(len(encoded_joke[1]))\n",
        "print(encoded_joke[1])\n",
        "print(train_joke[1])"
      ],
      "execution_count": null,
      "outputs": [
        {
          "output_type": "stream",
          "text": [
            "109\n",
            "[138, 30263, 2583, 396, 6656, 57, 35, 338, 935, 12858, 12497, 298, 7, 1742, 262, 625, 93, 391, 889, 52, 526, 319, 13, 166, 14, 3779, 209, 1030, 470, 4523, 423, 457, 8252, 4523, 377, 52, 65, 85, 1160, 844, 198, 14321, 106, 1229, 175, 5726, 373, 70, 35, 18, 636, 170, 112, 7047, 597, 1, 3946, 38, 4973, 7, 80, 106, 399, 889, 52, 336, 384, 20, 423, 168, 1049, 304, 53, 370, 175, 12, 92, 30, 241, 391, 9, 70, 989, 353, 346, 935, 104, 4250, 8, 2506, 431, 380, 175, 408, 7, 186, 982, 13067, 162, 27, 866, 363, 150, 938, 104, 2, 8002, 2886, 1255]\n",
            "review # 189 - 2016 arrived hertz around 2:15 pm aug. 24th able get rental 20-25 minutes . pick process pretty simple . either go customer service rep use self-serve kiosk , ended . lady assisting kiosk phone pretty friendly , lot up-sell kind bothersome . need bigger car economy size since 2 us . understand probably work commission , sometimes 's unnecessary try convince get something need . return process pretty quick easy well . ended getting charged extra day brought car back 1.5 hours pick time since flight leave 8 pm . bad `` grace '' period regular customers . car fine . get anything fancy , kia nothing much write -- fact clean smell bad like rentals encountered elsewhere .\n"
          ],
          "name": "stdout"
        }
      ]
    },
    {
      "cell_type": "code",
      "metadata": {
        "id": "UAXHn37qWB6U",
        "colab_type": "code",
        "colab": {
          "base_uri": "https://localhost:8080/",
          "height": 34
        },
        "outputId": "e5d5ed75-65b6-4ffa-e51f-0c0393ef5735"
      },
      "source": [
        "max_length = max([len(s.split()) for s in train_joke])\n",
        "print(max_length)"
      ],
      "execution_count": null,
      "outputs": [
        {
          "output_type": "stream",
          "text": [
            "888\n"
          ],
          "name": "stdout"
        }
      ]
    },
    {
      "cell_type": "code",
      "metadata": {
        "id": "bMTNEWKMWB39",
        "colab_type": "code",
        "colab": {
          "base_uri": "https://localhost:8080/",
          "height": 34
        },
        "outputId": "01a01eef-1078-404c-9d18-467b9ad7d969"
      },
      "source": [
        "X = pad_sequences(encoded_joke, maxlen=max_length)\n",
        "print(len(X))"
      ],
      "execution_count": null,
      "outputs": [
        {
          "output_type": "stream",
          "text": [
            "92970\n"
          ],
          "name": "stdout"
        }
      ]
    },
    {
      "cell_type": "code",
      "metadata": {
        "id": "52m4Uz2cWB2B",
        "colab_type": "code",
        "colab": {
          "base_uri": "https://localhost:8080/",
          "height": 34
        },
        "outputId": "c02bbd2b-6127-4d98-d085-56cbfe01994a"
      },
      "source": [
        "Y = np.array([1 for _ in range(46485)] + [0 for _ in range(46485)])\n",
        "print(len(Y))"
      ],
      "execution_count": null,
      "outputs": [
        {
          "output_type": "stream",
          "text": [
            "92970\n"
          ],
          "name": "stdout"
        }
      ]
    },
    {
      "cell_type": "code",
      "metadata": {
        "id": "bHJX90M4WBzO",
        "colab_type": "code",
        "colab": {
          "base_uri": "https://localhost:8080/",
          "height": 54
        },
        "outputId": "ae808409-5f28-484c-ae62-256b64ff3dd7"
      },
      "source": [
        "print(train_joke[1])"
      ],
      "execution_count": null,
      "outputs": [
        {
          "output_type": "stream",
          "text": [
            "review # 189 - 2016 arrived hertz around 2:15 pm aug. 24th able get rental 20-25 minutes . pick process pretty simple . either go customer service rep use self-serve kiosk , ended . lady assisting kiosk phone pretty friendly , lot up-sell kind bothersome . need bigger car economy size since 2 us . understand probably work commission , sometimes 's unnecessary try convince get something need . return process pretty quick easy well . ended getting charged extra day brought car back 1.5 hours pick time since flight leave 8 pm . bad `` grace '' period regular customers . car fine . get anything fancy , kia nothing much write -- fact clean smell bad like rentals encountered elsewhere .\n"
          ],
          "name": "stdout"
        }
      ]
    },
    {
      "cell_type": "code",
      "metadata": {
        "id": "RlKGZ5GoWBwQ",
        "colab_type": "code",
        "colab": {
          "base_uri": "https://localhost:8080/",
          "height": 1000
        },
        "outputId": "2e5166f3-2e99-4e1c-dc48-25211947c06e"
      },
      "source": [
        "print(X[1])"
      ],
      "execution_count": null,
      "outputs": [
        {
          "output_type": "stream",
          "text": [
            "[    0     0     0     0     0     0     0     0     0     0     0     0\n",
            "     0     0     0     0     0     0     0     0     0     0     0     0\n",
            "     0     0     0     0     0     0     0     0     0     0     0     0\n",
            "     0     0     0     0     0     0     0     0     0     0     0     0\n",
            "     0     0     0     0     0     0     0     0     0     0     0     0\n",
            "     0     0     0     0     0     0     0     0     0     0     0     0\n",
            "     0     0     0     0     0     0     0     0     0     0     0     0\n",
            "     0     0     0     0     0     0     0     0     0     0     0     0\n",
            "     0     0     0     0     0     0     0     0     0     0     0     0\n",
            "     0     0     0     0     0     0     0     0     0     0     0     0\n",
            "     0     0     0     0     0     0     0     0     0     0     0     0\n",
            "     0     0     0     0     0     0     0     0     0     0     0     0\n",
            "     0     0     0     0     0     0     0     0     0     0     0     0\n",
            "     0     0     0     0     0     0     0     0     0     0     0     0\n",
            "     0     0     0     0     0     0     0     0     0     0     0     0\n",
            "     0     0     0     0     0     0     0     0     0     0     0     0\n",
            "     0     0     0     0     0     0     0     0     0     0     0     0\n",
            "     0     0     0     0     0     0     0     0     0     0     0     0\n",
            "     0     0     0     0     0     0     0     0     0     0     0     0\n",
            "     0     0     0     0     0     0     0     0     0     0     0     0\n",
            "     0     0     0     0     0     0     0     0     0     0     0     0\n",
            "     0     0     0     0     0     0     0     0     0     0     0     0\n",
            "     0     0     0     0     0     0     0     0     0     0     0     0\n",
            "     0     0     0     0     0     0     0     0     0     0     0     0\n",
            "     0     0     0     0     0     0     0     0     0     0     0     0\n",
            "     0     0     0     0     0     0     0     0     0     0     0     0\n",
            "     0     0     0     0     0     0     0     0     0     0     0     0\n",
            "     0     0     0     0     0     0     0     0     0     0     0     0\n",
            "     0     0     0     0     0     0     0     0     0     0     0     0\n",
            "     0     0     0     0     0     0     0     0     0     0     0     0\n",
            "     0     0     0     0     0     0     0     0     0     0     0     0\n",
            "     0     0     0     0     0     0     0     0     0     0     0     0\n",
            "     0     0     0     0     0     0     0     0     0     0     0     0\n",
            "     0     0     0     0     0     0     0     0     0     0     0     0\n",
            "     0     0     0     0     0     0     0     0     0     0     0     0\n",
            "     0     0     0     0     0     0     0     0     0     0     0     0\n",
            "     0     0     0     0     0     0     0     0     0     0     0     0\n",
            "     0     0     0     0     0     0     0     0     0     0     0     0\n",
            "     0     0     0     0     0     0     0     0     0     0     0     0\n",
            "     0     0     0     0     0     0     0     0     0     0     0     0\n",
            "     0     0     0     0     0     0     0     0     0     0     0     0\n",
            "     0     0     0     0     0     0     0     0     0     0     0     0\n",
            "     0     0     0     0     0     0     0     0     0     0     0     0\n",
            "     0     0     0     0     0     0     0     0     0     0     0     0\n",
            "     0     0     0     0     0     0     0     0     0     0     0     0\n",
            "     0     0     0     0     0     0     0     0     0     0     0     0\n",
            "     0     0     0     0     0     0     0     0     0     0     0     0\n",
            "     0     0     0     0     0     0     0     0     0     0     0     0\n",
            "     0     0     0     0     0     0     0     0     0     0     0     0\n",
            "     0     0     0     0     0     0     0     0     0     0     0     0\n",
            "     0     0     0     0     0     0     0     0     0     0     0     0\n",
            "     0     0     0     0     0     0     0     0     0     0     0     0\n",
            "     0     0     0     0     0     0     0     0     0     0     0     0\n",
            "     0     0     0     0     0     0     0     0     0     0     0     0\n",
            "     0     0     0     0     0     0     0     0     0     0     0     0\n",
            "     0     0     0     0     0     0     0     0     0     0     0     0\n",
            "     0     0     0     0     0     0     0     0     0     0     0     0\n",
            "     0     0     0     0     0     0     0     0     0     0     0     0\n",
            "     0     0     0     0     0     0     0     0     0     0     0     0\n",
            "     0     0     0     0     0     0     0     0     0     0     0     0\n",
            "     0     0     0     0     0     0     0     0     0     0     0     0\n",
            "     0     0     0     0     0     0     0     0     0     0     0     0\n",
            "     0     0     0     0     0     0     0     0     0     0     0     0\n",
            "     0     0     0     0     0     0     0     0     0     0     0     0\n",
            "     0     0     0     0     0     0     0     0     0     0     0   138\n",
            " 30263  2583   396  6656    57    35   338   935 12858 12497   298     7\n",
            "  1742   262   625    93   391   889    52   526   319    13   166    14\n",
            "  3779   209  1030   470  4523   423   457  8252  4523   377    52    65\n",
            "    85  1160   844   198 14321   106  1229   175  5726   373    70    35\n",
            "    18   636   170   112  7047   597     1  3946    38  4973     7    80\n",
            "   106   399   889    52   336   384    20   423   168  1049   304    53\n",
            "   370   175    12    92    30   241   391     9    70   989   353   346\n",
            "   935   104  4250     8  2506   431   380   175   408     7   186   982\n",
            " 13067   162    27   866   363   150   938   104     2  8002  2886  1255]\n"
          ],
          "name": "stdout"
        }
      ]
    },
    {
      "cell_type": "code",
      "metadata": {
        "id": "TYQRg-M8WBtq",
        "colab_type": "code",
        "colab": {
          "base_uri": "https://localhost:8080/",
          "height": 34
        },
        "outputId": "e9e4c168-e621-487c-f797-7bf4245f0c76"
      },
      "source": [
        "print(Y[1])"
      ],
      "execution_count": null,
      "outputs": [
        {
          "output_type": "stream",
          "text": [
            "1\n"
          ],
          "name": "stdout"
        }
      ]
    },
    {
      "cell_type": "markdown",
      "metadata": {
        "id": "K3uxhNoVWi4n",
        "colab_type": "text"
      },
      "source": [
        "**Deep Learning Model**"
      ]
    },
    {
      "cell_type": "code",
      "metadata": {
        "id": "a3qEQ-82WBrb",
        "colab_type": "code",
        "colab": {
          "base_uri": "https://localhost:8080/",
          "height": 34
        },
        "outputId": "1b1878e3-b68b-46a7-ece2-6ceca7afed39"
      },
      "source": [
        "from sklearn.model_selection import train_test_split\n",
        "X_train, X_text, Y_train, Y_test = train_test_split(X, Y, test_size=0.2, random_state=42)\n",
        "print(X_train.shape, X_text.shape, Y_train.shape, Y_test.shape)"
      ],
      "execution_count": null,
      "outputs": [
        {
          "output_type": "stream",
          "text": [
            "(74376, 888) (18594, 888) (74376,) (18594,)\n"
          ],
          "name": "stdout"
        }
      ]
    },
    {
      "cell_type": "code",
      "metadata": {
        "id": "N5yv8evNWBo1",
        "colab_type": "code",
        "colab": {}
      },
      "source": [
        "import keras\n",
        "from tensorflow.python.keras.models import Sequential\n",
        "from tensorflow.python.keras.layers import Dense, Dropout, Flatten, LSTM\n",
        "from tensorflow.python.keras.layers.embeddings import Embedding\n",
        "from tensorflow.python.keras.layers.convolutional import Conv1D, MaxPooling1D"
      ],
      "execution_count": null,
      "outputs": []
    },
    {
      "cell_type": "code",
      "metadata": {
        "id": "7mojs9qlWBmO",
        "colab_type": "code",
        "colab": {
          "base_uri": "https://localhost:8080/",
          "height": 425
        },
        "outputId": "7e7f2baf-a137-4a12-a7c3-c789ce66d31a"
      },
      "source": [
        "model_joke = Sequential()\n",
        "model_joke.add(Embedding(Embedding_index.shape[0], Embedding_index.shape[1], weights=[Embedding_index], input_length=max_length, trainable=False))\n",
        "model_joke.add(Conv1D(filters=32, kernel_size=8, activation='relu'))\n",
        "model_joke.add(Conv1D(filters=64, kernel_size=8, activation='relu'))\n",
        "model_joke.add(MaxPooling1D(pool_size=2))\n",
        "model_joke.add(Dropout(rate = 0.6))\n",
        "model_joke.add(Flatten())\n",
        "model_joke.add(Dense(256, activation='relu'))\n",
        "model_joke.add(Dense(1, activation='sigmoid'))\n",
        "model_joke.summary()"
      ],
      "execution_count": null,
      "outputs": [
        {
          "output_type": "stream",
          "text": [
            "Model: \"sequential_2\"\n",
            "_________________________________________________________________\n",
            "Layer (type)                 Output Shape              Param #   \n",
            "=================================================================\n",
            "embedding_2 (Embedding)      (None, 888, 100)          1293000   \n",
            "_________________________________________________________________\n",
            "conv1d_4 (Conv1D)            (None, 881, 32)           25632     \n",
            "_________________________________________________________________\n",
            "conv1d_5 (Conv1D)            (None, 874, 64)           16448     \n",
            "_________________________________________________________________\n",
            "max_pooling1d_2 (MaxPooling1 (None, 437, 64)           0         \n",
            "_________________________________________________________________\n",
            "dropout_2 (Dropout)          (None, 437, 64)           0         \n",
            "_________________________________________________________________\n",
            "flatten_1 (Flatten)          (None, 27968)             0         \n",
            "_________________________________________________________________\n",
            "dense_4 (Dense)              (None, 256)               7160064   \n",
            "_________________________________________________________________\n",
            "dense_5 (Dense)              (None, 1)                 257       \n",
            "=================================================================\n",
            "Total params: 8,495,401\n",
            "Trainable params: 7,202,401\n",
            "Non-trainable params: 1,293,000\n",
            "_________________________________________________________________\n"
          ],
          "name": "stdout"
        }
      ]
    },
    {
      "cell_type": "code",
      "metadata": {
        "id": "_KZwIzzCWBi8",
        "colab_type": "code",
        "colab": {}
      },
      "source": [
        "model_joke.compile(loss='binary_crossentropy', optimizer='adam', metrics=['accuracy'])"
      ],
      "execution_count": null,
      "outputs": []
    },
    {
      "cell_type": "code",
      "metadata": {
        "id": "UOJ3Cc0MWBgo",
        "colab_type": "code",
        "colab": {}
      },
      "source": [
        "history = model_joke.fit(X_train, Y_train, validation_data=(X_text, Y_test), epochs=5, batch_size=32, verbose=2)"
      ],
      "execution_count": null,
      "outputs": []
    },
    {
      "cell_type": "code",
      "metadata": {
        "id": "JtUitbKZXxBV",
        "colab_type": "code",
        "colab": {}
      },
      "source": [
        "plt.plot(history.history['accuracy'])\n",
        "plt.plot(history.history['val_accuracy'])\n",
        "plt.title('model accuracy')\n",
        "plt.ylabel('accuracy')\t\n",
        "plt.xlabel('epoch')\n",
        "plt.legend(['train', 'test'], loc='upper left')\n",
        "plt.show()"
      ],
      "execution_count": null,
      "outputs": []
    },
    {
      "cell_type": "code",
      "metadata": {
        "id": "YclaG1BgX31E",
        "colab_type": "code",
        "colab": {}
      },
      "source": [
        "plt.plot(history.history['loss'])\n",
        "plt.plot(history.history['val_loss'])\n",
        "plt.title('model loss')\n",
        "plt.ylabel('loss')\n",
        "plt.xlabel('epoch')\n",
        "plt.legend(['train', 'test'], loc='upper left')\n",
        "plt.show()"
      ],
      "execution_count": null,
      "outputs": []
    },
    {
      "cell_type": "code",
      "metadata": {
        "id": "TPye-8w2X4Bx",
        "colab_type": "code",
        "colab": {}
      },
      "source": [
        "loss, acc = model_joke.evaluate(X_text, Y_test, verbose=0)\n",
        "print('Test Accuracy: %f' % (acc*100))\n",
        "print('Test Loss: %f' % (np.exp(loss)))"
      ],
      "execution_count": null,
      "outputs": []
    },
    {
      "cell_type": "markdown",
      "metadata": {
        "id": "5yOWcrA7YP0g",
        "colab_type": "text"
      },
      "source": [
        "**Model Scores**"
      ]
    },
    {
      "cell_type": "code",
      "metadata": {
        "id": "TGeYyjzUX4Fi",
        "colab_type": "code",
        "colab": {}
      },
      "source": [
        "from sklearn.metrics import accuracy_score, r2_score, f1_score, fbeta_score\n",
        "from sklearn.metrics import mean_absolute_error, mean_squared_error\n",
        "from sklearn.metrics import roc_curve, roc_auc_score"
      ],
      "execution_count": null,
      "outputs": []
    },
    {
      "cell_type": "code",
      "metadata": {
        "id": "_dBm9wXBX4Ad",
        "colab_type": "code",
        "colab": {}
      },
      "source": [
        "Y_pred = model_joke.predict_classes(X_text)\n",
        "for i in range(20):\n",
        "\tprint('Actual = {}:, Predicted = {}'.format(Y_test[i], Y_pred[i]))"
      ],
      "execution_count": null,
      "outputs": []
    },
    {
      "cell_type": "code",
      "metadata": {
        "id": "VYpl5ajeX39z",
        "colab_type": "code",
        "colab": {}
      },
      "source": [
        "acc = accuracy_score(Y_test, Y_pred)\n",
        "print(\"Accuracy : {}\".format(acc))"
      ],
      "execution_count": null,
      "outputs": []
    },
    {
      "cell_type": "code",
      "metadata": {
        "id": "dYDpf7UQX37j",
        "colab_type": "code",
        "colab": {}
      },
      "source": [
        "error = mean_absolute_error(Y_test, Y_pred)\n",
        "print(\"Mean Absolute Error : {}\".format(error))"
      ],
      "execution_count": null,
      "outputs": []
    },
    {
      "cell_type": "code",
      "metadata": {
        "id": "zDdlQfdHX36M",
        "colab_type": "code",
        "colab": {}
      },
      "source": [
        "error = mean_squared_error(Y_test, Y_pred)\n",
        "print(\"Mean Squared Error : {}\".format(error))"
      ],
      "execution_count": null,
      "outputs": []
    },
    {
      "cell_type": "code",
      "metadata": {
        "id": "B27yx4_pX335",
        "colab_type": "code",
        "colab": {}
      },
      "source": [
        "score = r2_score(Y_test, Y_pred)\n",
        "print(\"R2 Score : {}\".format(score))"
      ],
      "execution_count": null,
      "outputs": []
    },
    {
      "cell_type": "code",
      "metadata": {
        "id": "Xui9zCECr_Ik",
        "colab_type": "code",
        "colab": {}
      },
      "source": [
        "score = precision_score(Y_test, Y_pred, average='macro')\n",
        "print(\"Precision Score : {}\".format(score))"
      ],
      "execution_count": null,
      "outputs": []
    },
    {
      "cell_type": "code",
      "metadata": {
        "id": "MIdk9f5rr_Wk",
        "colab_type": "code",
        "colab": {}
      },
      "source": [
        "score = recall_score(Y_test, Y_pred, average='macro')\n",
        "print(\"Recall Score : {}\".format(score))"
      ],
      "execution_count": null,
      "outputs": []
    },
    {
      "cell_type": "code",
      "metadata": {
        "id": "o4D5EC68X3y6",
        "colab_type": "code",
        "colab": {}
      },
      "source": [
        "score = f1_score(Y_test, Y_pred)\n",
        "print(\"F1 Score : {}\".format(score))"
      ],
      "execution_count": null,
      "outputs": []
    },
    {
      "cell_type": "code",
      "metadata": {
        "id": "y680N3bUYwFq",
        "colab_type": "code",
        "colab": {}
      },
      "source": [
        "score = fbeta_score(Y_test, Y_pred, beta = 0.5)\n",
        "print(\"F-Beta Score : {}\".format(score))"
      ],
      "execution_count": null,
      "outputs": []
    },
    {
      "cell_type": "code",
      "metadata": {
        "id": "9Fo31drCY4R5",
        "colab_type": "code",
        "colab": {}
      },
      "source": [
        "jokes_roc = roc_auc_score(Y_test, Y_pred)\n",
        "print('Jokes: ROC-Area Under Curve = {}'.format(jokes_roc))"
      ],
      "execution_count": null,
      "outputs": []
    },
    {
      "cell_type": "code",
      "metadata": {
        "id": "NKxPhaFnY4VB",
        "colab_type": "code",
        "colab": {}
      },
      "source": [
        "J_fpr, J_tpr, _ = roc_curve(Y_test, Y_pred)\n",
        "plt.plot(J_fpr, J_tpr, color = 'blue', label = 'Jokes')\n",
        "plt.xlabel('False Positive Rate')\n",
        "plt.ylabel('True Positive Rate')\n",
        "plt.legend()\n",
        "plt.show()"
      ],
      "execution_count": null,
      "outputs": []
    },
    {
      "cell_type": "code",
      "metadata": {
        "id": "-WgpqcyGY4O0",
        "colab_type": "code",
        "colab": {}
      },
      "source": [
        ""
      ],
      "execution_count": null,
      "outputs": []
    }
  ]
}