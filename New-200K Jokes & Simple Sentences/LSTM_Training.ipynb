{
  "nbformat": 4,
  "nbformat_minor": 0,
  "metadata": {
    "colab": {
      "name": "LSTM_Training.ipynb",
      "provenance": [],
      "collapsed_sections": [],
      "authorship_tag": "ABX9TyNefGh/BQlGccAAhAs/XCrr",
      "include_colab_link": true
    },
    "kernelspec": {
      "name": "python3",
      "display_name": "Python 3"
    },
    "accelerator": "GPU"
  },
  "cells": [
    {
      "cell_type": "markdown",
      "metadata": {
        "id": "view-in-github",
        "colab_type": "text"
      },
      "source": [
        "<a href=\"https://colab.research.google.com/github/RANJEET16520/Humour-Detection/blob/master/LSTM_Training.ipynb\" target=\"_parent\"><img src=\"https://colab.research.google.com/assets/colab-badge.svg\" alt=\"Open In Colab\"/></a>"
      ]
    },
    {
      "cell_type": "code",
      "metadata": {
        "id": "PeZfXAUokGIW",
        "colab_type": "code",
        "colab": {
          "base_uri": "https://localhost:8080/",
          "height": 34
        },
        "outputId": "b625907c-2f22-422c-b662-e0b0e3b4b378"
      },
      "source": [
        "from google.colab import drive\n",
        "drive.mount('/content/drive')"
      ],
      "execution_count": null,
      "outputs": [
        {
          "output_type": "stream",
          "text": [
            "Drive already mounted at /content/drive; to attempt to forcibly remount, call drive.mount(\"/content/drive\", force_remount=True).\n"
          ],
          "name": "stdout"
        }
      ]
    },
    {
      "cell_type": "code",
      "metadata": {
        "id": "8FNaxtk3kv1b",
        "colab_type": "code",
        "colab": {
          "base_uri": "https://localhost:8080/",
          "height": 102
        },
        "outputId": "10f039b7-7fb2-4d0b-99c3-8c7b5d4595cb"
      },
      "source": [
        "!ln -sf /opt/bin/nvidia-smi /usr/bin/nvidia-smi\n",
        "!pip install gputil\n",
        "!pip install psutil\n",
        "!pip install humanize\n",
        " \n",
        "import psutil\n",
        "import humanize\n",
        "import os\n",
        "import GPUtil as GPU\n",
        " \n",
        "GPUs = GPU.getGPUs()\n",
        "# XXX: only one GPU on Colab and isn’t guaranteed\n",
        "gpu = GPUs[0]\n",
        "def printm():\n",
        "    process = psutil.Process(os.getpid())\n",
        "    print(\"Gen RAM Free: \" + humanize.naturalsize(psutil.virtual_memory().available), \" |     Proc size: \" + humanize.naturalsize(process.memory_info().rss))\n",
        "    print(\"GPU RAM Free: {0:.0f}MB | Used: {1:.0f}MB | Util {2:3.0f}% | Total     {3:.0f}MB\".format(gpu.memoryFree, gpu.memoryUsed, gpu.memoryUtil*100, gpu.memoryTotal))\n",
        "printm()"
      ],
      "execution_count": null,
      "outputs": [
        {
          "output_type": "stream",
          "text": [
            "Requirement already satisfied: gputil in /usr/local/lib/python3.6/dist-packages (1.4.0)\n",
            "Requirement already satisfied: psutil in /usr/local/lib/python3.6/dist-packages (5.4.8)\n",
            "Requirement already satisfied: humanize in /usr/local/lib/python3.6/dist-packages (0.5.1)\n",
            "Gen RAM Free: 12.7 GB  |     Proc size: 160.8 MB\n",
            "GPU RAM Free: 11441MB | Used: 0MB | Util   0% | Total     11441MB\n"
          ],
          "name": "stdout"
        }
      ]
    },
    {
      "cell_type": "code",
      "metadata": {
        "id": "eAkXLs9nk4m_",
        "colab_type": "code",
        "colab": {
          "base_uri": "https://localhost:8080/",
          "height": 68
        },
        "outputId": "ce9013ae-6f2d-4f51-ec29-380d71117d4c"
      },
      "source": [
        "import os\n",
        "import math\n",
        "import glob\n",
        "import logging\n",
        "\n",
        "import numpy as np\n",
        "import pandas as pd\n",
        "import seaborn as sns\n",
        "import matplotlib.pyplot as plt\n",
        "%matplotlib inline\n",
        "\n",
        "from keras.preprocessing.sequence import pad_sequences\n",
        "from sklearn.model_selection import train_test_split\n",
        "from sklearn.metrics import mean_squared_error, matthews_corrcoef, confusion_matrix"
      ],
      "execution_count": null,
      "outputs": [
        {
          "output_type": "stream",
          "text": [
            "/usr/local/lib/python3.6/dist-packages/statsmodels/tools/_testing.py:19: FutureWarning: pandas.util.testing is deprecated. Use the functions in the public API at pandas.testing instead.\n",
            "  import pandas.util.testing as tm\n",
            "Using TensorFlow backend.\n"
          ],
          "name": "stderr"
        }
      ]
    },
    {
      "cell_type": "code",
      "metadata": {
        "id": "RPT22ow8lKIV",
        "colab_type": "code",
        "colab": {
          "base_uri": "https://localhost:8080/",
          "height": 51
        },
        "outputId": "02664d4a-8a38-41f0-e5d1-d94597ec6b37"
      },
      "source": [
        "import tensorflow as tf\n",
        "print(\"Num GPUs Available: \", len(tf.config.experimental.list_physical_devices('GPU')))\n",
        "from tensorflow.python.client import device_lib\n",
        "\n",
        "def get_available_gpus():\n",
        "    local_device_protos = device_lib.list_local_devices()\n",
        "    return [x.name for x in local_device_protos if x.device_type == 'GPU']\n",
        "get_available_gpus()"
      ],
      "execution_count": null,
      "outputs": [
        {
          "output_type": "stream",
          "text": [
            "Num GPUs Available:  1\n"
          ],
          "name": "stdout"
        },
        {
          "output_type": "execute_result",
          "data": {
            "text/plain": [
              "['/device:GPU:0']"
            ]
          },
          "metadata": {
            "tags": []
          },
          "execution_count": 4
        }
      ]
    },
    {
      "cell_type": "code",
      "metadata": {
        "id": "R_PjKIQMl64I",
        "colab_type": "code",
        "colab": {
          "base_uri": "https://localhost:8080/",
          "height": 34
        },
        "outputId": "5c941fa0-6216-4982-e167-d66fe8ec9f0b"
      },
      "source": [
        "train = pd.read_csv('/content/drive/My Drive/Data/New_200K_Jokes/train.csv')\n",
        "train.shape"
      ],
      "execution_count": null,
      "outputs": [
        {
          "output_type": "execute_result",
          "data": {
            "text/plain": [
              "(160000, 2)"
            ]
          },
          "metadata": {
            "tags": []
          },
          "execution_count": 5
        }
      ]
    },
    {
      "cell_type": "code",
      "metadata": {
        "id": "V6DyWuShmYq1",
        "colab_type": "code",
        "colab": {
          "base_uri": "https://localhost:8080/",
          "height": 34
        },
        "outputId": "5c81259d-b8ff-4e64-cd7c-e6e51c298e7e"
      },
      "source": [
        "dev = pd.read_csv('/content/drive/My Drive/Data/New_200K_Jokes/dev.csv')\n",
        "dev.shape"
      ],
      "execution_count": null,
      "outputs": [
        {
          "output_type": "execute_result",
          "data": {
            "text/plain": [
              "(40000, 2)"
            ]
          },
          "metadata": {
            "tags": []
          },
          "execution_count": 6
        }
      ]
    },
    {
      "cell_type": "code",
      "metadata": {
        "id": "d5eJmvaYmajD",
        "colab_type": "code",
        "colab": {
          "base_uri": "https://localhost:8080/",
          "height": 204
        },
        "outputId": "dec06d34-ae66-4a81-9827-56c86f0b80d6"
      },
      "source": [
        "train.head()"
      ],
      "execution_count": null,
      "outputs": [
        {
          "output_type": "execute_result",
          "data": {
            "text/html": [
              "<div>\n",
              "<style scoped>\n",
              "    .dataframe tbody tr th:only-of-type {\n",
              "        vertical-align: middle;\n",
              "    }\n",
              "\n",
              "    .dataframe tbody tr th {\n",
              "        vertical-align: top;\n",
              "    }\n",
              "\n",
              "    .dataframe thead th {\n",
              "        text-align: right;\n",
              "    }\n",
              "</style>\n",
              "<table border=\"1\" class=\"dataframe\">\n",
              "  <thead>\n",
              "    <tr style=\"text-align: right;\">\n",
              "      <th></th>\n",
              "      <th>text</th>\n",
              "      <th>humor</th>\n",
              "    </tr>\n",
              "  </thead>\n",
              "  <tbody>\n",
              "    <tr>\n",
              "      <th>0</th>\n",
              "      <td>Joe biden rules out 2020 bid: 'guys, i'm not r...</td>\n",
              "      <td>False</td>\n",
              "    </tr>\n",
              "    <tr>\n",
              "      <th>1</th>\n",
              "      <td>Watch: darvish gave hitter whiplash with slow ...</td>\n",
              "      <td>False</td>\n",
              "    </tr>\n",
              "    <tr>\n",
              "      <th>2</th>\n",
              "      <td>What do you call a turtle without its shell? d...</td>\n",
              "      <td>True</td>\n",
              "    </tr>\n",
              "    <tr>\n",
              "      <th>3</th>\n",
              "      <td>5 reasons the 2016 election feels so personal</td>\n",
              "      <td>False</td>\n",
              "    </tr>\n",
              "    <tr>\n",
              "      <th>4</th>\n",
              "      <td>Pasco police shot mexican migrant from behind,...</td>\n",
              "      <td>False</td>\n",
              "    </tr>\n",
              "  </tbody>\n",
              "</table>\n",
              "</div>"
            ],
            "text/plain": [
              "                                                text  humor\n",
              "0  Joe biden rules out 2020 bid: 'guys, i'm not r...  False\n",
              "1  Watch: darvish gave hitter whiplash with slow ...  False\n",
              "2  What do you call a turtle without its shell? d...   True\n",
              "3      5 reasons the 2016 election feels so personal  False\n",
              "4  Pasco police shot mexican migrant from behind,...  False"
            ]
          },
          "metadata": {
            "tags": []
          },
          "execution_count": 7
        }
      ]
    },
    {
      "cell_type": "code",
      "metadata": {
        "id": "qvenGqTZmc2B",
        "colab_type": "code",
        "colab": {}
      },
      "source": [
        "train['number_of_words'] = train.text.apply(lambda x: len(x.split()))"
      ],
      "execution_count": null,
      "outputs": []
    },
    {
      "cell_type": "code",
      "metadata": {
        "id": "jdwyhMQ2mfDD",
        "colab_type": "code",
        "colab": {
          "base_uri": "https://localhost:8080/",
          "height": 85
        },
        "outputId": "6954dfad-ffc8-4ace-e7c8-97ed9e8128d1"
      },
      "source": [
        "train.dtypes"
      ],
      "execution_count": null,
      "outputs": [
        {
          "output_type": "execute_result",
          "data": {
            "text/plain": [
              "text               object\n",
              "humor                bool\n",
              "number_of_words     int64\n",
              "dtype: object"
            ]
          },
          "metadata": {
            "tags": []
          },
          "execution_count": 9
        }
      ]
    },
    {
      "cell_type": "code",
      "metadata": {
        "id": "-xN67Kf7mhKA",
        "colab_type": "code",
        "colab": {
          "base_uri": "https://localhost:8080/",
          "height": 204
        },
        "outputId": "54bd29b1-9228-4e57-9486-220b3b27faf2"
      },
      "source": [
        "dev.head()"
      ],
      "execution_count": null,
      "outputs": [
        {
          "output_type": "execute_result",
          "data": {
            "text/html": [
              "<div>\n",
              "<style scoped>\n",
              "    .dataframe tbody tr th:only-of-type {\n",
              "        vertical-align: middle;\n",
              "    }\n",
              "\n",
              "    .dataframe tbody tr th {\n",
              "        vertical-align: top;\n",
              "    }\n",
              "\n",
              "    .dataframe thead th {\n",
              "        text-align: right;\n",
              "    }\n",
              "</style>\n",
              "<table border=\"1\" class=\"dataframe\">\n",
              "  <thead>\n",
              "    <tr style=\"text-align: right;\">\n",
              "      <th></th>\n",
              "      <th>text</th>\n",
              "      <th>humor</th>\n",
              "    </tr>\n",
              "  </thead>\n",
              "  <tbody>\n",
              "    <tr>\n",
              "      <th>0</th>\n",
              "      <td>What kind of cat should you take into the  des...</td>\n",
              "      <td>True</td>\n",
              "    </tr>\n",
              "    <tr>\n",
              "      <th>1</th>\n",
              "      <td>Remember when people used to have to be in sha...</td>\n",
              "      <td>True</td>\n",
              "    </tr>\n",
              "    <tr>\n",
              "      <th>2</th>\n",
              "      <td>Pizza is always good. - everyone we'll see abo...</td>\n",
              "      <td>True</td>\n",
              "    </tr>\n",
              "    <tr>\n",
              "      <th>3</th>\n",
              "      <td>What's 6 inches long hard, bent, and in my pan...</td>\n",
              "      <td>True</td>\n",
              "    </tr>\n",
              "    <tr>\n",
              "      <th>4</th>\n",
              "      <td>Black teen's response to violence in his commu...</td>\n",
              "      <td>False</td>\n",
              "    </tr>\n",
              "  </tbody>\n",
              "</table>\n",
              "</div>"
            ],
            "text/plain": [
              "                                                text  humor\n",
              "0  What kind of cat should you take into the  des...   True\n",
              "1  Remember when people used to have to be in sha...   True\n",
              "2  Pizza is always good. - everyone we'll see abo...   True\n",
              "3  What's 6 inches long hard, bent, and in my pan...   True\n",
              "4  Black teen's response to violence in his commu...  False"
            ]
          },
          "metadata": {
            "tags": []
          },
          "execution_count": 10
        }
      ]
    },
    {
      "cell_type": "code",
      "metadata": {
        "id": "HIiZ_FqNmi1Q",
        "colab_type": "code",
        "colab": {}
      },
      "source": [
        "dev['number_of_words'] = dev.text.apply(lambda x: len(x.split()))"
      ],
      "execution_count": null,
      "outputs": []
    },
    {
      "cell_type": "code",
      "metadata": {
        "id": "Lp48z0pJmlNC",
        "colab_type": "code",
        "colab": {
          "base_uri": "https://localhost:8080/",
          "height": 85
        },
        "outputId": "11145822-0a74-4f78-e15b-96ac26fabeff"
      },
      "source": [
        "dev.dtypes"
      ],
      "execution_count": null,
      "outputs": [
        {
          "output_type": "execute_result",
          "data": {
            "text/plain": [
              "text               object\n",
              "humor                bool\n",
              "number_of_words     int64\n",
              "dtype: object"
            ]
          },
          "metadata": {
            "tags": []
          },
          "execution_count": 12
        }
      ]
    },
    {
      "cell_type": "code",
      "metadata": {
        "id": "1j3576Z6mnOX",
        "colab_type": "code",
        "colab": {}
      },
      "source": [
        "def Visual(df):\n",
        "    max_len = max(df.number_of_words)\n",
        "    print('Length of Data = {}'.format(len(df)))\n",
        "    print('No. of item with output 0 are = {}'.format(len(df[df['humor']==True])))\n",
        "    print('No. of item with output 1 are = {}'.format(len(df[df['humor']==False]))) \n",
        "    print('Maximum length of a text in all texts = {}'.format(max_len)) "
      ],
      "execution_count": null,
      "outputs": []
    },
    {
      "cell_type": "code",
      "metadata": {
        "id": "32RHqiw1mphD",
        "colab_type": "code",
        "colab": {
          "base_uri": "https://localhost:8080/",
          "height": 85
        },
        "outputId": "57f1291a-326c-4acf-aacf-00417596c4f2"
      },
      "source": [
        "Visual(train)"
      ],
      "execution_count": null,
      "outputs": [
        {
          "output_type": "stream",
          "text": [
            "Length of Data = 160000\n",
            "No. of item with output 0 are = 79918\n",
            "No. of item with output 1 are = 80082\n",
            "Maximum length of a text in all texts = 18\n"
          ],
          "name": "stdout"
        }
      ]
    },
    {
      "cell_type": "code",
      "metadata": {
        "id": "RtSRJWQ_mrYD",
        "colab_type": "code",
        "colab": {
          "base_uri": "https://localhost:8080/",
          "height": 85
        },
        "outputId": "58a3845a-72f2-4a05-c391-33505b230e49"
      },
      "source": [
        "Visual(dev)"
      ],
      "execution_count": null,
      "outputs": [
        {
          "output_type": "stream",
          "text": [
            "Length of Data = 40000\n",
            "No. of item with output 0 are = 20082\n",
            "No. of item with output 1 are = 19918\n",
            "Maximum length of a text in all texts = 18\n"
          ],
          "name": "stdout"
        }
      ]
    },
    {
      "cell_type": "code",
      "metadata": {
        "id": "dkevp7HqmtHO",
        "colab_type": "code",
        "colab": {
          "base_uri": "https://localhost:8080/",
          "height": 340
        },
        "outputId": "d9c9469c-229c-4380-d615-a48bb2ea2afc"
      },
      "source": [
        "!pip install transformers\n",
        "from transformers import XLNetTokenizer"
      ],
      "execution_count": null,
      "outputs": [
        {
          "output_type": "stream",
          "text": [
            "Requirement already satisfied: transformers in /usr/local/lib/python3.6/dist-packages (3.0.2)\n",
            "Requirement already satisfied: requests in /usr/local/lib/python3.6/dist-packages (from transformers) (2.23.0)\n",
            "Requirement already satisfied: numpy in /usr/local/lib/python3.6/dist-packages (from transformers) (1.18.5)\n",
            "Requirement already satisfied: packaging in /usr/local/lib/python3.6/dist-packages (from transformers) (20.4)\n",
            "Requirement already satisfied: tokenizers==0.8.1.rc1 in /usr/local/lib/python3.6/dist-packages (from transformers) (0.8.1rc1)\n",
            "Requirement already satisfied: sentencepiece!=0.1.92 in /usr/local/lib/python3.6/dist-packages (from transformers) (0.1.91)\n",
            "Requirement already satisfied: sacremoses in /usr/local/lib/python3.6/dist-packages (from transformers) (0.0.43)\n",
            "Requirement already satisfied: filelock in /usr/local/lib/python3.6/dist-packages (from transformers) (3.0.12)\n",
            "Requirement already satisfied: tqdm>=4.27 in /usr/local/lib/python3.6/dist-packages (from transformers) (4.41.1)\n",
            "Requirement already satisfied: dataclasses; python_version < \"3.7\" in /usr/local/lib/python3.6/dist-packages (from transformers) (0.7)\n",
            "Requirement already satisfied: regex!=2019.12.17 in /usr/local/lib/python3.6/dist-packages (from transformers) (2019.12.20)\n",
            "Requirement already satisfied: certifi>=2017.4.17 in /usr/local/lib/python3.6/dist-packages (from requests->transformers) (2020.6.20)\n",
            "Requirement already satisfied: chardet<4,>=3.0.2 in /usr/local/lib/python3.6/dist-packages (from requests->transformers) (3.0.4)\n",
            "Requirement already satisfied: idna<3,>=2.5 in /usr/local/lib/python3.6/dist-packages (from requests->transformers) (2.9)\n",
            "Requirement already satisfied: urllib3!=1.25.0,!=1.25.1,<1.26,>=1.21.1 in /usr/local/lib/python3.6/dist-packages (from requests->transformers) (1.24.3)\n",
            "Requirement already satisfied: six in /usr/local/lib/python3.6/dist-packages (from packaging->transformers) (1.12.0)\n",
            "Requirement already satisfied: pyparsing>=2.0.2 in /usr/local/lib/python3.6/dist-packages (from packaging->transformers) (2.4.7)\n",
            "Requirement already satisfied: click in /usr/local/lib/python3.6/dist-packages (from sacremoses->transformers) (7.1.2)\n",
            "Requirement already satisfied: joblib in /usr/local/lib/python3.6/dist-packages (from sacremoses->transformers) (0.15.1)\n"
          ],
          "name": "stdout"
        }
      ]
    },
    {
      "cell_type": "code",
      "metadata": {
        "id": "hKBtALPtnGX1",
        "colab_type": "code",
        "colab": {}
      },
      "source": [
        "tokenizer = XLNetTokenizer.from_pretrained('xlnet-base-cased', do_lower_case=True)"
      ],
      "execution_count": null,
      "outputs": []
    },
    {
      "cell_type": "code",
      "metadata": {
        "id": "Qv1tAIFunLyZ",
        "colab_type": "code",
        "colab": {}
      },
      "source": [
        "train_text_list = train[\"text\"].values"
      ],
      "execution_count": null,
      "outputs": []
    },
    {
      "cell_type": "code",
      "metadata": {
        "id": "HEOwphEanQKJ",
        "colab_type": "code",
        "colab": {}
      },
      "source": [
        "dev_text_list = dev[\"text\"].values"
      ],
      "execution_count": null,
      "outputs": []
    },
    {
      "cell_type": "code",
      "metadata": {
        "id": "JrOJe9jgnQmq",
        "colab_type": "code",
        "colab": {}
      },
      "source": [
        "def tokenize_inputs(text_list, tokenizer, num_embeddings):\n",
        "    \"\"\"\n",
        "    Tokenizes the input text input into ids. Appends the appropriate special\n",
        "    characters to the end of the text to denote end of sentence. Truncate or pad\n",
        "    the appropriate sequence length.\n",
        "    \"\"\"\n",
        "    # tokenize the text, then truncate sequence to the desired length minus 2 for\n",
        "    # the 2 special characters\n",
        "    tokenized_texts = list(map(lambda t: tokenizer.tokenize(t)[:num_embeddings-2], text_list))\n",
        "    # convert tokenized text into numeric ids for the appropriate LM\n",
        "    input_ids = [tokenizer.convert_tokens_to_ids(x) for x in tokenized_texts]\n",
        "    # append special token \"<s>\" and </s> to end of sentence\n",
        "    input_ids = [tokenizer.build_inputs_with_special_tokens(x) for x in input_ids]\n",
        "    # pad sequences\n",
        "    input_ids = pad_sequences(input_ids, maxlen=num_embeddings, dtype=\"long\", truncating=\"post\", padding=\"post\")\n",
        "    input_ids = np.array(input_ids)\n",
        "    return input_ids"
      ],
      "execution_count": null,
      "outputs": []
    },
    {
      "cell_type": "code",
      "metadata": {
        "id": "uJi9mzfJnWH0",
        "colab_type": "code",
        "colab": {
          "base_uri": "https://localhost:8080/",
          "height": 153
        },
        "outputId": "b7ccb2de-4dc6-4a61-a8ed-455cf40d2523"
      },
      "source": [
        "# create input id tokens\n",
        "train_input_ids = tokenize_inputs(train_text_list, tokenizer, num_embeddings=50)\n",
        "print(train_input_ids.shape)\n",
        "train_input_ids"
      ],
      "execution_count": null,
      "outputs": [
        {
          "output_type": "stream",
          "text": [
            "(160000, 50)\n"
          ],
          "name": "stdout"
        },
        {
          "output_type": "execute_result",
          "data": {
            "text/plain": [
              "array([[   17,  2595,    93, ...,     0,     0,     0],\n",
              "       [ 1628,    60,    17, ...,     0,     0,     0],\n",
              "       [  113,   112,    44, ...,     0,     0,     0],\n",
              "       ...,\n",
              "       [  108,   886,   855, ...,     0,     0,     0],\n",
              "       [   17,   150,    26, ...,     0,     0,     0],\n",
              "       [ 2302, 10738,    61, ...,     0,     0,     0]])"
            ]
          },
          "metadata": {
            "tags": []
          },
          "execution_count": 27
        }
      ]
    },
    {
      "cell_type": "code",
      "metadata": {
        "id": "1_CfFGRdnZyU",
        "colab_type": "code",
        "colab": {
          "base_uri": "https://localhost:8080/",
          "height": 153
        },
        "outputId": "3f0ce344-8c0b-4445-e768-1dbde1bc2d63"
      },
      "source": [
        "# create input id tokens\n",
        "dev_input_ids = tokenize_inputs(dev_text_list, tokenizer, num_embeddings=50)\n",
        "print(dev_input_ids.shape)\n",
        "dev_input_ids"
      ],
      "execution_count": null,
      "outputs": [
        {
          "output_type": "stream",
          "text": [
            "(40000, 50)\n"
          ],
          "name": "stdout"
        },
        {
          "output_type": "execute_result",
          "data": {
            "text/plain": [
              "array([[  113,   713,    20, ...,     0,     0,     0],\n",
              "       [ 1633,    90,   104, ...,     0,     0,     0],\n",
              "       [12879,    27,   426, ...,     0,     0,     0],\n",
              "       ...,\n",
              "       [  160,   142,  8959, ...,     0,     0,     0],\n",
              "       [   17,    98,   369, ...,     0,     0,     0],\n",
              "       [   48,    17,  1121, ...,     0,     0,     0]])"
            ]
          },
          "metadata": {
            "tags": []
          },
          "execution_count": 28
        }
      ]
    },
    {
      "cell_type": "code",
      "metadata": {
        "id": "pMa7FTchncdP",
        "colab_type": "code",
        "colab": {
          "base_uri": "https://localhost:8080/",
          "height": 204
        },
        "outputId": "ebccdcb7-d1b7-4fb0-e859-e3c2fa30e8b4"
      },
      "source": [
        "# add input ids and attention masks to the dataframe\n",
        "train[\"features\"] = train_input_ids.tolist()\n",
        "train.head()"
      ],
      "execution_count": null,
      "outputs": [
        {
          "output_type": "execute_result",
          "data": {
            "text/html": [
              "<div>\n",
              "<style scoped>\n",
              "    .dataframe tbody tr th:only-of-type {\n",
              "        vertical-align: middle;\n",
              "    }\n",
              "\n",
              "    .dataframe tbody tr th {\n",
              "        vertical-align: top;\n",
              "    }\n",
              "\n",
              "    .dataframe thead th {\n",
              "        text-align: right;\n",
              "    }\n",
              "</style>\n",
              "<table border=\"1\" class=\"dataframe\">\n",
              "  <thead>\n",
              "    <tr style=\"text-align: right;\">\n",
              "      <th></th>\n",
              "      <th>text</th>\n",
              "      <th>humor</th>\n",
              "      <th>number_of_words</th>\n",
              "      <th>features</th>\n",
              "    </tr>\n",
              "  </thead>\n",
              "  <tbody>\n",
              "    <tr>\n",
              "      <th>0</th>\n",
              "      <td>Joe biden rules out 2020 bid: 'guys, i'm not r...</td>\n",
              "      <td>False</td>\n",
              "      <td>10</td>\n",
              "      <td>[17, 2595, 93, 2340, 254, 1414, 78, 15765, 234...</td>\n",
              "    </tr>\n",
              "    <tr>\n",
              "      <th>1</th>\n",
              "      <td>Watch: darvish gave hitter whiplash with slow ...</td>\n",
              "      <td>False</td>\n",
              "      <td>8</td>\n",
              "      <td>[1628, 60, 17, 5072, 25489, 675, 17, 11753, 14...</td>\n",
              "    </tr>\n",
              "    <tr>\n",
              "      <th>2</th>\n",
              "      <td>What do you call a turtle without its shell? d...</td>\n",
              "      <td>True</td>\n",
              "      <td>10</td>\n",
              "      <td>[113, 112, 44, 547, 24, 15700, 286, 81, 6197, ...</td>\n",
              "    </tr>\n",
              "    <tr>\n",
              "      <th>3</th>\n",
              "      <td>5 reasons the 2016 election feels so personal</td>\n",
              "      <td>False</td>\n",
              "      <td>8</td>\n",
              "      <td>[306, 2113, 18, 2884, 821, 4760, 102, 739, 4, ...</td>\n",
              "    </tr>\n",
              "    <tr>\n",
              "      <th>4</th>\n",
              "      <td>Pasco police shot mexican migrant from behind,...</td>\n",
              "      <td>False</td>\n",
              "      <td>10</td>\n",
              "      <td>[943, 19301, 365, 938, 110, 6269, 2392, 21726,...</td>\n",
              "    </tr>\n",
              "  </tbody>\n",
              "</table>\n",
              "</div>"
            ],
            "text/plain": [
              "                                                text  ...                                           features\n",
              "0  Joe biden rules out 2020 bid: 'guys, i'm not r...  ...  [17, 2595, 93, 2340, 254, 1414, 78, 15765, 234...\n",
              "1  Watch: darvish gave hitter whiplash with slow ...  ...  [1628, 60, 17, 5072, 25489, 675, 17, 11753, 14...\n",
              "2  What do you call a turtle without its shell? d...  ...  [113, 112, 44, 547, 24, 15700, 286, 81, 6197, ...\n",
              "3      5 reasons the 2016 election feels so personal  ...  [306, 2113, 18, 2884, 821, 4760, 102, 739, 4, ...\n",
              "4  Pasco police shot mexican migrant from behind,...  ...  [943, 19301, 365, 938, 110, 6269, 2392, 21726,...\n",
              "\n",
              "[5 rows x 4 columns]"
            ]
          },
          "metadata": {
            "tags": []
          },
          "execution_count": 29
        }
      ]
    },
    {
      "cell_type": "code",
      "metadata": {
        "id": "d71qMpg_n09f",
        "colab_type": "code",
        "colab": {
          "base_uri": "https://localhost:8080/",
          "height": 204
        },
        "outputId": "d7d82343-010d-478a-d4c8-f773e6112c34"
      },
      "source": [
        "# add input ids and attention masks to the dataframe\n",
        "dev[\"features\"] = dev_input_ids.tolist()\n",
        "dev.head()"
      ],
      "execution_count": null,
      "outputs": [
        {
          "output_type": "execute_result",
          "data": {
            "text/html": [
              "<div>\n",
              "<style scoped>\n",
              "    .dataframe tbody tr th:only-of-type {\n",
              "        vertical-align: middle;\n",
              "    }\n",
              "\n",
              "    .dataframe tbody tr th {\n",
              "        vertical-align: top;\n",
              "    }\n",
              "\n",
              "    .dataframe thead th {\n",
              "        text-align: right;\n",
              "    }\n",
              "</style>\n",
              "<table border=\"1\" class=\"dataframe\">\n",
              "  <thead>\n",
              "    <tr style=\"text-align: right;\">\n",
              "      <th></th>\n",
              "      <th>text</th>\n",
              "      <th>humor</th>\n",
              "      <th>number_of_words</th>\n",
              "      <th>features</th>\n",
              "    </tr>\n",
              "  </thead>\n",
              "  <tbody>\n",
              "    <tr>\n",
              "      <th>0</th>\n",
              "      <td>What kind of cat should you take into the  des...</td>\n",
              "      <td>True</td>\n",
              "      <td>16</td>\n",
              "      <td>[113, 713, 20, 4777, 170, 44, 182, 91, 18, 567...</td>\n",
              "    </tr>\n",
              "    <tr>\n",
              "      <th>1</th>\n",
              "      <td>Remember when people used to have to be in sha...</td>\n",
              "      <td>True</td>\n",
              "      <td>14</td>\n",
              "      <td>[1633, 90, 104, 179, 22, 47, 22, 39, 25, 2787,...</td>\n",
              "    </tr>\n",
              "    <tr>\n",
              "      <th>2</th>\n",
              "      <td>Pizza is always good. - everyone we'll see abo...</td>\n",
              "      <td>True</td>\n",
              "      <td>13</td>\n",
              "      <td>[12879, 27, 426, 195, 9, 17, 13, 1251, 80, 26,...</td>\n",
              "    </tr>\n",
              "    <tr>\n",
              "      <th>3</th>\n",
              "      <td>What's 6 inches long hard, bent, and in my pan...</td>\n",
              "      <td>True</td>\n",
              "      <td>13</td>\n",
              "      <td>[113, 26, 23, 284, 3763, 206, 500, 19, 9015, 1...</td>\n",
              "    </tr>\n",
              "    <tr>\n",
              "      <th>4</th>\n",
              "      <td>Black teen's response to violence in his commu...</td>\n",
              "      <td>False</td>\n",
              "      <td>11</td>\n",
              "      <td>[710, 8017, 26, 23, 1196, 22, 1350, 25, 45, 53...</td>\n",
              "    </tr>\n",
              "  </tbody>\n",
              "</table>\n",
              "</div>"
            ],
            "text/plain": [
              "                                                text  ...                                           features\n",
              "0  What kind of cat should you take into the  des...  ...  [113, 713, 20, 4777, 170, 44, 182, 91, 18, 567...\n",
              "1  Remember when people used to have to be in sha...  ...  [1633, 90, 104, 179, 22, 47, 22, 39, 25, 2787,...\n",
              "2  Pizza is always good. - everyone we'll see abo...  ...  [12879, 27, 426, 195, 9, 17, 13, 1251, 80, 26,...\n",
              "3  What's 6 inches long hard, bent, and in my pan...  ...  [113, 26, 23, 284, 3763, 206, 500, 19, 9015, 1...\n",
              "4  Black teen's response to violence in his commu...  ...  [710, 8017, 26, 23, 1196, 22, 1350, 25, 45, 53...\n",
              "\n",
              "[5 rows x 4 columns]"
            ]
          },
          "metadata": {
            "tags": []
          },
          "execution_count": 30
        }
      ]
    },
    {
      "cell_type": "code",
      "metadata": {
        "id": "OC01pD4wn6E_",
        "colab_type": "code",
        "colab": {}
      },
      "source": [
        "X_train = train[\"features\"].values.tolist()\n",
        "X_valid = dev[\"features\"].values.tolist()\n",
        "\n",
        "label_cols = [\"humor\"]\n",
        "Y_train = train[label_cols].values.tolist()\n",
        "Y_valid = dev[label_cols].values.tolist()"
      ],
      "execution_count": null,
      "outputs": []
    },
    {
      "cell_type": "code",
      "metadata": {
        "id": "zrcoicYAoDVh",
        "colab_type": "code",
        "colab": {
          "base_uri": "https://localhost:8080/",
          "height": 221
        },
        "outputId": "4ecd32fb-8add-4a2b-d2cb-19f30dc9d108"
      },
      "source": [
        "print('One Example of X_train:\\n{}\\n'.format(X_train[0]))\n",
        "print('One Example of X_valid:\\n{}\\n'.format(X_valid[0]))\n",
        "\n",
        "print('One Example of Y_train:\\n{}\\n'.format(Y_train[0]))\n",
        "print('One Example of Y_valid:\\n{}\\n'.format(Y_valid[0]))"
      ],
      "execution_count": null,
      "outputs": [
        {
          "output_type": "stream",
          "text": [
            "One Example of X_train:\n",
            "[17, 2595, 93, 2340, 254, 1414, 78, 15765, 2340, 60, 17, 26, 3017, 117, 23, 19, 17, 150, 26, 98, 50, 926, 26, 4, 3, 0, 0, 0, 0, 0, 0, 0, 0, 0, 0, 0, 0, 0, 0, 0, 0, 0, 0, 0, 0, 0, 0, 0, 0, 0]\n",
            "\n",
            "One Example of X_valid:\n",
            "[113, 713, 20, 4777, 170, 44, 182, 91, 18, 5675, 17, 82, 24, 89, 1443, 8538, 982, 17, 136, 4, 3, 0, 0, 0, 0, 0, 0, 0, 0, 0, 0, 0, 0, 0, 0, 0, 0, 0, 0, 0, 0, 0, 0, 0, 0, 0, 0, 0, 0, 0]\n",
            "\n",
            "One Example of Y_train:\n",
            "[False]\n",
            "\n",
            "One Example of Y_valid:\n",
            "[True]\n",
            "\n"
          ],
          "name": "stdout"
        }
      ]
    },
    {
      "cell_type": "code",
      "metadata": {
        "id": "NBmDGX6o3wEj",
        "colab_type": "code",
        "colab": {
          "base_uri": "https://localhost:8080/",
          "height": 34
        },
        "outputId": "3230e688-5857-46d7-f46c-a1e457b994e4"
      },
      "source": [
        "X_train, X_valid, Y_train, Y_valid = np.array(X_train), np.array(X_valid), np.array(Y_train), np.array(Y_valid)\n",
        "print(X_train.shape, X_valid.shape, Y_train.shape, Y_valid.shape)"
      ],
      "execution_count": null,
      "outputs": [
        {
          "output_type": "stream",
          "text": [
            "(160000, 50) (40000, 50) (160000, 1) (40000, 1)\n"
          ],
          "name": "stdout"
        }
      ]
    },
    {
      "cell_type": "code",
      "metadata": {
        "id": "avADrSXc4odi",
        "colab_type": "code",
        "colab": {}
      },
      "source": [
        "from keras.models import Sequential\n",
        "from keras.layers import Dense, Dropout, Flatten, LSTM\n",
        "from keras.layers.embeddings import Embedding\n",
        "from keras.layers.convolutional import Conv1D, MaxPooling1D"
      ],
      "execution_count": null,
      "outputs": []
    },
    {
      "cell_type": "code",
      "metadata": {
        "id": "nagtqpS_oFG4",
        "colab_type": "code",
        "colab": {
          "base_uri": "https://localhost:8080/",
          "height": 289
        },
        "outputId": "734feea8-c640-49fc-aed7-83ff595b7a88"
      },
      "source": [
        "model_joke = Sequential()\n",
        "model_joke.add(Embedding(X_train.shape[0], X_train.shape[1], input_length=50, trainable=False))\n",
        "model_joke.add(LSTM(100, dropout=0.2, recurrent_dropout=0.2))\n",
        "model_joke.add(Dense(256, activation='relu'))\n",
        "model_joke.add(Dense(1, activation='sigmoid'))\n",
        "model_joke.compile(loss='binary_crossentropy', optimizer='adam', metrics=['accuracy'])\n",
        "model_joke.summary()"
      ],
      "execution_count": null,
      "outputs": [
        {
          "output_type": "stream",
          "text": [
            "Model: \"sequential_1\"\n",
            "_________________________________________________________________\n",
            "Layer (type)                 Output Shape              Param #   \n",
            "=================================================================\n",
            "embedding_1 (Embedding)      (None, 50, 50)            8000000   \n",
            "_________________________________________________________________\n",
            "lstm_1 (LSTM)                (None, 100)               60400     \n",
            "_________________________________________________________________\n",
            "dense_1 (Dense)              (None, 256)               25856     \n",
            "_________________________________________________________________\n",
            "dense_2 (Dense)              (None, 1)                 257       \n",
            "=================================================================\n",
            "Total params: 8,086,513\n",
            "Trainable params: 86,513\n",
            "Non-trainable params: 8,000,000\n",
            "_________________________________________________________________\n"
          ],
          "name": "stdout"
        }
      ]
    },
    {
      "cell_type": "code",
      "metadata": {
        "id": "5lIhb3M54gN4",
        "colab_type": "code",
        "colab": {
          "base_uri": "https://localhost:8080/",
          "height": 204
        },
        "outputId": "5e46ccd4-3ef2-4713-e105-8ff30e06afd8"
      },
      "source": [
        "history = model_joke.fit(X_train, Y_train, validation_data=(X_valid, Y_valid), epochs=5, batch_size=32, verbose=2)"
      ],
      "execution_count": null,
      "outputs": [
        {
          "output_type": "stream",
          "text": [
            "Train on 160000 samples, validate on 40000 samples\n",
            "Epoch 1/5\n",
            " - 687s - loss: 0.4579 - accuracy: 0.7601 - val_loss: 0.2454 - val_accuracy: 0.9106\n",
            "Epoch 2/5\n",
            " - 676s - loss: 0.2453 - accuracy: 0.9094 - val_loss: 0.1827 - val_accuracy: 0.9356\n",
            "Epoch 3/5\n",
            " - 679s - loss: 0.2031 - accuracy: 0.9278 - val_loss: 0.1673 - val_accuracy: 0.9401\n",
            "Epoch 4/5\n",
            " - 683s - loss: 0.1865 - accuracy: 0.9334 - val_loss: 0.1653 - val_accuracy: 0.9391\n",
            "Epoch 5/5\n",
            " - 679s - loss: 0.1739 - accuracy: 0.9377 - val_loss: 0.1544 - val_accuracy: 0.9460\n"
          ],
          "name": "stdout"
        }
      ]
    },
    {
      "cell_type": "code",
      "metadata": {
        "id": "Ni5I9AuS5ZO9",
        "colab_type": "code",
        "colab": {}
      },
      "source": [
        "X_test, Y_test = X_valid, Y_valid"
      ],
      "execution_count": null,
      "outputs": []
    },
    {
      "cell_type": "code",
      "metadata": {
        "id": "j4Q1_tLd43XA",
        "colab_type": "code",
        "colab": {
          "base_uri": "https://localhost:8080/"
        },
        "outputId": "502d09d2-3858-463d-8976-a79ce2744d77"
      },
      "source": [
        "# summarize history for accuracy\n",
        "plt.plot(history.history['accuracy'])\n",
        "plt.plot(history.history['val_accuracy'])\n",
        "plt.title('Model accuracy')\n",
        "plt.ylabel('Accuracy')\t\n",
        "plt.xlabel('Epoch')\n",
        "plt.legend(['train', 'test'], loc='upper left')\n",
        "plt.show()"
      ],
      "execution_count": null,
      "outputs": [
        {
          "output_type": "display_data",
          "data": {
            "image/png": "[encoded data removed]",
            "text/plain": [
              "<Figure size 432x288 with 1 Axes>"
            ]
          },
          "metadata": {
            "tags": [],
            "needs_background": "light"
          }
        }
      ]
    },
    {
      "cell_type": "code",
      "metadata": {
        "id": "K_vHm1rQ5C7m",
        "colab_type": "code",
        "colab": {
          "base_uri": "https://localhost:8080/"
        },
        "outputId": "ce167e6b-bf41-4a84-df9b-b4ed145f81ed"
      },
      "source": [
        "# summarize history for loss\n",
        "plt.plot(history.history['loss'])\n",
        "plt.plot(history.history['val_loss'])\n",
        "plt.title('Model loss')\n",
        "plt.ylabel('Loss')\n",
        "plt.xlabel('Epoch')\n",
        "plt.legend(['train', 'test'], loc='upper left')\n",
        "plt.show()"
      ],
      "execution_count": null,
      "outputs": [
        {
          "output_type": "display_data",
          "data": {
            "image/png": "[encoded data removed]",
            "text/plain": [
              "<Figure size 432x288 with 1 Axes>"
            ]
          },
          "metadata": {
            "tags": [],
            "needs_background": "light"
          }
        }
      ]
    },
    {
      "cell_type": "code",
      "metadata": {
        "id": "h8Rcve4w5C5q",
        "colab_type": "code",
        "colab": {
          "base_uri": "https://localhost:8080/",
          "height": 51
        },
        "outputId": "ea5b6070-58a3-4a05-dcef-3427e9783a8b"
      },
      "source": [
        "loss, acc = model_joke.evaluate(X_test, Y_test, verbose=0)\n",
        "print('Test Accuracy: %f' % (acc*100))\n",
        "print('Test Loss: %f' % (np.exp(loss)))"
      ],
      "execution_count": null,
      "outputs": [
        {
          "output_type": "stream",
          "text": [
            "Test Accuracy: 94.602501\n",
            "Test Loss: 1.166932\n"
          ],
          "name": "stdout"
        }
      ]
    },
    {
      "cell_type": "code",
      "metadata": {
        "id": "-awCqX7e5C3N",
        "colab_type": "code",
        "colab": {}
      },
      "source": [
        "from sklearn.metrics import accuracy_score, r2_score, f1_score, fbeta_score, precision_score, recall_score\n",
        "from sklearn.metrics import mean_absolute_error, mean_squared_error\n",
        "from sklearn.metrics import roc_curve, roc_auc_score"
      ],
      "execution_count": null,
      "outputs": []
    },
    {
      "cell_type": "code",
      "metadata": {
        "id": "TrTyJ9CB5CuI",
        "colab_type": "code",
        "colab": {
          "base_uri": "https://localhost:8080/",
          "height": 357
        },
        "outputId": "fdd255e8-a48e-4506-e8b8-1890388bd059"
      },
      "source": [
        "Y_pred = model_joke.predict_classes(X_test)\n",
        "for i in range(20):\n",
        "\tprint('Actual = {}:, Predicted = {}'.format(Y_test[i], Y_pred[i]))"
      ],
      "execution_count": null,
      "outputs": [
        {
          "output_type": "stream",
          "text": [
            "Actual = [ True]:, Predicted = [1]\n",
            "Actual = [ True]:, Predicted = [0]\n",
            "Actual = [ True]:, Predicted = [1]\n",
            "Actual = [ True]:, Predicted = [1]\n",
            "Actual = [False]:, Predicted = [0]\n",
            "Actual = [False]:, Predicted = [0]\n",
            "Actual = [ True]:, Predicted = [0]\n",
            "Actual = [False]:, Predicted = [0]\n",
            "Actual = [ True]:, Predicted = [1]\n",
            "Actual = [ True]:, Predicted = [1]\n",
            "Actual = [False]:, Predicted = [0]\n",
            "Actual = [ True]:, Predicted = [1]\n",
            "Actual = [ True]:, Predicted = [1]\n",
            "Actual = [False]:, Predicted = [0]\n",
            "Actual = [False]:, Predicted = [0]\n",
            "Actual = [ True]:, Predicted = [1]\n",
            "Actual = [ True]:, Predicted = [1]\n",
            "Actual = [False]:, Predicted = [0]\n",
            "Actual = [False]:, Predicted = [0]\n",
            "Actual = [False]:, Predicted = [0]\n"
          ],
          "name": "stdout"
        }
      ]
    },
    {
      "cell_type": "code",
      "metadata": {
        "id": "TUr0eY1r7LCs",
        "colab_type": "code",
        "colab": {
          "base_uri": "https://localhost:8080/"
        },
        "outputId": "3976b0fe-101a-4ac9-d98c-a42d3417ebd7"
      },
      "source": [
        "acc = accuracy_score(Y_test, Y_pred)\n",
        "print(\"Accuracy : {}\".format(acc))"
      ],
      "execution_count": null,
      "outputs": [
        {
          "output_type": "stream",
          "text": [
            "Accuracy : 0.946025\n"
          ],
          "name": "stdout"
        }
      ]
    },
    {
      "cell_type": "code",
      "metadata": {
        "id": "aDOxC4xi7IUG",
        "colab_type": "code",
        "colab": {
          "base_uri": "https://localhost:8080/"
        },
        "outputId": "92d95b20-d2b1-4d7b-8295-1db4e1b5cb80"
      },
      "source": [
        "error = mean_absolute_error(Y_test, Y_pred)\n",
        "print(\"Mean Absolute Error : {}\".format(error))"
      ],
      "execution_count": null,
      "outputs": [
        {
          "output_type": "stream",
          "text": [
            "Mean Absolute Error : 0.053975\n"
          ],
          "name": "stdout"
        }
      ]
    },
    {
      "cell_type": "code",
      "metadata": {
        "id": "mS3kTclL7FE-",
        "colab_type": "code",
        "colab": {
          "base_uri": "https://localhost:8080/"
        },
        "outputId": "f944cc28-424d-4c30-b56c-75efbd37ba42"
      },
      "source": [
        "error = mean_squared_error(Y_test, Y_pred)\n",
        "print(\"Mean Squared Error : {}\".format(error))"
      ],
      "execution_count": null,
      "outputs": [
        {
          "output_type": "stream",
          "text": [
            "Mean Squared Error : 0.053975\n"
          ],
          "name": "stdout"
        }
      ]
    },
    {
      "cell_type": "code",
      "metadata": {
        "id": "mP9pd3TX7DcX",
        "colab_type": "code",
        "colab": {
          "base_uri": "https://localhost:8080/"
        },
        "outputId": "2da01b26-aa99-4036-fb09-5cba6cc058d7"
      },
      "source": [
        "score = r2_score(Y_test, Y_pred)\n",
        "print(\"R2 Score : {}\".format(score))"
      ],
      "execution_count": null,
      "outputs": [
        {
          "output_type": "stream",
          "text": [
            "R2 Score : 0.7840963706599908\n"
          ],
          "name": "stdout"
        }
      ]
    },
    {
      "cell_type": "code",
      "metadata": {
        "id": "pyn3EQyG5p5z",
        "colab_type": "code",
        "colab": {
          "base_uri": "https://localhost:8080/"
        },
        "outputId": "142c4a2c-571d-4a36-ec39-2f4b9549de87"
      },
      "source": [
        "score = precision_score(Y_test, Y_pred, average='macro')\n",
        "print(\"Precision Score : {}\".format(score))"
      ],
      "execution_count": null,
      "outputs": [
        {
          "output_type": "stream",
          "text": [
            "Precision Score : 0.9465371888491569\n"
          ],
          "name": "stdout"
        }
      ]
    },
    {
      "cell_type": "code",
      "metadata": {
        "id": "01cTNBnu5n6C",
        "colab_type": "code",
        "colab": {
          "base_uri": "https://localhost:8080/"
        },
        "outputId": "ac89bbdc-0bd3-42be-a42f-0d37b7ac18fd"
      },
      "source": [
        "score = recall_score(Y_test, Y_pred, average='macro')\n",
        "print(\"Recall Score : {}\".format(score))"
      ],
      "execution_count": null,
      "outputs": [
        {
          "output_type": "stream",
          "text": [
            "Recall Score : 0.9460973813969813\n"
          ],
          "name": "stdout"
        }
      ]
    },
    {
      "cell_type": "code",
      "metadata": {
        "id": "YhVRIDna5mUm",
        "colab_type": "code",
        "colab": {
          "base_uri": "https://localhost:8080/"
        },
        "outputId": "824aa407-532b-44dd-9c7f-9405042b8ccc"
      },
      "source": [
        "score = f1_score(Y_test, Y_pred)\n",
        "print(\"F1 Score : {}\".format(score))"
      ],
      "execution_count": null,
      "outputs": [
        {
          "output_type": "stream",
          "text": [
            "F1 Score : 0.9452711095338284\n"
          ],
          "name": "stdout"
        }
      ]
    },
    {
      "cell_type": "code",
      "metadata": {
        "id": "_4BJSTKl5k0e",
        "colab_type": "code",
        "colab": {
          "base_uri": "https://localhost:8080/"
        },
        "outputId": "84507370-1c1b-4c9b-ae86-1a10b49dd981"
      },
      "source": [
        "score = fbeta_score(Y_test, Y_pred, beta = 0.5)\n",
        "print(\"F-Beta Score : {}\".format(score))"
      ],
      "execution_count": null,
      "outputs": [
        {
          "output_type": "stream",
          "text": [
            "F-Beta Score : 0.9556637621732444\n"
          ],
          "name": "stdout"
        }
      ]
    },
    {
      "cell_type": "code",
      "metadata": {
        "id": "bUFBOJh85ioh",
        "colab_type": "code",
        "colab": {
          "base_uri": "https://localhost:8080/"
        },
        "outputId": "c5f0b2fa-2d78-4cac-c133-bd02fcc705cc"
      },
      "source": [
        "jokes_roc = roc_auc_score(Y_test, Y_pred)\n",
        "print('Jokes: ROC-Area Under Curve = {}'.format(jokes_roc))"
      ],
      "execution_count": null,
      "outputs": [
        {
          "output_type": "stream",
          "text": [
            "Jokes: ROC-Area Under Curve = 0.9460973813969813\n"
          ],
          "name": "stdout"
        }
      ]
    },
    {
      "cell_type": "code",
      "metadata": {
        "id": "xm-7Ed2L5CsU",
        "colab_type": "code",
        "colab": {
          "base_uri": "https://localhost:8080/"
        },
        "outputId": "2ff2b7e7-d59d-4ce5-ef19-7126f0e07ff1"
      },
      "source": [
        "J_fpr, J_tpr, _ = roc_curve(Y_test, Y_pred)\n",
        "plt.plot(J_fpr, J_tpr, color = 'blue', label = 'Jokes')\n",
        "plt.xlabel('False Positive Rate')\n",
        "plt.ylabel('True Positive Rate')\n",
        "plt.title('ROC Curve')\n",
        "plt.legend()\n",
        "plt.show()"
      ],
      "execution_count": null,
      "outputs": [
        {
          "output_type": "display_data",
          "data": {
            "image/png": "[encoded data removed]",
            "text/plain": [
              "<Figure size 432x288 with 1 Axes>"
            ]
          },
          "metadata": {
            "tags": [],
            "needs_background": "light"
          }
        }
      ]
    }
  ]
}