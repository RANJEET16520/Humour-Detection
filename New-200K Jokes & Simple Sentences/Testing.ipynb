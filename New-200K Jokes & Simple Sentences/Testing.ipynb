{
  "nbformat": 4,
  "nbformat_minor": 0,
  "metadata": {
    "colab": {
      "name": "Testing.ipynb",
      "provenance": [],
      "collapsed_sections": [],
      "include_colab_link": true
    },
    "kernelspec": {
      "name": "python3",
      "display_name": "Python 3"
    },
    "accelerator": "GPU"
  },
  "cells": [
    {
      "cell_type": "markdown",
      "metadata": {
        "id": "view-in-github",
        "colab_type": "text"
      },
      "source": [
        "<a href=\"https://colab.research.google.com/github/RANJEET16520/Humour-Detection/blob/master/Testing.ipynb\" target=\"_parent\"><img src=\"https://colab.research.google.com/assets/colab-badge.svg\" alt=\"Open In Colab\"/></a>"
      ]
    },
    {
      "cell_type": "code",
      "metadata": {
        "id": "h78Z_IuxCNDA",
        "colab_type": "code",
        "colab": {
          "base_uri": "https://localhost:8080/",
          "height": 34
        },
        "outputId": "7c7fe33e-ca71-44e3-bebf-838b1a224d09"
      },
      "source": [
        "from google.colab import drive\n",
        "drive.mount('/content/drive')"
      ],
      "execution_count": null,
      "outputs": [
        {
          "output_type": "stream",
          "text": [
            "Drive already mounted at /content/drive; to attempt to forcibly remount, call drive.mount(\"/content/drive\", force_remount=True).\n"
          ],
          "name": "stdout"
        }
      ]
    },
    {
      "cell_type": "code",
      "metadata": {
        "id": "YhVOFWbDCTl_",
        "colab_type": "code",
        "colab": {
          "base_uri": "https://localhost:8080/",
          "height": 102
        },
        "outputId": "0aa6d196-efb8-4c82-a450-f249f1adea7b"
      },
      "source": [
        "!ln -sf /opt/bin/nvidia-smi /usr/bin/nvidia-smi\n",
        "!pip install gputil\n",
        "!pip install psutil\n",
        "!pip install humanize\n",
        "\n",
        "import psutil\n",
        "import humanize\n",
        "import os\n",
        "import GPUtil as GPU\n",
        "\n",
        "GPUs = GPU.getGPUs()\n",
        "# XXX: only one GPU on Colab and isn’t guaranteed\n",
        "gpu = GPUs[0]\n",
        "def printm():\n",
        "    process = psutil.Process(os.getpid())\n",
        "    print(\"Gen RAM Free: \" + humanize.naturalsize(psutil.virtual_memory().available), \" |     Proc size: \" + humanize.naturalsize(process.memory_info().rss))\n",
        "    print(\"GPU RAM Free: {0:.0f}MB | Used: {1:.0f}MB | Util {2:3.0f}% | Total     {3:.0f}MB\".format(gpu.memoryFree, gpu.memoryUsed, gpu.memoryUtil*100, gpu.memoryTotal))\n",
        "printm()"
      ],
      "execution_count": null,
      "outputs": [
        {
          "output_type": "stream",
          "text": [
            "Requirement already satisfied: gputil in /usr/local/lib/python3.6/dist-packages (1.4.0)\n",
            "Requirement already satisfied: psutil in /usr/local/lib/python3.6/dist-packages (5.4.8)\n",
            "Requirement already satisfied: humanize in /usr/local/lib/python3.6/dist-packages (0.5.1)\n",
            "Gen RAM Free: 12.7 GB  |     Proc size: 159.7 MB\n",
            "GPU RAM Free: 11441MB | Used: 0MB | Util   0% | Total     11441MB\n"
          ],
          "name": "stdout"
        }
      ]
    },
    {
      "cell_type": "code",
      "metadata": {
        "id": "OQrhQMw-CshP",
        "colab_type": "code",
        "colab": {
          "base_uri": "https://localhost:8080/",
          "height": 714
        },
        "outputId": "884129cd-cc98-4ea4-8f5f-4f96af22ec37"
      },
      "source": [
        "!pip install transformers\n",
        "!pip install pytorch_transformers"
      ],
      "execution_count": null,
      "outputs": [
        {
          "output_type": "stream",
          "text": [
            "Requirement already satisfied: transformers in /usr/local/lib/python3.6/dist-packages (3.0.2)\n",
            "Requirement already satisfied: tokenizers==0.8.1.rc1 in /usr/local/lib/python3.6/dist-packages (from transformers) (0.8.1rc1)\n",
            "Requirement already satisfied: sacremoses in /usr/local/lib/python3.6/dist-packages (from transformers) (0.0.43)\n",
            "Requirement already satisfied: regex!=2019.12.17 in /usr/local/lib/python3.6/dist-packages (from transformers) (2019.12.20)\n",
            "Requirement already satisfied: filelock in /usr/local/lib/python3.6/dist-packages (from transformers) (3.0.12)\n",
            "Requirement already satisfied: dataclasses; python_version < \"3.7\" in /usr/local/lib/python3.6/dist-packages (from transformers) (0.7)\n",
            "Requirement already satisfied: tqdm>=4.27 in /usr/local/lib/python3.6/dist-packages (from transformers) (4.41.1)\n",
            "Requirement already satisfied: numpy in /usr/local/lib/python3.6/dist-packages (from transformers) (1.18.5)\n",
            "Requirement already satisfied: sentencepiece!=0.1.92 in /usr/local/lib/python3.6/dist-packages (from transformers) (0.1.91)\n",
            "Requirement already satisfied: requests in /usr/local/lib/python3.6/dist-packages (from transformers) (2.23.0)\n",
            "Requirement already satisfied: packaging in /usr/local/lib/python3.6/dist-packages (from transformers) (20.4)\n",
            "Requirement already satisfied: joblib in /usr/local/lib/python3.6/dist-packages (from sacremoses->transformers) (0.15.1)\n",
            "Requirement already satisfied: click in /usr/local/lib/python3.6/dist-packages (from sacremoses->transformers) (7.1.2)\n",
            "Requirement already satisfied: six in /usr/local/lib/python3.6/dist-packages (from sacremoses->transformers) (1.12.0)\n",
            "Requirement already satisfied: urllib3!=1.25.0,!=1.25.1,<1.26,>=1.21.1 in /usr/local/lib/python3.6/dist-packages (from requests->transformers) (1.24.3)\n",
            "Requirement already satisfied: certifi>=2017.4.17 in /usr/local/lib/python3.6/dist-packages (from requests->transformers) (2020.6.20)\n",
            "Requirement already satisfied: chardet<4,>=3.0.2 in /usr/local/lib/python3.6/dist-packages (from requests->transformers) (3.0.4)\n",
            "Requirement already satisfied: idna<3,>=2.5 in /usr/local/lib/python3.6/dist-packages (from requests->transformers) (2.9)\n",
            "Requirement already satisfied: pyparsing>=2.0.2 in /usr/local/lib/python3.6/dist-packages (from packaging->transformers) (2.4.7)\n",
            "Requirement already satisfied: pytorch_transformers in /usr/local/lib/python3.6/dist-packages (1.2.0)\n",
            "Requirement already satisfied: sentencepiece in /usr/local/lib/python3.6/dist-packages (from pytorch_transformers) (0.1.91)\n",
            "Requirement already satisfied: requests in /usr/local/lib/python3.6/dist-packages (from pytorch_transformers) (2.23.0)\n",
            "Requirement already satisfied: regex in /usr/local/lib/python3.6/dist-packages (from pytorch_transformers) (2019.12.20)\n",
            "Requirement already satisfied: tqdm in /usr/local/lib/python3.6/dist-packages (from pytorch_transformers) (4.41.1)\n",
            "Requirement already satisfied: numpy in /usr/local/lib/python3.6/dist-packages (from pytorch_transformers) (1.18.5)\n",
            "Requirement already satisfied: boto3 in /usr/local/lib/python3.6/dist-packages (from pytorch_transformers) (1.14.9)\n",
            "Requirement already satisfied: torch>=1.0.0 in /usr/local/lib/python3.6/dist-packages (from pytorch_transformers) (1.5.1+cu101)\n",
            "Requirement already satisfied: sacremoses in /usr/local/lib/python3.6/dist-packages (from pytorch_transformers) (0.0.43)\n",
            "Requirement already satisfied: urllib3!=1.25.0,!=1.25.1,<1.26,>=1.21.1 in /usr/local/lib/python3.6/dist-packages (from requests->pytorch_transformers) (1.24.3)\n",
            "Requirement already satisfied: certifi>=2017.4.17 in /usr/local/lib/python3.6/dist-packages (from requests->pytorch_transformers) (2020.6.20)\n",
            "Requirement already satisfied: idna<3,>=2.5 in /usr/local/lib/python3.6/dist-packages (from requests->pytorch_transformers) (2.9)\n",
            "Requirement already satisfied: chardet<4,>=3.0.2 in /usr/local/lib/python3.6/dist-packages (from requests->pytorch_transformers) (3.0.4)\n",
            "Requirement already satisfied: s3transfer<0.4.0,>=0.3.0 in /usr/local/lib/python3.6/dist-packages (from boto3->pytorch_transformers) (0.3.3)\n",
            "Requirement already satisfied: jmespath<1.0.0,>=0.7.1 in /usr/local/lib/python3.6/dist-packages (from boto3->pytorch_transformers) (0.10.0)\n",
            "Requirement already satisfied: botocore<1.18.0,>=1.17.9 in /usr/local/lib/python3.6/dist-packages (from boto3->pytorch_transformers) (1.17.9)\n",
            "Requirement already satisfied: future in /usr/local/lib/python3.6/dist-packages (from torch>=1.0.0->pytorch_transformers) (0.16.0)\n",
            "Requirement already satisfied: click in /usr/local/lib/python3.6/dist-packages (from sacremoses->pytorch_transformers) (7.1.2)\n",
            "Requirement already satisfied: six in /usr/local/lib/python3.6/dist-packages (from sacremoses->pytorch_transformers) (1.12.0)\n",
            "Requirement already satisfied: joblib in /usr/local/lib/python3.6/dist-packages (from sacremoses->pytorch_transformers) (0.15.1)\n",
            "Requirement already satisfied: docutils<0.16,>=0.10 in /usr/local/lib/python3.6/dist-packages (from botocore<1.18.0,>=1.17.9->boto3->pytorch_transformers) (0.15.2)\n",
            "Requirement already satisfied: python-dateutil<3.0.0,>=2.1 in /usr/local/lib/python3.6/dist-packages (from botocore<1.18.0,>=1.17.9->boto3->pytorch_transformers) (2.8.1)\n"
          ],
          "name": "stdout"
        }
      ]
    },
    {
      "cell_type": "code",
      "metadata": {
        "id": "e0NPAKv7C7kU",
        "colab_type": "code",
        "colab": {
          "base_uri": "https://localhost:8080/",
          "height": 68
        },
        "outputId": "8a75d254-183d-41aa-c43f-fbe7c101926e"
      },
      "source": [
        "import os\n",
        "import math\n",
        "import glob\n",
        "import logging\n",
        "\n",
        "import numpy as np\n",
        "import pandas as pd\n",
        "import seaborn as sns\n",
        "import matplotlib.pyplot as plt\n",
        "%matplotlib inline\n",
        "\n",
        "import torch\n",
        "from torch.nn import BCEWithLogitsLoss\n",
        "from torch.utils.data import TensorDataset, DataLoader, RandomSampler, SequentialSampler\n",
        "from transformers import XLNetTokenizer, XLNetModel, XLNetLMHeadModel, XLNetConfig, XLNetForSequenceClassification\n",
        "from pytorch_transformers import AdamW, WarmupLinearSchedule\n",
        "from keras.preprocessing.sequence import pad_sequences\n",
        "from sklearn.model_selection import train_test_split\n",
        "from tqdm import tqdm, trange\n",
        "from sklearn.metrics import mean_squared_error, matthews_corrcoef, confusion_matrix"
      ],
      "execution_count": null,
      "outputs": [
        {
          "output_type": "stream",
          "text": [
            "/usr/local/lib/python3.6/dist-packages/statsmodels/tools/_testing.py:19: FutureWarning: pandas.util.testing is deprecated. Use the functions in the public API at pandas.testing instead.\n",
            "  import pandas.util.testing as tm\n",
            "Using TensorFlow backend.\n"
          ],
          "name": "stderr"
        }
      ]
    },
    {
      "cell_type": "code",
      "metadata": {
        "id": "W5jszIdLC-EY",
        "colab_type": "code",
        "colab": {
          "base_uri": "https://localhost:8080/",
          "height": 85
        },
        "outputId": "b891a5bf-dc36-449e-cc3c-c529b1755ed2"
      },
      "source": [
        "print(\"GPU Available: {}\".format(torch.cuda.is_available()))\n",
        "n_gpu = torch.cuda.device_count()\n",
        "print(\"Number of GPU Available: {}\".format(n_gpu))\n",
        "print(\"GPU: {}\".format(torch.cuda.get_device_name(0)))\n",
        "print(\"Current Device is {}\".format('GPU' if torch.cuda.current_device()==0 else 'CPU'))\n",
        "torch.cuda.set_device(0)"
      ],
      "execution_count": null,
      "outputs": [
        {
          "output_type": "stream",
          "text": [
            "GPU Available: True\n",
            "Number of GPU Available: 1\n",
            "GPU: Tesla K80\n",
            "Current Device is GPU\n"
          ],
          "name": "stdout"
        }
      ]
    },
    {
      "cell_type": "code",
      "metadata": {
        "id": "s1imbEQIDA3x",
        "colab_type": "code",
        "colab": {
          "base_uri": "https://localhost:8080/",
          "height": 34
        },
        "outputId": "1c10bbac-2a70-4b62-f55d-13712795b73c"
      },
      "source": [
        "device = torch.device(\"cuda\" if torch.cuda.is_available() else \"cpu\")\n",
        "device"
      ],
      "execution_count": null,
      "outputs": [
        {
          "output_type": "execute_result",
          "data": {
            "text/plain": [
              "device(type='cuda')"
            ]
          },
          "metadata": {
            "tags": []
          },
          "execution_count": 6
        }
      ]
    },
    {
      "cell_type": "code",
      "metadata": {
        "id": "U82rXvv0DEPx",
        "colab_type": "code",
        "colab": {}
      },
      "source": [
        "logging.basicConfig(level=logging.INFO)\n",
        "logger = logging.getLogger(__name__)"
      ],
      "execution_count": null,
      "outputs": []
    },
    {
      "cell_type": "code",
      "metadata": {
        "id": "byJ2aRjGDGsz",
        "colab_type": "code",
        "colab": {
          "base_uri": "https://localhost:8080/",
          "height": 34
        },
        "outputId": "172332ed-f3a7-4e86-ab9f-51bca437b4e6"
      },
      "source": [
        "test = pd.read_csv('/content/drive/My Drive/Data/New_200K_Jokes/dev.csv')\n",
        "test.shape"
      ],
      "execution_count": null,
      "outputs": [
        {
          "output_type": "execute_result",
          "data": {
            "text/plain": [
              "(40000, 2)"
            ]
          },
          "metadata": {
            "tags": []
          },
          "execution_count": 8
        }
      ]
    },
    {
      "cell_type": "code",
      "metadata": {
        "id": "VxBdSWttDJOi",
        "colab_type": "code",
        "colab": {
          "base_uri": "https://localhost:8080/",
          "height": 359
        },
        "outputId": "3f6b2382-5fb8-4b95-c1a0-2ddc95a01a3f"
      },
      "source": [
        "test.head(10)"
      ],
      "execution_count": null,
      "outputs": [
        {
          "output_type": "execute_result",
          "data": {
            "text/html": [
              "<div>\n",
              "<style scoped>\n",
              "    .dataframe tbody tr th:only-of-type {\n",
              "        vertical-align: middle;\n",
              "    }\n",
              "\n",
              "    .dataframe tbody tr th {\n",
              "        vertical-align: top;\n",
              "    }\n",
              "\n",
              "    .dataframe thead th {\n",
              "        text-align: right;\n",
              "    }\n",
              "</style>\n",
              "<table border=\"1\" class=\"dataframe\">\n",
              "  <thead>\n",
              "    <tr style=\"text-align: right;\">\n",
              "      <th></th>\n",
              "      <th>text</th>\n",
              "      <th>humor</th>\n",
              "    </tr>\n",
              "  </thead>\n",
              "  <tbody>\n",
              "    <tr>\n",
              "      <th>0</th>\n",
              "      <td>What kind of cat should you take into the  des...</td>\n",
              "      <td>True</td>\n",
              "    </tr>\n",
              "    <tr>\n",
              "      <th>1</th>\n",
              "      <td>Remember when people used to have to be in sha...</td>\n",
              "      <td>True</td>\n",
              "    </tr>\n",
              "    <tr>\n",
              "      <th>2</th>\n",
              "      <td>Pizza is always good. - everyone we'll see abo...</td>\n",
              "      <td>True</td>\n",
              "    </tr>\n",
              "    <tr>\n",
              "      <th>3</th>\n",
              "      <td>What's 6 inches long hard, bent, and in my pan...</td>\n",
              "      <td>True</td>\n",
              "    </tr>\n",
              "    <tr>\n",
              "      <th>4</th>\n",
              "      <td>Black teen's response to violence in his commu...</td>\n",
              "      <td>False</td>\n",
              "    </tr>\n",
              "    <tr>\n",
              "      <th>5</th>\n",
              "      <td>'make me a sandwich' is making us hungry, deli...</td>\n",
              "      <td>False</td>\n",
              "    </tr>\n",
              "    <tr>\n",
              "      <th>6</th>\n",
              "      <td>Do infants have as much fun in infancy as adul...</td>\n",
              "      <td>True</td>\n",
              "    </tr>\n",
              "    <tr>\n",
              "      <th>7</th>\n",
              "      <td>Funded kickstarters: food products we can't wa...</td>\n",
              "      <td>False</td>\n",
              "    </tr>\n",
              "    <tr>\n",
              "      <th>8</th>\n",
              "      <td>What has 125 teeth and prevents a savage beast...</td>\n",
              "      <td>True</td>\n",
              "    </tr>\n",
              "    <tr>\n",
              "      <th>9</th>\n",
              "      <td>What happened to the adhesive suicide bomber? ...</td>\n",
              "      <td>True</td>\n",
              "    </tr>\n",
              "  </tbody>\n",
              "</table>\n",
              "</div>"
            ],
            "text/plain": [
              "                                                text  humor\n",
              "0  What kind of cat should you take into the  des...   True\n",
              "1  Remember when people used to have to be in sha...   True\n",
              "2  Pizza is always good. - everyone we'll see abo...   True\n",
              "3  What's 6 inches long hard, bent, and in my pan...   True\n",
              "4  Black teen's response to violence in his commu...  False\n",
              "5  'make me a sandwich' is making us hungry, deli...  False\n",
              "6  Do infants have as much fun in infancy as adul...   True\n",
              "7  Funded kickstarters: food products we can't wa...  False\n",
              "8  What has 125 teeth and prevents a savage beast...   True\n",
              "9  What happened to the adhesive suicide bomber? ...   True"
            ]
          },
          "metadata": {
            "tags": []
          },
          "execution_count": 9
        }
      ]
    },
    {
      "cell_type": "code",
      "metadata": {
        "id": "PrBk067ODTSx",
        "colab_type": "code",
        "colab": {
          "base_uri": "https://localhost:8080/",
          "height": 54
        },
        "outputId": "4b27da80-682b-40ed-d2c6-e1cda10f7a5a"
      },
      "source": [
        "tokenizer = XLNetTokenizer.from_pretrained('xlnet-base-cased', do_lower_case=True)"
      ],
      "execution_count": null,
      "outputs": [
        {
          "output_type": "stream",
          "text": [
            "INFO:transformers.tokenization_utils_base:loading file https://s3.amazonaws.com/models.huggingface.co/bert/xlnet-base-cased-spiece.model from cache at /root/.cache/torch/transformers/dad589d582573df0293448af5109cb6981ca77239ed314e15ca63b7b8a318ddd.8b10bd978b5d01c21303cc761fc9ecd464419b3bf921864a355ba807cfbfafa8\n"
          ],
          "name": "stderr"
        }
      ]
    },
    {
      "cell_type": "code",
      "metadata": {
        "id": "Vqxq9NMVDV10",
        "colab_type": "code",
        "colab": {}
      },
      "source": [
        "test_text_list = test[\"text\"].values"
      ],
      "execution_count": null,
      "outputs": []
    },
    {
      "cell_type": "code",
      "metadata": {
        "id": "7ownk5KDDa5p",
        "colab_type": "code",
        "colab": {}
      },
      "source": [
        "def tokenize_inputs(text_list, tokenizer, num_embeddings):\n",
        "    \"\"\"\n",
        "    Tokenizes the input text input into ids. Appends the appropriate special\n",
        "    characters to the end of the text to denote end of sentence. Truncate or pad\n",
        "    the appropriate sequence length.\n",
        "    \"\"\"\n",
        "    # tokenize the text, then truncate sequence to the desired length minus 2 for\n",
        "    # the 2 special characters\n",
        "    tokenized_texts = list(map(lambda t: tokenizer.tokenize(t)[:num_embeddings-2], text_list))\n",
        "    # convert tokenized text into numeric ids for the appropriate LM\n",
        "    input_ids = [tokenizer.convert_tokens_to_ids(x) for x in tokenized_texts]\n",
        "    # append special token \"<s>\" and </s> to end of sentence\n",
        "    input_ids = [tokenizer.build_inputs_with_special_tokens(x) for x in input_ids]\n",
        "    # pad sequences\n",
        "    input_ids = pad_sequences(input_ids, maxlen=num_embeddings, dtype=\"long\", truncating=\"post\", padding=\"post\")\n",
        "    input_ids = np.array(input_ids)\n",
        "    return input_ids\n",
        "\n",
        "def create_attn_masks(input_ids):\n",
        "    \"\"\"\n",
        "    Create attention masks to tell model whether attention should be applied to\n",
        "    the input id tokens. Do not want to perform attention on padding tokens.\n",
        "    \"\"\"\n",
        "    # Create attention masks\n",
        "    attention_masks = []\n",
        "\n",
        "    # Create a mask of 1s for each token followed by 0s for padding\n",
        "    for seq in input_ids:\n",
        "        seq_mask = [float(i>0) for i in seq]\n",
        "        attention_masks.append(seq_mask)\n",
        "    attention_masks = np.array(attention_masks)\n",
        "    return attention_masks"
      ],
      "execution_count": null,
      "outputs": []
    },
    {
      "cell_type": "code",
      "metadata": {
        "id": "wfeWLIC8DhUq",
        "colab_type": "code",
        "colab": {
          "base_uri": "https://localhost:8080/",
          "height": 153
        },
        "outputId": "c69f633d-4513-498c-e5f0-5ff878cb077d"
      },
      "source": [
        "# create input id tokens\n",
        "test_input_ids = tokenize_inputs(test_text_list, tokenizer, num_embeddings=50)\n",
        "print(test_input_ids.shape)\n",
        "test_input_ids"
      ],
      "execution_count": null,
      "outputs": [
        {
          "output_type": "stream",
          "text": [
            "(40000, 50)\n"
          ],
          "name": "stdout"
        },
        {
          "output_type": "execute_result",
          "data": {
            "text/plain": [
              "array([[  113,   713,    20, ...,     0,     0,     0],\n",
              "       [ 1633,    90,   104, ...,     0,     0,     0],\n",
              "       [12879,    27,   426, ...,     0,     0,     0],\n",
              "       ...,\n",
              "       [  160,   142,  8959, ...,     0,     0,     0],\n",
              "       [   17,    98,   369, ...,     0,     0,     0],\n",
              "       [   48,    17,  1121, ...,     0,     0,     0]])"
            ]
          },
          "metadata": {
            "tags": []
          },
          "execution_count": 13
        }
      ]
    },
    {
      "cell_type": "code",
      "metadata": {
        "id": "1ut7bwblDlIt",
        "colab_type": "code",
        "colab": {
          "base_uri": "https://localhost:8080/",
          "height": 34
        },
        "outputId": "f8146e25-f097-4951-a09f-574cbd924d50"
      },
      "source": [
        "# create attention masks\n",
        "test_attention_masks = create_attn_masks(test_input_ids)\n",
        "test_attention_masks.shape"
      ],
      "execution_count": null,
      "outputs": [
        {
          "output_type": "execute_result",
          "data": {
            "text/plain": [
              "(40000, 50)"
            ]
          },
          "metadata": {
            "tags": []
          },
          "execution_count": 14
        }
      ]
    },
    {
      "cell_type": "code",
      "metadata": {
        "id": "2aW8cilADxwh",
        "colab_type": "code",
        "colab": {
          "base_uri": "https://localhost:8080/",
          "height": 204
        },
        "outputId": "26f21e59-3693-4f49-f545-d17a86d575f3"
      },
      "source": [
        "test[\"features\"] = test_input_ids.tolist()\n",
        "test[\"masks\"] = test_attention_masks.tolist()\n",
        "test.head()"
      ],
      "execution_count": null,
      "outputs": [
        {
          "output_type": "execute_result",
          "data": {
            "text/html": [
              "<div>\n",
              "<style scoped>\n",
              "    .dataframe tbody tr th:only-of-type {\n",
              "        vertical-align: middle;\n",
              "    }\n",
              "\n",
              "    .dataframe tbody tr th {\n",
              "        vertical-align: top;\n",
              "    }\n",
              "\n",
              "    .dataframe thead th {\n",
              "        text-align: right;\n",
              "    }\n",
              "</style>\n",
              "<table border=\"1\" class=\"dataframe\">\n",
              "  <thead>\n",
              "    <tr style=\"text-align: right;\">\n",
              "      <th></th>\n",
              "      <th>text</th>\n",
              "      <th>humor</th>\n",
              "      <th>features</th>\n",
              "      <th>masks</th>\n",
              "    </tr>\n",
              "  </thead>\n",
              "  <tbody>\n",
              "    <tr>\n",
              "      <th>0</th>\n",
              "      <td>What kind of cat should you take into the  des...</td>\n",
              "      <td>True</td>\n",
              "      <td>[113, 713, 20, 4777, 170, 44, 182, 91, 18, 567...</td>\n",
              "      <td>[1.0, 1.0, 1.0, 1.0, 1.0, 1.0, 1.0, 1.0, 1.0, ...</td>\n",
              "    </tr>\n",
              "    <tr>\n",
              "      <th>1</th>\n",
              "      <td>Remember when people used to have to be in sha...</td>\n",
              "      <td>True</td>\n",
              "      <td>[1633, 90, 104, 179, 22, 47, 22, 39, 25, 2787,...</td>\n",
              "      <td>[1.0, 1.0, 1.0, 1.0, 1.0, 1.0, 1.0, 1.0, 1.0, ...</td>\n",
              "    </tr>\n",
              "    <tr>\n",
              "      <th>2</th>\n",
              "      <td>Pizza is always good. - everyone we'll see abo...</td>\n",
              "      <td>True</td>\n",
              "      <td>[12879, 27, 426, 195, 9, 17, 13, 1251, 80, 26,...</td>\n",
              "      <td>[1.0, 1.0, 1.0, 1.0, 1.0, 1.0, 1.0, 1.0, 1.0, ...</td>\n",
              "    </tr>\n",
              "    <tr>\n",
              "      <th>3</th>\n",
              "      <td>What's 6 inches long hard, bent, and in my pan...</td>\n",
              "      <td>True</td>\n",
              "      <td>[113, 26, 23, 284, 3763, 206, 500, 19, 9015, 1...</td>\n",
              "      <td>[1.0, 1.0, 1.0, 1.0, 1.0, 1.0, 1.0, 1.0, 1.0, ...</td>\n",
              "    </tr>\n",
              "    <tr>\n",
              "      <th>4</th>\n",
              "      <td>Black teen's response to violence in his commu...</td>\n",
              "      <td>False</td>\n",
              "      <td>[710, 8017, 26, 23, 1196, 22, 1350, 25, 45, 53...</td>\n",
              "      <td>[1.0, 1.0, 1.0, 1.0, 1.0, 1.0, 1.0, 1.0, 1.0, ...</td>\n",
              "    </tr>\n",
              "  </tbody>\n",
              "</table>\n",
              "</div>"
            ],
            "text/plain": [
              "                                                text  ...                                              masks\n",
              "0  What kind of cat should you take into the  des...  ...  [1.0, 1.0, 1.0, 1.0, 1.0, 1.0, 1.0, 1.0, 1.0, ...\n",
              "1  Remember when people used to have to be in sha...  ...  [1.0, 1.0, 1.0, 1.0, 1.0, 1.0, 1.0, 1.0, 1.0, ...\n",
              "2  Pizza is always good. - everyone we'll see abo...  ...  [1.0, 1.0, 1.0, 1.0, 1.0, 1.0, 1.0, 1.0, 1.0, ...\n",
              "3  What's 6 inches long hard, bent, and in my pan...  ...  [1.0, 1.0, 1.0, 1.0, 1.0, 1.0, 1.0, 1.0, 1.0, ...\n",
              "4  Black teen's response to violence in his commu...  ...  [1.0, 1.0, 1.0, 1.0, 1.0, 1.0, 1.0, 1.0, 1.0, ...\n",
              "\n",
              "[5 rows x 4 columns]"
            ]
          },
          "metadata": {
            "tags": []
          },
          "execution_count": 15
        }
      ]
    },
    {
      "cell_type": "code",
      "metadata": {
        "id": "J-kN0pKSEH8k",
        "colab_type": "code",
        "colab": {
          "base_uri": "https://localhost:8080/",
          "height": 1000
        },
        "outputId": "7b2e2d99-8b27-41a7-846b-6fa30654f988"
      },
      "source": [
        "#config = XLNetConfig()\n",
        "        \n",
        "class XLNetForMultiLabelSequenceClassification(torch.nn.Module):\n",
        "  \n",
        "    def __init__(self, num_labels=1):\n",
        "        super(XLNetForMultiLabelSequenceClassification, self).__init__()\n",
        "        self.num_labels = num_labels\n",
        "        self.xlnet = XLNetModel.from_pretrained('xlnet-base-cased')\n",
        "        self.classifier = torch.nn.Linear(768, num_labels)\n",
        "\n",
        "        torch.nn.init.xavier_normal_(self.classifier.weight)\n",
        "\n",
        "    def forward(self, input_ids, token_type_ids=None, attention_mask=None, labels=None):\n",
        "        # last hidden layer\n",
        "        last_hidden_state = self.xlnet(input_ids=input_ids,\\\n",
        "                                    attention_mask=attention_mask,\\\n",
        "                                    token_type_ids=token_type_ids)\n",
        "        # pool the outputs into a mean vector\n",
        "        mean_last_hidden_state = self.pool_hidden_state(last_hidden_state)\n",
        "        logits = self.classifier(mean_last_hidden_state)\n",
        "            \n",
        "        if labels is not None:\n",
        "            loss_fct = BCEWithLogitsLoss()\n",
        "            loss = loss_fct(logits.view(-1, self.num_labels), labels.view(-1, self.num_labels))\n",
        "            return loss\n",
        "        else:\n",
        "            return logits\n",
        "\n",
        "    def freeze_xlnet_decoder(self):\n",
        "        \"\"\"\n",
        "        Freeze XLNet weight parameters. They will not be updated during training.\n",
        "        \"\"\"\n",
        "        for param in self.xlnet.parameters():\n",
        "            param.requires_grad = False\n",
        "    \n",
        "    def unfreeze_xlnet_decoder(self):\n",
        "        \"\"\"\n",
        "        Unfreeze XLNet weight parameters. They will be updated during training.\n",
        "        \"\"\"\n",
        "        for param in self.xlnet.parameters():\n",
        "            param.requires_grad = True\n",
        "\n",
        "    def pool_hidden_state(self, last_hidden_state):\n",
        "        \"\"\"\n",
        "        Pool the output vectors into a single mean vector \n",
        "        \"\"\"\n",
        "        last_hidden_state = last_hidden_state[0]\n",
        "        mean_last_hidden_state = torch.mean(last_hidden_state, 1)\n",
        "        return mean_last_hidden_state\n",
        "\n",
        "model = XLNetForMultiLabelSequenceClassification(num_labels=1)\n",
        "# model = XLNetForSequenceClassification.from_pretrained('xlnet-base-cased')\n",
        "model = torch.nn.DataParallel(model)\n",
        "model.cuda()"
      ],
      "execution_count": null,
      "outputs": [
        {
          "output_type": "stream",
          "text": [
            "INFO:transformers.configuration_utils:loading configuration file https://s3.amazonaws.com/models.huggingface.co/bert/xlnet-base-cased-config.json from cache at /root/.cache/torch/transformers/c9cc6e53904f7f3679a31ec4af244f4419e25ebc8e71ebf8c558a31cbcf07fc8.69e5e35e0b798cab5e473f253752f8bf4d280ee37682281a23eed80f6e2d09c6\n",
            "INFO:transformers.configuration_utils:Model config XLNetConfig {\n",
            "  \"architectures\": [\n",
            "    \"XLNetLMHeadModel\"\n",
            "  ],\n",
            "  \"attn_type\": \"bi\",\n",
            "  \"bi_data\": false,\n",
            "  \"bos_token_id\": 1,\n",
            "  \"clamp_len\": -1,\n",
            "  \"d_head\": 64,\n",
            "  \"d_inner\": 3072,\n",
            "  \"d_model\": 768,\n",
            "  \"dropout\": 0.1,\n",
            "  \"end_n_top\": 5,\n",
            "  \"eos_token_id\": 2,\n",
            "  \"ff_activation\": \"gelu\",\n",
            "  \"initializer_range\": 0.02,\n",
            "  \"layer_norm_eps\": 1e-12,\n",
            "  \"mem_len\": null,\n",
            "  \"model_type\": \"xlnet\",\n",
            "  \"n_head\": 12,\n",
            "  \"n_layer\": 12,\n",
            "  \"pad_token_id\": 5,\n",
            "  \"reuse_len\": null,\n",
            "  \"same_length\": false,\n",
            "  \"start_n_top\": 5,\n",
            "  \"summary_activation\": \"tanh\",\n",
            "  \"summary_last_dropout\": 0.1,\n",
            "  \"summary_type\": \"last\",\n",
            "  \"summary_use_proj\": true,\n",
            "  \"task_specific_params\": {\n",
            "    \"text-generation\": {\n",
            "      \"do_sample\": true,\n",
            "      \"max_length\": 250\n",
            "    }\n",
            "  },\n",
            "  \"untie_r\": true,\n",
            "  \"vocab_size\": 32000\n",
            "}\n",
            "\n",
            "INFO:transformers.modeling_utils:loading weights file https://cdn.huggingface.co/xlnet-base-cased-pytorch_model.bin from cache at /root/.cache/torch/transformers/33d6135fea0154c088449506a4c5f9553cb59b6fd040138417a7033af64bb8f9.7eac4fe898a021204e63c88c00ea68c60443c57f94b4bc3c02adbde6465745ac\n",
            "INFO:transformers.modeling_utils:All model checkpoint weights were used when initializing XLNetModel.\n",
            "\n",
            "INFO:transformers.modeling_utils:All the weights of XLNetModel were initialized from the model checkpoint at xlnet-base-cased.\n",
            "If your task is similar to the task the model of the ckeckpoint was trained on, you can already use XLNetModel for predictions without further training.\n"
          ],
          "name": "stderr"
        },
        {
          "output_type": "execute_result",
          "data": {
            "text/plain": [
              "DataParallel(\n",
              "  (module): XLNetForMultiLabelSequenceClassification(\n",
              "    (xlnet): XLNetModel(\n",
              "      (word_embedding): Embedding(32000, 768)\n",
              "      (layer): ModuleList(\n",
              "        (0): XLNetLayer(\n",
              "          (rel_attn): XLNetRelativeAttention(\n",
              "            (layer_norm): LayerNorm((768,), eps=1e-12, elementwise_affine=True)\n",
              "            (dropout): Dropout(p=0.1, inplace=False)\n",
              "          )\n",
              "          (ff): XLNetFeedForward(\n",
              "            (layer_norm): LayerNorm((768,), eps=1e-12, elementwise_affine=True)\n",
              "            (layer_1): Linear(in_features=768, out_features=3072, bias=True)\n",
              "            (layer_2): Linear(in_features=3072, out_features=768, bias=True)\n",
              "            (dropout): Dropout(p=0.1, inplace=False)\n",
              "          )\n",
              "          (dropout): Dropout(p=0.1, inplace=False)\n",
              "        )\n",
              "        (1): XLNetLayer(\n",
              "          (rel_attn): XLNetRelativeAttention(\n",
              "            (layer_norm): LayerNorm((768,), eps=1e-12, elementwise_affine=True)\n",
              "            (dropout): Dropout(p=0.1, inplace=False)\n",
              "          )\n",
              "          (ff): XLNetFeedForward(\n",
              "            (layer_norm): LayerNorm((768,), eps=1e-12, elementwise_affine=True)\n",
              "            (layer_1): Linear(in_features=768, out_features=3072, bias=True)\n",
              "            (layer_2): Linear(in_features=3072, out_features=768, bias=True)\n",
              "            (dropout): Dropout(p=0.1, inplace=False)\n",
              "          )\n",
              "          (dropout): Dropout(p=0.1, inplace=False)\n",
              "        )\n",
              "        (2): XLNetLayer(\n",
              "          (rel_attn): XLNetRelativeAttention(\n",
              "            (layer_norm): LayerNorm((768,), eps=1e-12, elementwise_affine=True)\n",
              "            (dropout): Dropout(p=0.1, inplace=False)\n",
              "          )\n",
              "          (ff): XLNetFeedForward(\n",
              "            (layer_norm): LayerNorm((768,), eps=1e-12, elementwise_affine=True)\n",
              "            (layer_1): Linear(in_features=768, out_features=3072, bias=True)\n",
              "            (layer_2): Linear(in_features=3072, out_features=768, bias=True)\n",
              "            (dropout): Dropout(p=0.1, inplace=False)\n",
              "          )\n",
              "          (dropout): Dropout(p=0.1, inplace=False)\n",
              "        )\n",
              "        (3): XLNetLayer(\n",
              "          (rel_attn): XLNetRelativeAttention(\n",
              "            (layer_norm): LayerNorm((768,), eps=1e-12, elementwise_affine=True)\n",
              "            (dropout): Dropout(p=0.1, inplace=False)\n",
              "          )\n",
              "          (ff): XLNetFeedForward(\n",
              "            (layer_norm): LayerNorm((768,), eps=1e-12, elementwise_affine=True)\n",
              "            (layer_1): Linear(in_features=768, out_features=3072, bias=True)\n",
              "            (layer_2): Linear(in_features=3072, out_features=768, bias=True)\n",
              "            (dropout): Dropout(p=0.1, inplace=False)\n",
              "          )\n",
              "          (dropout): Dropout(p=0.1, inplace=False)\n",
              "        )\n",
              "        (4): XLNetLayer(\n",
              "          (rel_attn): XLNetRelativeAttention(\n",
              "            (layer_norm): LayerNorm((768,), eps=1e-12, elementwise_affine=True)\n",
              "            (dropout): Dropout(p=0.1, inplace=False)\n",
              "          )\n",
              "          (ff): XLNetFeedForward(\n",
              "            (layer_norm): LayerNorm((768,), eps=1e-12, elementwise_affine=True)\n",
              "            (layer_1): Linear(in_features=768, out_features=3072, bias=True)\n",
              "            (layer_2): Linear(in_features=3072, out_features=768, bias=True)\n",
              "            (dropout): Dropout(p=0.1, inplace=False)\n",
              "          )\n",
              "          (dropout): Dropout(p=0.1, inplace=False)\n",
              "        )\n",
              "        (5): XLNetLayer(\n",
              "          (rel_attn): XLNetRelativeAttention(\n",
              "            (layer_norm): LayerNorm((768,), eps=1e-12, elementwise_affine=True)\n",
              "            (dropout): Dropout(p=0.1, inplace=False)\n",
              "          )\n",
              "          (ff): XLNetFeedForward(\n",
              "            (layer_norm): LayerNorm((768,), eps=1e-12, elementwise_affine=True)\n",
              "            (layer_1): Linear(in_features=768, out_features=3072, bias=True)\n",
              "            (layer_2): Linear(in_features=3072, out_features=768, bias=True)\n",
              "            (dropout): Dropout(p=0.1, inplace=False)\n",
              "          )\n",
              "          (dropout): Dropout(p=0.1, inplace=False)\n",
              "        )\n",
              "        (6): XLNetLayer(\n",
              "          (rel_attn): XLNetRelativeAttention(\n",
              "            (layer_norm): LayerNorm((768,), eps=1e-12, elementwise_affine=True)\n",
              "            (dropout): Dropout(p=0.1, inplace=False)\n",
              "          )\n",
              "          (ff): XLNetFeedForward(\n",
              "            (layer_norm): LayerNorm((768,), eps=1e-12, elementwise_affine=True)\n",
              "            (layer_1): Linear(in_features=768, out_features=3072, bias=True)\n",
              "            (layer_2): Linear(in_features=3072, out_features=768, bias=True)\n",
              "            (dropout): Dropout(p=0.1, inplace=False)\n",
              "          )\n",
              "          (dropout): Dropout(p=0.1, inplace=False)\n",
              "        )\n",
              "        (7): XLNetLayer(\n",
              "          (rel_attn): XLNetRelativeAttention(\n",
              "            (layer_norm): LayerNorm((768,), eps=1e-12, elementwise_affine=True)\n",
              "            (dropout): Dropout(p=0.1, inplace=False)\n",
              "          )\n",
              "          (ff): XLNetFeedForward(\n",
              "            (layer_norm): LayerNorm((768,), eps=1e-12, elementwise_affine=True)\n",
              "            (layer_1): Linear(in_features=768, out_features=3072, bias=True)\n",
              "            (layer_2): Linear(in_features=3072, out_features=768, bias=True)\n",
              "            (dropout): Dropout(p=0.1, inplace=False)\n",
              "          )\n",
              "          (dropout): Dropout(p=0.1, inplace=False)\n",
              "        )\n",
              "        (8): XLNetLayer(\n",
              "          (rel_attn): XLNetRelativeAttention(\n",
              "            (layer_norm): LayerNorm((768,), eps=1e-12, elementwise_affine=True)\n",
              "            (dropout): Dropout(p=0.1, inplace=False)\n",
              "          )\n",
              "          (ff): XLNetFeedForward(\n",
              "            (layer_norm): LayerNorm((768,), eps=1e-12, elementwise_affine=True)\n",
              "            (layer_1): Linear(in_features=768, out_features=3072, bias=True)\n",
              "            (layer_2): Linear(in_features=3072, out_features=768, bias=True)\n",
              "            (dropout): Dropout(p=0.1, inplace=False)\n",
              "          )\n",
              "          (dropout): Dropout(p=0.1, inplace=False)\n",
              "        )\n",
              "        (9): XLNetLayer(\n",
              "          (rel_attn): XLNetRelativeAttention(\n",
              "            (layer_norm): LayerNorm((768,), eps=1e-12, elementwise_affine=True)\n",
              "            (dropout): Dropout(p=0.1, inplace=False)\n",
              "          )\n",
              "          (ff): XLNetFeedForward(\n",
              "            (layer_norm): LayerNorm((768,), eps=1e-12, elementwise_affine=True)\n",
              "            (layer_1): Linear(in_features=768, out_features=3072, bias=True)\n",
              "            (layer_2): Linear(in_features=3072, out_features=768, bias=True)\n",
              "            (dropout): Dropout(p=0.1, inplace=False)\n",
              "          )\n",
              "          (dropout): Dropout(p=0.1, inplace=False)\n",
              "        )\n",
              "        (10): XLNetLayer(\n",
              "          (rel_attn): XLNetRelativeAttention(\n",
              "            (layer_norm): LayerNorm((768,), eps=1e-12, elementwise_affine=True)\n",
              "            (dropout): Dropout(p=0.1, inplace=False)\n",
              "          )\n",
              "          (ff): XLNetFeedForward(\n",
              "            (layer_norm): LayerNorm((768,), eps=1e-12, elementwise_affine=True)\n",
              "            (layer_1): Linear(in_features=768, out_features=3072, bias=True)\n",
              "            (layer_2): Linear(in_features=3072, out_features=768, bias=True)\n",
              "            (dropout): Dropout(p=0.1, inplace=False)\n",
              "          )\n",
              "          (dropout): Dropout(p=0.1, inplace=False)\n",
              "        )\n",
              "        (11): XLNetLayer(\n",
              "          (rel_attn): XLNetRelativeAttention(\n",
              "            (layer_norm): LayerNorm((768,), eps=1e-12, elementwise_affine=True)\n",
              "            (dropout): Dropout(p=0.1, inplace=False)\n",
              "          )\n",
              "          (ff): XLNetFeedForward(\n",
              "            (layer_norm): LayerNorm((768,), eps=1e-12, elementwise_affine=True)\n",
              "            (layer_1): Linear(in_features=768, out_features=3072, bias=True)\n",
              "            (layer_2): Linear(in_features=3072, out_features=768, bias=True)\n",
              "            (dropout): Dropout(p=0.1, inplace=False)\n",
              "          )\n",
              "          (dropout): Dropout(p=0.1, inplace=False)\n",
              "        )\n",
              "      )\n",
              "      (dropout): Dropout(p=0.1, inplace=False)\n",
              "    )\n",
              "    (classifier): Linear(in_features=768, out_features=1, bias=True)\n",
              "  )\n",
              ")"
            ]
          },
          "metadata": {
            "tags": []
          },
          "execution_count": 16
        }
      ]
    },
    {
      "cell_type": "code",
      "metadata": {
        "id": "Dv3gLsTAEKur",
        "colab_type": "code",
        "colab": {}
      },
      "source": [
        "def load_model(save_path):\n",
        "    \"\"\"\n",
        "    Load the model from the path directory provided\n",
        "    \"\"\"\n",
        "    checkpoint = torch.load(save_path)\n",
        "    model_state_dict = checkpoint['state_dict']\n",
        "    model = XLNetForMultiLabelSequenceClassification(num_labels=model_state_dict[\"classifier.weight\"].size()[0])\n",
        "    model.load_state_dict(model_state_dict)\n",
        "\n",
        "    return model"
      ],
      "execution_count": null,
      "outputs": []
    },
    {
      "cell_type": "code",
      "metadata": {
        "id": "tVq56-Z8EVoY",
        "colab_type": "code",
        "colab": {}
      },
      "source": [
        "cwd = os.getcwd()\n",
        "output_model_file = os.path.join(cwd, \"/content/drive/My Drive/Data/New_200K_Jokes/xlnet_toxic.bin\")"
      ],
      "execution_count": null,
      "outputs": []
    },
    {
      "cell_type": "code",
      "metadata": {
        "id": "2itLW3FHEgyv",
        "colab_type": "code",
        "colab": {
          "base_uri": "https://localhost:8080/",
          "height": 802
        },
        "outputId": "72d4408f-49b0-4bc6-d989-bfea4d004afb"
      },
      "source": [
        "model = load_model(output_model_file)"
      ],
      "execution_count": null,
      "outputs": [
        {
          "output_type": "stream",
          "text": [
            "INFO:transformers.configuration_utils:loading configuration file https://s3.amazonaws.com/models.huggingface.co/bert/xlnet-base-cased-config.json from cache at /root/.cache/torch/transformers/c9cc6e53904f7f3679a31ec4af244f4419e25ebc8e71ebf8c558a31cbcf07fc8.69e5e35e0b798cab5e473f253752f8bf4d280ee37682281a23eed80f6e2d09c6\n",
            "INFO:transformers.configuration_utils:Model config XLNetConfig {\n",
            "  \"architectures\": [\n",
            "    \"XLNetLMHeadModel\"\n",
            "  ],\n",
            "  \"attn_type\": \"bi\",\n",
            "  \"bi_data\": false,\n",
            "  \"bos_token_id\": 1,\n",
            "  \"clamp_len\": -1,\n",
            "  \"d_head\": 64,\n",
            "  \"d_inner\": 3072,\n",
            "  \"d_model\": 768,\n",
            "  \"dropout\": 0.1,\n",
            "  \"end_n_top\": 5,\n",
            "  \"eos_token_id\": 2,\n",
            "  \"ff_activation\": \"gelu\",\n",
            "  \"initializer_range\": 0.02,\n",
            "  \"layer_norm_eps\": 1e-12,\n",
            "  \"mem_len\": null,\n",
            "  \"model_type\": \"xlnet\",\n",
            "  \"n_head\": 12,\n",
            "  \"n_layer\": 12,\n",
            "  \"pad_token_id\": 5,\n",
            "  \"reuse_len\": null,\n",
            "  \"same_length\": false,\n",
            "  \"start_n_top\": 5,\n",
            "  \"summary_activation\": \"tanh\",\n",
            "  \"summary_last_dropout\": 0.1,\n",
            "  \"summary_type\": \"last\",\n",
            "  \"summary_use_proj\": true,\n",
            "  \"task_specific_params\": {\n",
            "    \"text-generation\": {\n",
            "      \"do_sample\": true,\n",
            "      \"max_length\": 250\n",
            "    }\n",
            "  },\n",
            "  \"untie_r\": true,\n",
            "  \"vocab_size\": 32000\n",
            "}\n",
            "\n",
            "INFO:transformers.modeling_utils:loading weights file https://cdn.huggingface.co/xlnet-base-cased-pytorch_model.bin from cache at /root/.cache/torch/transformers/33d6135fea0154c088449506a4c5f9553cb59b6fd040138417a7033af64bb8f9.7eac4fe898a021204e63c88c00ea68c60443c57f94b4bc3c02adbde6465745ac\n",
            "INFO:transformers.modeling_utils:All model checkpoint weights were used when initializing XLNetModel.\n",
            "\n",
            "INFO:transformers.modeling_utils:All the weights of XLNetModel were initialized from the model checkpoint at xlnet-base-cased.\n",
            "If your task is similar to the task the model of the ckeckpoint was trained on, you can already use XLNetModel for predictions without further training.\n"
          ],
          "name": "stderr"
        }
      ]
    },
    {
      "cell_type": "code",
      "metadata": {
        "id": "lHs_jU4OEtPS",
        "colab_type": "code",
        "colab": {}
      },
      "source": [
        "def generate_predictions(model, df, num_labels, device, batch_size=32):\n",
        "    num_iter = math.ceil(df.shape[0]/batch_size)\n",
        "\n",
        "    pred_probs = np.array([]).reshape(0, num_labels)\n",
        "\n",
        "    model.to(device)\n",
        "    model.eval()\n",
        "  \n",
        "    for i in range(num_iter):\n",
        "        df_subset = df.iloc[i*batch_size:(i+1)*batch_size,:]\n",
        "        X = df_subset[\"features\"].values.tolist()\n",
        "        masks = df_subset[\"masks\"].values.tolist()\n",
        "        X = torch.tensor(X)\n",
        "        masks = torch.tensor(masks, dtype=torch.long)\n",
        "        X = X.to(device)\n",
        "        masks = masks.to(device)\n",
        "        with torch.no_grad():\n",
        "            logits = model(input_ids=X, attention_mask=masks)\n",
        "            logits = logits.sigmoid().detach().cpu().numpy()\n",
        "            pred_probs = np.vstack([pred_probs, logits])\n",
        "  \n",
        "    return pred_probs"
      ],
      "execution_count": null,
      "outputs": []
    },
    {
      "cell_type": "code",
      "metadata": {
        "id": "4HyRUKvdFUF4",
        "colab_type": "code",
        "colab": {
          "base_uri": "https://localhost:8080/",
          "height": 136
        },
        "outputId": "92b32e3f-13db-497a-80f8-2515e0b724fb"
      },
      "source": [
        "# label_cols = [\"Output\"]\n",
        "num_labels = 1\n",
        "pred_probs = generate_predictions(model, test, num_labels, device, batch_size=32)\n",
        "pred_probs"
      ],
      "execution_count": null,
      "outputs": [
        {
          "output_type": "execute_result",
          "data": {
            "text/plain": [
              "array([[9.25646126e-01],\n",
              "       [2.57031322e-02],\n",
              "       [2.40021110e-01],\n",
              "       ...,\n",
              "       [8.82485509e-01],\n",
              "       [8.13921819e-09],\n",
              "       [9.43552673e-01]])"
            ]
          },
          "metadata": {
            "tags": []
          },
          "execution_count": 25
        }
      ]
    },
    {
      "cell_type": "code",
      "metadata": {
        "id": "GXvXjBEyFW6n",
        "colab_type": "code",
        "colab": {
          "base_uri": "https://localhost:8080/"
        },
        "outputId": "5781e773-a663-4d96-bf37-6984119e932a"
      },
      "source": [
        "test[\"Pre_Prob\"] = pred_probs\n",
        "test.head(10)"
      ],
      "execution_count": null,
      "outputs": [
        {
          "output_type": "execute_result",
          "data": {
            "text/html": [
              "<div>\n",
              "<style scoped>\n",
              "    .dataframe tbody tr th:only-of-type {\n",
              "        vertical-align: middle;\n",
              "    }\n",
              "\n",
              "    .dataframe tbody tr th {\n",
              "        vertical-align: top;\n",
              "    }\n",
              "\n",
              "    .dataframe thead th {\n",
              "        text-align: right;\n",
              "    }\n",
              "</style>\n",
              "<table border=\"1\" class=\"dataframe\">\n",
              "  <thead>\n",
              "    <tr style=\"text-align: right;\">\n",
              "      <th></th>\n",
              "      <th>text</th>\n",
              "      <th>humor</th>\n",
              "      <th>features</th>\n",
              "      <th>masks</th>\n",
              "      <th>Pre_Prob</th>\n",
              "    </tr>\n",
              "  </thead>\n",
              "  <tbody>\n",
              "    <tr>\n",
              "      <th>0</th>\n",
              "      <td>What kind of cat should you take into the  des...</td>\n",
              "      <td>True</td>\n",
              "      <td>[113, 713, 20, 4777, 170, 44, 182, 91, 18, 567...</td>\n",
              "      <td>[1.0, 1.0, 1.0, 1.0, 1.0, 1.0, 1.0, 1.0, 1.0, ...</td>\n",
              "      <td>9.256461e-01</td>\n",
              "    </tr>\n",
              "    <tr>\n",
              "      <th>1</th>\n",
              "      <td>Remember when people used to have to be in sha...</td>\n",
              "      <td>True</td>\n",
              "      <td>[1633, 90, 104, 179, 22, 47, 22, 39, 25, 2787,...</td>\n",
              "      <td>[1.0, 1.0, 1.0, 1.0, 1.0, 1.0, 1.0, 1.0, 1.0, ...</td>\n",
              "      <td>2.570313e-02</td>\n",
              "    </tr>\n",
              "    <tr>\n",
              "      <th>2</th>\n",
              "      <td>Pizza is always good. - everyone we'll see abo...</td>\n",
              "      <td>True</td>\n",
              "      <td>[12879, 27, 426, 195, 9, 17, 13, 1251, 80, 26,...</td>\n",
              "      <td>[1.0, 1.0, 1.0, 1.0, 1.0, 1.0, 1.0, 1.0, 1.0, ...</td>\n",
              "      <td>2.400211e-01</td>\n",
              "    </tr>\n",
              "    <tr>\n",
              "      <th>3</th>\n",
              "      <td>What's 6 inches long hard, bent, and in my pan...</td>\n",
              "      <td>True</td>\n",
              "      <td>[113, 26, 23, 284, 3763, 206, 500, 19, 9015, 1...</td>\n",
              "      <td>[1.0, 1.0, 1.0, 1.0, 1.0, 1.0, 1.0, 1.0, 1.0, ...</td>\n",
              "      <td>9.585403e-01</td>\n",
              "    </tr>\n",
              "    <tr>\n",
              "      <th>4</th>\n",
              "      <td>Black teen's response to violence in his commu...</td>\n",
              "      <td>False</td>\n",
              "      <td>[710, 8017, 26, 23, 1196, 22, 1350, 25, 45, 53...</td>\n",
              "      <td>[1.0, 1.0, 1.0, 1.0, 1.0, 1.0, 1.0, 1.0, 1.0, ...</td>\n",
              "      <td>6.463257e-10</td>\n",
              "    </tr>\n",
              "    <tr>\n",
              "      <th>5</th>\n",
              "      <td>'make me a sandwich' is making us hungry, deli...</td>\n",
              "      <td>False</td>\n",
              "      <td>[17, 26, 15481, 110, 24, 16041, 26, 27, 441, 2...</td>\n",
              "      <td>[1.0, 1.0, 1.0, 1.0, 1.0, 1.0, 1.0, 1.0, 1.0, ...</td>\n",
              "      <td>4.422126e-10</td>\n",
              "    </tr>\n",
              "    <tr>\n",
              "      <th>6</th>\n",
              "      <td>Do infants have as much fun in infancy as adul...</td>\n",
              "      <td>True</td>\n",
              "      <td>[112, 16540, 47, 34, 178, 1572, 25, 28653, 34,...</td>\n",
              "      <td>[1.0, 1.0, 1.0, 1.0, 1.0, 1.0, 1.0, 1.0, 1.0, ...</td>\n",
              "      <td>2.647112e-04</td>\n",
              "    </tr>\n",
              "    <tr>\n",
              "      <th>7</th>\n",
              "      <td>Funded kickstarters: food products we can't wa...</td>\n",
              "      <td>False</td>\n",
              "      <td>[7327, 4343, 11119, 270, 60, 626, 678, 80, 64,...</td>\n",
              "      <td>[1.0, 1.0, 1.0, 1.0, 1.0, 1.0, 1.0, 1.0, 1.0, ...</td>\n",
              "      <td>1.194568e-10</td>\n",
              "    </tr>\n",
              "    <tr>\n",
              "      <th>8</th>\n",
              "      <td>What has 125 teeth and prevents a savage beast...</td>\n",
              "      <td>True</td>\n",
              "      <td>[113, 51, 11518, 4232, 21, 15751, 24, 19814, 1...</td>\n",
              "      <td>[1.0, 1.0, 1.0, 1.0, 1.0, 1.0, 1.0, 1.0, 1.0, ...</td>\n",
              "      <td>9.608749e-01</td>\n",
              "    </tr>\n",
              "    <tr>\n",
              "      <th>9</th>\n",
              "      <td>What happened to the adhesive suicide bomber? ...</td>\n",
              "      <td>True</td>\n",
              "      <td>[113, 1525, 22, 18, 24309, 2886, 9768, 82, 43,...</td>\n",
              "      <td>[1.0, 1.0, 1.0, 1.0, 1.0, 1.0, 1.0, 1.0, 1.0, ...</td>\n",
              "      <td>9.850587e-01</td>\n",
              "    </tr>\n",
              "  </tbody>\n",
              "</table>\n",
              "</div>"
            ],
            "text/plain": [
              "                                                text  ...      Pre_Prob\n",
              "0  What kind of cat should you take into the  des...  ...  9.256461e-01\n",
              "1  Remember when people used to have to be in sha...  ...  2.570313e-02\n",
              "2  Pizza is always good. - everyone we'll see abo...  ...  2.400211e-01\n",
              "3  What's 6 inches long hard, bent, and in my pan...  ...  9.585403e-01\n",
              "4  Black teen's response to violence in his commu...  ...  6.463257e-10\n",
              "5  'make me a sandwich' is making us hungry, deli...  ...  4.422126e-10\n",
              "6  Do infants have as much fun in infancy as adul...  ...  2.647112e-04\n",
              "7  Funded kickstarters: food products we can't wa...  ...  1.194568e-10\n",
              "8  What has 125 teeth and prevents a savage beast...  ...  9.608749e-01\n",
              "9  What happened to the adhesive suicide bomber? ...  ...  9.850587e-01\n",
              "\n",
              "[10 rows x 5 columns]"
            ]
          },
          "metadata": {
            "tags": []
          },
          "execution_count": 26
        }
      ]
    },
    {
      "cell_type": "code",
      "metadata": {
        "id": "2UaxyMhzHITq",
        "colab_type": "code",
        "colab": {
          "base_uri": "https://localhost:8080/"
        },
        "outputId": "fbbeb9da-3d7d-4379-8b27-ad966a4014cf"
      },
      "source": [
        "check_false = test.groupby(['humor']).get_group(False)\n",
        "check_false"
      ],
      "execution_count": null,
      "outputs": [
        {
          "output_type": "execute_result",
          "data": {
            "text/html": [
              "<div>\n",
              "<style scoped>\n",
              "    .dataframe tbody tr th:only-of-type {\n",
              "        vertical-align: middle;\n",
              "    }\n",
              "\n",
              "    .dataframe tbody tr th {\n",
              "        vertical-align: top;\n",
              "    }\n",
              "\n",
              "    .dataframe thead th {\n",
              "        text-align: right;\n",
              "    }\n",
              "</style>\n",
              "<table border=\"1\" class=\"dataframe\">\n",
              "  <thead>\n",
              "    <tr style=\"text-align: right;\">\n",
              "      <th></th>\n",
              "      <th>text</th>\n",
              "      <th>humor</th>\n",
              "      <th>features</th>\n",
              "      <th>masks</th>\n",
              "      <th>Pre_Prob</th>\n",
              "    </tr>\n",
              "  </thead>\n",
              "  <tbody>\n",
              "    <tr>\n",
              "      <th>4</th>\n",
              "      <td>Black teen's response to violence in his commu...</td>\n",
              "      <td>False</td>\n",
              "      <td>[710, 8017, 26, 23, 1196, 22, 1350, 25, 45, 53...</td>\n",
              "      <td>[1.0, 1.0, 1.0, 1.0, 1.0, 1.0, 1.0, 1.0, 1.0, ...</td>\n",
              "      <td>6.463257e-10</td>\n",
              "    </tr>\n",
              "    <tr>\n",
              "      <th>5</th>\n",
              "      <td>'make me a sandwich' is making us hungry, deli...</td>\n",
              "      <td>False</td>\n",
              "      <td>[17, 26, 15481, 110, 24, 16041, 26, 27, 441, 2...</td>\n",
              "      <td>[1.0, 1.0, 1.0, 1.0, 1.0, 1.0, 1.0, 1.0, 1.0, ...</td>\n",
              "      <td>4.422126e-10</td>\n",
              "    </tr>\n",
              "    <tr>\n",
              "      <th>7</th>\n",
              "      <td>Funded kickstarters: food products we can't wa...</td>\n",
              "      <td>False</td>\n",
              "      <td>[7327, 4343, 11119, 270, 60, 626, 678, 80, 64,...</td>\n",
              "      <td>[1.0, 1.0, 1.0, 1.0, 1.0, 1.0, 1.0, 1.0, 1.0, ...</td>\n",
              "      <td>1.194568e-10</td>\n",
              "    </tr>\n",
              "    <tr>\n",
              "      <th>10</th>\n",
              "      <td>China says it wants smooth military ties with ...</td>\n",
              "      <td>False</td>\n",
              "      <td>[17, 18252, 349, 36, 1578, 3893, 370, 3278, 33...</td>\n",
              "      <td>[1.0, 1.0, 1.0, 1.0, 1.0, 1.0, 1.0, 1.0, 1.0, ...</td>\n",
              "      <td>6.795978e-10</td>\n",
              "    </tr>\n",
              "    <tr>\n",
              "      <th>13</th>\n",
              "      <td>Lance armstrong used rugs: not the headline we...</td>\n",
              "      <td>False</td>\n",
              "      <td>[17, 15489, 1860, 9420, 179, 26209, 60, 50, 18...</td>\n",
              "      <td>[1.0, 1.0, 1.0, 1.0, 1.0, 1.0, 1.0, 1.0, 1.0, ...</td>\n",
              "      <td>2.957825e-10</td>\n",
              "    </tr>\n",
              "    <tr>\n",
              "      <th>...</th>\n",
              "      <td>...</td>\n",
              "      <td>...</td>\n",
              "      <td>...</td>\n",
              "      <td>...</td>\n",
              "      <td>...</td>\n",
              "    </tr>\n",
              "    <tr>\n",
              "      <th>39991</th>\n",
              "      <td>Meet the billionaire who controls your ketchup...</td>\n",
              "      <td>False</td>\n",
              "      <td>[767, 18, 19095, 61, 5167, 73, 17, 1235, 4615,...</td>\n",
              "      <td>[1.0, 1.0, 1.0, 1.0, 1.0, 1.0, 1.0, 1.0, 1.0, ...</td>\n",
              "      <td>1.827663e-07</td>\n",
              "    </tr>\n",
              "    <tr>\n",
              "      <th>39992</th>\n",
              "      <td>North korea stages large-scale artillery drill...</td>\n",
              "      <td>False</td>\n",
              "      <td>[1012, 17, 13204, 4428, 5752, 392, 13, 5339, 8...</td>\n",
              "      <td>[1.0, 1.0, 1.0, 1.0, 1.0, 1.0, 1.0, 1.0, 1.0, ...</td>\n",
              "      <td>1.240013e-08</td>\n",
              "    </tr>\n",
              "    <tr>\n",
              "      <th>39994</th>\n",
              "      <td>Elizabeth taylor looked amazing even without d...</td>\n",
              "      <td>False</td>\n",
              "      <td>[17, 530, 16798, 1156, 138, 17, 46, 29317, 719...</td>\n",
              "      <td>[1.0, 1.0, 1.0, 1.0, 1.0, 1.0, 1.0, 1.0, 1.0, ...</td>\n",
              "      <td>1.457959e-10</td>\n",
              "    </tr>\n",
              "    <tr>\n",
              "      <th>39995</th>\n",
              "      <td>Conor maynard seamlessly fits old-school r&amp;b h...</td>\n",
              "      <td>False</td>\n",
              "      <td>[2147, 218, 132, 13137, 18644, 111, 11093, 532...</td>\n",
              "      <td>[1.0, 1.0, 1.0, 1.0, 1.0, 1.0, 1.0, 1.0, 1.0, ...</td>\n",
              "      <td>8.919809e-11</td>\n",
              "    </tr>\n",
              "    <tr>\n",
              "      <th>39998</th>\n",
              "      <td>Mcdonald's will officially kick off all-day br...</td>\n",
              "      <td>False</td>\n",
              "      <td>[17, 98, 369, 2622, 11945, 26, 23, 53, 3722, 4...</td>\n",
              "      <td>[1.0, 1.0, 1.0, 1.0, 1.0, 1.0, 1.0, 1.0, 1.0, ...</td>\n",
              "      <td>8.139218e-09</td>\n",
              "    </tr>\n",
              "  </tbody>\n",
              "</table>\n",
              "<p>19918 rows × 5 columns</p>\n",
              "</div>"
            ],
            "text/plain": [
              "                                                    text  ...      Pre_Prob\n",
              "4      Black teen's response to violence in his commu...  ...  6.463257e-10\n",
              "5      'make me a sandwich' is making us hungry, deli...  ...  4.422126e-10\n",
              "7      Funded kickstarters: food products we can't wa...  ...  1.194568e-10\n",
              "10     China says it wants smooth military ties with ...  ...  6.795978e-10\n",
              "13     Lance armstrong used rugs: not the headline we...  ...  2.957825e-10\n",
              "...                                                  ...  ...           ...\n",
              "39991  Meet the billionaire who controls your ketchup...  ...  1.827663e-07\n",
              "39992  North korea stages large-scale artillery drill...  ...  1.240013e-08\n",
              "39994  Elizabeth taylor looked amazing even without d...  ...  1.457959e-10\n",
              "39995  Conor maynard seamlessly fits old-school r&b h...  ...  8.919809e-11\n",
              "39998  Mcdonald's will officially kick off all-day br...  ...  8.139218e-09\n",
              "\n",
              "[19918 rows x 5 columns]"
            ]
          },
          "metadata": {
            "tags": []
          },
          "execution_count": 27
        }
      ]
    },
    {
      "cell_type": "code",
      "metadata": {
        "id": "gUyMpDm7KMLN",
        "colab_type": "code",
        "colab": {
          "base_uri": "https://localhost:8080/"
        },
        "outputId": "86f8aea0-78f1-4617-e165-243c21b91450"
      },
      "source": [
        "max(check_false['Pre_Prob'])"
      ],
      "execution_count": null,
      "outputs": [
        {
          "output_type": "execute_result",
          "data": {
            "text/plain": [
              "0.968752920627594"
            ]
          },
          "metadata": {
            "tags": []
          },
          "execution_count": 28
        }
      ]
    },
    {
      "cell_type": "code",
      "metadata": {
        "id": "DAoBxLXFKsOa",
        "colab_type": "code",
        "colab": {
          "base_uri": "https://localhost:8080/"
        },
        "outputId": "27a9025b-1aac-4a1d-c776-2c94a63c28a4"
      },
      "source": [
        "check_false.Pre_Prob.describe()"
      ],
      "execution_count": null,
      "outputs": [
        {
          "output_type": "execute_result",
          "data": {
            "text/plain": [
              "count    1.991800e+04\n",
              "mean     2.908668e-04\n",
              "std      1.269746e-02\n",
              "min      1.814307e-11\n",
              "25%      5.884997e-10\n",
              "50%      2.359096e-09\n",
              "75%      1.751213e-08\n",
              "max      9.687529e-01\n",
              "Name: Pre_Prob, dtype: float64"
            ]
          },
          "metadata": {
            "tags": []
          },
          "execution_count": 29
        }
      ]
    },
    {
      "cell_type": "code",
      "metadata": {
        "id": "tLU3m6tPKAQV",
        "colab_type": "code",
        "colab": {
          "base_uri": "https://localhost:8080/"
        },
        "outputId": "7e0bb25b-9300-4bf9-ff43-1dd5879fcb8f"
      },
      "source": [
        "check_true = test.groupby(['humor']).get_group(True)\n",
        "check_true"
      ],
      "execution_count": null,
      "outputs": [
        {
          "output_type": "execute_result",
          "data": {
            "text/html": [
              "<div>\n",
              "<style scoped>\n",
              "    .dataframe tbody tr th:only-of-type {\n",
              "        vertical-align: middle;\n",
              "    }\n",
              "\n",
              "    .dataframe tbody tr th {\n",
              "        vertical-align: top;\n",
              "    }\n",
              "\n",
              "    .dataframe thead th {\n",
              "        text-align: right;\n",
              "    }\n",
              "</style>\n",
              "<table border=\"1\" class=\"dataframe\">\n",
              "  <thead>\n",
              "    <tr style=\"text-align: right;\">\n",
              "      <th></th>\n",
              "      <th>text</th>\n",
              "      <th>humor</th>\n",
              "      <th>features</th>\n",
              "      <th>masks</th>\n",
              "      <th>Pre_Prob</th>\n",
              "    </tr>\n",
              "  </thead>\n",
              "  <tbody>\n",
              "    <tr>\n",
              "      <th>0</th>\n",
              "      <td>What kind of cat should you take into the  des...</td>\n",
              "      <td>True</td>\n",
              "      <td>[113, 713, 20, 4777, 170, 44, 182, 91, 18, 567...</td>\n",
              "      <td>[1.0, 1.0, 1.0, 1.0, 1.0, 1.0, 1.0, 1.0, 1.0, ...</td>\n",
              "      <td>0.925646</td>\n",
              "    </tr>\n",
              "    <tr>\n",
              "      <th>1</th>\n",
              "      <td>Remember when people used to have to be in sha...</td>\n",
              "      <td>True</td>\n",
              "      <td>[1633, 90, 104, 179, 22, 47, 22, 39, 25, 2787,...</td>\n",
              "      <td>[1.0, 1.0, 1.0, 1.0, 1.0, 1.0, 1.0, 1.0, 1.0, ...</td>\n",
              "      <td>0.025703</td>\n",
              "    </tr>\n",
              "    <tr>\n",
              "      <th>2</th>\n",
              "      <td>Pizza is always good. - everyone we'll see abo...</td>\n",
              "      <td>True</td>\n",
              "      <td>[12879, 27, 426, 195, 9, 17, 13, 1251, 80, 26,...</td>\n",
              "      <td>[1.0, 1.0, 1.0, 1.0, 1.0, 1.0, 1.0, 1.0, 1.0, ...</td>\n",
              "      <td>0.240021</td>\n",
              "    </tr>\n",
              "    <tr>\n",
              "      <th>3</th>\n",
              "      <td>What's 6 inches long hard, bent, and in my pan...</td>\n",
              "      <td>True</td>\n",
              "      <td>[113, 26, 23, 284, 3763, 206, 500, 19, 9015, 1...</td>\n",
              "      <td>[1.0, 1.0, 1.0, 1.0, 1.0, 1.0, 1.0, 1.0, 1.0, ...</td>\n",
              "      <td>0.958540</td>\n",
              "    </tr>\n",
              "    <tr>\n",
              "      <th>6</th>\n",
              "      <td>Do infants have as much fun in infancy as adul...</td>\n",
              "      <td>True</td>\n",
              "      <td>[112, 16540, 47, 34, 178, 1572, 25, 28653, 34,...</td>\n",
              "      <td>[1.0, 1.0, 1.0, 1.0, 1.0, 1.0, 1.0, 1.0, 1.0, ...</td>\n",
              "      <td>0.000265</td>\n",
              "    </tr>\n",
              "    <tr>\n",
              "      <th>...</th>\n",
              "      <td>...</td>\n",
              "      <td>...</td>\n",
              "      <td>...</td>\n",
              "      <td>...</td>\n",
              "      <td>...</td>\n",
              "    </tr>\n",
              "    <tr>\n",
              "      <th>39990</th>\n",
              "      <td>Where do eskimos keep their money? in snowbanks.</td>\n",
              "      <td>True</td>\n",
              "      <td>[131, 112, 17, 93, 3681, 10532, 435, 58, 356, ...</td>\n",
              "      <td>[1.0, 1.0, 1.0, 1.0, 1.0, 1.0, 1.0, 1.0, 1.0, ...</td>\n",
              "      <td>0.739932</td>\n",
              "    </tr>\n",
              "    <tr>\n",
              "      <th>39993</th>\n",
              "      <td>What did the child with no arms get for christ...</td>\n",
              "      <td>True</td>\n",
              "      <td>[113, 190, 18, 863, 33, 116, 1374, 133, 28, 17...</td>\n",
              "      <td>[1.0, 1.0, 1.0, 1.0, 1.0, 1.0, 1.0, 1.0, 1.0, ...</td>\n",
              "      <td>0.934039</td>\n",
              "    </tr>\n",
              "    <tr>\n",
              "      <th>39996</th>\n",
              "      <td>How to you make holy water? you boil the hell ...</td>\n",
              "      <td>True</td>\n",
              "      <td>[160, 22, 44, 144, 7177, 333, 82, 44, 11042, 1...</td>\n",
              "      <td>[1.0, 1.0, 1.0, 1.0, 1.0, 1.0, 1.0, 1.0, 1.0, ...</td>\n",
              "      <td>0.177440</td>\n",
              "    </tr>\n",
              "    <tr>\n",
              "      <th>39997</th>\n",
              "      <td>How many optometrists does it take to screw in...</td>\n",
              "      <td>True</td>\n",
              "      <td>[160, 142, 8959, 8662, 7628, 2309, 358, 36, 18...</td>\n",
              "      <td>[1.0, 1.0, 1.0, 1.0, 1.0, 1.0, 1.0, 1.0, 1.0, ...</td>\n",
              "      <td>0.882486</td>\n",
              "    </tr>\n",
              "    <tr>\n",
              "      <th>39999</th>\n",
              "      <td>An irish man walks on the street and ignores a...</td>\n",
              "      <td>True</td>\n",
              "      <td>[48, 17, 1121, 1406, 326, 8581, 31, 18, 1764, ...</td>\n",
              "      <td>[1.0, 1.0, 1.0, 1.0, 1.0, 1.0, 1.0, 1.0, 1.0, ...</td>\n",
              "      <td>0.943553</td>\n",
              "    </tr>\n",
              "  </tbody>\n",
              "</table>\n",
              "<p>20082 rows × 5 columns</p>\n",
              "</div>"
            ],
            "text/plain": [
              "                                                    text  ...  Pre_Prob\n",
              "0      What kind of cat should you take into the  des...  ...  0.925646\n",
              "1      Remember when people used to have to be in sha...  ...  0.025703\n",
              "2      Pizza is always good. - everyone we'll see abo...  ...  0.240021\n",
              "3      What's 6 inches long hard, bent, and in my pan...  ...  0.958540\n",
              "6      Do infants have as much fun in infancy as adul...  ...  0.000265\n",
              "...                                                  ...  ...       ...\n",
              "39990   Where do eskimos keep their money? in snowbanks.  ...  0.739932\n",
              "39993  What did the child with no arms get for christ...  ...  0.934039\n",
              "39996  How to you make holy water? you boil the hell ...  ...  0.177440\n",
              "39997  How many optometrists does it take to screw in...  ...  0.882486\n",
              "39999  An irish man walks on the street and ignores a...  ...  0.943553\n",
              "\n",
              "[20082 rows x 5 columns]"
            ]
          },
          "metadata": {
            "tags": []
          },
          "execution_count": 30
        }
      ]
    },
    {
      "cell_type": "code",
      "metadata": {
        "id": "jdewAWwJKUy7",
        "colab_type": "code",
        "colab": {
          "base_uri": "https://localhost:8080/"
        },
        "outputId": "09317eba-6fff-4d6a-8e1a-2f469a0a914b"
      },
      "source": [
        "min(check_true['Pre_Prob'])"
      ],
      "execution_count": null,
      "outputs": [
        {
          "output_type": "execute_result",
          "data": {
            "text/plain": [
              "6.538994345994809e-10"
            ]
          },
          "metadata": {
            "tags": []
          },
          "execution_count": 31
        }
      ]
    },
    {
      "cell_type": "code",
      "metadata": {
        "id": "YhfA53erK04O",
        "colab_type": "code",
        "colab": {
          "base_uri": "https://localhost:8080/"
        },
        "outputId": "31d1fd23-0a9b-4881-b310-68868ef65d2f"
      },
      "source": [
        "check_true.Pre_Prob.describe()"
      ],
      "execution_count": null,
      "outputs": [
        {
          "output_type": "execute_result",
          "data": {
            "text/plain": [
              "count    2.008200e+04\n",
              "mean     5.943290e-01\n",
              "std      3.872758e-01\n",
              "min      6.538994e-10\n",
              "25%      1.600019e-01\n",
              "50%      7.574874e-01\n",
              "75%      9.591439e-01\n",
              "max      9.999506e-01\n",
              "Name: Pre_Prob, dtype: float64"
            ]
          },
          "metadata": {
            "tags": []
          },
          "execution_count": 32
        }
      ]
    },
    {
      "cell_type": "code",
      "metadata": {
        "id": "an16SmYgMHSk",
        "colab_type": "code",
        "colab": {}
      },
      "source": [
        "test_dup = test"
      ],
      "execution_count": null,
      "outputs": []
    },
    {
      "cell_type": "code",
      "metadata": {
        "id": "TlwkVNkSFrNZ",
        "colab_type": "code",
        "colab": {
          "base_uri": "https://localhost:8080/"
        },
        "outputId": "242c92ef-f430-4288-8abe-0e30075789b0"
      },
      "source": [
        "test_dup['Predicted_Output'] = np.where(test_dup.Pre_Prob > 1e-4, 1, 0)\n",
        "test_dup.head(10)"
      ],
      "execution_count": null,
      "outputs": [
        {
          "output_type": "execute_result",
          "data": {
            "text/html": [
              "<div>\n",
              "<style scoped>\n",
              "    .dataframe tbody tr th:only-of-type {\n",
              "        vertical-align: middle;\n",
              "    }\n",
              "\n",
              "    .dataframe tbody tr th {\n",
              "        vertical-align: top;\n",
              "    }\n",
              "\n",
              "    .dataframe thead th {\n",
              "        text-align: right;\n",
              "    }\n",
              "</style>\n",
              "<table border=\"1\" class=\"dataframe\">\n",
              "  <thead>\n",
              "    <tr style=\"text-align: right;\">\n",
              "      <th></th>\n",
              "      <th>text</th>\n",
              "      <th>humor</th>\n",
              "      <th>features</th>\n",
              "      <th>masks</th>\n",
              "      <th>Pre_Prob</th>\n",
              "      <th>Predicted_Output</th>\n",
              "    </tr>\n",
              "  </thead>\n",
              "  <tbody>\n",
              "    <tr>\n",
              "      <th>0</th>\n",
              "      <td>What kind of cat should you take into the  des...</td>\n",
              "      <td>True</td>\n",
              "      <td>[113, 713, 20, 4777, 170, 44, 182, 91, 18, 567...</td>\n",
              "      <td>[1.0, 1.0, 1.0, 1.0, 1.0, 1.0, 1.0, 1.0, 1.0, ...</td>\n",
              "      <td>9.256461e-01</td>\n",
              "      <td>1</td>\n",
              "    </tr>\n",
              "    <tr>\n",
              "      <th>1</th>\n",
              "      <td>Remember when people used to have to be in sha...</td>\n",
              "      <td>True</td>\n",
              "      <td>[1633, 90, 104, 179, 22, 47, 22, 39, 25, 2787,...</td>\n",
              "      <td>[1.0, 1.0, 1.0, 1.0, 1.0, 1.0, 1.0, 1.0, 1.0, ...</td>\n",
              "      <td>2.570313e-02</td>\n",
              "      <td>1</td>\n",
              "    </tr>\n",
              "    <tr>\n",
              "      <th>2</th>\n",
              "      <td>Pizza is always good. - everyone we'll see abo...</td>\n",
              "      <td>True</td>\n",
              "      <td>[12879, 27, 426, 195, 9, 17, 13, 1251, 80, 26,...</td>\n",
              "      <td>[1.0, 1.0, 1.0, 1.0, 1.0, 1.0, 1.0, 1.0, 1.0, ...</td>\n",
              "      <td>2.400211e-01</td>\n",
              "      <td>1</td>\n",
              "    </tr>\n",
              "    <tr>\n",
              "      <th>3</th>\n",
              "      <td>What's 6 inches long hard, bent, and in my pan...</td>\n",
              "      <td>True</td>\n",
              "      <td>[113, 26, 23, 284, 3763, 206, 500, 19, 9015, 1...</td>\n",
              "      <td>[1.0, 1.0, 1.0, 1.0, 1.0, 1.0, 1.0, 1.0, 1.0, ...</td>\n",
              "      <td>9.585403e-01</td>\n",
              "      <td>1</td>\n",
              "    </tr>\n",
              "    <tr>\n",
              "      <th>4</th>\n",
              "      <td>Black teen's response to violence in his commu...</td>\n",
              "      <td>False</td>\n",
              "      <td>[710, 8017, 26, 23, 1196, 22, 1350, 25, 45, 53...</td>\n",
              "      <td>[1.0, 1.0, 1.0, 1.0, 1.0, 1.0, 1.0, 1.0, 1.0, ...</td>\n",
              "      <td>6.463257e-10</td>\n",
              "      <td>0</td>\n",
              "    </tr>\n",
              "    <tr>\n",
              "      <th>5</th>\n",
              "      <td>'make me a sandwich' is making us hungry, deli...</td>\n",
              "      <td>False</td>\n",
              "      <td>[17, 26, 15481, 110, 24, 16041, 26, 27, 441, 2...</td>\n",
              "      <td>[1.0, 1.0, 1.0, 1.0, 1.0, 1.0, 1.0, 1.0, 1.0, ...</td>\n",
              "      <td>4.422126e-10</td>\n",
              "      <td>0</td>\n",
              "    </tr>\n",
              "    <tr>\n",
              "      <th>6</th>\n",
              "      <td>Do infants have as much fun in infancy as adul...</td>\n",
              "      <td>True</td>\n",
              "      <td>[112, 16540, 47, 34, 178, 1572, 25, 28653, 34,...</td>\n",
              "      <td>[1.0, 1.0, 1.0, 1.0, 1.0, 1.0, 1.0, 1.0, 1.0, ...</td>\n",
              "      <td>2.647112e-04</td>\n",
              "      <td>1</td>\n",
              "    </tr>\n",
              "    <tr>\n",
              "      <th>7</th>\n",
              "      <td>Funded kickstarters: food products we can't wa...</td>\n",
              "      <td>False</td>\n",
              "      <td>[7327, 4343, 11119, 270, 60, 626, 678, 80, 64,...</td>\n",
              "      <td>[1.0, 1.0, 1.0, 1.0, 1.0, 1.0, 1.0, 1.0, 1.0, ...</td>\n",
              "      <td>1.194568e-10</td>\n",
              "      <td>0</td>\n",
              "    </tr>\n",
              "    <tr>\n",
              "      <th>8</th>\n",
              "      <td>What has 125 teeth and prevents a savage beast...</td>\n",
              "      <td>True</td>\n",
              "      <td>[113, 51, 11518, 4232, 21, 15751, 24, 19814, 1...</td>\n",
              "      <td>[1.0, 1.0, 1.0, 1.0, 1.0, 1.0, 1.0, 1.0, 1.0, ...</td>\n",
              "      <td>9.608749e-01</td>\n",
              "      <td>1</td>\n",
              "    </tr>\n",
              "    <tr>\n",
              "      <th>9</th>\n",
              "      <td>What happened to the adhesive suicide bomber? ...</td>\n",
              "      <td>True</td>\n",
              "      <td>[113, 1525, 22, 18, 24309, 2886, 9768, 82, 43,...</td>\n",
              "      <td>[1.0, 1.0, 1.0, 1.0, 1.0, 1.0, 1.0, 1.0, 1.0, ...</td>\n",
              "      <td>9.850587e-01</td>\n",
              "      <td>1</td>\n",
              "    </tr>\n",
              "  </tbody>\n",
              "</table>\n",
              "</div>"
            ],
            "text/plain": [
              "                                                text  ...  Predicted_Output\n",
              "0  What kind of cat should you take into the  des...  ...                 1\n",
              "1  Remember when people used to have to be in sha...  ...                 1\n",
              "2  Pizza is always good. - everyone we'll see abo...  ...                 1\n",
              "3  What's 6 inches long hard, bent, and in my pan...  ...                 1\n",
              "4  Black teen's response to violence in his commu...  ...                 0\n",
              "5  'make me a sandwich' is making us hungry, deli...  ...                 0\n",
              "6  Do infants have as much fun in infancy as adul...  ...                 1\n",
              "7  Funded kickstarters: food products we can't wa...  ...                 0\n",
              "8  What has 125 teeth and prevents a savage beast...  ...                 1\n",
              "9  What happened to the adhesive suicide bomber? ...  ...                 1\n",
              "\n",
              "[10 rows x 6 columns]"
            ]
          },
          "metadata": {
            "tags": []
          },
          "execution_count": 34
        }
      ]
    },
    {
      "cell_type": "code",
      "metadata": {
        "id": "AHyueheWFrEQ",
        "colab_type": "code",
        "colab": {}
      },
      "source": [
        "def get_eval_report(labels, preds):\n",
        "    mcc = matthews_corrcoef(labels, preds)\n",
        "    tn, fp, fn, tp = confusion_matrix(labels, preds).ravel()\n",
        "    return {\n",
        "        \"mcc\": mcc,\n",
        "        \"tp\": tp,\n",
        "        \"tn\": tn,\n",
        "        \"fp\": fp,\n",
        "        \"fn\": fn\n",
        "    }\n",
        "\n",
        "def compute_metrics(preds, labels):\n",
        "    assert len(preds) == len(labels)\n",
        "    return get_eval_report(labels, preds)"
      ],
      "execution_count": null,
      "outputs": []
    },
    {
      "cell_type": "code",
      "metadata": {
        "id": "DNjxXIy9Fq0Z",
        "colab_type": "code",
        "colab": {
          "base_uri": "https://localhost:8080/"
        },
        "outputId": "7c83a716-0950-4bca-8e2f-d54e37ec40e6"
      },
      "source": [
        "result = compute_metrics(test_dup.humor, test_dup.Predicted_Output)\n",
        "for key in sorted(result.keys()):\n",
        "    logger.info(\"  %s = %s\", key, str(result[key]))"
      ],
      "execution_count": null,
      "outputs": [
        {
          "output_type": "stream",
          "text": [
            "INFO:__main__:  fn = 303\n",
            "INFO:__main__:  fp = 478\n",
            "INFO:__main__:  mcc = 0.960987531579436\n",
            "INFO:__main__:  tn = 19615\n",
            "INFO:__main__:  tp = 19604\n"
          ],
          "name": "stderr"
        }
      ]
    },
    {
      "cell_type": "code",
      "metadata": {
        "id": "6pq8kcL2HSoE",
        "colab_type": "code",
        "colab": {}
      },
      "source": [
        "from sklearn.metrics import accuracy_score, r2_score, f1_score, fbeta_score, precision_score, recall_score\n",
        "from sklearn.metrics import mean_absolute_error, mean_squared_error\n",
        "from sklearn.metrics import roc_curve, roc_auc_score"
      ],
      "execution_count": null,
      "outputs": []
    },
    {
      "cell_type": "code",
      "metadata": {
        "id": "zFwNKyV0PloH",
        "colab_type": "code",
        "colab": {
          "base_uri": "https://localhost:8080/"
        },
        "outputId": "f60c329c-ee36-47da-ce3f-2356bf2da40a"
      },
      "source": [
        "Y_test, Y_pred = list(test_dup.humor), list(test_dup.Predicted_Output)\n",
        "for i in range(20):\n",
        "\tprint('Actual = {}:, Predicted = {}'.format(Y_test[i], Y_pred[i]))"
      ],
      "execution_count": null,
      "outputs": [
        {
          "output_type": "stream",
          "text": [
            "Actual = True:, Predicted = 1\n",
            "Actual = True:, Predicted = 1\n",
            "Actual = True:, Predicted = 1\n",
            "Actual = True:, Predicted = 1\n",
            "Actual = False:, Predicted = 0\n",
            "Actual = False:, Predicted = 0\n",
            "Actual = True:, Predicted = 1\n",
            "Actual = False:, Predicted = 0\n",
            "Actual = True:, Predicted = 1\n",
            "Actual = True:, Predicted = 1\n",
            "Actual = False:, Predicted = 0\n",
            "Actual = True:, Predicted = 0\n",
            "Actual = True:, Predicted = 1\n",
            "Actual = False:, Predicted = 0\n",
            "Actual = False:, Predicted = 0\n",
            "Actual = True:, Predicted = 1\n",
            "Actual = True:, Predicted = 1\n",
            "Actual = False:, Predicted = 0\n",
            "Actual = False:, Predicted = 0\n",
            "Actual = False:, Predicted = 0\n"
          ],
          "name": "stdout"
        }
      ]
    },
    {
      "cell_type": "code",
      "metadata": {
        "id": "vcNb3bqQPlUS",
        "colab_type": "code",
        "colab": {
          "base_uri": "https://localhost:8080/"
        },
        "outputId": "eb100b88-d1dd-44a8-f4ad-ab32bbd6e4f9"
      },
      "source": [
        "acc = accuracy_score(Y_test, Y_pred)\n",
        "print(\"Accuracy : {}\".format(acc))  "
      ],
      "execution_count": null,
      "outputs": [
        {
          "output_type": "stream",
          "text": [
            "Accuracy : 0.980475\n"
          ],
          "name": "stdout"
        }
      ]
    },
    {
      "cell_type": "code",
      "metadata": {
        "id": "1smSf0v3PlQD",
        "colab_type": "code",
        "colab": {
          "base_uri": "https://localhost:8080/"
        },
        "outputId": "31847c8d-31c3-465c-a865-742e0b2fc6d1"
      },
      "source": [
        "error = mean_absolute_error(Y_test, Y_pred)\n",
        "print(\"Mean Absolute Error : {}\".format(error))"
      ],
      "execution_count": null,
      "outputs": [
        {
          "output_type": "stream",
          "text": [
            "Mean Absolute Error : 0.019525\n"
          ],
          "name": "stdout"
        }
      ]
    },
    {
      "cell_type": "code",
      "metadata": {
        "id": "W-aiJawTPlNw",
        "colab_type": "code",
        "colab": {
          "base_uri": "https://localhost:8080/"
        },
        "outputId": "d6d29bb6-42aa-4524-ade7-0d8acf65c17a"
      },
      "source": [
        "error = mean_squared_error(Y_test, Y_pred)\n",
        "print(\"Mean Squared Error : {}\".format(error))"
      ],
      "execution_count": null,
      "outputs": [
        {
          "output_type": "stream",
          "text": [
            "Mean Squared Error : 0.019525\n"
          ],
          "name": "stdout"
        }
      ]
    },
    {
      "cell_type": "code",
      "metadata": {
        "id": "33bp5ZpXPlJd",
        "colab_type": "code",
        "colab": {
          "base_uri": "https://localhost:8080/"
        },
        "outputId": "26b8a402-119e-4597-9612-19c5abc1c530"
      },
      "source": [
        "score = r2_score(Y_test, Y_pred)\n",
        "print(\"R2 Score : {}\".format(score))"
      ],
      "execution_count": null,
      "outputs": [
        {
          "output_type": "stream",
          "text": [
            "R2 Score : 0.9218986871169305\n"
          ],
          "name": "stdout"
        }
      ]
    },
    {
      "cell_type": "code",
      "metadata": {
        "id": "fyTsmM80PlFb",
        "colab_type": "code",
        "colab": {
          "base_uri": "https://localhost:8080/"
        },
        "outputId": "79131420-b859-4266-c5b2-209a8c549b3f"
      },
      "source": [
        "score = precision_score(Y_test, Y_pred, average='macro')\n",
        "print(\"Precision Score : {}\".format(score))"
      ],
      "execution_count": null,
      "outputs": [
        {
          "output_type": "stream",
          "text": [
            "Precision Score : 0.9804949220014509\n"
          ],
          "name": "stdout"
        }
      ]
    },
    {
      "cell_type": "code",
      "metadata": {
        "id": "gf7AzkgKQj4N",
        "colab_type": "code",
        "colab": {
          "base_uri": "https://localhost:8080/"
        },
        "outputId": "b6659168-26a0-4f6d-fb17-44706d405418"
      },
      "source": [
        "score = recall_score(Y_test, Y_pred, average='macro')\n",
        "print(\"Recall Score : {}\".format(score))"
      ],
      "execution_count": null,
      "outputs": [
        {
          "output_type": "stream",
          "text": [
            "Recall Score : 0.980492609580767\n"
          ],
          "name": "stdout"
        }
      ]
    },
    {
      "cell_type": "code",
      "metadata": {
        "id": "QPf3LoDQQjiY",
        "colab_type": "code",
        "colab": {
          "base_uri": "https://localhost:8080/"
        },
        "outputId": "0ff63307-cefd-4683-e866-11ffd454f2b8"
      },
      "source": [
        "score = f1_score(Y_test, Y_pred)\n",
        "print(\"F1 Score : {}\".format(score))"
      ],
      "execution_count": null,
      "outputs": [
        {
          "output_type": "stream",
          "text": [
            "F1 Score : 0.9804696291480156\n"
          ],
          "name": "stdout"
        }
      ]
    },
    {
      "cell_type": "code",
      "metadata": {
        "id": "MAbtIirnQjfX",
        "colab_type": "code",
        "colab": {
          "base_uri": "https://localhost:8080/"
        },
        "outputId": "febbd7cf-e025-4858-c8d2-095d9f4e8e0b"
      },
      "source": [
        "score = fbeta_score(Y_test, Y_pred, beta = 0.5)\n",
        "print(\"F-Beta Score : {}\".format(score))"
      ],
      "execution_count": null,
      "outputs": [
        {
          "output_type": "stream",
          "text": [
            "F-Beta Score : 0.983050847457627\n"
          ],
          "name": "stdout"
        }
      ]
    },
    {
      "cell_type": "code",
      "metadata": {
        "id": "KVfnKAn7QjcA",
        "colab_type": "code",
        "colab": {
          "base_uri": "https://localhost:8080/"
        },
        "outputId": "b4d4bdfe-daeb-48d4-f295-2ac4940ad431"
      },
      "source": [
        "jokes_roc = roc_auc_score(Y_test, Y_pred)\n",
        "print('Jokes: ROC-Area Under Curve = {}'.format(jokes_roc))"
      ],
      "execution_count": null,
      "outputs": [
        {
          "output_type": "stream",
          "text": [
            "Jokes: ROC-Area Under Curve = 0.980492609580767\n"
          ],
          "name": "stdout"
        }
      ]
    },
    {
      "cell_type": "code",
      "metadata": {
        "id": "sCBL1_jrQjZO",
        "colab_type": "code",
        "colab": {
          "base_uri": "https://localhost:8080/"
        },
        "outputId": "f267d890-7b78-49ca-aa0d-b7dfc0759449"
      },
      "source": [
        "J_fpr, J_tpr, _ = roc_curve(Y_test, Y_pred)\n",
        "plt.plot(J_fpr, J_tpr, color = 'blue', label = 'Jokes')\n",
        "plt.xlabel('False Positive Rate')\n",
        "plt.ylabel('True Positive Rate')\n",
        "plt.title('ROC Curve')\n",
        "plt.legend()\n",
        "plt.show()"
      ],
      "execution_count": null,
      "outputs": [
        {
          "output_type": "display_data",
          "data": {
            "image/png": "[encoded data removed]",
            "text/plain": [
              "<Figure size 432x288 with 1 Axes>"
            ]
          },
          "metadata": {
            "tags": [],
            "needs_background": "light"
          }
        }
      ]
    }
  ]
}